{
  "cells": [
    {
      "cell_type": "markdown",
      "metadata": {
        "id": "view-in-github",
        "colab_type": "text"
      },
      "source": [
        "<a href=\"https://colab.research.google.com/github/EndangSupriyadi/GCI_GLOBAL_2025/blob/master/lec5_2_notebook.ipynb\" target=\"_parent\"><img src=\"https://colab.research.google.com/assets/colab-badge.svg\" alt=\"Open In Colab\"/></a>"
      ]
    },
    {
      "cell_type": "markdown",
      "metadata": {
        "id": "VIDc_OS69uVu"
      },
      "source": [
        "# 4-2 Statistics and Probability"
      ]
    },
    {
      "cell_type": "markdown",
      "metadata": {
        "id": "7rdXddxt9uVx"
      },
      "source": [
        "**Chapter Introduction**  \n",
        "In the first half of this chapter, you will learn the basics of statistical analysis as a method for analyzing data objectively and clarifying its trends. Statistical analysis is broadly divided into **descriptive statistic** and **inferential statistics**. In this course, we will look at descriptive statistics along with regression, which is one of the inferential statistics.\n",
        "\n",
        "We will use the dataset of high school students' attributes and their grades, available in UC Irvine Machine Learning Repository, to learn about the methodology using Python.\n",
        "\n",
        "Goal: To be able to load data from a CSV file, calculate and visualize basic statistics, and perform a single regression analysis."
      ]
    },
    {
      "cell_type": "markdown",
      "metadata": {
        "id": "Lws9CTb-DixD"
      },
      "source": [
        "## Table of contents"
      ]
    },
    {
      "cell_type": "markdown",
      "metadata": {
        "id": "F1NOx2Am9uVy"
      },
      "source": [
        "- **4-2.1 Types of Statistical Analysis**\n",
        "    - 4-2.1.1 Descriptive and Inferential Statistics\n",
        "    - 4-2.1.2 Importing Libraries\n",
        "\n",
        "- **4-2.2 Reading and Interacting with Data**\n",
        "    - 4-2.2.1 Loading Target Data Distributed on the Internet\n",
        "    - 4-2.2.2 Loading and Checking data\n",
        "    - 4-2.2.3 Checking the Nature of Data\n",
        "    - 4-2.2.4 Quantitative and Qualitative Data\n",
        "\n",
        "- **4-2.3 Descriptive Statistics**\n",
        "    - 4-2.3.1 Histogram\n",
        "    - 4-2.3.2 Mean, Median, Mode\n",
        "    - 4-2.3.3 Variance and Standard Deviation\n",
        "    - 4-2.3.4 Summary Statistics and Percentile Values\n",
        "    - 4-2.3.5 Box-and-whisker Plot\n",
        "    - 4-2.3.6 Coefficient of Variation\n",
        "    - 4-2.3.7 Scatter Plots and Correlation Coefficients\n",
        "    - 4-2.3.8 Draw Histograms Scatter Plots for All Variables\n",
        "\n",
        "- **4-2.4 Advanced: Simple Regression Analysis**\n",
        "    - 4-2.4.1 Simple Linear Regression Analysis\n",
        "    - 4-2.4.2 Coefficient of Determination\n",
        "\n",
        "- **4-2.5 Comprehensive Question**\n",
        "    - Question4-2-1 Statistical Basics and Visualization\n",
        "    - Question4-2-2 Lorenz Curve and Gini coefficient"
      ]
    },
    {
      "cell_type": "markdown",
      "metadata": {
        "id": "maBNh2Sj9uV0"
      },
      "source": [
        "***"
      ]
    },
    {
      "cell_type": "markdown",
      "metadata": {
        "id": "YgVU4jSu9uV0"
      },
      "source": [
        "## 4-2.1 Types of Statistical Analysis\n",
        "\n",
        "Keywords: descriptive statistics, inferential statistics, mean, standard deviation, single regression analysis, Numpy, Scipy, Pandas, Matplotlib, Scikit-learn\n",
        "\n",
        "### 4-2.1.1 Descriptive and Inferential Statistics\n",
        "Statistical analysis is a method of objectively analyzing data to identify trends from the data. The methods are mainly divided into **descriptive statistics** and **inferential statistics**.\n",
        "<br>\n",
        "\n",
        "\n",
        "**Descriptive Statistics**<br>\n",
        "Descriptive statistics is a method of capturing the characteristics of collected data and organizing the data so the characteristics are easy to see. Calculating the characteristics of data by calculating the mean, standard deviation, etc., to classify data, and representing data in figures and graphs are examples of descriptive statistics. These are covered in detail in section 4-2.3.\n",
        "\n",
        "**Inferential Statistics**<br>\n",
        "Inferential statistics is a method of making inferences from collected data. For example, suppose we want to find out the height of the entire Japanese population by age. Since it is difficult to find out the height of all the people, we would take a randomly selected subset of the population and infer from the data of this subset. Like so, the concept of inferential statistics is to obtain statistics from only partial data by conducting a precise analysis using a model based on probability distribution and inferring the whole.\n",
        "Inferential statistics are also used to predict the future from past data. In section 4-2.4, we will discuss single regression analysis, the foundation of inferential statistics. More complex inferential statistics will be covered in the next chapter.\n",
        "\n",
        "### 4-2.1.2 Importing Libraries Used in This Chapter\n",
        "\n",
        "This chapter will make use of various libraries. We will proceed under the assumption that the following libraries have been imported."
      ]
    },
    {
      "cell_type": "code",
      "execution_count": null,
      "metadata": {
        "colab": {
          "base_uri": "https://localhost:8080/",
          "height": 36
        },
        "id": "HQgluarp9uV1",
        "outputId": "382e8b11-ac55-47d2-88cb-6ee6d1493e99",
        "scrolled": true
      },
      "outputs": [
        {
          "output_type": "execute_result",
          "data": {
            "text/plain": [
              "'%.3f'"
            ],
            "application/vnd.google.colaboratory.intrinsic+json": {
              "type": "string"
            }
          },
          "metadata": {},
          "execution_count": 1
        }
      ],
      "source": [
        "# Please ensure that the following libraries are imported in advance.\n",
        "import numpy as np\n",
        "import scipy as sp\n",
        "import pandas as pd\n",
        "from pandas import Series, DataFrame\n",
        "\n",
        "# Visualization library\n",
        "import matplotlib.pyplot as plt\n",
        "import matplotlib as mpl\n",
        "import seaborn as sns\n",
        "sns.set()\n",
        "%matplotlib inline\n",
        "\n",
        "# Display up to three decimal places\n",
        "%precision 3"
      ]
    },
    {
      "cell_type": "markdown",
      "metadata": {
        "id": "q55amFla9uV3"
      },
      "source": [
        "Also, in section 4-2.4, we will use `sklearn.linear_model`, a library for linear regression analysis in Scikit-learn. Scikit-learn is a basic machine learning library.\n",
        "\n",
        "Import it as follows:"
      ]
    },
    {
      "cell_type": "code",
      "execution_count": null,
      "metadata": {
        "id": "rV6D4l_59uV4"
      },
      "outputs": [],
      "source": [
        "from sklearn import linear_model"
      ]
    },
    {
      "cell_type": "markdown",
      "metadata": {
        "id": "PoXk6HO89uV4"
      },
      "source": [
        "## 4-2.2 Reading and Interacting with Data\n",
        "\n",
        "Keywords: directory (folder) manipulation, CSV, quantitative data, qualitative data, average"
      ]
    },
    {
      "cell_type": "markdown",
      "metadata": {
        "id": "Qb-XS1RK9uV5"
      },
      "source": [
        "The target data must be first downloaded from the web so that it can be loaded by Python to do further analysis.\n",
        "Data is commonly handled as CSV formatted data or as a database. Some data for research are also available on the Internet in compressed ZIP format.\n",
        "Let's start by learning how to download such data.\n",
        "\n",
        "### 4-2.2.1 Downloading the Data\n",
        "\n",
        "This section will assume a situation in which the target data is available on the web as a ZIP file. Although it is possible to download the data from a browser, Python allows you to directly download the data."
      ]
    },
    {
      "cell_type": "markdown",
      "metadata": {
        "id": "ttScPy0k9uV7"
      },
      "source": [
        "#### Dataset Description\n",
        "\n",
        "Let's download the sample data to this directory. We will use [student performance data](https://archive.ics.uci.edu/dataset/320/student+performance) here. The dataset contains information about student grades, demographic, social and school related features."
      ]
    },
    {
      "cell_type": "markdown",
      "metadata": {
        "id": "16VWNfZk9uV7"
      },
      "source": [
        "#### Libraries for downloading ZIP files\n",
        "\n",
        "First, import the libraries for downloading ZIP files and files. Use the following three libraries to read ZIP files or download files directly from the Web:\n",
        "\n",
        "- `requests` … Sends and receives web data.\n",
        "- `zipfile` … reads and writes ZIP format files.\n",
        "- `io` … reads and writes a file"
      ]
    },
    {
      "cell_type": "code",
      "execution_count": null,
      "metadata": {
        "id": "KQ106Lip9uV7"
      },
      "outputs": [],
      "source": [
        "# Libraries for retrieving data from the web and handling zip files\n",
        "import requests, zipfile\n",
        "from io import StringIO\n",
        "import io"
      ]
    },
    {
      "cell_type": "markdown",
      "metadata": {
        "id": "C7ZOd42x9uV8"
      },
      "source": [
        "#### Download and extract the ZIP file\n",
        "We will use the following file, which is in ZIP format.\n",
        "\n",
        "http://archive.ics.uci.edu/ml/machine-learning-databases/00356/student.zip\n",
        "\n",
        "To download and extract this file, we first use `requests.get()` function to download the data from the URL we specify, then use `io.BytesIO()` and `zipfile.ZipFile()` to extract the data as binary stream and store as a ZipFile object, then finally use `z.extractall()` method to extract the files from the ZIP file.\n",
        "The files will be extracted to the current directory."
      ]
    },
    {
      "cell_type": "code",
      "execution_count": null,
      "metadata": {
        "id": "_VOB5YcT9uV8"
      },
      "outputs": [],
      "source": [
        "# Specify the url where the data is located\n",
        "url = 'http://archive.ics.uci.edu/ml/machine-learning-databases/00356/student.zip'\n",
        "\n",
        "# Get data from url\n",
        "r = requests.get(url, stream=True)\n",
        "\n",
        "# Read and extract the zipfile\n",
        "z = zipfile.ZipFile(io.BytesIO(r.content))\n",
        "z.extractall()"
      ]
    },
    {
      "cell_type": "markdown",
      "metadata": {
        "id": "ELNmhi0z9uV8"
      },
      "source": [
        "Check that the data has been downloaded and extracted properly when the download is finished. You can view the list of files in the current directory by executing the `ls` command as follows."
      ]
    },
    {
      "cell_type": "code",
      "execution_count": null,
      "metadata": {
        "colab": {
          "base_uri": "https://localhost:8080/"
        },
        "id": "9fvQjTs19uV8",
        "outputId": "7676a0c0-d9af-447c-ccda-61afd37f9946"
      },
      "outputs": [
        {
          "output_type": "stream",
          "name": "stdout",
          "text": [
            "sample_data  student-mat.csv  student-merge.R  student-por.csv\tstudent.txt\n"
          ]
        }
      ],
      "source": [
        "!ls"
      ]
    },
    {
      "cell_type": "markdown",
      "metadata": {
        "id": "rt6HwMwn9uV9"
      },
      "source": [
        "Once successfully extracted, four files named “student.txt”, “student-mat.csv”, “student-merge.R”, and “student-por.csv” will be located. We will use two of these data, “student-mat.csv” and “student-por.csv” in this notebook."
      ]
    },
    {
      "cell_type": "markdown",
      "metadata": {
        "id": "F_LiM9Yn9uV9"
      },
      "source": [
        "\n",
        "### 4-2.2.2 Loading the Data\n",
        "We will first observe what the “student-mat.csv” data looks like. We will use the “student-por.csv” data in a practice question later on.\n",
        "\n",
        "First, we will read the data of interest and treat it as a Pandas `DataFrame` object. If you run `pd.read_csv()` with the filename `student-mat.csv` file as an argument as follows, the file will be read and become a `DataFrame` object.\n",
        "\n",
        "For this dataset, we need to specify the `sep` argument. In most CSV format files, it is customary to use “,” (comma) as the data delimiter, but since the downloaded data is delimited by “;”, the data will be loaded wrongly by just running `pd.read_csv()`.\n",
        "To change the delimiter, specify “`sep=‘delimiter’`”."
      ]
    },
    {
      "cell_type": "code",
      "execution_count": null,
      "metadata": {
        "id": "iYE1aJS79uV9",
        "colab": {
          "base_uri": "https://localhost:8080/",
          "height": 255
        },
        "outputId": "16e870be-8455-4cee-c253-0724ccfeedc2"
      },
      "outputs": [
        {
          "output_type": "execute_result",
          "data": {
            "text/plain": [
              "  school sex  age address famsize Pstatus  Medu  Fedu     Mjob      Fjob  ...  \\\n",
              "0     GP   F   18       U     GT3       A     4     4  at_home   teacher  ...   \n",
              "1     GP   F   17       U     GT3       T     1     1  at_home     other  ...   \n",
              "2     GP   F   15       U     LE3       T     1     1  at_home     other  ...   \n",
              "3     GP   F   15       U     GT3       T     4     2   health  services  ...   \n",
              "4     GP   F   16       U     GT3       T     3     3    other     other  ...   \n",
              "\n",
              "  famrel freetime  goout  Dalc  Walc health absences  G1  G2  G3  \n",
              "0      4        3      4     1     1      3        6   5   6   6  \n",
              "1      5        3      3     1     1      3        4   5   5   6  \n",
              "2      4        3      2     2     3      3       10   7   8  10  \n",
              "3      3        2      2     1     1      5        2  15  14  15  \n",
              "4      4        3      2     1     2      5        4   6  10  10  \n",
              "\n",
              "[5 rows x 33 columns]"
            ],
            "text/html": [
              "\n",
              "  <div id=\"df-8993f5f3-afd4-4f47-868d-53b428c9e523\" class=\"colab-df-container\">\n",
              "    <div>\n",
              "<style scoped>\n",
              "    .dataframe tbody tr th:only-of-type {\n",
              "        vertical-align: middle;\n",
              "    }\n",
              "\n",
              "    .dataframe tbody tr th {\n",
              "        vertical-align: top;\n",
              "    }\n",
              "\n",
              "    .dataframe thead th {\n",
              "        text-align: right;\n",
              "    }\n",
              "</style>\n",
              "<table border=\"1\" class=\"dataframe\">\n",
              "  <thead>\n",
              "    <tr style=\"text-align: right;\">\n",
              "      <th></th>\n",
              "      <th>school</th>\n",
              "      <th>sex</th>\n",
              "      <th>age</th>\n",
              "      <th>address</th>\n",
              "      <th>famsize</th>\n",
              "      <th>Pstatus</th>\n",
              "      <th>Medu</th>\n",
              "      <th>Fedu</th>\n",
              "      <th>Mjob</th>\n",
              "      <th>Fjob</th>\n",
              "      <th>...</th>\n",
              "      <th>famrel</th>\n",
              "      <th>freetime</th>\n",
              "      <th>goout</th>\n",
              "      <th>Dalc</th>\n",
              "      <th>Walc</th>\n",
              "      <th>health</th>\n",
              "      <th>absences</th>\n",
              "      <th>G1</th>\n",
              "      <th>G2</th>\n",
              "      <th>G3</th>\n",
              "    </tr>\n",
              "  </thead>\n",
              "  <tbody>\n",
              "    <tr>\n",
              "      <th>0</th>\n",
              "      <td>GP</td>\n",
              "      <td>F</td>\n",
              "      <td>18</td>\n",
              "      <td>U</td>\n",
              "      <td>GT3</td>\n",
              "      <td>A</td>\n",
              "      <td>4</td>\n",
              "      <td>4</td>\n",
              "      <td>at_home</td>\n",
              "      <td>teacher</td>\n",
              "      <td>...</td>\n",
              "      <td>4</td>\n",
              "      <td>3</td>\n",
              "      <td>4</td>\n",
              "      <td>1</td>\n",
              "      <td>1</td>\n",
              "      <td>3</td>\n",
              "      <td>6</td>\n",
              "      <td>5</td>\n",
              "      <td>6</td>\n",
              "      <td>6</td>\n",
              "    </tr>\n",
              "    <tr>\n",
              "      <th>1</th>\n",
              "      <td>GP</td>\n",
              "      <td>F</td>\n",
              "      <td>17</td>\n",
              "      <td>U</td>\n",
              "      <td>GT3</td>\n",
              "      <td>T</td>\n",
              "      <td>1</td>\n",
              "      <td>1</td>\n",
              "      <td>at_home</td>\n",
              "      <td>other</td>\n",
              "      <td>...</td>\n",
              "      <td>5</td>\n",
              "      <td>3</td>\n",
              "      <td>3</td>\n",
              "      <td>1</td>\n",
              "      <td>1</td>\n",
              "      <td>3</td>\n",
              "      <td>4</td>\n",
              "      <td>5</td>\n",
              "      <td>5</td>\n",
              "      <td>6</td>\n",
              "    </tr>\n",
              "    <tr>\n",
              "      <th>2</th>\n",
              "      <td>GP</td>\n",
              "      <td>F</td>\n",
              "      <td>15</td>\n",
              "      <td>U</td>\n",
              "      <td>LE3</td>\n",
              "      <td>T</td>\n",
              "      <td>1</td>\n",
              "      <td>1</td>\n",
              "      <td>at_home</td>\n",
              "      <td>other</td>\n",
              "      <td>...</td>\n",
              "      <td>4</td>\n",
              "      <td>3</td>\n",
              "      <td>2</td>\n",
              "      <td>2</td>\n",
              "      <td>3</td>\n",
              "      <td>3</td>\n",
              "      <td>10</td>\n",
              "      <td>7</td>\n",
              "      <td>8</td>\n",
              "      <td>10</td>\n",
              "    </tr>\n",
              "    <tr>\n",
              "      <th>3</th>\n",
              "      <td>GP</td>\n",
              "      <td>F</td>\n",
              "      <td>15</td>\n",
              "      <td>U</td>\n",
              "      <td>GT3</td>\n",
              "      <td>T</td>\n",
              "      <td>4</td>\n",
              "      <td>2</td>\n",
              "      <td>health</td>\n",
              "      <td>services</td>\n",
              "      <td>...</td>\n",
              "      <td>3</td>\n",
              "      <td>2</td>\n",
              "      <td>2</td>\n",
              "      <td>1</td>\n",
              "      <td>1</td>\n",
              "      <td>5</td>\n",
              "      <td>2</td>\n",
              "      <td>15</td>\n",
              "      <td>14</td>\n",
              "      <td>15</td>\n",
              "    </tr>\n",
              "    <tr>\n",
              "      <th>4</th>\n",
              "      <td>GP</td>\n",
              "      <td>F</td>\n",
              "      <td>16</td>\n",
              "      <td>U</td>\n",
              "      <td>GT3</td>\n",
              "      <td>T</td>\n",
              "      <td>3</td>\n",
              "      <td>3</td>\n",
              "      <td>other</td>\n",
              "      <td>other</td>\n",
              "      <td>...</td>\n",
              "      <td>4</td>\n",
              "      <td>3</td>\n",
              "      <td>2</td>\n",
              "      <td>1</td>\n",
              "      <td>2</td>\n",
              "      <td>5</td>\n",
              "      <td>4</td>\n",
              "      <td>6</td>\n",
              "      <td>10</td>\n",
              "      <td>10</td>\n",
              "    </tr>\n",
              "  </tbody>\n",
              "</table>\n",
              "<p>5 rows × 33 columns</p>\n",
              "</div>\n",
              "    <div class=\"colab-df-buttons\">\n",
              "\n",
              "  <div class=\"colab-df-container\">\n",
              "    <button class=\"colab-df-convert\" onclick=\"convertToInteractive('df-8993f5f3-afd4-4f47-868d-53b428c9e523')\"\n",
              "            title=\"Convert this dataframe to an interactive table.\"\n",
              "            style=\"display:none;\">\n",
              "\n",
              "  <svg xmlns=\"http://www.w3.org/2000/svg\" height=\"24px\" viewBox=\"0 -960 960 960\">\n",
              "    <path d=\"M120-120v-720h720v720H120Zm60-500h600v-160H180v160Zm220 220h160v-160H400v160Zm0 220h160v-160H400v160ZM180-400h160v-160H180v160Zm440 0h160v-160H620v160ZM180-180h160v-160H180v160Zm440 0h160v-160H620v160Z\"/>\n",
              "  </svg>\n",
              "    </button>\n",
              "\n",
              "  <style>\n",
              "    .colab-df-container {\n",
              "      display:flex;\n",
              "      gap: 12px;\n",
              "    }\n",
              "\n",
              "    .colab-df-convert {\n",
              "      background-color: #E8F0FE;\n",
              "      border: none;\n",
              "      border-radius: 50%;\n",
              "      cursor: pointer;\n",
              "      display: none;\n",
              "      fill: #1967D2;\n",
              "      height: 32px;\n",
              "      padding: 0 0 0 0;\n",
              "      width: 32px;\n",
              "    }\n",
              "\n",
              "    .colab-df-convert:hover {\n",
              "      background-color: #E2EBFA;\n",
              "      box-shadow: 0px 1px 2px rgba(60, 64, 67, 0.3), 0px 1px 3px 1px rgba(60, 64, 67, 0.15);\n",
              "      fill: #174EA6;\n",
              "    }\n",
              "\n",
              "    .colab-df-buttons div {\n",
              "      margin-bottom: 4px;\n",
              "    }\n",
              "\n",
              "    [theme=dark] .colab-df-convert {\n",
              "      background-color: #3B4455;\n",
              "      fill: #D2E3FC;\n",
              "    }\n",
              "\n",
              "    [theme=dark] .colab-df-convert:hover {\n",
              "      background-color: #434B5C;\n",
              "      box-shadow: 0px 1px 3px 1px rgba(0, 0, 0, 0.15);\n",
              "      filter: drop-shadow(0px 1px 2px rgba(0, 0, 0, 0.3));\n",
              "      fill: #FFFFFF;\n",
              "    }\n",
              "  </style>\n",
              "\n",
              "    <script>\n",
              "      const buttonEl =\n",
              "        document.querySelector('#df-8993f5f3-afd4-4f47-868d-53b428c9e523 button.colab-df-convert');\n",
              "      buttonEl.style.display =\n",
              "        google.colab.kernel.accessAllowed ? 'block' : 'none';\n",
              "\n",
              "      async function convertToInteractive(key) {\n",
              "        const element = document.querySelector('#df-8993f5f3-afd4-4f47-868d-53b428c9e523');\n",
              "        const dataTable =\n",
              "          await google.colab.kernel.invokeFunction('convertToInteractive',\n",
              "                                                    [key], {});\n",
              "        if (!dataTable) return;\n",
              "\n",
              "        const docLinkHtml = 'Like what you see? Visit the ' +\n",
              "          '<a target=\"_blank\" href=https://colab.research.google.com/notebooks/data_table.ipynb>data table notebook</a>'\n",
              "          + ' to learn more about interactive tables.';\n",
              "        element.innerHTML = '';\n",
              "        dataTable['output_type'] = 'display_data';\n",
              "        await google.colab.output.renderOutput(dataTable, element);\n",
              "        const docLink = document.createElement('div');\n",
              "        docLink.innerHTML = docLinkHtml;\n",
              "        element.appendChild(docLink);\n",
              "      }\n",
              "    </script>\n",
              "  </div>\n",
              "\n",
              "\n",
              "<div id=\"df-3999afef-142c-47a4-8fb8-6ff0f7a61782\">\n",
              "  <button class=\"colab-df-quickchart\" onclick=\"quickchart('df-3999afef-142c-47a4-8fb8-6ff0f7a61782')\"\n",
              "            title=\"Suggest charts\"\n",
              "            style=\"display:none;\">\n",
              "\n",
              "<svg xmlns=\"http://www.w3.org/2000/svg\" height=\"24px\"viewBox=\"0 0 24 24\"\n",
              "     width=\"24px\">\n",
              "    <g>\n",
              "        <path d=\"M19 3H5c-1.1 0-2 .9-2 2v14c0 1.1.9 2 2 2h14c1.1 0 2-.9 2-2V5c0-1.1-.9-2-2-2zM9 17H7v-7h2v7zm4 0h-2V7h2v10zm4 0h-2v-4h2v4z\"/>\n",
              "    </g>\n",
              "</svg>\n",
              "  </button>\n",
              "\n",
              "<style>\n",
              "  .colab-df-quickchart {\n",
              "      --bg-color: #E8F0FE;\n",
              "      --fill-color: #1967D2;\n",
              "      --hover-bg-color: #E2EBFA;\n",
              "      --hover-fill-color: #174EA6;\n",
              "      --disabled-fill-color: #AAA;\n",
              "      --disabled-bg-color: #DDD;\n",
              "  }\n",
              "\n",
              "  [theme=dark] .colab-df-quickchart {\n",
              "      --bg-color: #3B4455;\n",
              "      --fill-color: #D2E3FC;\n",
              "      --hover-bg-color: #434B5C;\n",
              "      --hover-fill-color: #FFFFFF;\n",
              "      --disabled-bg-color: #3B4455;\n",
              "      --disabled-fill-color: #666;\n",
              "  }\n",
              "\n",
              "  .colab-df-quickchart {\n",
              "    background-color: var(--bg-color);\n",
              "    border: none;\n",
              "    border-radius: 50%;\n",
              "    cursor: pointer;\n",
              "    display: none;\n",
              "    fill: var(--fill-color);\n",
              "    height: 32px;\n",
              "    padding: 0;\n",
              "    width: 32px;\n",
              "  }\n",
              "\n",
              "  .colab-df-quickchart:hover {\n",
              "    background-color: var(--hover-bg-color);\n",
              "    box-shadow: 0 1px 2px rgba(60, 64, 67, 0.3), 0 1px 3px 1px rgba(60, 64, 67, 0.15);\n",
              "    fill: var(--button-hover-fill-color);\n",
              "  }\n",
              "\n",
              "  .colab-df-quickchart-complete:disabled,\n",
              "  .colab-df-quickchart-complete:disabled:hover {\n",
              "    background-color: var(--disabled-bg-color);\n",
              "    fill: var(--disabled-fill-color);\n",
              "    box-shadow: none;\n",
              "  }\n",
              "\n",
              "  .colab-df-spinner {\n",
              "    border: 2px solid var(--fill-color);\n",
              "    border-color: transparent;\n",
              "    border-bottom-color: var(--fill-color);\n",
              "    animation:\n",
              "      spin 1s steps(1) infinite;\n",
              "  }\n",
              "\n",
              "  @keyframes spin {\n",
              "    0% {\n",
              "      border-color: transparent;\n",
              "      border-bottom-color: var(--fill-color);\n",
              "      border-left-color: var(--fill-color);\n",
              "    }\n",
              "    20% {\n",
              "      border-color: transparent;\n",
              "      border-left-color: var(--fill-color);\n",
              "      border-top-color: var(--fill-color);\n",
              "    }\n",
              "    30% {\n",
              "      border-color: transparent;\n",
              "      border-left-color: var(--fill-color);\n",
              "      border-top-color: var(--fill-color);\n",
              "      border-right-color: var(--fill-color);\n",
              "    }\n",
              "    40% {\n",
              "      border-color: transparent;\n",
              "      border-right-color: var(--fill-color);\n",
              "      border-top-color: var(--fill-color);\n",
              "    }\n",
              "    60% {\n",
              "      border-color: transparent;\n",
              "      border-right-color: var(--fill-color);\n",
              "    }\n",
              "    80% {\n",
              "      border-color: transparent;\n",
              "      border-right-color: var(--fill-color);\n",
              "      border-bottom-color: var(--fill-color);\n",
              "    }\n",
              "    90% {\n",
              "      border-color: transparent;\n",
              "      border-bottom-color: var(--fill-color);\n",
              "    }\n",
              "  }\n",
              "</style>\n",
              "\n",
              "  <script>\n",
              "    async function quickchart(key) {\n",
              "      const quickchartButtonEl =\n",
              "        document.querySelector('#' + key + ' button');\n",
              "      quickchartButtonEl.disabled = true;  // To prevent multiple clicks.\n",
              "      quickchartButtonEl.classList.add('colab-df-spinner');\n",
              "      try {\n",
              "        const charts = await google.colab.kernel.invokeFunction(\n",
              "            'suggestCharts', [key], {});\n",
              "      } catch (error) {\n",
              "        console.error('Error during call to suggestCharts:', error);\n",
              "      }\n",
              "      quickchartButtonEl.classList.remove('colab-df-spinner');\n",
              "      quickchartButtonEl.classList.add('colab-df-quickchart-complete');\n",
              "    }\n",
              "    (() => {\n",
              "      let quickchartButtonEl =\n",
              "        document.querySelector('#df-3999afef-142c-47a4-8fb8-6ff0f7a61782 button');\n",
              "      quickchartButtonEl.style.display =\n",
              "        google.colab.kernel.accessAllowed ? 'block' : 'none';\n",
              "    })();\n",
              "  </script>\n",
              "</div>\n",
              "\n",
              "    </div>\n",
              "  </div>\n"
            ],
            "application/vnd.google.colaboratory.intrinsic+json": {
              "type": "dataframe",
              "variable_name": "student_data_math"
            }
          },
          "metadata": {},
          "execution_count": 7
        }
      ],
      "source": [
        "student_data_math = pd.read_csv('student-mat.csv', sep=\";\")\n",
        "student_data_math.head()"
      ]
    },
    {
      "cell_type": "markdown",
      "metadata": {
        "id": "HVTnIJQx9uV_"
      },
      "source": [
        "The data is now correctly delimited.\n",
        "\n",
        "Note that it is not usually clear what is the right delimiter for data that we first encounter with. In data analysis practice, we often look for the delimiter character through trial and error.\n",
        "\n",
        "In addition to `sep`, there are several other parameters for this `pd.read_csv()`. Make sure to check the documentation."
      ]
    },
    {
      "cell_type": "markdown",
      "metadata": {
        "id": "JfTySjl29uV_"
      },
      "source": [
        "### 4-2.2.3 Checking the Nature of the Data\n",
        "Looking at the data we just loaded, we can tell that it contains information on student attributes such as `school` and `age`. However, we still do not know how many data we have or what kind of data we have.\n"
      ]
    },
    {
      "cell_type": "markdown",
      "source": [
        "#### Checking for missing data and data types\n",
        "The following `info` will tell you the number of non-null data and variable type for all variables."
      ],
      "metadata": {
        "id": "fnmsXeLwlcbf"
      }
    },
    {
      "cell_type": "code",
      "execution_count": null,
      "metadata": {
        "colab": {
          "base_uri": "https://localhost:8080/"
        },
        "id": "tRvedubT9uWA",
        "outputId": "8d474344-a559-4136-e75b-28f9715f0e45"
      },
      "outputs": [
        {
          "name": "stdout",
          "output_type": "stream",
          "text": [
            "<class 'pandas.core.frame.DataFrame'>\n",
            "RangeIndex: 395 entries, 0 to 394\n",
            "Data columns (total 33 columns):\n",
            " #   Column      Non-Null Count  Dtype \n",
            "---  ------      --------------  ----- \n",
            " 0   school      395 non-null    object\n",
            " 1   sex         395 non-null    object\n",
            " 2   age         395 non-null    int64 \n",
            " 3   address     395 non-null    object\n",
            " 4   famsize     395 non-null    object\n",
            " 5   Pstatus     395 non-null    object\n",
            " 6   Medu        395 non-null    int64 \n",
            " 7   Fedu        395 non-null    int64 \n",
            " 8   Mjob        395 non-null    object\n",
            " 9   Fjob        395 non-null    object\n",
            " 10  reason      395 non-null    object\n",
            " 11  guardian    395 non-null    object\n",
            " 12  traveltime  395 non-null    int64 \n",
            " 13  studytime   395 non-null    int64 \n",
            " 14  failures    395 non-null    int64 \n",
            " 15  schoolsup   395 non-null    object\n",
            " 16  famsup      395 non-null    object\n",
            " 17  paid        395 non-null    object\n",
            " 18  activities  395 non-null    object\n",
            " 19  nursery     395 non-null    object\n",
            " 20  higher      395 non-null    object\n",
            " 21  internet    395 non-null    object\n",
            " 22  romantic    395 non-null    object\n",
            " 23  famrel      395 non-null    int64 \n",
            " 24  freetime    395 non-null    int64 \n",
            " 25  goout       395 non-null    int64 \n",
            " 26  Dalc        395 non-null    int64 \n",
            " 27  Walc        395 non-null    int64 \n",
            " 28  health      395 non-null    int64 \n",
            " 29  absences    395 non-null    int64 \n",
            " 30  G1          395 non-null    int64 \n",
            " 31  G2          395 non-null    int64 \n",
            " 32  G3          395 non-null    int64 \n",
            "dtypes: int64(16), object(17)\n",
            "memory usage: 102.0+ KB\n"
          ]
        }
      ],
      "source": [
        "# Check information in all columns\n",
        "student_data_math.info()"
      ]
    },
    {
      "cell_type": "markdown",
      "metadata": {
        "id": "wbxmrZRY9uWA"
      },
      "source": [
        "The first line says “`RangeIndex: 395 entries, 0 to 394`”, indicating that there are 395 pieces of data.\n",
        "The `non-null` means data that is not `null`. Since there is “`395 non-null`” for all variables, it seems that there is no `null` data this time.\n",
        "\n",
        "\n",
        "#### Side Note: What is a \"variable\"?\n",
        "\n",
        "The term “variable” is used both in the Python programming world and in the mathematical world of data analysis. Which it means depends on the context.\n",
        "- Python variables: These are functions for storing data. For example, we use it as“assign to variable `a`”.\n",
        "- Variables in data analysis: These are the values that change in the data of interest. It can be actual real data or predicted data. Some are referred to by special terms, such as “target variable” or “explanatory variable,” as we will see later in this chapter.\n",
        "The context immediately above, “for all variables, it seems that there is no `null` data this time”, indicates the “variables in data analysis”. In other words, it refers to the respective data columns, labeled “`school`”, “`sex`”, “`age`”, etc."
      ]
    },
    {
      "cell_type": "markdown",
      "source": [
        "#### Viewing the documentation\n",
        "To further understand this data, let's figure out what exactly these data columns are.\n",
        "Actually, the student.txt file included in the downloaded data contains detailed information about the variables. If you are familiar with the shell, command line, etc., you can see its contents here with **less filename** or **cat filename**. Otherwise, you may want to open it directly with a text editor or with a similar tool.\n",
        "You will find organized information about the contents of student.txt below.\n",
        "\n",
        "Although the meaning of the data is understood from student.txt here, in actual business settings, data items are confirmed by getting information from someone who is familiar with the data or by reading and checking the data specifications."
      ],
      "metadata": {
        "id": "hzfSD9AzlR-7"
      }
    },
    {
      "cell_type": "markdown",
      "metadata": {
        "id": "CD70JZgD9uWA"
      },
      "source": [
        "**Data Attribute Description**\n",
        "\n",
        "1 school - school （binary: \"GP\" - Gabriel Pereira or \"MS\" - Mousinho da Silveira）<br>\n",
        "2 sex - sex（binary: \"F\" - female or \"M\" - male）<br>\n",
        "3 age - age（numeric: from 15 to 22）<br>\n",
        "4 address - type of address（binary: \"U\" - urban or \"R\" - rural）<br>\n",
        "5 famsize - family size（binary: \"LE3\" - less or equal to 3 or \"GT3\" - greater than 3）<br>\n",
        "6 Pstatus - Whether or not you live with your parents（binary: \"T\" - living together or \"A\" - apart）<br>\n",
        "7 Medu - educational background of mother（numeric: 0 - none,  1 - primary education（4th grade）, 2 - 5th to 9th grade, 3 - secondary education or 4 - higher education）<br>\n",
        "8 Fedu - educational background of father: 0 - none,  1 - primary education（4th grade）, 2 - 5th to 9th grade, 3 - secondary education or 4 - higher education）<br>\n",
        "9 Mjob - Mother's job（nominal: \"teacher\", \"health\" care related, civil \"services\"（e.g. administrative or police）, \"at_home\" or \"other\"）<br>\n",
        "10 Fjob - Father's job（nominal: \"teacher\", \"health\" care related, civil \"services\"（e.g. administrative or police）, \"at_home\" or \"other\"）<br>\n",
        "11 reason - reason for choosing school（nominal: close to \"home\", school \"reputation\", \"course\" preference or \"other\"）<br>\n",
        "12 guardian - student's guardian（nominal: \"mother\", \"father\" or \"other\"）<br>\n",
        "13 traveltime - commuting time to school（numeric: 1 - <15 min., 2 - 15 to 30 min., 3 - 30 min. to 1 hour, or 4 - >1 hour）<br>\n",
        "14 studytime - Weekly study hours（numeric: 1 - <2 hours, 2 - 2 to 5 hours, 3 - 5 to 10 hours, or 4 - >10 hours）<br>\n",
        "15 failures - number of past class failures in the past（numeric: n if 1<=n<3, else 4）<br>\n",
        "16 schoolsup - Extra education support（binary: yes or no）<br>\n",
        "17 famsup - Education support for family（binary: yes or no）<br>\n",
        "18 paid - Additional paid classes（Math or Portuguese）（binary: yes or no）<br>\n",
        "19 activities - Extracurricular activities（binary: yes or no）<br>\n",
        "20 nursery - Whether or not the student have ever attended a preschool （binary: yes or no）<br>\n",
        "21 higher - Whether the student want to get a higher education or not（binary: yes or no）<br>\n",
        "22 internet - whether or not the student have interet access at home（binary: yes or no）<br>\n",
        "23 romantic - Romantic relationship（binary: yes or no）<br>\n",
        "24 famrel - Relationship with family（numeric: from 1 - very bad to 5 - excellent）<br>\n",
        "25 freetime - Freetime after school（numeric: from 1 - very low to 5 - very high）<br>\n",
        "26 goout - Whether or not the student hang out with his/her friends（numeric: from 1 - very low to 5 - very high）<br>\n",
        "27 Dalc - Weekday Alcohol Consumption（numeric: from 1 - very low to 5 - very high）<br>\n",
        "28 Walc - Weekend Alcohol Consumption（numeric: from 1 - very low to 5 - very high）<br>\n",
        "29 health - Current health status（numeric: from 1 - very bad to 5 - very good）<br>\n",
        "30 absences - Absenses from school（numeric: from 0 to 93）<br>\n",
        "31 G1 - Grade from 1st semester（numeric: from 0 to 20）<br>\n",
        "31 G2 - Grade from 2nd semester（numeric: from 0 to 20）<br>\n",
        "32 G3 - Grade from final semester（numeric: from 0 to 20, output target）"
      ]
    },
    {
      "cell_type": "markdown",
      "metadata": {
        "id": "mOdCCf8N9uWB"
      },
      "source": [
        "### 4-2.2.4 Quantitative and Qualitative Data\n",
        "\n",
        "Looking at the data above, there are both numerical data and attribute data such as gender.\n",
        "\n",
        "Data can basically be divided into two categories: quantitative data and qualitative data. Note that they need to be handled differently when aggregating and modeling.\n",
        "\n",
        "**Quantitative data**: Data expressed in terms of continuous or discrete values to which the four arithmetic operations can be applied, and which have meaning in terms of proportions. For example, data on the number of people, the amount of money, etc.\n",
        "\n",
        "**Qualitative data**: Data to which the four arithmetic operations cannot be applied. Example: Data such as rankings and categories.\n",
        "\n",
        "\n",
        "#### Examples of Quantitative and Qualitative Data\n",
        "The following code specifies “gender” in the data just loaded. This data is qualitative data because it is not specifically quantified and is not comparable."
      ]
    },
    {
      "cell_type": "code",
      "execution_count": null,
      "metadata": {
        "colab": {
          "base_uri": "https://localhost:8080/",
          "height": 241
        },
        "id": "fTLtrHxv9uWB",
        "outputId": "815a4454-34eb-4bb0-e57d-15a828db5699"
      },
      "outputs": [
        {
          "data": {
            "text/html": [
              "<div>\n",
              "<style scoped>\n",
              "    .dataframe tbody tr th:only-of-type {\n",
              "        vertical-align: middle;\n",
              "    }\n",
              "\n",
              "    .dataframe tbody tr th {\n",
              "        vertical-align: top;\n",
              "    }\n",
              "\n",
              "    .dataframe thead th {\n",
              "        text-align: right;\n",
              "    }\n",
              "</style>\n",
              "<table border=\"1\" class=\"dataframe\">\n",
              "  <thead>\n",
              "    <tr style=\"text-align: right;\">\n",
              "      <th></th>\n",
              "      <th>sex</th>\n",
              "    </tr>\n",
              "  </thead>\n",
              "  <tbody>\n",
              "    <tr>\n",
              "      <th>0</th>\n",
              "      <td>F</td>\n",
              "    </tr>\n",
              "    <tr>\n",
              "      <th>1</th>\n",
              "      <td>F</td>\n",
              "    </tr>\n",
              "    <tr>\n",
              "      <th>2</th>\n",
              "      <td>F</td>\n",
              "    </tr>\n",
              "    <tr>\n",
              "      <th>3</th>\n",
              "      <td>F</td>\n",
              "    </tr>\n",
              "    <tr>\n",
              "      <th>4</th>\n",
              "      <td>F</td>\n",
              "    </tr>\n",
              "  </tbody>\n",
              "</table>\n",
              "</div><br><label><b>dtype:</b> object</label>"
            ],
            "text/plain": [
              "0    F\n",
              "1    F\n",
              "2    F\n",
              "3    F\n",
              "4    F\n",
              "Name: sex, dtype: object"
            ]
          },
          "execution_count": 15,
          "metadata": {},
          "output_type": "execute_result"
        }
      ],
      "source": [
        "student_data_math['sex'].head()"
      ]
    },
    {
      "cell_type": "markdown",
      "metadata": {
        "id": "tU1s_Cnp9uWB"
      },
      "source": [
        "The following code specifies the number of absences in the data column. This data is quantitative data."
      ]
    },
    {
      "cell_type": "code",
      "execution_count": null,
      "metadata": {
        "colab": {
          "base_uri": "https://localhost:8080/",
          "height": 241
        },
        "id": "oJfUu5Bs9uWC",
        "outputId": "e0642693-81d4-4661-c28c-bf0154a3b7ce"
      },
      "outputs": [
        {
          "data": {
            "text/html": [
              "<div>\n",
              "<style scoped>\n",
              "    .dataframe tbody tr th:only-of-type {\n",
              "        vertical-align: middle;\n",
              "    }\n",
              "\n",
              "    .dataframe tbody tr th {\n",
              "        vertical-align: top;\n",
              "    }\n",
              "\n",
              "    .dataframe thead th {\n",
              "        text-align: right;\n",
              "    }\n",
              "</style>\n",
              "<table border=\"1\" class=\"dataframe\">\n",
              "  <thead>\n",
              "    <tr style=\"text-align: right;\">\n",
              "      <th></th>\n",
              "      <th>absences</th>\n",
              "    </tr>\n",
              "  </thead>\n",
              "  <tbody>\n",
              "    <tr>\n",
              "      <th>0</th>\n",
              "      <td>6</td>\n",
              "    </tr>\n",
              "    <tr>\n",
              "      <th>1</th>\n",
              "      <td>4</td>\n",
              "    </tr>\n",
              "    <tr>\n",
              "      <th>2</th>\n",
              "      <td>10</td>\n",
              "    </tr>\n",
              "    <tr>\n",
              "      <th>3</th>\n",
              "      <td>2</td>\n",
              "    </tr>\n",
              "    <tr>\n",
              "      <th>4</th>\n",
              "      <td>4</td>\n",
              "    </tr>\n",
              "  </tbody>\n",
              "</table>\n",
              "</div><br><label><b>dtype:</b> int64</label>"
            ],
            "text/plain": [
              "0     6\n",
              "1     4\n",
              "2    10\n",
              "3     2\n",
              "4     4\n",
              "Name: absences, dtype: int64"
            ]
          },
          "execution_count": 16,
          "metadata": {},
          "output_type": "execute_result"
        }
      ],
      "source": [
        "student_data_math['absences'].head()"
      ]
    },
    {
      "cell_type": "markdown",
      "metadata": {
        "id": "Wh8F9B3z9uWC"
      },
      "source": [
        "#### Calculating averages by axis\n",
        "Now let's use the Pandas technique we learned earlier to compute the mean value of age for each gender. We can do so by doing the following."
      ]
    },
    {
      "cell_type": "code",
      "execution_count": null,
      "metadata": {
        "colab": {
          "base_uri": "https://localhost:8080/",
          "height": 178
        },
        "id": "Ukc3pg329uWC",
        "outputId": "b64f69a7-964d-4b7e-8adc-31d231eec8f7",
        "scrolled": true
      },
      "outputs": [
        {
          "data": {
            "text/html": [
              "<div>\n",
              "<style scoped>\n",
              "    .dataframe tbody tr th:only-of-type {\n",
              "        vertical-align: middle;\n",
              "    }\n",
              "\n",
              "    .dataframe tbody tr th {\n",
              "        vertical-align: top;\n",
              "    }\n",
              "\n",
              "    .dataframe thead th {\n",
              "        text-align: right;\n",
              "    }\n",
              "</style>\n",
              "<table border=\"1\" class=\"dataframe\">\n",
              "  <thead>\n",
              "    <tr style=\"text-align: right;\">\n",
              "      <th></th>\n",
              "      <th>age</th>\n",
              "    </tr>\n",
              "    <tr>\n",
              "      <th>sex</th>\n",
              "      <th></th>\n",
              "    </tr>\n",
              "  </thead>\n",
              "  <tbody>\n",
              "    <tr>\n",
              "      <th>F</th>\n",
              "      <td>16.730769</td>\n",
              "    </tr>\n",
              "    <tr>\n",
              "      <th>M</th>\n",
              "      <td>16.657754</td>\n",
              "    </tr>\n",
              "  </tbody>\n",
              "</table>\n",
              "</div><br><label><b>dtype:</b> float64</label>"
            ],
            "text/plain": [
              "sex\n",
              "F    16.730769\n",
              "M    16.657754\n",
              "Name: age, dtype: float64"
            ]
          },
          "execution_count": 17,
          "metadata": {},
          "output_type": "execute_result"
        }
      ],
      "source": [
        "student_data_math.groupby('sex')['age'].mean()"
      ]
    },
    {
      "cell_type": "markdown",
      "metadata": {
        "id": "4jqidkkO9uWC"
      },
      "source": [
        "We've taken a quick look at the data, including the columns and their values. Since it is possible to aggregate data from various other perspectives, let's make a hypothesis (e.g., men consume more alcohol than women) and see if the hypothesis holds true by implementing it."
      ]
    },
    {
      "cell_type": "markdown",
      "metadata": {
        "id": "gjgAE1be9uWC"
      },
      "source": [
        ">**[Let's try!]**\n",
        ">\n",
        "> Using the data you have loaded, aggregate the data from various perspectives. What hypotheses would you consider? And what implementation will you do to confirm your hypothesis?"
      ]
    },
    {
      "cell_type": "markdown",
      "metadata": {
        "id": "nIbVc5MZ9uWD"
      },
      "source": [
        "## 4-2.3 Descriptive Statistics\n",
        "Keywords: descriptive statistics, quantitative data, qualitative data, histogram, interquartile range, summary statistics, mean, variance, standard deviation, coefficient of variation, scatterplot, correlation coefficient\n",
        "\n",
        "Now that you have an overview of the data, we will learn about the main topic, **descriptive statistics**."
      ]
    },
    {
      "cell_type": "markdown",
      "source": [
        "### 4-2.3.1 Histogram\n",
        "First, we will consider the number of absences in this data. When we checked the sample in `head`, we found a variety of values, such as 10 and 2.\n",
        "\n",
        "The following histogram is to see how many of each value there are. Using Matplotlib, which you learned about in “The Basics of Matplotlib,” you can use `hist` to display the graph (see also “4-1.2.4 Histograms” for more information about histograms)."
      ],
      "metadata": {
        "id": "iq3LR-0XFT_Z"
      }
    },
    {
      "cell_type": "code",
      "execution_count": null,
      "metadata": {
        "colab": {
          "base_uri": "https://localhost:8080/",
          "height": 462
        },
        "id": "CQvZ50fE9uWD",
        "outputId": "9af9a027-5936-48b0-9f51-fba5334b38db",
        "scrolled": true
      },
      "outputs": [
        {
          "data": {
            "image/png": "[encoded data removed]",
            "text/plain": [
              "<Figure size 640x480 with 1 Axes>"
            ]
          },
          "metadata": {},
          "output_type": "display_data"
        }
      ],
      "source": [
        "# histogram and specifying data\n",
        "plt.hist(student_data_math['absences'])\n",
        "\n",
        "# label for x-axis and y-axis\n",
        "plt.xlabel('absences')\n",
        "plt.ylabel('count')\n",
        "\n",
        "# Adding grid\n",
        "plt.grid(True)"
      ]
    },
    {
      "cell_type": "markdown",
      "metadata": {
        "id": "xi2zwivh9uWD"
      },
      "source": [
        "By looking at the histogram above, we can see that the data is concentrated around 0 to 10. On the other hand, there are also data above 70 and so on, which indicate a long-tail distribution. The long tail is a distribution in which the hem of the distribution is gradually decreasing. The distribution above is known as a “right-skewed distribution.”The \"right\" and the \"left\" is often mistaken, due to the appearance of the graph so be careful with the terminology.\n",
        "\n",
        "### 4-2.3.2 Mean, Median, Mode\n",
        "Although this histogram is crucial for viewing the overall picture of the data, it does not provide information such as when the data can be said to be biased, making it a little less objective. Therefore, the following summary statistics (median, mean, standard deviation, etc.) can be calculated to quantify data trends and represent data more objectively."
      ]
    },
    {
      "cell_type": "code",
      "execution_count": null,
      "metadata": {
        "colab": {
          "base_uri": "https://localhost:8080/"
        },
        "id": "cUIdQZq59uWD",
        "outputId": "1d68bc60-3930-4448-c0b6-c1c8faac9f72"
      },
      "outputs": [
        {
          "name": "stdout",
          "output_type": "stream",
          "text": [
            "average： 5.708860759493671\n",
            "median： 4.0\n",
            "mode： 0    0\n",
            "Name: absences, dtype: int64\n"
          ]
        }
      ],
      "source": [
        "# Average\n",
        "print('average：', student_data_math['absences'].mean())\n",
        "# Median：Separating data by median makes the number of data the same before and after the median (the middle value of the data), less susceptible to outlier values\n",
        "print('median：', student_data_math['absences'].median())\n",
        "# Mode：Most frequent value\n",
        "print('mode：', student_data_math['absences'].mode())"
      ]
    },
    {
      "cell_type": "markdown",
      "metadata": {
        "id": "9QRHYOho9uWE"
      },
      "source": [
        "The formula for calculating the average $\\overline{x}$ is as follows where $x_i$ is the $i$th data (value)."
      ]
    },
    {
      "cell_type": "markdown",
      "metadata": {
        "id": "mr-3yNRC9uWE"
      },
      "source": [
        "\\begin{eqnarray}\n",
        "\\overline{x}=\\frac{1}{n}\\sum^n_{i=1}x_i\n",
        "\\end{eqnarray}"
      ]
    },
    {
      "cell_type": "markdown",
      "metadata": {
        "id": "nAhLWMfr9uWE"
      },
      "source": [
        "### 4-2.3.3 Variance and Standard Deviation\n",
        "The next step is to determine whether this data is scattered or clumped (clumped around the mean), which is indicated by variance. The formula for variance is as follows. Variance is commonly denoted as $\\sigma^2$."
      ]
    },
    {
      "cell_type": "markdown",
      "metadata": {
        "id": "fNCosk3j9uWE"
      },
      "source": [
        "\\begin{eqnarray}\n",
        "\\sigma^2 = \\frac{1}{n-1}\\sum^n_{i=1}(x_i-{\\overline{x}} )^2\n",
        "\\end{eqnarray}"
      ]
    },
    {
      "cell_type": "markdown",
      "metadata": {
        "id": "UE1KpiGHR4cC"
      },
      "source": [
        "※ Supplement\n",
        "Note : The above formulas are for “unbiased variance” in detail. For more detailed information, please refer to the section “4-2.11 Statistical Estimation”."
      ]
    },
    {
      "cell_type": "markdown",
      "metadata": {
        "id": "65QlwQCl9uWE"
      },
      "source": [
        "It can be calculated with `var()` after specifying the relevant variable. The smaller the value, the less scattered the data."
      ]
    },
    {
      "cell_type": "code",
      "execution_count": null,
      "metadata": {
        "colab": {
          "base_uri": "https://localhost:8080/"
        },
        "id": "24e0ysw79uWF",
        "outputId": "5ecbbe92-5753-4bc0-c506-c118cf5b1ac1"
      },
      "outputs": [
        {
          "data": {
            "text/plain": [
              "64.050"
            ]
          },
          "execution_count": 20,
          "metadata": {},
          "output_type": "execute_result"
        }
      ],
      "source": [
        "# variance\n",
        "student_data_math['absences'].var()"
      ]
    },
    {
      "cell_type": "markdown",
      "metadata": {
        "id": "FwlIbJgB9uWF"
      },
      "source": [
        "The standard deviation is the square root of the variance and is commonly denoted by $\\sigma$."
      ]
    },
    {
      "cell_type": "markdown",
      "metadata": {
        "id": "QFWH_K2S9uWF"
      },
      "source": [
        "\\begin{eqnarray}\n",
        "\\sigma = \\sqrt{\\frac{1}{n-1}\\sum^n_{i=1}(x_i-{\\overline{x}} )^2}\n",
        "\\end{eqnarray}"
      ]
    },
    {
      "cell_type": "markdown",
      "metadata": {
        "id": "hYWXhYYq9uWF"
      },
      "source": [
        "Variance does not tell us how much the actual scattering of the data is. This is because, as you can see from the definition formula for variance presented above, it is squared in the formula. If we use the standard deviation, the dimension of the unit is the same as the actual data, so the following results show that there is a variation of about ±8 days. The standard deviation can be calculated with `std()`."
      ]
    },
    {
      "cell_type": "code",
      "execution_count": null,
      "metadata": {
        "colab": {
          "base_uri": "https://localhost:8080/"
        },
        "id": "__o7ypfe9uWF",
        "outputId": "22481e36-c73a-40f7-f273-4482b30f53d3"
      },
      "outputs": [
        {
          "data": {
            "text/plain": [
              "8.003"
            ]
          },
          "execution_count": 21,
          "metadata": {},
          "output_type": "execute_result"
        }
      ],
      "source": [
        "# Standard deviation σ\n",
        "student_data_math['absences'].std()"
      ]
    },
    {
      "cell_type": "markdown",
      "metadata": {
        "id": "ynXpiyua9uWG"
      },
      "source": [
        "Note that the square root can be calculated with `np.sqrt`, therefore the following method is the same as the previous."
      ]
    },
    {
      "cell_type": "code",
      "execution_count": null,
      "metadata": {
        "colab": {
          "base_uri": "https://localhost:8080/"
        },
        "id": "E4Q4Gf8L9uWG",
        "outputId": "ae22d5c3-d80f-451c-88ba-50c0dc645d3b"
      },
      "outputs": [
        {
          "data": {
            "text/plain": [
              "8.003095687108177"
            ]
          },
          "execution_count": 22,
          "metadata": {},
          "output_type": "execute_result"
        }
      ],
      "source": [
        "np.sqrt(student_data_math['absences'].var())"
      ]
    },
    {
      "cell_type": "markdown",
      "metadata": {
        "id": "b_O-Kj3U9uWG"
      },
      "source": [
        "### 4-2.3.4 Summary Statistics and Percentile Values\n",
        "\n",
        "We have looked at the statistics one by one, but you can see the summary statistics we have looked at by running the `describe` method on the `DataFrame` loaded in Pandas.\n",
        "\n",
        "The `describe` method allows you to calculate the number of data, mean, standard deviation, minimum, 25th, 50th, and 75th percentile values, and maximum value, in that order.\n",
        "\n",
        "The `percentile value` is a number that represents the number of the smallest number of the total number of data (100). For example, the 10th percentile is the 10th smallest of 100 data points, the 50th percentile is the 50th middle value, or median, and the 25th and 75th percentile are also called the first and third quartiles, respectively."
      ]
    },
    {
      "cell_type": "code",
      "execution_count": null,
      "metadata": {
        "colab": {
          "base_uri": "https://localhost:8080/",
          "height": 335
        },
        "id": "PMChXmCm9uWH",
        "outputId": "826aaeb7-4f33-4010-c77a-eb4f9aa09a40"
      },
      "outputs": [
        {
          "data": {
            "text/html": [
              "<div>\n",
              "<style scoped>\n",
              "    .dataframe tbody tr th:only-of-type {\n",
              "        vertical-align: middle;\n",
              "    }\n",
              "\n",
              "    .dataframe tbody tr th {\n",
              "        vertical-align: top;\n",
              "    }\n",
              "\n",
              "    .dataframe thead th {\n",
              "        text-align: right;\n",
              "    }\n",
              "</style>\n",
              "<table border=\"1\" class=\"dataframe\">\n",
              "  <thead>\n",
              "    <tr style=\"text-align: right;\">\n",
              "      <th></th>\n",
              "      <th>absences</th>\n",
              "    </tr>\n",
              "  </thead>\n",
              "  <tbody>\n",
              "    <tr>\n",
              "      <th>count</th>\n",
              "      <td>395.000000</td>\n",
              "    </tr>\n",
              "    <tr>\n",
              "      <th>mean</th>\n",
              "      <td>5.708861</td>\n",
              "    </tr>\n",
              "    <tr>\n",
              "      <th>std</th>\n",
              "      <td>8.003096</td>\n",
              "    </tr>\n",
              "    <tr>\n",
              "      <th>min</th>\n",
              "      <td>0.000000</td>\n",
              "    </tr>\n",
              "    <tr>\n",
              "      <th>25%</th>\n",
              "      <td>0.000000</td>\n",
              "    </tr>\n",
              "    <tr>\n",
              "      <th>50%</th>\n",
              "      <td>4.000000</td>\n",
              "    </tr>\n",
              "    <tr>\n",
              "      <th>75%</th>\n",
              "      <td>8.000000</td>\n",
              "    </tr>\n",
              "    <tr>\n",
              "      <th>max</th>\n",
              "      <td>75.000000</td>\n",
              "    </tr>\n",
              "  </tbody>\n",
              "</table>\n",
              "</div><br><label><b>dtype:</b> float64</label>"
            ],
            "text/plain": [
              "count    395.000000\n",
              "mean       5.708861\n",
              "std        8.003096\n",
              "min        0.000000\n",
              "25%        0.000000\n",
              "50%        4.000000\n",
              "75%        8.000000\n",
              "max       75.000000\n",
              "Name: absences, dtype: float64"
            ]
          },
          "execution_count": 23,
          "metadata": {},
          "output_type": "execute_result"
        }
      ],
      "source": [
        "# Summary Statistics\n",
        "student_data_math['absences'].describe()"
      ]
    },
    {
      "cell_type": "markdown",
      "metadata": {
        "id": "CeIeRAhV9uWH"
      },
      "source": [
        "#### Finding the Quartile Range\n",
        "The result of the `describe` method goes into a `Series` object.\n",
        "\n",
        "Each element can be obtained as `describe()[index number]`. For example, the value of `mean` for the mean is `describe()[1]` and the value of `std` for the standard deviation is `describe()[2]`."
      ]
    },
    {
      "cell_type": "markdown",
      "metadata": {
        "id": "8TtHH_ox9uWH"
      },
      "source": [
        "You can calculate using values of each element by referring to them. For example, if you want to calculate the difference between the 75th and 25th percentile tiles, called **quartile range**, you would use the fifth and seventh elements from the top and calculate the following."
      ]
    },
    {
      "cell_type": "code",
      "execution_count": null,
      "metadata": {
        "colab": {
          "base_uri": "https://localhost:8080/"
        },
        "id": "74sBivUD9uWH",
        "outputId": "101209e9-f58f-41e7-b40b-0fd2506980f1"
      },
      "outputs": [
        {
          "name": "stderr",
          "output_type": "stream",
          "text": [
            "<ipython-input-24-fd1528f549c8>:2: FutureWarning: Series.__getitem__ treating keys as positions is deprecated. In a future version, integer keys will always be treated as labels (consistent with DataFrame behavior). To access a value by position, use `ser.iloc[pos]`\n",
            "  student_data_math['absences'].describe()[6] - student_data_math['absences'].describe()[4]\n",
            "<ipython-input-24-fd1528f549c8>:2: FutureWarning: Series.__getitem__ treating keys as positions is deprecated. In a future version, integer keys will always be treated as labels (consistent with DataFrame behavior). To access a value by position, use `ser.iloc[pos]`\n",
            "  student_data_math['absences'].describe()[6] - student_data_math['absences'].describe()[4]\n"
          ]
        },
        {
          "data": {
            "text/plain": [
              "8.0"
            ]
          },
          "execution_count": 24,
          "metadata": {},
          "output_type": "execute_result"
        }
      ],
      "source": [
        "# Quartile range(75th to 25th)\n",
        "student_data_math['absences'].describe()[6] - student_data_math['absences'].describe()[4]"
      ]
    },
    {
      "cell_type": "markdown",
      "metadata": {
        "id": "ZnhInb4D9uWH"
      },
      "source": [
        "#### Obtaining results for all columns\n",
        "\n",
        "Running the `describe` method without specifying column names or elements allows you to obtain summary statistics for all quantitative data. This is useful for calculating the statistics all at once. You can also narrow down the columns and perform the calculation."
      ]
    },
    {
      "cell_type": "code",
      "execution_count": null,
      "metadata": {
        "colab": {
          "base_uri": "https://localhost:8080/",
          "height": 320
        },
        "id": "GgXNeBz59uWI",
        "outputId": "5e63d7ae-e995-4492-c3cc-4317b77e3892",
        "scrolled": true
      },
      "outputs": [
        {
          "data": {
            "application/vnd.google.colaboratory.intrinsic+json": {
              "summary": "{\n  \"name\": \"student_data_math\",\n  \"rows\": 8,\n  \"fields\": [\n    {\n      \"column\": \"age\",\n      \"properties\": {\n        \"dtype\": \"number\",\n        \"std\": 134.436252896189,\n        \"min\": 1.2760427246056245,\n        \"max\": 395.0,\n        \"num_unique_values\": 8,\n        \"samples\": [\n          16.696202531645568,\n          17.0,\n          395.0\n        ],\n        \"semantic_type\": \"\",\n        \"description\": \"\"\n      }\n    },\n    {\n      \"column\": \"Medu\",\n      \"properties\": {\n        \"dtype\": \"number\",\n        \"std\": 138.80963938157987,\n        \"min\": 0.0,\n        \"max\": 395.0,\n        \"num_unique_values\": 7,\n        \"samples\": [\n          395.0,\n          2.749367088607595,\n          3.0\n        ],\n        \"semantic_type\": \"\",\n        \"description\": \"\"\n      }\n    },\n    {\n      \"column\": \"Fedu\",\n      \"properties\": {\n        \"dtype\": \"number\",\n        \"std\": 138.92085462409693,\n        \"min\": 0.0,\n        \"max\": 395.0,\n        \"num_unique_values\": 7,\n        \"samples\": [\n          395.0,\n          2.5215189873417723,\n          3.0\n        ],\n        \"semantic_type\": \"\",\n        \"description\": \"\"\n      }\n    },\n    {\n      \"column\": \"traveltime\",\n      \"properties\": {\n        \"dtype\": \"number\",\n        \"std\": 139.0946757987501,\n        \"min\": 0.6975047549086848,\n        \"max\": 395.0,\n        \"num_unique_values\": 6,\n        \"samples\": [\n          395.0,\n          1.4481012658227848,\n          4.0\n        ],\n        \"semantic_type\": \"\",\n        \"description\": \"\"\n      }\n    },\n    {\n      \"column\": \"studytime\",\n      \"properties\": {\n        \"dtype\": \"number\",\n        \"std\": 139.00700274471274,\n        \"min\": 0.839240346418556,\n        \"max\": 395.0,\n        \"num_unique_values\": 6,\n        \"samples\": [\n          395.0,\n          2.0354430379746837,\n          4.0\n        ],\n        \"semantic_type\": \"\",\n        \"description\": \"\"\n      }\n    },\n    {\n      \"column\": \"failures\",\n      \"properties\": {\n        \"dtype\": \"number\",\n        \"std\": 139.4513615014189,\n        \"min\": 0.0,\n        \"max\": 395.0,\n        \"num_unique_values\": 5,\n        \"samples\": [\n          0.3341772151898734,\n          3.0,\n          0.743650973606249\n        ],\n        \"semantic_type\": \"\",\n        \"description\": \"\"\n      }\n    },\n    {\n      \"column\": \"famrel\",\n      \"properties\": {\n        \"dtype\": \"number\",\n        \"std\": 138.45880901426744,\n        \"min\": 0.8966586076885056,\n        \"max\": 395.0,\n        \"num_unique_values\": 6,\n        \"samples\": [\n          395.0,\n          3.9443037974683546,\n          5.0\n        ],\n        \"semantic_type\": \"\",\n        \"description\": \"\"\n      }\n    },\n    {\n      \"column\": \"freetime\",\n      \"properties\": {\n        \"dtype\": \"number\",\n        \"std\": 138.63828826062982,\n        \"min\": 0.9988620396657205,\n        \"max\": 395.0,\n        \"num_unique_values\": 7,\n        \"samples\": [\n          395.0,\n          3.2354430379746835,\n          4.0\n        ],\n        \"semantic_type\": \"\",\n        \"description\": \"\"\n      }\n    },\n    {\n      \"column\": \"goout\",\n      \"properties\": {\n        \"dtype\": \"number\",\n        \"std\": 138.68948196584594,\n        \"min\": 1.0,\n        \"max\": 395.0,\n        \"num_unique_values\": 8,\n        \"samples\": [\n          3.108860759493671,\n          3.0,\n          395.0\n        ],\n        \"semantic_type\": \"\",\n        \"description\": \"\"\n      }\n    },\n    {\n      \"column\": \"Dalc\",\n      \"properties\": {\n        \"dtype\": \"number\",\n        \"std\": 139.0354623650101,\n        \"min\": 0.8907414280909659,\n        \"max\": 395.0,\n        \"num_unique_values\": 6,\n        \"samples\": [\n          395.0,\n          1.481012658227848,\n          5.0\n        ],\n        \"semantic_type\": \"\",\n        \"description\": \"\"\n      }\n    },\n    {\n      \"column\": \"Walc\",\n      \"properties\": {\n        \"dtype\": \"number\",\n        \"std\": 138.87302263653973,\n        \"min\": 1.0,\n        \"max\": 395.0,\n        \"num_unique_values\": 7,\n        \"samples\": [\n          395.0,\n          2.2911392405063293,\n          3.0\n        ],\n        \"semantic_type\": \"\",\n        \"description\": \"\"\n      }\n    },\n    {\n      \"column\": \"health\",\n      \"properties\": {\n        \"dtype\": \"number\",\n        \"std\": 138.50262599778412,\n        \"min\": 1.0,\n        \"max\": 395.0,\n        \"num_unique_values\": 7,\n        \"samples\": [\n          395.0,\n          3.5544303797468353,\n          4.0\n        ],\n        \"semantic_type\": \"\",\n        \"description\": \"\"\n      }\n    },\n    {\n      \"column\": \"absences\",\n      \"properties\": {\n        \"dtype\": \"number\",\n        \"std\": 136.85777166785417,\n        \"min\": 0.0,\n        \"max\": 395.0,\n        \"num_unique_values\": 7,\n        \"samples\": [\n          395.0,\n          5.708860759493671,\n          8.0\n        ],\n        \"semantic_type\": \"\",\n        \"description\": \"\"\n      }\n    },\n    {\n      \"column\": \"G1\",\n      \"properties\": {\n        \"dtype\": \"number\",\n        \"std\": 136.30663508587594,\n        \"min\": 3.0,\n        \"max\": 395.0,\n        \"num_unique_values\": 8,\n        \"samples\": [\n          10.90886075949367,\n          11.0,\n          395.0\n        ],\n        \"semantic_type\": \"\",\n        \"description\": \"\"\n      }\n    },\n    {\n      \"column\": \"G2\",\n      \"properties\": {\n        \"dtype\": \"number\",\n        \"std\": 136.4163745266465,\n        \"min\": 0.0,\n        \"max\": 395.0,\n        \"num_unique_values\": 8,\n        \"samples\": [\n          10.713924050632912,\n          11.0,\n          395.0\n        ],\n        \"semantic_type\": \"\",\n        \"description\": \"\"\n      }\n    },\n    {\n      \"column\": \"G3\",\n      \"properties\": {\n        \"dtype\": \"number\",\n        \"std\": 136.35024783099098,\n        \"min\": 0.0,\n        \"max\": 395.0,\n        \"num_unique_values\": 8,\n        \"samples\": [\n          10.415189873417722,\n          11.0,\n          395.0\n        ],\n        \"semantic_type\": \"\",\n        \"description\": \"\"\n      }\n    }\n  ]\n}",
              "type": "dataframe"
            },
            "text/html": [
              "\n",
              "  <div id=\"df-88065f38-bd10-418a-91c5-e7c5e537121a\" class=\"colab-df-container\">\n",
              "    <div>\n",
              "<style scoped>\n",
              "    .dataframe tbody tr th:only-of-type {\n",
              "        vertical-align: middle;\n",
              "    }\n",
              "\n",
              "    .dataframe tbody tr th {\n",
              "        vertical-align: top;\n",
              "    }\n",
              "\n",
              "    .dataframe thead th {\n",
              "        text-align: right;\n",
              "    }\n",
              "</style>\n",
              "<table border=\"1\" class=\"dataframe\">\n",
              "  <thead>\n",
              "    <tr style=\"text-align: right;\">\n",
              "      <th></th>\n",
              "      <th>age</th>\n",
              "      <th>Medu</th>\n",
              "      <th>Fedu</th>\n",
              "      <th>traveltime</th>\n",
              "      <th>studytime</th>\n",
              "      <th>failures</th>\n",
              "      <th>famrel</th>\n",
              "      <th>freetime</th>\n",
              "      <th>goout</th>\n",
              "      <th>Dalc</th>\n",
              "      <th>Walc</th>\n",
              "      <th>health</th>\n",
              "      <th>absences</th>\n",
              "      <th>G1</th>\n",
              "      <th>G2</th>\n",
              "      <th>G3</th>\n",
              "    </tr>\n",
              "  </thead>\n",
              "  <tbody>\n",
              "    <tr>\n",
              "      <th>count</th>\n",
              "      <td>395.000000</td>\n",
              "      <td>395.000000</td>\n",
              "      <td>395.000000</td>\n",
              "      <td>395.000000</td>\n",
              "      <td>395.000000</td>\n",
              "      <td>395.000000</td>\n",
              "      <td>395.000000</td>\n",
              "      <td>395.000000</td>\n",
              "      <td>395.000000</td>\n",
              "      <td>395.000000</td>\n",
              "      <td>395.000000</td>\n",
              "      <td>395.000000</td>\n",
              "      <td>395.000000</td>\n",
              "      <td>395.000000</td>\n",
              "      <td>395.000000</td>\n",
              "      <td>395.000000</td>\n",
              "    </tr>\n",
              "    <tr>\n",
              "      <th>mean</th>\n",
              "      <td>16.696203</td>\n",
              "      <td>2.749367</td>\n",
              "      <td>2.521519</td>\n",
              "      <td>1.448101</td>\n",
              "      <td>2.035443</td>\n",
              "      <td>0.334177</td>\n",
              "      <td>3.944304</td>\n",
              "      <td>3.235443</td>\n",
              "      <td>3.108861</td>\n",
              "      <td>1.481013</td>\n",
              "      <td>2.291139</td>\n",
              "      <td>3.554430</td>\n",
              "      <td>5.708861</td>\n",
              "      <td>10.908861</td>\n",
              "      <td>10.713924</td>\n",
              "      <td>10.415190</td>\n",
              "    </tr>\n",
              "    <tr>\n",
              "      <th>std</th>\n",
              "      <td>1.276043</td>\n",
              "      <td>1.094735</td>\n",
              "      <td>1.088201</td>\n",
              "      <td>0.697505</td>\n",
              "      <td>0.839240</td>\n",
              "      <td>0.743651</td>\n",
              "      <td>0.896659</td>\n",
              "      <td>0.998862</td>\n",
              "      <td>1.113278</td>\n",
              "      <td>0.890741</td>\n",
              "      <td>1.287897</td>\n",
              "      <td>1.390303</td>\n",
              "      <td>8.003096</td>\n",
              "      <td>3.319195</td>\n",
              "      <td>3.761505</td>\n",
              "      <td>4.581443</td>\n",
              "    </tr>\n",
              "    <tr>\n",
              "      <th>min</th>\n",
              "      <td>15.000000</td>\n",
              "      <td>0.000000</td>\n",
              "      <td>0.000000</td>\n",
              "      <td>1.000000</td>\n",
              "      <td>1.000000</td>\n",
              "      <td>0.000000</td>\n",
              "      <td>1.000000</td>\n",
              "      <td>1.000000</td>\n",
              "      <td>1.000000</td>\n",
              "      <td>1.000000</td>\n",
              "      <td>1.000000</td>\n",
              "      <td>1.000000</td>\n",
              "      <td>0.000000</td>\n",
              "      <td>3.000000</td>\n",
              "      <td>0.000000</td>\n",
              "      <td>0.000000</td>\n",
              "    </tr>\n",
              "    <tr>\n",
              "      <th>25%</th>\n",
              "      <td>16.000000</td>\n",
              "      <td>2.000000</td>\n",
              "      <td>2.000000</td>\n",
              "      <td>1.000000</td>\n",
              "      <td>1.000000</td>\n",
              "      <td>0.000000</td>\n",
              "      <td>4.000000</td>\n",
              "      <td>3.000000</td>\n",
              "      <td>2.000000</td>\n",
              "      <td>1.000000</td>\n",
              "      <td>1.000000</td>\n",
              "      <td>3.000000</td>\n",
              "      <td>0.000000</td>\n",
              "      <td>8.000000</td>\n",
              "      <td>9.000000</td>\n",
              "      <td>8.000000</td>\n",
              "    </tr>\n",
              "    <tr>\n",
              "      <th>50%</th>\n",
              "      <td>17.000000</td>\n",
              "      <td>3.000000</td>\n",
              "      <td>2.000000</td>\n",
              "      <td>1.000000</td>\n",
              "      <td>2.000000</td>\n",
              "      <td>0.000000</td>\n",
              "      <td>4.000000</td>\n",
              "      <td>3.000000</td>\n",
              "      <td>3.000000</td>\n",
              "      <td>1.000000</td>\n",
              "      <td>2.000000</td>\n",
              "      <td>4.000000</td>\n",
              "      <td>4.000000</td>\n",
              "      <td>11.000000</td>\n",
              "      <td>11.000000</td>\n",
              "      <td>11.000000</td>\n",
              "    </tr>\n",
              "    <tr>\n",
              "      <th>75%</th>\n",
              "      <td>18.000000</td>\n",
              "      <td>4.000000</td>\n",
              "      <td>3.000000</td>\n",
              "      <td>2.000000</td>\n",
              "      <td>2.000000</td>\n",
              "      <td>0.000000</td>\n",
              "      <td>5.000000</td>\n",
              "      <td>4.000000</td>\n",
              "      <td>4.000000</td>\n",
              "      <td>2.000000</td>\n",
              "      <td>3.000000</td>\n",
              "      <td>5.000000</td>\n",
              "      <td>8.000000</td>\n",
              "      <td>13.000000</td>\n",
              "      <td>13.000000</td>\n",
              "      <td>14.000000</td>\n",
              "    </tr>\n",
              "    <tr>\n",
              "      <th>max</th>\n",
              "      <td>22.000000</td>\n",
              "      <td>4.000000</td>\n",
              "      <td>4.000000</td>\n",
              "      <td>4.000000</td>\n",
              "      <td>4.000000</td>\n",
              "      <td>3.000000</td>\n",
              "      <td>5.000000</td>\n",
              "      <td>5.000000</td>\n",
              "      <td>5.000000</td>\n",
              "      <td>5.000000</td>\n",
              "      <td>5.000000</td>\n",
              "      <td>5.000000</td>\n",
              "      <td>75.000000</td>\n",
              "      <td>19.000000</td>\n",
              "      <td>19.000000</td>\n",
              "      <td>20.000000</td>\n",
              "    </tr>\n",
              "  </tbody>\n",
              "</table>\n",
              "</div>\n",
              "    <div class=\"colab-df-buttons\">\n",
              "\n",
              "  <div class=\"colab-df-container\">\n",
              "    <button class=\"colab-df-convert\" onclick=\"convertToInteractive('df-88065f38-bd10-418a-91c5-e7c5e537121a')\"\n",
              "            title=\"Convert this dataframe to an interactive table.\"\n",
              "            style=\"display:none;\">\n",
              "\n",
              "  <svg xmlns=\"http://www.w3.org/2000/svg\" height=\"24px\" viewBox=\"0 -960 960 960\">\n",
              "    <path d=\"M120-120v-720h720v720H120Zm60-500h600v-160H180v160Zm220 220h160v-160H400v160Zm0 220h160v-160H400v160ZM180-400h160v-160H180v160Zm440 0h160v-160H620v160ZM180-180h160v-160H180v160Zm440 0h160v-160H620v160Z\"/>\n",
              "  </svg>\n",
              "    </button>\n",
              "\n",
              "  <style>\n",
              "    .colab-df-container {\n",
              "      display:flex;\n",
              "      gap: 12px;\n",
              "    }\n",
              "\n",
              "    .colab-df-convert {\n",
              "      background-color: #E8F0FE;\n",
              "      border: none;\n",
              "      border-radius: 50%;\n",
              "      cursor: pointer;\n",
              "      display: none;\n",
              "      fill: #1967D2;\n",
              "      height: 32px;\n",
              "      padding: 0 0 0 0;\n",
              "      width: 32px;\n",
              "    }\n",
              "\n",
              "    .colab-df-convert:hover {\n",
              "      background-color: #E2EBFA;\n",
              "      box-shadow: 0px 1px 2px rgba(60, 64, 67, 0.3), 0px 1px 3px 1px rgba(60, 64, 67, 0.15);\n",
              "      fill: #174EA6;\n",
              "    }\n",
              "\n",
              "    .colab-df-buttons div {\n",
              "      margin-bottom: 4px;\n",
              "    }\n",
              "\n",
              "    [theme=dark] .colab-df-convert {\n",
              "      background-color: #3B4455;\n",
              "      fill: #D2E3FC;\n",
              "    }\n",
              "\n",
              "    [theme=dark] .colab-df-convert:hover {\n",
              "      background-color: #434B5C;\n",
              "      box-shadow: 0px 1px 3px 1px rgba(0, 0, 0, 0.15);\n",
              "      filter: drop-shadow(0px 1px 2px rgba(0, 0, 0, 0.3));\n",
              "      fill: #FFFFFF;\n",
              "    }\n",
              "  </style>\n",
              "\n",
              "    <script>\n",
              "      const buttonEl =\n",
              "        document.querySelector('#df-88065f38-bd10-418a-91c5-e7c5e537121a button.colab-df-convert');\n",
              "      buttonEl.style.display =\n",
              "        google.colab.kernel.accessAllowed ? 'block' : 'none';\n",
              "\n",
              "      async function convertToInteractive(key) {\n",
              "        const element = document.querySelector('#df-88065f38-bd10-418a-91c5-e7c5e537121a');\n",
              "        const dataTable =\n",
              "          await google.colab.kernel.invokeFunction('convertToInteractive',\n",
              "                                                    [key], {});\n",
              "        if (!dataTable) return;\n",
              "\n",
              "        const docLinkHtml = 'Like what you see? Visit the ' +\n",
              "          '<a target=\"_blank\" href=https://colab.research.google.com/notebooks/data_table.ipynb>data table notebook</a>'\n",
              "          + ' to learn more about interactive tables.';\n",
              "        element.innerHTML = '';\n",
              "        dataTable['output_type'] = 'display_data';\n",
              "        await google.colab.output.renderOutput(dataTable, element);\n",
              "        const docLink = document.createElement('div');\n",
              "        docLink.innerHTML = docLinkHtml;\n",
              "        element.appendChild(docLink);\n",
              "      }\n",
              "    </script>\n",
              "  </div>\n",
              "\n",
              "\n",
              "<div id=\"df-05140f6f-38ec-4cac-bf30-115de4d4112b\">\n",
              "  <button class=\"colab-df-quickchart\" onclick=\"quickchart('df-05140f6f-38ec-4cac-bf30-115de4d4112b')\"\n",
              "            title=\"Suggest charts\"\n",
              "            style=\"display:none;\">\n",
              "\n",
              "<svg xmlns=\"http://www.w3.org/2000/svg\" height=\"24px\"viewBox=\"0 0 24 24\"\n",
              "     width=\"24px\">\n",
              "    <g>\n",
              "        <path d=\"M19 3H5c-1.1 0-2 .9-2 2v14c0 1.1.9 2 2 2h14c1.1 0 2-.9 2-2V5c0-1.1-.9-2-2-2zM9 17H7v-7h2v7zm4 0h-2V7h2v10zm4 0h-2v-4h2v4z\"/>\n",
              "    </g>\n",
              "</svg>\n",
              "  </button>\n",
              "\n",
              "<style>\n",
              "  .colab-df-quickchart {\n",
              "      --bg-color: #E8F0FE;\n",
              "      --fill-color: #1967D2;\n",
              "      --hover-bg-color: #E2EBFA;\n",
              "      --hover-fill-color: #174EA6;\n",
              "      --disabled-fill-color: #AAA;\n",
              "      --disabled-bg-color: #DDD;\n",
              "  }\n",
              "\n",
              "  [theme=dark] .colab-df-quickchart {\n",
              "      --bg-color: #3B4455;\n",
              "      --fill-color: #D2E3FC;\n",
              "      --hover-bg-color: #434B5C;\n",
              "      --hover-fill-color: #FFFFFF;\n",
              "      --disabled-bg-color: #3B4455;\n",
              "      --disabled-fill-color: #666;\n",
              "  }\n",
              "\n",
              "  .colab-df-quickchart {\n",
              "    background-color: var(--bg-color);\n",
              "    border: none;\n",
              "    border-radius: 50%;\n",
              "    cursor: pointer;\n",
              "    display: none;\n",
              "    fill: var(--fill-color);\n",
              "    height: 32px;\n",
              "    padding: 0;\n",
              "    width: 32px;\n",
              "  }\n",
              "\n",
              "  .colab-df-quickchart:hover {\n",
              "    background-color: var(--hover-bg-color);\n",
              "    box-shadow: 0 1px 2px rgba(60, 64, 67, 0.3), 0 1px 3px 1px rgba(60, 64, 67, 0.15);\n",
              "    fill: var(--button-hover-fill-color);\n",
              "  }\n",
              "\n",
              "  .colab-df-quickchart-complete:disabled,\n",
              "  .colab-df-quickchart-complete:disabled:hover {\n",
              "    background-color: var(--disabled-bg-color);\n",
              "    fill: var(--disabled-fill-color);\n",
              "    box-shadow: none;\n",
              "  }\n",
              "\n",
              "  .colab-df-spinner {\n",
              "    border: 2px solid var(--fill-color);\n",
              "    border-color: transparent;\n",
              "    border-bottom-color: var(--fill-color);\n",
              "    animation:\n",
              "      spin 1s steps(1) infinite;\n",
              "  }\n",
              "\n",
              "  @keyframes spin {\n",
              "    0% {\n",
              "      border-color: transparent;\n",
              "      border-bottom-color: var(--fill-color);\n",
              "      border-left-color: var(--fill-color);\n",
              "    }\n",
              "    20% {\n",
              "      border-color: transparent;\n",
              "      border-left-color: var(--fill-color);\n",
              "      border-top-color: var(--fill-color);\n",
              "    }\n",
              "    30% {\n",
              "      border-color: transparent;\n",
              "      border-left-color: var(--fill-color);\n",
              "      border-top-color: var(--fill-color);\n",
              "      border-right-color: var(--fill-color);\n",
              "    }\n",
              "    40% {\n",
              "      border-color: transparent;\n",
              "      border-right-color: var(--fill-color);\n",
              "      border-top-color: var(--fill-color);\n",
              "    }\n",
              "    60% {\n",
              "      border-color: transparent;\n",
              "      border-right-color: var(--fill-color);\n",
              "    }\n",
              "    80% {\n",
              "      border-color: transparent;\n",
              "      border-right-color: var(--fill-color);\n",
              "      border-bottom-color: var(--fill-color);\n",
              "    }\n",
              "    90% {\n",
              "      border-color: transparent;\n",
              "      border-bottom-color: var(--fill-color);\n",
              "    }\n",
              "  }\n",
              "</style>\n",
              "\n",
              "  <script>\n",
              "    async function quickchart(key) {\n",
              "      const quickchartButtonEl =\n",
              "        document.querySelector('#' + key + ' button');\n",
              "      quickchartButtonEl.disabled = true;  // To prevent multiple clicks.\n",
              "      quickchartButtonEl.classList.add('colab-df-spinner');\n",
              "      try {\n",
              "        const charts = await google.colab.kernel.invokeFunction(\n",
              "            'suggestCharts', [key], {});\n",
              "      } catch (error) {\n",
              "        console.error('Error during call to suggestCharts:', error);\n",
              "      }\n",
              "      quickchartButtonEl.classList.remove('colab-df-spinner');\n",
              "      quickchartButtonEl.classList.add('colab-df-quickchart-complete');\n",
              "    }\n",
              "    (() => {\n",
              "      let quickchartButtonEl =\n",
              "        document.querySelector('#df-05140f6f-38ec-4cac-bf30-115de4d4112b button');\n",
              "      quickchartButtonEl.style.display =\n",
              "        google.colab.kernel.accessAllowed ? 'block' : 'none';\n",
              "    })();\n",
              "  </script>\n",
              "</div>\n",
              "\n",
              "    </div>\n",
              "  </div>\n"
            ],
            "text/plain": [
              "              age        Medu        Fedu  traveltime   studytime    failures  \\\n",
              "count  395.000000  395.000000  395.000000  395.000000  395.000000  395.000000   \n",
              "mean    16.696203    2.749367    2.521519    1.448101    2.035443    0.334177   \n",
              "std      1.276043    1.094735    1.088201    0.697505    0.839240    0.743651   \n",
              "min     15.000000    0.000000    0.000000    1.000000    1.000000    0.000000   \n",
              "25%     16.000000    2.000000    2.000000    1.000000    1.000000    0.000000   \n",
              "50%     17.000000    3.000000    2.000000    1.000000    2.000000    0.000000   \n",
              "75%     18.000000    4.000000    3.000000    2.000000    2.000000    0.000000   \n",
              "max     22.000000    4.000000    4.000000    4.000000    4.000000    3.000000   \n",
              "\n",
              "           famrel    freetime       goout        Dalc        Walc      health  \\\n",
              "count  395.000000  395.000000  395.000000  395.000000  395.000000  395.000000   \n",
              "mean     3.944304    3.235443    3.108861    1.481013    2.291139    3.554430   \n",
              "std      0.896659    0.998862    1.113278    0.890741    1.287897    1.390303   \n",
              "min      1.000000    1.000000    1.000000    1.000000    1.000000    1.000000   \n",
              "25%      4.000000    3.000000    2.000000    1.000000    1.000000    3.000000   \n",
              "50%      4.000000    3.000000    3.000000    1.000000    2.000000    4.000000   \n",
              "75%      5.000000    4.000000    4.000000    2.000000    3.000000    5.000000   \n",
              "max      5.000000    5.000000    5.000000    5.000000    5.000000    5.000000   \n",
              "\n",
              "         absences          G1          G2          G3  \n",
              "count  395.000000  395.000000  395.000000  395.000000  \n",
              "mean     5.708861   10.908861   10.713924   10.415190  \n",
              "std      8.003096    3.319195    3.761505    4.581443  \n",
              "min      0.000000    3.000000    0.000000    0.000000  \n",
              "25%      0.000000    8.000000    9.000000    8.000000  \n",
              "50%      4.000000   11.000000   11.000000   11.000000  \n",
              "75%      8.000000   13.000000   13.000000   14.000000  \n",
              "max     75.000000   19.000000   19.000000   20.000000  "
            ]
          },
          "execution_count": 25,
          "metadata": {},
          "output_type": "execute_result"
        }
      ],
      "source": [
        "# Summary statistics summary calculation\n",
        "student_data_math.describe()"
      ]
    },
    {
      "cell_type": "markdown",
      "metadata": {
        "id": "_Xke_htM9uWP"
      },
      "source": [
        "#### <Practice Question 4-2-1>\n",
        "\n",
        "The downloaded data comes with another csv file, \"student-por.csv\" which has the students' scores for Portugese class.\n",
        "\n",
        "Load \"student-por.csv\" and view the summary statistics."
      ]
    },
    {
      "cell_type": "code",
      "source": [
        "student_data_por = # WRITE ME\n",
        "\n",
        "# WRITE ME"
      ],
      "metadata": {
        "id": "HCgX-X_zJa9V"
      },
      "execution_count": null,
      "outputs": []
    },
    {
      "cell_type": "markdown",
      "metadata": {
        "id": "IeYxpJD-9uWI"
      },
      "source": [
        "### 4-2.3.5 Box-and-whisker Plot\n",
        "Although, we have calculated the maximum, minimum, median, and interquartile range, it is difficult to make comparisons by simply looking at the numbers. That is when we can use **Box-and-whisker plot** to show them as a figure.\n",
        "\n",
        "The two examples below are box-and-whisker plots of “first term grade G1” and “number of absences,” respectively. You can see that they are quite different in characteristics.\n",
        "\n",
        "The top of the box is the third quartile, the bottom is the first quartile, and the middle line is the median. The top and bottom of the whiskers are the furthest data points within 1.5 times the interquartile range (IQR) from the box (https://matplotlib.org/stable/api/_as_gen/matplotlib.pyplot.boxplot.html).\n",
        "\n",
        "This will give you an idea of the range of data you are dealing with."
      ]
    },
    {
      "cell_type": "code",
      "execution_count": null,
      "metadata": {
        "colab": {
          "base_uri": "https://localhost:8080/",
          "height": 434
        },
        "id": "8hkuNAur9uWI",
        "outputId": "4939c52c-3d54-423e-b2f8-61319fac4744"
      },
      "outputs": [
        {
          "data": {
            "image/png": "[encoded data removed]",
            "text/plain": [
              "<Figure size 640x480 with 1 Axes>"
            ]
          },
          "metadata": {},
          "output_type": "display_data"
        }
      ],
      "source": [
        "# Box-and-whisker plot: G1\n",
        "plt.boxplot(student_data_math['G1'])\n",
        "plt.grid(True)"
      ]
    },
    {
      "cell_type": "code",
      "execution_count": null,
      "metadata": {
        "colab": {
          "base_uri": "https://localhost:8080/",
          "height": 434
        },
        "id": "Cvd3nPvk9uWI",
        "outputId": "814a2c66-b4a7-4ef5-e1ef-7df4bbbf4bd7",
        "scrolled": true
      },
      "outputs": [
        {
          "data": {
            "image/png": "[encoded data removed]",
            "text/plain": [
              "<Figure size 640x480 with 1 Axes>"
            ]
          },
          "metadata": {},
          "output_type": "display_data"
        }
      ],
      "source": [
        "# Box-and-whisker plot: Number of absences\n",
        "plt.boxplot(student_data_math['absences'])\n",
        "plt.grid(True)"
      ]
    },
    {
      "cell_type": "code",
      "execution_count": null,
      "metadata": {
        "colab": {
          "base_uri": "https://localhost:8080/",
          "height": 439
        },
        "id": "YtuAlHEEoKQt",
        "outputId": "cfcb9c63-b7ed-46b0-e8de-6a5bc9549b28"
      },
      "outputs": [
        {
          "data": {
            "image/png": "[encoded data removed]",
            "text/plain": [
              "<Figure size 640x480 with 1 Axes>"
            ]
          },
          "metadata": {},
          "output_type": "display_data"
        }
      ],
      "source": [
        "# Histogram\n",
        "plt.hist(student_data_math['absences'])\n",
        "plt.grid(True)"
      ]
    },
    {
      "cell_type": "markdown",
      "metadata": {
        "id": "AMvqOTo49uWI"
      },
      "source": [
        "Note that outliers of the data would also be displayed by default. To omit outliers, you must specify `sym=“”`.\n",
        "\n",
        "Outliers are also called anomalies, and they do not have a particular definition. It is sometimes determined by the conventions of each industry. The graph above omits outliers, but there are times when they are not omitted. We will not go into details about outliers and anomalies, as they are beyond the level of this document."
      ]
    },
    {
      "cell_type": "markdown",
      "metadata": {
        "id": "Y8Wa8AQN9uWJ"
      },
      "source": [
        "You can draw a box-and-whisker plot with other variables, so let's do that."
      ]
    },
    {
      "cell_type": "markdown",
      "metadata": {
        "id": "l9dH3wJV9uWJ"
      },
      "source": [
        ">**[Let's try!]**\n",
        ">\n",
        ">Display box-and-whisker plots for the other variables as well. What does it look like? Think about what we can learn from it."
      ]
    },
    {
      "cell_type": "markdown",
      "metadata": {
        "id": "51nn61qF9uWJ"
      },
      "source": [
        "Multiple box-and-whisker plots can be displayed side to side as shown below."
      ]
    },
    {
      "cell_type": "code",
      "execution_count": null,
      "metadata": {
        "colab": {
          "base_uri": "https://localhost:8080/",
          "height": 434
        },
        "id": "H0XVk4By9uWJ",
        "outputId": "d32ef278-57e5-474b-a949-315089103ac7",
        "scrolled": true
      },
      "outputs": [
        {
          "data": {
            "image/png": "[encoded data removed]",
            "text/plain": [
              "<Figure size 640x480 with 1 Axes>"
            ]
          },
          "metadata": {},
          "output_type": "display_data"
        }
      ],
      "source": [
        "# Box-and-whisker plots: G1,G2,G3\n",
        "plt.boxplot([student_data_math['G1'], student_data_math['G2'], student_data_math['G3']])\n",
        "plt.grid(True)"
      ]
    },
    {
      "cell_type": "markdown",
      "source": [
        "#### <Practice Question 4-2-2*>\n",
        "\n",
        "`sns.boxplot()` can be used to plot box-and-whisker plot directly from the dataset. Specifying `x` and `y` argument, you can group the data on the `y` column and visualize the box-and-whisker plot of the `x` column.\n",
        "\n",
        "Using this, make a side-by-side box-and-whisker plot of the final Portugese grade, `G3`, by grouping on (1) `Dalc` column, which represent level of alcohol consumption on weekdays, and (2) `Walc` column, which represent level of alcohol consumption on weekends. What insights can you see from the graph?"
      ],
      "metadata": {
        "id": "HTuKe7s4VEFx"
      }
    },
    {
      "cell_type": "code",
      "source": [
        "plt.figure(figsize=(12,5))\n",
        "\n",
        "plt.subplot(1,2,1)\n",
        "# WRITE ME\n",
        "\n",
        "# WRITE ME"
      ],
      "metadata": {
        "id": "nC37PE6PVF86"
      },
      "execution_count": null,
      "outputs": []
    },
    {
      "cell_type": "markdown",
      "metadata": {
        "id": "QPrF03gF9uWJ"
      },
      "source": [
        "### 4-2.3.6 Coefficient of Variation\n",
        "Next, we will discuss the **coefficient of variation**.\n",
        "\n",
        "We have looked at variance and standard deviation, but these cannot be simply compared for different types of data. This is because the deviation tends to be larger for data with a larger size. For example, let us calculate the standard deviation of stock prices (e.g., Nikkei 225) and the standard deviation of exchange rates (e.g., dollar-yen), respectively. It is nonsense to directly compare these two standard deviations. The reason is that the Nikkei average, which moves around 20,000 yen, and the standard deviation of an exchange rate, which moves around 100 yen, are on different scales.\n",
        "\n",
        "This is where the coefficient of variation comes in. The coefficient of variation is the standard deviation divided by the mean. This value allows for scale-independent comparisons. Variables are commonly denoted by $CV$."
      ]
    },
    {
      "cell_type": "markdown",
      "metadata": {
        "id": "dScvKydv9uWK"
      },
      "source": [
        "\\begin{eqnarray}\n",
        "CV = \\frac{\\sigma}{\\overline{x}}\\\n",
        "\\end{eqnarray}"
      ]
    },
    {
      "cell_type": "code",
      "execution_count": null,
      "metadata": {
        "colab": {
          "base_uri": "https://localhost:8080/"
        },
        "id": "UDt961-h9uWK",
        "outputId": "c2e071a9-4f3f-45b3-97d7-ba36ca40b7fc"
      },
      "outputs": [
        {
          "data": {
            "text/plain": [
              "1.4018726369879067"
            ]
          },
          "execution_count": 30,
          "metadata": {},
          "output_type": "execute_result"
        }
      ],
      "source": [
        "# Coefficient of variation: number of absences\n",
        "student_data_math['absences'].std() / student_data_math['absences'].mean()"
      ]
    },
    {
      "cell_type": "markdown",
      "metadata": {
        "id": "YYUXUXg09uWK"
      },
      "source": [
        "Note that the coefficient of variation cannot be output as a result of `describe()`, but it can be calculated at once by doing the following. Pandas DataFrame (or Numpy) can be calculated for each element. The results show that the data for the number of failures and absences are highly scattered."
      ]
    },
    {
      "cell_type": "code",
      "execution_count": null,
      "metadata": {
        "colab": {
          "base_uri": "https://localhost:8080/",
          "height": 585
        },
        "id": "xQtQbarr9uWK",
        "outputId": "012237a8-ddca-402c-f350-841c21ecf70b"
      },
      "outputs": [
        {
          "data": {
            "text/html": [
              "<div>\n",
              "<style scoped>\n",
              "    .dataframe tbody tr th:only-of-type {\n",
              "        vertical-align: middle;\n",
              "    }\n",
              "\n",
              "    .dataframe tbody tr th {\n",
              "        vertical-align: top;\n",
              "    }\n",
              "\n",
              "    .dataframe thead th {\n",
              "        text-align: right;\n",
              "    }\n",
              "</style>\n",
              "<table border=\"1\" class=\"dataframe\">\n",
              "  <thead>\n",
              "    <tr style=\"text-align: right;\">\n",
              "      <th></th>\n",
              "      <th>0</th>\n",
              "    </tr>\n",
              "  </thead>\n",
              "  <tbody>\n",
              "    <tr>\n",
              "      <th>age</th>\n",
              "      <td>0.076427</td>\n",
              "    </tr>\n",
              "    <tr>\n",
              "      <th>Medu</th>\n",
              "      <td>0.398177</td>\n",
              "    </tr>\n",
              "    <tr>\n",
              "      <th>Fedu</th>\n",
              "      <td>0.431565</td>\n",
              "    </tr>\n",
              "    <tr>\n",
              "      <th>traveltime</th>\n",
              "      <td>0.481668</td>\n",
              "    </tr>\n",
              "    <tr>\n",
              "      <th>studytime</th>\n",
              "      <td>0.412313</td>\n",
              "    </tr>\n",
              "    <tr>\n",
              "      <th>failures</th>\n",
              "      <td>2.225319</td>\n",
              "    </tr>\n",
              "    <tr>\n",
              "      <th>famrel</th>\n",
              "      <td>0.227330</td>\n",
              "    </tr>\n",
              "    <tr>\n",
              "      <th>freetime</th>\n",
              "      <td>0.308725</td>\n",
              "    </tr>\n",
              "    <tr>\n",
              "      <th>goout</th>\n",
              "      <td>0.358098</td>\n",
              "    </tr>\n",
              "    <tr>\n",
              "      <th>Dalc</th>\n",
              "      <td>0.601441</td>\n",
              "    </tr>\n",
              "    <tr>\n",
              "      <th>Walc</th>\n",
              "      <td>0.562121</td>\n",
              "    </tr>\n",
              "    <tr>\n",
              "      <th>health</th>\n",
              "      <td>0.391147</td>\n",
              "    </tr>\n",
              "    <tr>\n",
              "      <th>absences</th>\n",
              "      <td>1.401873</td>\n",
              "    </tr>\n",
              "    <tr>\n",
              "      <th>G1</th>\n",
              "      <td>0.304266</td>\n",
              "    </tr>\n",
              "    <tr>\n",
              "      <th>G2</th>\n",
              "      <td>0.351086</td>\n",
              "    </tr>\n",
              "    <tr>\n",
              "      <th>G3</th>\n",
              "      <td>0.439881</td>\n",
              "    </tr>\n",
              "  </tbody>\n",
              "</table>\n",
              "</div><br><label><b>dtype:</b> float64</label>"
            ],
            "text/plain": [
              "age           0.076427\n",
              "Medu          0.398177\n",
              "Fedu          0.431565\n",
              "traveltime    0.481668\n",
              "studytime     0.412313\n",
              "failures      2.225319\n",
              "famrel        0.227330\n",
              "freetime      0.308725\n",
              "goout         0.358098\n",
              "Dalc          0.601441\n",
              "Walc          0.562121\n",
              "health        0.391147\n",
              "absences      1.401873\n",
              "G1            0.304266\n",
              "G2            0.351086\n",
              "G3            0.439881\n",
              "dtype: float64"
            ]
          },
          "execution_count": 31,
          "metadata": {},
          "output_type": "execute_result"
        }
      ],
      "source": [
        "# Calculate the coefficient of variation for each together\n",
        "student_data_math.std(numeric_only=True) / student_data_math.mean(numeric_only=True)"
      ]
    },
    {
      "cell_type": "markdown",
      "metadata": {
        "id": "7AnxlyqY9uWK"
      },
      "source": [
        "### 4-2.3.7 Scatter Plots and Correlation Coefficients\n",
        "\n",
        "So far we have focused on only one variable to calculate graphs and summary statistics. Next, let's learn about scatter plots and correlation coefficients in order to see the relationships among variables.\n",
        "\n",
        "The following scatterplot shows the relationship between the first term grade G1 and the final grade G3."
      ]
    },
    {
      "cell_type": "code",
      "execution_count": null,
      "metadata": {
        "colab": {
          "base_uri": "https://localhost:8080/",
          "height": 458
        },
        "id": "P_EvUmDV9uWL",
        "outputId": "be6d7f92-77d2-4b35-9281-5b3a7604e2a0"
      },
      "outputs": [
        {
          "data": {
            "image/png": "[encoded data removed]",
            "text/plain": [
              "<Figure size 640x480 with 1 Axes>"
            ]
          },
          "metadata": {},
          "output_type": "display_data"
        }
      ],
      "source": [
        "# Scatter Plots\n",
        "plt.plot(student_data_math['G1'], student_data_math['G3'], 'o')\n",
        "\n",
        "# Label\n",
        "plt.ylabel('G3 grade')\n",
        "plt.xlabel('G1 grade')\n",
        "plt.grid(True)"
      ]
    },
    {
      "cell_type": "markdown",
      "metadata": {
        "id": "L55bk-8J9uWL"
      },
      "source": [
        "It is natural that those who have better results from the beginning (higher G1 values) also have better results later (higher G3 values), but the graph clearly shows this as a trend.\n",
        "To add, if you look closely at this graph, you will see that some people have a final grade (G3) of 0. Since there was no one with a score of 0 in the first term, we cannot determine whether this is an outlier or a correct value just by looking at the data. However, since the G3 score ranges from 0 to 20, we can assume it is a correct value and continue on (The G3 score is calculated by the aforementioned student. The G3 grade scores can be found by checking the “G3” column in the result of student_data_math.describe() mentioned before).\n",
        "\n",
        "In the business world, we will interview people who are familiar with the data and with the people involved in order to have a better understanding of the data. There are many ways to deal with deficiencies of data, such as missing values, which we will learn about in later chapters."
      ]
    },
    {
      "cell_type": "markdown",
      "metadata": {
        "id": "hzCRWCJh9uWL"
      },
      "source": [
        "#### Covariance\n",
        "Next, we will consider quantifying the relationship between two variables. **Covaricance** is a measure for looking at the relationship between two variables which is defined as below. The covariance is $S_{xy}$ and shows the relationship between the two variables, $x, y$."
      ]
    },
    {
      "cell_type": "markdown",
      "metadata": {
        "id": "sGfSuRtZ9uWL"
      },
      "source": [
        "\\begin{eqnarray}\n",
        "S_{xy} = \\frac{1}{n}\\displaystyle \\sum_{i = 1}^n (x_i - \\overline{x})\n",
        "(y_i - \\overline{y})\n",
        "\\end{eqnarray}"
      ]
    },
    {
      "cell_type": "markdown",
      "metadata": {
        "id": "2JYInKTC9uWL"
      },
      "source": [
        "Covariance is the average of the product of the deviations of two sets of variables. It is used when considering the variance of two or more sets of variables. Numpy has a function to calculate the matrix of covariance (covariance matrix), which can be obtained using the `cov` function as follows. In the following code, the covariance of G1 and G3 is being calculated.\n"
      ]
    },
    {
      "cell_type": "code",
      "execution_count": null,
      "metadata": {
        "colab": {
          "base_uri": "https://localhost:8080/"
        },
        "id": "2N_kp6BM9uWL",
        "outputId": "2465025a-fd55-406a-bf37-9c70f82b5cbf",
        "scrolled": true
      },
      "outputs": [
        {
          "data": {
            "text/plain": [
              "array([[11.017, 12.188],\n",
              "       [12.188, 20.99 ]])"
            ]
          },
          "execution_count": 33,
          "metadata": {},
          "output_type": "execute_result"
        }
      ],
      "source": [
        "# Covariance matrix\n",
        "np.cov(student_data_math['G1'], student_data_math['G3'])"
      ]
    },
    {
      "cell_type": "markdown",
      "metadata": {
        "id": "MWQ1za2Q9uWM"
      },
      "source": [
        "The meaning of the resulting matrices is as follows\n",
        "\n",
        "- Covariance of G1 and G3 ... the $(1,2)$ and $(2,1)$ elements of the covariance matrix. In the example above, the value is 12.188.\n",
        "- Variance of G1 ... is the $(1,1)$ element of the covariance matrix. In the example above, it is 11.017.\n",
        "- Variance of G3 ... $(2,2)$ element of the covariance matrix. In the example above, it is 20.99.\n",
        "\n",
        "The variances of G1 and G3, respectively, can be calculated with the `var` function as explained before. When you calculate them, you will see that the values match."
      ]
    },
    {
      "cell_type": "code",
      "execution_count": null,
      "metadata": {
        "colab": {
          "base_uri": "https://localhost:8080/"
        },
        "id": "1qkxMNYM9uWM",
        "outputId": "62bf2108-f51a-41c1-e942-bd5a4bbf2c0e"
      },
      "outputs": [
        {
          "output_type": "stream",
          "name": "stdout",
          "text": [
            "G1 variance: 11.017053267364899\n",
            "G3 variance: 20.989616397866737\n"
          ]
        }
      ],
      "source": [
        "# Variange\n",
        "print('G1 variance:', student_data_math['G1'].var())\n",
        "print('G3 variance:', student_data_math['G3'].var())"
      ]
    },
    {
      "cell_type": "markdown",
      "metadata": {
        "id": "sJ530x7O9uWM"
      },
      "source": [
        "#### Correlation Coefficient\n",
        "\n",
        "According to its definition, covariance is dependent on the scale and units of each variable. On the other hand, the correlation coefficient quantifies the relationship between two variables without being affected by their scales. The formula that divides the covariance by the standard deviation of each variable (here $ x $ and $ y $) is the correlation coefficient. Its definition is as follows. The correlation coefficient is commonly denoted by $r_{xy}$."
      ]
    },
    {
      "cell_type": "markdown",
      "metadata": {
        "id": "9drgdDdL9uWM"
      },
      "source": [
        "\\begin{eqnarray}\n",
        "r_{xy} = \\frac{\\displaystyle \\sum_{i = 1}^n (x_i - \\overline{x})\n",
        "(y_i - \\overline{y})}{\\sqrt{\\displaystyle \\sum_{i = 1}^n\n",
        "(x_i - \\overline{x})^2}\\sqrt{\\displaystyle \\sum_{i = 1}^n\n",
        "(y_i - \\overline{y})^2}}\n",
        "\\end{eqnarray}"
      ]
    },
    {
      "cell_type": "markdown",
      "metadata": {
        "id": "4UjsHldB9uWN"
      },
      "source": [
        "The correlation coefficient takes values between -1 and 1. The closer it is to 1, the stronger the **positive correlation**. The closer it is to -1, the stronger the **negative correlation**. If it is close to 0, it is said to have **no correlation**."
      ]
    },
    {
      "cell_type": "markdown",
      "metadata": {
        "id": "iXaf63Ph9uWN"
      },
      "source": [
        "In Python, you can calculate the correlation coefficient between two variables using Scipy's pearsonr function. For example, you can compute the correlation coefficient between G1 and G3 like this. When simply referring to the correlation function in data analysis, it generally means the Pearson function."
      ]
    },
    {
      "cell_type": "code",
      "execution_count": null,
      "metadata": {
        "colab": {
          "base_uri": "https://localhost:8080/"
        },
        "id": "BiROaNiP9uWN",
        "outputId": "f24d7b2e-00b1-4dad-b07a-40c7e99704d5"
      },
      "outputs": [
        {
          "data": {
            "text/plain": [
              "PearsonRResult(statistic=0.8014679320174141, pvalue=9.00143031227676e-90)"
            ]
          },
          "execution_count": 35,
          "metadata": {},
          "output_type": "execute_result"
        }
      ],
      "source": [
        "sp.stats.pearsonr(student_data_math['G1'], student_data_math['G3'])"
      ]
    },
    {
      "cell_type": "markdown",
      "metadata": {
        "id": "pPnb1h4s9uWN"
      },
      "source": [
        "The result was a high number, showing a correlation of '0.8'. The second value in the calculation result is called the p-value, which is explained in detail in '4.7.1 Hypothesis Testing'."
      ]
    },
    {
      "cell_type": "markdown",
      "metadata": {
        "id": "syiM9-2k9uWN"
      },
      "source": [
        "Note that there is no strictly high or low number for this number, and just because it is high does not mean that there is a **causal relationship**.\n",
        "\n",
        "(Although it is not covered in detail in this course, if you want to understand the causal relationship, we will use an approach called **design of experiment**. For example, if you want to know whether a certain marketing measure was effective or not after viewing an advertisement, you divide the group into two groups: a treatment group that is shown the advertisement and a control group that is not shown any advertisement, and then calculate the ratio of the two groups)."
      ]
    },
    {
      "cell_type": "markdown",
      "metadata": {
        "id": "iqWFtTan9uWN"
      },
      "source": [
        "The following calculation calculates the correlation matrix. For each variable, the correlation coefficient is calculated for all combinations. Since the correlation coefficient between G1 and G3 as shown earlier is 0.801, and the correlation coefficient for itself is obviously 1, this result is obvious."
      ]
    },
    {
      "cell_type": "code",
      "execution_count": null,
      "metadata": {
        "colab": {
          "base_uri": "https://localhost:8080/"
        },
        "id": "UveNuPzA9uWO",
        "outputId": "8149d5a6-6bd7-434b-f5ff-16cc233d8412"
      },
      "outputs": [
        {
          "data": {
            "text/plain": [
              "array([[1.   , 0.801],\n",
              "       [0.801, 1.   ]])"
            ]
          },
          "execution_count": 36,
          "metadata": {},
          "output_type": "execute_result"
        }
      ],
      "source": [
        "# Correlation matrix\n",
        "np.corrcoef([student_data_math['G1'], student_data_math['G3']])"
      ]
    },
    {
      "cell_type": "markdown",
      "metadata": {
        "id": "Kv6BgRcGpK9F"
      },
      "source": [
        "Note that a correlation matrix can also be created in Pandas as follows."
      ]
    },
    {
      "cell_type": "code",
      "execution_count": null,
      "metadata": {
        "colab": {
          "base_uri": "https://localhost:8080/",
          "height": 112
        },
        "id": "0F46ZCwppPf-",
        "outputId": "2c61d31d-58ad-449b-cd23-a1d57a839bb8"
      },
      "outputs": [
        {
          "data": {
            "application/vnd.google.colaboratory.intrinsic+json": {
              "summary": "{\n  \"name\": \"student_data_math[['G1', 'G3']]\",\n  \"rows\": 2,\n  \"fields\": [\n    {\n      \"column\": \"G1\",\n      \"properties\": {\n        \"dtype\": \"number\",\n        \"std\": 0.14038337155347486,\n        \"min\": 0.8014679320174145,\n        \"max\": 1.0,\n        \"num_unique_values\": 2,\n        \"samples\": [\n          0.8014679320174145,\n          1.0\n        ],\n        \"semantic_type\": \"\",\n        \"description\": \"\"\n      }\n    },\n    {\n      \"column\": \"G3\",\n      \"properties\": {\n        \"dtype\": \"number\",\n        \"std\": 0.14038337155347486,\n        \"min\": 0.8014679320174145,\n        \"max\": 1.0,\n        \"num_unique_values\": 2,\n        \"samples\": [\n          1.0,\n          0.8014679320174145\n        ],\n        \"semantic_type\": \"\",\n        \"description\": \"\"\n      }\n    }\n  ]\n}",
              "type": "dataframe"
            },
            "text/html": [
              "\n",
              "  <div id=\"df-32b67449-2aeb-4626-937c-9b00e1a07dae\" class=\"colab-df-container\">\n",
              "    <div>\n",
              "<style scoped>\n",
              "    .dataframe tbody tr th:only-of-type {\n",
              "        vertical-align: middle;\n",
              "    }\n",
              "\n",
              "    .dataframe tbody tr th {\n",
              "        vertical-align: top;\n",
              "    }\n",
              "\n",
              "    .dataframe thead th {\n",
              "        text-align: right;\n",
              "    }\n",
              "</style>\n",
              "<table border=\"1\" class=\"dataframe\">\n",
              "  <thead>\n",
              "    <tr style=\"text-align: right;\">\n",
              "      <th></th>\n",
              "      <th>G1</th>\n",
              "      <th>G3</th>\n",
              "    </tr>\n",
              "  </thead>\n",
              "  <tbody>\n",
              "    <tr>\n",
              "      <th>G1</th>\n",
              "      <td>1.000000</td>\n",
              "      <td>0.801468</td>\n",
              "    </tr>\n",
              "    <tr>\n",
              "      <th>G3</th>\n",
              "      <td>0.801468</td>\n",
              "      <td>1.000000</td>\n",
              "    </tr>\n",
              "  </tbody>\n",
              "</table>\n",
              "</div>\n",
              "    <div class=\"colab-df-buttons\">\n",
              "\n",
              "  <div class=\"colab-df-container\">\n",
              "    <button class=\"colab-df-convert\" onclick=\"convertToInteractive('df-32b67449-2aeb-4626-937c-9b00e1a07dae')\"\n",
              "            title=\"Convert this dataframe to an interactive table.\"\n",
              "            style=\"display:none;\">\n",
              "\n",
              "  <svg xmlns=\"http://www.w3.org/2000/svg\" height=\"24px\" viewBox=\"0 -960 960 960\">\n",
              "    <path d=\"M120-120v-720h720v720H120Zm60-500h600v-160H180v160Zm220 220h160v-160H400v160Zm0 220h160v-160H400v160ZM180-400h160v-160H180v160Zm440 0h160v-160H620v160ZM180-180h160v-160H180v160Zm440 0h160v-160H620v160Z\"/>\n",
              "  </svg>\n",
              "    </button>\n",
              "\n",
              "  <style>\n",
              "    .colab-df-container {\n",
              "      display:flex;\n",
              "      gap: 12px;\n",
              "    }\n",
              "\n",
              "    .colab-df-convert {\n",
              "      background-color: #E8F0FE;\n",
              "      border: none;\n",
              "      border-radius: 50%;\n",
              "      cursor: pointer;\n",
              "      display: none;\n",
              "      fill: #1967D2;\n",
              "      height: 32px;\n",
              "      padding: 0 0 0 0;\n",
              "      width: 32px;\n",
              "    }\n",
              "\n",
              "    .colab-df-convert:hover {\n",
              "      background-color: #E2EBFA;\n",
              "      box-shadow: 0px 1px 2px rgba(60, 64, 67, 0.3), 0px 1px 3px 1px rgba(60, 64, 67, 0.15);\n",
              "      fill: #174EA6;\n",
              "    }\n",
              "\n",
              "    .colab-df-buttons div {\n",
              "      margin-bottom: 4px;\n",
              "    }\n",
              "\n",
              "    [theme=dark] .colab-df-convert {\n",
              "      background-color: #3B4455;\n",
              "      fill: #D2E3FC;\n",
              "    }\n",
              "\n",
              "    [theme=dark] .colab-df-convert:hover {\n",
              "      background-color: #434B5C;\n",
              "      box-shadow: 0px 1px 3px 1px rgba(0, 0, 0, 0.15);\n",
              "      filter: drop-shadow(0px 1px 2px rgba(0, 0, 0, 0.3));\n",
              "      fill: #FFFFFF;\n",
              "    }\n",
              "  </style>\n",
              "\n",
              "    <script>\n",
              "      const buttonEl =\n",
              "        document.querySelector('#df-32b67449-2aeb-4626-937c-9b00e1a07dae button.colab-df-convert');\n",
              "      buttonEl.style.display =\n",
              "        google.colab.kernel.accessAllowed ? 'block' : 'none';\n",
              "\n",
              "      async function convertToInteractive(key) {\n",
              "        const element = document.querySelector('#df-32b67449-2aeb-4626-937c-9b00e1a07dae');\n",
              "        const dataTable =\n",
              "          await google.colab.kernel.invokeFunction('convertToInteractive',\n",
              "                                                    [key], {});\n",
              "        if (!dataTable) return;\n",
              "\n",
              "        const docLinkHtml = 'Like what you see? Visit the ' +\n",
              "          '<a target=\"_blank\" href=https://colab.research.google.com/notebooks/data_table.ipynb>data table notebook</a>'\n",
              "          + ' to learn more about interactive tables.';\n",
              "        element.innerHTML = '';\n",
              "        dataTable['output_type'] = 'display_data';\n",
              "        await google.colab.output.renderOutput(dataTable, element);\n",
              "        const docLink = document.createElement('div');\n",
              "        docLink.innerHTML = docLinkHtml;\n",
              "        element.appendChild(docLink);\n",
              "      }\n",
              "    </script>\n",
              "  </div>\n",
              "\n",
              "\n",
              "<div id=\"df-0ee52b10-534f-4ca2-aabb-237c3c106b07\">\n",
              "  <button class=\"colab-df-quickchart\" onclick=\"quickchart('df-0ee52b10-534f-4ca2-aabb-237c3c106b07')\"\n",
              "            title=\"Suggest charts\"\n",
              "            style=\"display:none;\">\n",
              "\n",
              "<svg xmlns=\"http://www.w3.org/2000/svg\" height=\"24px\"viewBox=\"0 0 24 24\"\n",
              "     width=\"24px\">\n",
              "    <g>\n",
              "        <path d=\"M19 3H5c-1.1 0-2 .9-2 2v14c0 1.1.9 2 2 2h14c1.1 0 2-.9 2-2V5c0-1.1-.9-2-2-2zM9 17H7v-7h2v7zm4 0h-2V7h2v10zm4 0h-2v-4h2v4z\"/>\n",
              "    </g>\n",
              "</svg>\n",
              "  </button>\n",
              "\n",
              "<style>\n",
              "  .colab-df-quickchart {\n",
              "      --bg-color: #E8F0FE;\n",
              "      --fill-color: #1967D2;\n",
              "      --hover-bg-color: #E2EBFA;\n",
              "      --hover-fill-color: #174EA6;\n",
              "      --disabled-fill-color: #AAA;\n",
              "      --disabled-bg-color: #DDD;\n",
              "  }\n",
              "\n",
              "  [theme=dark] .colab-df-quickchart {\n",
              "      --bg-color: #3B4455;\n",
              "      --fill-color: #D2E3FC;\n",
              "      --hover-bg-color: #434B5C;\n",
              "      --hover-fill-color: #FFFFFF;\n",
              "      --disabled-bg-color: #3B4455;\n",
              "      --disabled-fill-color: #666;\n",
              "  }\n",
              "\n",
              "  .colab-df-quickchart {\n",
              "    background-color: var(--bg-color);\n",
              "    border: none;\n",
              "    border-radius: 50%;\n",
              "    cursor: pointer;\n",
              "    display: none;\n",
              "    fill: var(--fill-color);\n",
              "    height: 32px;\n",
              "    padding: 0;\n",
              "    width: 32px;\n",
              "  }\n",
              "\n",
              "  .colab-df-quickchart:hover {\n",
              "    background-color: var(--hover-bg-color);\n",
              "    box-shadow: 0 1px 2px rgba(60, 64, 67, 0.3), 0 1px 3px 1px rgba(60, 64, 67, 0.15);\n",
              "    fill: var(--button-hover-fill-color);\n",
              "  }\n",
              "\n",
              "  .colab-df-quickchart-complete:disabled,\n",
              "  .colab-df-quickchart-complete:disabled:hover {\n",
              "    background-color: var(--disabled-bg-color);\n",
              "    fill: var(--disabled-fill-color);\n",
              "    box-shadow: none;\n",
              "  }\n",
              "\n",
              "  .colab-df-spinner {\n",
              "    border: 2px solid var(--fill-color);\n",
              "    border-color: transparent;\n",
              "    border-bottom-color: var(--fill-color);\n",
              "    animation:\n",
              "      spin 1s steps(1) infinite;\n",
              "  }\n",
              "\n",
              "  @keyframes spin {\n",
              "    0% {\n",
              "      border-color: transparent;\n",
              "      border-bottom-color: var(--fill-color);\n",
              "      border-left-color: var(--fill-color);\n",
              "    }\n",
              "    20% {\n",
              "      border-color: transparent;\n",
              "      border-left-color: var(--fill-color);\n",
              "      border-top-color: var(--fill-color);\n",
              "    }\n",
              "    30% {\n",
              "      border-color: transparent;\n",
              "      border-left-color: var(--fill-color);\n",
              "      border-top-color: var(--fill-color);\n",
              "      border-right-color: var(--fill-color);\n",
              "    }\n",
              "    40% {\n",
              "      border-color: transparent;\n",
              "      border-right-color: var(--fill-color);\n",
              "      border-top-color: var(--fill-color);\n",
              "    }\n",
              "    60% {\n",
              "      border-color: transparent;\n",
              "      border-right-color: var(--fill-color);\n",
              "    }\n",
              "    80% {\n",
              "      border-color: transparent;\n",
              "      border-right-color: var(--fill-color);\n",
              "      border-bottom-color: var(--fill-color);\n",
              "    }\n",
              "    90% {\n",
              "      border-color: transparent;\n",
              "      border-bottom-color: var(--fill-color);\n",
              "    }\n",
              "  }\n",
              "</style>\n",
              "\n",
              "  <script>\n",
              "    async function quickchart(key) {\n",
              "      const quickchartButtonEl =\n",
              "        document.querySelector('#' + key + ' button');\n",
              "      quickchartButtonEl.disabled = true;  // To prevent multiple clicks.\n",
              "      quickchartButtonEl.classList.add('colab-df-spinner');\n",
              "      try {\n",
              "        const charts = await google.colab.kernel.invokeFunction(\n",
              "            'suggestCharts', [key], {});\n",
              "      } catch (error) {\n",
              "        console.error('Error during call to suggestCharts:', error);\n",
              "      }\n",
              "      quickchartButtonEl.classList.remove('colab-df-spinner');\n",
              "      quickchartButtonEl.classList.add('colab-df-quickchart-complete');\n",
              "    }\n",
              "    (() => {\n",
              "      let quickchartButtonEl =\n",
              "        document.querySelector('#df-0ee52b10-534f-4ca2-aabb-237c3c106b07 button');\n",
              "      quickchartButtonEl.style.display =\n",
              "        google.colab.kernel.accessAllowed ? 'block' : 'none';\n",
              "    })();\n",
              "  </script>\n",
              "</div>\n",
              "\n",
              "    </div>\n",
              "  </div>\n"
            ],
            "text/plain": [
              "          G1        G3\n",
              "G1  1.000000  0.801468\n",
              "G3  0.801468  1.000000"
            ]
          },
          "execution_count": 37,
          "metadata": {},
          "output_type": "execute_result"
        }
      ],
      "source": [
        "# Correlation matrix in Pandas\n",
        "student_data_math[['G1', 'G3']].corr()"
      ]
    },
    {
      "cell_type": "code",
      "execution_count": null,
      "metadata": {
        "colab": {
          "base_uri": "https://localhost:8080/",
          "height": 551
        },
        "id": "Xw29IFbNpFPn",
        "outputId": "b6a892f6-f9e8-4829-dbb1-fb4f576af2c2"
      },
      "outputs": [
        {
          "data": {
            "application/vnd.google.colaboratory.intrinsic+json": {
              "summary": "{\n  \"name\": \"student_data_math\",\n  \"rows\": 16,\n  \"fields\": [\n    {\n      \"column\": \"age\",\n      \"properties\": {\n        \"dtype\": \"number\",\n        \"std\": 0.27899115447663264,\n        \"min\": -0.16365841893281538,\n        \"max\": 1.0,\n        \"num_unique_values\": 16,\n        \"samples\": [\n          1.0,\n          -0.16365841893281538,\n          0.24366537664171947\n        ],\n        \"semantic_type\": \"\",\n        \"description\": \"\"\n      }\n    },\n    {\n      \"column\": \"Medu\",\n      \"properties\": {\n        \"dtype\": \"number\",\n        \"std\": 0.310048953418531,\n        \"min\": -0.23667996261654226,\n        \"max\": 1.0,\n        \"num_unique_values\": 16,\n        \"samples\": [\n          -0.16365841893281538,\n          1.0,\n          -0.23667996261654226\n        ],\n        \"semantic_type\": \"\",\n        \"description\": \"\"\n      }\n    },\n    {\n      \"column\": \"Fedu\",\n      \"properties\": {\n        \"dtype\": \"number\",\n        \"std\": 0.3089030655743454,\n        \"min\": -0.2504084444567766,\n        \"max\": 1.0,\n        \"num_unique_values\": 16,\n        \"samples\": [\n          -0.16343806892527832,\n          0.6234551120806472,\n          -0.2504084444567766\n        ],\n        \"semantic_type\": \"\",\n        \"description\": \"\"\n      }\n    },\n    {\n      \"column\": \"traveltime\",\n      \"properties\": {\n        \"dtype\": \"number\",\n        \"std\": 0.2754273594774104,\n        \"min\": -0.17163930469702876,\n        \"max\": 1.0,\n        \"num_unique_values\": 16,\n        \"samples\": [\n          0.07064072116452645,\n          -0.17163930469702876,\n          0.09223874620951138\n        ],\n        \"semantic_type\": \"\",\n        \"description\": \"\"\n      }\n    },\n    {\n      \"column\": \"studytime\",\n      \"properties\": {\n        \"dtype\": \"number\",\n        \"std\": 0.28592383116138154,\n        \"min\": -0.25378473083028324,\n        \"max\": 1.0,\n        \"num_unique_values\": 16,\n        \"samples\": [\n          -0.004140036816186605,\n          0.06494413671030157,\n          -0.17356303141597568\n        ],\n        \"semantic_type\": \"\",\n        \"description\": \"\"\n      }\n    },\n    {\n      \"column\": \"failures\",\n      \"properties\": {\n        \"dtype\": \"number\",\n        \"std\": 0.3336660036257512,\n        \"min\": -0.3604149404616496,\n        \"max\": 1.0,\n        \"num_unique_values\": 16,\n        \"samples\": [\n          0.24366537664171947,\n          -0.23667996261654226,\n          1.0\n        ],\n        \"semantic_type\": \"\",\n        \"description\": \"\"\n      }\n    },\n    {\n      \"column\": \"famrel\",\n      \"properties\": {\n        \"dtype\": \"number\",\n        \"std\": 0.2560210544575372,\n        \"min\": -0.1133973083665762,\n        \"max\": 1.0,\n        \"num_unique_values\": 16,\n        \"samples\": [\n          0.053940095877441,\n          -0.003914458428754279,\n          -0.044336626265435164\n        ],\n        \"semantic_type\": \"\",\n        \"description\": \"\"\n      }\n    },\n    {\n      \"column\": \"freetime\",\n      \"properties\": {\n        \"dtype\": \"number\",\n        \"std\": 0.2595147187665953,\n        \"min\": -0.14319840716795174,\n        \"max\": 1.0,\n        \"num_unique_values\": 16,\n        \"samples\": [\n          0.016434388838665794,\n          0.030890866567408127,\n          0.09198747098855871\n        ],\n        \"semantic_type\": \"\",\n        \"description\": \"\"\n      }\n    },\n    {\n      \"column\": \"goout\",\n      \"properties\": {\n        \"dtype\": \"number\",\n        \"std\": 0.28358209561639824,\n        \"min\": -0.16225003415973224,\n        \"max\": 1.0,\n        \"num_unique_values\": 16,\n        \"samples\": [\n          0.12696387964294487,\n          0.06409443819310288,\n          0.12456092193402658\n        ],\n        \"semantic_type\": \"\",\n        \"description\": \"\"\n      }\n    },\n    {\n      \"column\": \"Dalc\",\n      \"properties\": {\n        \"dtype\": \"number\",\n        \"std\": 0.30010354760067404,\n        \"min\": -0.19601926349476018,\n        \"max\": 1.0,\n        \"num_unique_values\": 16,\n        \"samples\": [\n          0.13112460471754972,\n          0.019834098565639165,\n          0.13604693121654635\n        ],\n        \"semantic_type\": \"\",\n        \"description\": \"\"\n      }\n    },\n    {\n      \"column\": \"Walc\",\n      \"properties\": {\n        \"dtype\": \"number\",\n        \"std\": 0.31770507894589617,\n        \"min\": -0.25378473083028324,\n        \"max\": 1.0,\n        \"num_unique_values\": 16,\n        \"samples\": [\n          0.11727605242651365,\n          -0.047123459694851065,\n          0.14196202998571514\n        ],\n        \"semantic_type\": \"\",\n        \"description\": \"\"\n      }\n    },\n    {\n      \"column\": \"health\",\n      \"properties\": {\n        \"dtype\": \"number\",\n        \"std\": 0.25899733551963755,\n        \"min\": -0.09771986553990955,\n        \"max\": 1.0,\n        \"num_unique_values\": 16,\n        \"samples\": [\n          -0.06218736851745052,\n          -0.046877829401666286,\n          0.06582728172101748\n        ],\n        \"semantic_type\": \"\",\n        \"description\": \"\"\n      }\n    },\n    {\n      \"column\": \"absences\",\n      \"properties\": {\n        \"dtype\": \"number\",\n        \"std\": 0.2537711125298622,\n        \"min\": -0.06270017540323977,\n        \"max\": 1.0,\n        \"num_unique_values\": 16,\n        \"samples\": [\n          0.17523007904603055,\n          0.10028481768782285,\n          0.06372583253905979\n        ],\n        \"semantic_type\": \"\",\n        \"description\": \"\"\n      }\n    },\n    {\n      \"column\": \"G1\",\n      \"properties\": {\n        \"dtype\": \"number\",\n        \"std\": 0.3954922476561502,\n        \"min\": -0.35471761301563487,\n        \"max\": 1.0,\n        \"num_unique_values\": 16,\n        \"samples\": [\n          -0.06408149744707395,\n          0.2053409967385873,\n          -0.35471761301563487\n        ],\n        \"semantic_type\": \"\",\n        \"description\": \"\"\n      }\n    },\n    {\n      \"column\": \"G2\",\n      \"properties\": {\n        \"dtype\": \"number\",\n        \"std\": 0.4137722017547197,\n        \"min\": -0.3558956345525741,\n        \"max\": 1.0,\n        \"num_unique_values\": 16,\n        \"samples\": [\n          -0.14347404903545907,\n          0.21552716763090254,\n          -0.3558956345525741\n        ],\n        \"semantic_type\": \"\",\n        \"description\": \"\"\n      }\n    },\n    {\n      \"column\": \"G3\",\n      \"properties\": {\n        \"dtype\": \"number\",\n        \"std\": 0.40019218158636455,\n        \"min\": -0.3604149404616496,\n        \"max\": 1.0,\n        \"num_unique_values\": 16,\n        \"samples\": [\n          -0.1615794381383403,\n          0.21714749613860562,\n          -0.3604149404616496\n        ],\n        \"semantic_type\": \"\",\n        \"description\": \"\"\n      }\n    }\n  ]\n}",
              "type": "dataframe"
            },
            "text/html": [
              "\n",
              "  <div id=\"df-61766e93-e329-4d4c-8c1b-f68b50fd8381\" class=\"colab-df-container\">\n",
              "    <div>\n",
              "<style scoped>\n",
              "    .dataframe tbody tr th:only-of-type {\n",
              "        vertical-align: middle;\n",
              "    }\n",
              "\n",
              "    .dataframe tbody tr th {\n",
              "        vertical-align: top;\n",
              "    }\n",
              "\n",
              "    .dataframe thead th {\n",
              "        text-align: right;\n",
              "    }\n",
              "</style>\n",
              "<table border=\"1\" class=\"dataframe\">\n",
              "  <thead>\n",
              "    <tr style=\"text-align: right;\">\n",
              "      <th></th>\n",
              "      <th>age</th>\n",
              "      <th>Medu</th>\n",
              "      <th>Fedu</th>\n",
              "      <th>traveltime</th>\n",
              "      <th>studytime</th>\n",
              "      <th>failures</th>\n",
              "      <th>famrel</th>\n",
              "      <th>freetime</th>\n",
              "      <th>goout</th>\n",
              "      <th>Dalc</th>\n",
              "      <th>Walc</th>\n",
              "      <th>health</th>\n",
              "      <th>absences</th>\n",
              "      <th>G1</th>\n",
              "      <th>G2</th>\n",
              "      <th>G3</th>\n",
              "    </tr>\n",
              "  </thead>\n",
              "  <tbody>\n",
              "    <tr>\n",
              "      <th>age</th>\n",
              "      <td>1.000000</td>\n",
              "      <td>-0.163658</td>\n",
              "      <td>-0.163438</td>\n",
              "      <td>0.070641</td>\n",
              "      <td>-0.004140</td>\n",
              "      <td>0.243665</td>\n",
              "      <td>0.053940</td>\n",
              "      <td>0.016434</td>\n",
              "      <td>0.126964</td>\n",
              "      <td>0.131125</td>\n",
              "      <td>0.117276</td>\n",
              "      <td>-0.062187</td>\n",
              "      <td>0.175230</td>\n",
              "      <td>-0.064081</td>\n",
              "      <td>-0.143474</td>\n",
              "      <td>-0.161579</td>\n",
              "    </tr>\n",
              "    <tr>\n",
              "      <th>Medu</th>\n",
              "      <td>-0.163658</td>\n",
              "      <td>1.000000</td>\n",
              "      <td>0.623455</td>\n",
              "      <td>-0.171639</td>\n",
              "      <td>0.064944</td>\n",
              "      <td>-0.236680</td>\n",
              "      <td>-0.003914</td>\n",
              "      <td>0.030891</td>\n",
              "      <td>0.064094</td>\n",
              "      <td>0.019834</td>\n",
              "      <td>-0.047123</td>\n",
              "      <td>-0.046878</td>\n",
              "      <td>0.100285</td>\n",
              "      <td>0.205341</td>\n",
              "      <td>0.215527</td>\n",
              "      <td>0.217147</td>\n",
              "    </tr>\n",
              "    <tr>\n",
              "      <th>Fedu</th>\n",
              "      <td>-0.163438</td>\n",
              "      <td>0.623455</td>\n",
              "      <td>1.000000</td>\n",
              "      <td>-0.158194</td>\n",
              "      <td>-0.009175</td>\n",
              "      <td>-0.250408</td>\n",
              "      <td>-0.001370</td>\n",
              "      <td>-0.012846</td>\n",
              "      <td>0.043105</td>\n",
              "      <td>0.002386</td>\n",
              "      <td>-0.012631</td>\n",
              "      <td>0.014742</td>\n",
              "      <td>0.024473</td>\n",
              "      <td>0.190270</td>\n",
              "      <td>0.164893</td>\n",
              "      <td>0.152457</td>\n",
              "    </tr>\n",
              "    <tr>\n",
              "      <th>traveltime</th>\n",
              "      <td>0.070641</td>\n",
              "      <td>-0.171639</td>\n",
              "      <td>-0.158194</td>\n",
              "      <td>1.000000</td>\n",
              "      <td>-0.100909</td>\n",
              "      <td>0.092239</td>\n",
              "      <td>-0.016808</td>\n",
              "      <td>-0.017025</td>\n",
              "      <td>0.028540</td>\n",
              "      <td>0.138325</td>\n",
              "      <td>0.134116</td>\n",
              "      <td>0.007501</td>\n",
              "      <td>-0.012944</td>\n",
              "      <td>-0.093040</td>\n",
              "      <td>-0.153198</td>\n",
              "      <td>-0.117142</td>\n",
              "    </tr>\n",
              "    <tr>\n",
              "      <th>studytime</th>\n",
              "      <td>-0.004140</td>\n",
              "      <td>0.064944</td>\n",
              "      <td>-0.009175</td>\n",
              "      <td>-0.100909</td>\n",
              "      <td>1.000000</td>\n",
              "      <td>-0.173563</td>\n",
              "      <td>0.039731</td>\n",
              "      <td>-0.143198</td>\n",
              "      <td>-0.063904</td>\n",
              "      <td>-0.196019</td>\n",
              "      <td>-0.253785</td>\n",
              "      <td>-0.075616</td>\n",
              "      <td>-0.062700</td>\n",
              "      <td>0.160612</td>\n",
              "      <td>0.135880</td>\n",
              "      <td>0.097820</td>\n",
              "    </tr>\n",
              "    <tr>\n",
              "      <th>failures</th>\n",
              "      <td>0.243665</td>\n",
              "      <td>-0.236680</td>\n",
              "      <td>-0.250408</td>\n",
              "      <td>0.092239</td>\n",
              "      <td>-0.173563</td>\n",
              "      <td>1.000000</td>\n",
              "      <td>-0.044337</td>\n",
              "      <td>0.091987</td>\n",
              "      <td>0.124561</td>\n",
              "      <td>0.136047</td>\n",
              "      <td>0.141962</td>\n",
              "      <td>0.065827</td>\n",
              "      <td>0.063726</td>\n",
              "      <td>-0.354718</td>\n",
              "      <td>-0.355896</td>\n",
              "      <td>-0.360415</td>\n",
              "    </tr>\n",
              "    <tr>\n",
              "      <th>famrel</th>\n",
              "      <td>0.053940</td>\n",
              "      <td>-0.003914</td>\n",
              "      <td>-0.001370</td>\n",
              "      <td>-0.016808</td>\n",
              "      <td>0.039731</td>\n",
              "      <td>-0.044337</td>\n",
              "      <td>1.000000</td>\n",
              "      <td>0.150701</td>\n",
              "      <td>0.064568</td>\n",
              "      <td>-0.077594</td>\n",
              "      <td>-0.113397</td>\n",
              "      <td>0.094056</td>\n",
              "      <td>-0.044354</td>\n",
              "      <td>0.022168</td>\n",
              "      <td>-0.018281</td>\n",
              "      <td>0.051363</td>\n",
              "    </tr>\n",
              "    <tr>\n",
              "      <th>freetime</th>\n",
              "      <td>0.016434</td>\n",
              "      <td>0.030891</td>\n",
              "      <td>-0.012846</td>\n",
              "      <td>-0.017025</td>\n",
              "      <td>-0.143198</td>\n",
              "      <td>0.091987</td>\n",
              "      <td>0.150701</td>\n",
              "      <td>1.000000</td>\n",
              "      <td>0.285019</td>\n",
              "      <td>0.209001</td>\n",
              "      <td>0.147822</td>\n",
              "      <td>0.075733</td>\n",
              "      <td>-0.058078</td>\n",
              "      <td>0.012613</td>\n",
              "      <td>-0.013777</td>\n",
              "      <td>0.011307</td>\n",
              "    </tr>\n",
              "    <tr>\n",
              "      <th>goout</th>\n",
              "      <td>0.126964</td>\n",
              "      <td>0.064094</td>\n",
              "      <td>0.043105</td>\n",
              "      <td>0.028540</td>\n",
              "      <td>-0.063904</td>\n",
              "      <td>0.124561</td>\n",
              "      <td>0.064568</td>\n",
              "      <td>0.285019</td>\n",
              "      <td>1.000000</td>\n",
              "      <td>0.266994</td>\n",
              "      <td>0.420386</td>\n",
              "      <td>-0.009577</td>\n",
              "      <td>0.044302</td>\n",
              "      <td>-0.149104</td>\n",
              "      <td>-0.162250</td>\n",
              "      <td>-0.132791</td>\n",
              "    </tr>\n",
              "    <tr>\n",
              "      <th>Dalc</th>\n",
              "      <td>0.131125</td>\n",
              "      <td>0.019834</td>\n",
              "      <td>0.002386</td>\n",
              "      <td>0.138325</td>\n",
              "      <td>-0.196019</td>\n",
              "      <td>0.136047</td>\n",
              "      <td>-0.077594</td>\n",
              "      <td>0.209001</td>\n",
              "      <td>0.266994</td>\n",
              "      <td>1.000000</td>\n",
              "      <td>0.647544</td>\n",
              "      <td>0.077180</td>\n",
              "      <td>0.111908</td>\n",
              "      <td>-0.094159</td>\n",
              "      <td>-0.064120</td>\n",
              "      <td>-0.054660</td>\n",
              "    </tr>\n",
              "    <tr>\n",
              "      <th>Walc</th>\n",
              "      <td>0.117276</td>\n",
              "      <td>-0.047123</td>\n",
              "      <td>-0.012631</td>\n",
              "      <td>0.134116</td>\n",
              "      <td>-0.253785</td>\n",
              "      <td>0.141962</td>\n",
              "      <td>-0.113397</td>\n",
              "      <td>0.147822</td>\n",
              "      <td>0.420386</td>\n",
              "      <td>0.647544</td>\n",
              "      <td>1.000000</td>\n",
              "      <td>0.092476</td>\n",
              "      <td>0.136291</td>\n",
              "      <td>-0.126179</td>\n",
              "      <td>-0.084927</td>\n",
              "      <td>-0.051939</td>\n",
              "    </tr>\n",
              "    <tr>\n",
              "      <th>health</th>\n",
              "      <td>-0.062187</td>\n",
              "      <td>-0.046878</td>\n",
              "      <td>0.014742</td>\n",
              "      <td>0.007501</td>\n",
              "      <td>-0.075616</td>\n",
              "      <td>0.065827</td>\n",
              "      <td>0.094056</td>\n",
              "      <td>0.075733</td>\n",
              "      <td>-0.009577</td>\n",
              "      <td>0.077180</td>\n",
              "      <td>0.092476</td>\n",
              "      <td>1.000000</td>\n",
              "      <td>-0.029937</td>\n",
              "      <td>-0.073172</td>\n",
              "      <td>-0.097720</td>\n",
              "      <td>-0.061335</td>\n",
              "    </tr>\n",
              "    <tr>\n",
              "      <th>absences</th>\n",
              "      <td>0.175230</td>\n",
              "      <td>0.100285</td>\n",
              "      <td>0.024473</td>\n",
              "      <td>-0.012944</td>\n",
              "      <td>-0.062700</td>\n",
              "      <td>0.063726</td>\n",
              "      <td>-0.044354</td>\n",
              "      <td>-0.058078</td>\n",
              "      <td>0.044302</td>\n",
              "      <td>0.111908</td>\n",
              "      <td>0.136291</td>\n",
              "      <td>-0.029937</td>\n",
              "      <td>1.000000</td>\n",
              "      <td>-0.031003</td>\n",
              "      <td>-0.031777</td>\n",
              "      <td>0.034247</td>\n",
              "    </tr>\n",
              "    <tr>\n",
              "      <th>G1</th>\n",
              "      <td>-0.064081</td>\n",
              "      <td>0.205341</td>\n",
              "      <td>0.190270</td>\n",
              "      <td>-0.093040</td>\n",
              "      <td>0.160612</td>\n",
              "      <td>-0.354718</td>\n",
              "      <td>0.022168</td>\n",
              "      <td>0.012613</td>\n",
              "      <td>-0.149104</td>\n",
              "      <td>-0.094159</td>\n",
              "      <td>-0.126179</td>\n",
              "      <td>-0.073172</td>\n",
              "      <td>-0.031003</td>\n",
              "      <td>1.000000</td>\n",
              "      <td>0.852118</td>\n",
              "      <td>0.801468</td>\n",
              "    </tr>\n",
              "    <tr>\n",
              "      <th>G2</th>\n",
              "      <td>-0.143474</td>\n",
              "      <td>0.215527</td>\n",
              "      <td>0.164893</td>\n",
              "      <td>-0.153198</td>\n",
              "      <td>0.135880</td>\n",
              "      <td>-0.355896</td>\n",
              "      <td>-0.018281</td>\n",
              "      <td>-0.013777</td>\n",
              "      <td>-0.162250</td>\n",
              "      <td>-0.064120</td>\n",
              "      <td>-0.084927</td>\n",
              "      <td>-0.097720</td>\n",
              "      <td>-0.031777</td>\n",
              "      <td>0.852118</td>\n",
              "      <td>1.000000</td>\n",
              "      <td>0.904868</td>\n",
              "    </tr>\n",
              "    <tr>\n",
              "      <th>G3</th>\n",
              "      <td>-0.161579</td>\n",
              "      <td>0.217147</td>\n",
              "      <td>0.152457</td>\n",
              "      <td>-0.117142</td>\n",
              "      <td>0.097820</td>\n",
              "      <td>-0.360415</td>\n",
              "      <td>0.051363</td>\n",
              "      <td>0.011307</td>\n",
              "      <td>-0.132791</td>\n",
              "      <td>-0.054660</td>\n",
              "      <td>-0.051939</td>\n",
              "      <td>-0.061335</td>\n",
              "      <td>0.034247</td>\n",
              "      <td>0.801468</td>\n",
              "      <td>0.904868</td>\n",
              "      <td>1.000000</td>\n",
              "    </tr>\n",
              "  </tbody>\n",
              "</table>\n",
              "</div>\n",
              "    <div class=\"colab-df-buttons\">\n",
              "\n",
              "  <div class=\"colab-df-container\">\n",
              "    <button class=\"colab-df-convert\" onclick=\"convertToInteractive('df-61766e93-e329-4d4c-8c1b-f68b50fd8381')\"\n",
              "            title=\"Convert this dataframe to an interactive table.\"\n",
              "            style=\"display:none;\">\n",
              "\n",
              "  <svg xmlns=\"http://www.w3.org/2000/svg\" height=\"24px\" viewBox=\"0 -960 960 960\">\n",
              "    <path d=\"M120-120v-720h720v720H120Zm60-500h600v-160H180v160Zm220 220h160v-160H400v160Zm0 220h160v-160H400v160ZM180-400h160v-160H180v160Zm440 0h160v-160H620v160ZM180-180h160v-160H180v160Zm440 0h160v-160H620v160Z\"/>\n",
              "  </svg>\n",
              "    </button>\n",
              "\n",
              "  <style>\n",
              "    .colab-df-container {\n",
              "      display:flex;\n",
              "      gap: 12px;\n",
              "    }\n",
              "\n",
              "    .colab-df-convert {\n",
              "      background-color: #E8F0FE;\n",
              "      border: none;\n",
              "      border-radius: 50%;\n",
              "      cursor: pointer;\n",
              "      display: none;\n",
              "      fill: #1967D2;\n",
              "      height: 32px;\n",
              "      padding: 0 0 0 0;\n",
              "      width: 32px;\n",
              "    }\n",
              "\n",
              "    .colab-df-convert:hover {\n",
              "      background-color: #E2EBFA;\n",
              "      box-shadow: 0px 1px 2px rgba(60, 64, 67, 0.3), 0px 1px 3px 1px rgba(60, 64, 67, 0.15);\n",
              "      fill: #174EA6;\n",
              "    }\n",
              "\n",
              "    .colab-df-buttons div {\n",
              "      margin-bottom: 4px;\n",
              "    }\n",
              "\n",
              "    [theme=dark] .colab-df-convert {\n",
              "      background-color: #3B4455;\n",
              "      fill: #D2E3FC;\n",
              "    }\n",
              "\n",
              "    [theme=dark] .colab-df-convert:hover {\n",
              "      background-color: #434B5C;\n",
              "      box-shadow: 0px 1px 3px 1px rgba(0, 0, 0, 0.15);\n",
              "      filter: drop-shadow(0px 1px 2px rgba(0, 0, 0, 0.3));\n",
              "      fill: #FFFFFF;\n",
              "    }\n",
              "  </style>\n",
              "\n",
              "    <script>\n",
              "      const buttonEl =\n",
              "        document.querySelector('#df-61766e93-e329-4d4c-8c1b-f68b50fd8381 button.colab-df-convert');\n",
              "      buttonEl.style.display =\n",
              "        google.colab.kernel.accessAllowed ? 'block' : 'none';\n",
              "\n",
              "      async function convertToInteractive(key) {\n",
              "        const element = document.querySelector('#df-61766e93-e329-4d4c-8c1b-f68b50fd8381');\n",
              "        const dataTable =\n",
              "          await google.colab.kernel.invokeFunction('convertToInteractive',\n",
              "                                                    [key], {});\n",
              "        if (!dataTable) return;\n",
              "\n",
              "        const docLinkHtml = 'Like what you see? Visit the ' +\n",
              "          '<a target=\"_blank\" href=https://colab.research.google.com/notebooks/data_table.ipynb>data table notebook</a>'\n",
              "          + ' to learn more about interactive tables.';\n",
              "        element.innerHTML = '';\n",
              "        dataTable['output_type'] = 'display_data';\n",
              "        await google.colab.output.renderOutput(dataTable, element);\n",
              "        const docLink = document.createElement('div');\n",
              "        docLink.innerHTML = docLinkHtml;\n",
              "        element.appendChild(docLink);\n",
              "      }\n",
              "    </script>\n",
              "  </div>\n",
              "\n",
              "\n",
              "<div id=\"df-d3d8fb8f-930d-45a2-8cf0-0de8e066e237\">\n",
              "  <button class=\"colab-df-quickchart\" onclick=\"quickchart('df-d3d8fb8f-930d-45a2-8cf0-0de8e066e237')\"\n",
              "            title=\"Suggest charts\"\n",
              "            style=\"display:none;\">\n",
              "\n",
              "<svg xmlns=\"http://www.w3.org/2000/svg\" height=\"24px\"viewBox=\"0 0 24 24\"\n",
              "     width=\"24px\">\n",
              "    <g>\n",
              "        <path d=\"M19 3H5c-1.1 0-2 .9-2 2v14c0 1.1.9 2 2 2h14c1.1 0 2-.9 2-2V5c0-1.1-.9-2-2-2zM9 17H7v-7h2v7zm4 0h-2V7h2v10zm4 0h-2v-4h2v4z\"/>\n",
              "    </g>\n",
              "</svg>\n",
              "  </button>\n",
              "\n",
              "<style>\n",
              "  .colab-df-quickchart {\n",
              "      --bg-color: #E8F0FE;\n",
              "      --fill-color: #1967D2;\n",
              "      --hover-bg-color: #E2EBFA;\n",
              "      --hover-fill-color: #174EA6;\n",
              "      --disabled-fill-color: #AAA;\n",
              "      --disabled-bg-color: #DDD;\n",
              "  }\n",
              "\n",
              "  [theme=dark] .colab-df-quickchart {\n",
              "      --bg-color: #3B4455;\n",
              "      --fill-color: #D2E3FC;\n",
              "      --hover-bg-color: #434B5C;\n",
              "      --hover-fill-color: #FFFFFF;\n",
              "      --disabled-bg-color: #3B4455;\n",
              "      --disabled-fill-color: #666;\n",
              "  }\n",
              "\n",
              "  .colab-df-quickchart {\n",
              "    background-color: var(--bg-color);\n",
              "    border: none;\n",
              "    border-radius: 50%;\n",
              "    cursor: pointer;\n",
              "    display: none;\n",
              "    fill: var(--fill-color);\n",
              "    height: 32px;\n",
              "    padding: 0;\n",
              "    width: 32px;\n",
              "  }\n",
              "\n",
              "  .colab-df-quickchart:hover {\n",
              "    background-color: var(--hover-bg-color);\n",
              "    box-shadow: 0 1px 2px rgba(60, 64, 67, 0.3), 0 1px 3px 1px rgba(60, 64, 67, 0.15);\n",
              "    fill: var(--button-hover-fill-color);\n",
              "  }\n",
              "\n",
              "  .colab-df-quickchart-complete:disabled,\n",
              "  .colab-df-quickchart-complete:disabled:hover {\n",
              "    background-color: var(--disabled-bg-color);\n",
              "    fill: var(--disabled-fill-color);\n",
              "    box-shadow: none;\n",
              "  }\n",
              "\n",
              "  .colab-df-spinner {\n",
              "    border: 2px solid var(--fill-color);\n",
              "    border-color: transparent;\n",
              "    border-bottom-color: var(--fill-color);\n",
              "    animation:\n",
              "      spin 1s steps(1) infinite;\n",
              "  }\n",
              "\n",
              "  @keyframes spin {\n",
              "    0% {\n",
              "      border-color: transparent;\n",
              "      border-bottom-color: var(--fill-color);\n",
              "      border-left-color: var(--fill-color);\n",
              "    }\n",
              "    20% {\n",
              "      border-color: transparent;\n",
              "      border-left-color: var(--fill-color);\n",
              "      border-top-color: var(--fill-color);\n",
              "    }\n",
              "    30% {\n",
              "      border-color: transparent;\n",
              "      border-left-color: var(--fill-color);\n",
              "      border-top-color: var(--fill-color);\n",
              "      border-right-color: var(--fill-color);\n",
              "    }\n",
              "    40% {\n",
              "      border-color: transparent;\n",
              "      border-right-color: var(--fill-color);\n",
              "      border-top-color: var(--fill-color);\n",
              "    }\n",
              "    60% {\n",
              "      border-color: transparent;\n",
              "      border-right-color: var(--fill-color);\n",
              "    }\n",
              "    80% {\n",
              "      border-color: transparent;\n",
              "      border-right-color: var(--fill-color);\n",
              "      border-bottom-color: var(--fill-color);\n",
              "    }\n",
              "    90% {\n",
              "      border-color: transparent;\n",
              "      border-bottom-color: var(--fill-color);\n",
              "    }\n",
              "  }\n",
              "</style>\n",
              "\n",
              "  <script>\n",
              "    async function quickchart(key) {\n",
              "      const quickchartButtonEl =\n",
              "        document.querySelector('#' + key + ' button');\n",
              "      quickchartButtonEl.disabled = true;  // To prevent multiple clicks.\n",
              "      quickchartButtonEl.classList.add('colab-df-spinner');\n",
              "      try {\n",
              "        const charts = await google.colab.kernel.invokeFunction(\n",
              "            'suggestCharts', [key], {});\n",
              "      } catch (error) {\n",
              "        console.error('Error during call to suggestCharts:', error);\n",
              "      }\n",
              "      quickchartButtonEl.classList.remove('colab-df-spinner');\n",
              "      quickchartButtonEl.classList.add('colab-df-quickchart-complete');\n",
              "    }\n",
              "    (() => {\n",
              "      let quickchartButtonEl =\n",
              "        document.querySelector('#df-d3d8fb8f-930d-45a2-8cf0-0de8e066e237 button');\n",
              "      quickchartButtonEl.style.display =\n",
              "        google.colab.kernel.accessAllowed ? 'block' : 'none';\n",
              "    })();\n",
              "  </script>\n",
              "</div>\n",
              "\n",
              "    </div>\n",
              "  </div>\n"
            ],
            "text/plain": [
              "                 age      Medu      Fedu  traveltime  studytime  failures  \\\n",
              "age         1.000000 -0.163658 -0.163438    0.070641  -0.004140  0.243665   \n",
              "Medu       -0.163658  1.000000  0.623455   -0.171639   0.064944 -0.236680   \n",
              "Fedu       -0.163438  0.623455  1.000000   -0.158194  -0.009175 -0.250408   \n",
              "traveltime  0.070641 -0.171639 -0.158194    1.000000  -0.100909  0.092239   \n",
              "studytime  -0.004140  0.064944 -0.009175   -0.100909   1.000000 -0.173563   \n",
              "failures    0.243665 -0.236680 -0.250408    0.092239  -0.173563  1.000000   \n",
              "famrel      0.053940 -0.003914 -0.001370   -0.016808   0.039731 -0.044337   \n",
              "freetime    0.016434  0.030891 -0.012846   -0.017025  -0.143198  0.091987   \n",
              "goout       0.126964  0.064094  0.043105    0.028540  -0.063904  0.124561   \n",
              "Dalc        0.131125  0.019834  0.002386    0.138325  -0.196019  0.136047   \n",
              "Walc        0.117276 -0.047123 -0.012631    0.134116  -0.253785  0.141962   \n",
              "health     -0.062187 -0.046878  0.014742    0.007501  -0.075616  0.065827   \n",
              "absences    0.175230  0.100285  0.024473   -0.012944  -0.062700  0.063726   \n",
              "G1         -0.064081  0.205341  0.190270   -0.093040   0.160612 -0.354718   \n",
              "G2         -0.143474  0.215527  0.164893   -0.153198   0.135880 -0.355896   \n",
              "G3         -0.161579  0.217147  0.152457   -0.117142   0.097820 -0.360415   \n",
              "\n",
              "              famrel  freetime     goout      Dalc      Walc    health  \\\n",
              "age         0.053940  0.016434  0.126964  0.131125  0.117276 -0.062187   \n",
              "Medu       -0.003914  0.030891  0.064094  0.019834 -0.047123 -0.046878   \n",
              "Fedu       -0.001370 -0.012846  0.043105  0.002386 -0.012631  0.014742   \n",
              "traveltime -0.016808 -0.017025  0.028540  0.138325  0.134116  0.007501   \n",
              "studytime   0.039731 -0.143198 -0.063904 -0.196019 -0.253785 -0.075616   \n",
              "failures   -0.044337  0.091987  0.124561  0.136047  0.141962  0.065827   \n",
              "famrel      1.000000  0.150701  0.064568 -0.077594 -0.113397  0.094056   \n",
              "freetime    0.150701  1.000000  0.285019  0.209001  0.147822  0.075733   \n",
              "goout       0.064568  0.285019  1.000000  0.266994  0.420386 -0.009577   \n",
              "Dalc       -0.077594  0.209001  0.266994  1.000000  0.647544  0.077180   \n",
              "Walc       -0.113397  0.147822  0.420386  0.647544  1.000000  0.092476   \n",
              "health      0.094056  0.075733 -0.009577  0.077180  0.092476  1.000000   \n",
              "absences   -0.044354 -0.058078  0.044302  0.111908  0.136291 -0.029937   \n",
              "G1          0.022168  0.012613 -0.149104 -0.094159 -0.126179 -0.073172   \n",
              "G2         -0.018281 -0.013777 -0.162250 -0.064120 -0.084927 -0.097720   \n",
              "G3          0.051363  0.011307 -0.132791 -0.054660 -0.051939 -0.061335   \n",
              "\n",
              "            absences        G1        G2        G3  \n",
              "age         0.175230 -0.064081 -0.143474 -0.161579  \n",
              "Medu        0.100285  0.205341  0.215527  0.217147  \n",
              "Fedu        0.024473  0.190270  0.164893  0.152457  \n",
              "traveltime -0.012944 -0.093040 -0.153198 -0.117142  \n",
              "studytime  -0.062700  0.160612  0.135880  0.097820  \n",
              "failures    0.063726 -0.354718 -0.355896 -0.360415  \n",
              "famrel     -0.044354  0.022168 -0.018281  0.051363  \n",
              "freetime   -0.058078  0.012613 -0.013777  0.011307  \n",
              "goout       0.044302 -0.149104 -0.162250 -0.132791  \n",
              "Dalc        0.111908 -0.094159 -0.064120 -0.054660  \n",
              "Walc        0.136291 -0.126179 -0.084927 -0.051939  \n",
              "health     -0.029937 -0.073172 -0.097720 -0.061335  \n",
              "absences    1.000000 -0.031003 -0.031777  0.034247  \n",
              "G1         -0.031003  1.000000  0.852118  0.801468  \n",
              "G2         -0.031777  0.852118  1.000000  0.904868  \n",
              "G3          0.034247  0.801468  0.904868  1.000000  "
            ]
          },
          "execution_count": 38,
          "metadata": {},
          "output_type": "execute_result"
        }
      ],
      "source": [
        "student_data_math.corr(numeric_only=True)"
      ]
    },
    {
      "cell_type": "code",
      "execution_count": null,
      "metadata": {
        "colab": {
          "base_uri": "https://localhost:8080/",
          "height": 297
        },
        "id": "o_ro_N67pShv",
        "outputId": "dc9b583e-2a1b-4363-a7f4-38ea1e014a13"
      },
      "outputs": [
        {
          "ename": "ValueError",
          "evalue": "could not convert string to float: 'GP'",
          "output_type": "error",
          "traceback": [
            "\u001b[0;31m---------------------------------------------------------------------------\u001b[0m",
            "\u001b[0;31mValueError\u001b[0m                                Traceback (most recent call last)",
            "\u001b[0;32m<ipython-input-39-a0f8682ae6ec>\u001b[0m in \u001b[0;36m<cell line: 1>\u001b[0;34m()\u001b[0m\n\u001b[0;32m----> 1\u001b[0;31m \u001b[0mstudent_data_math\u001b[0m\u001b[0;34m.\u001b[0m\u001b[0mcorr\u001b[0m\u001b[0;34m(\u001b[0m\u001b[0;34m)\u001b[0m\u001b[0;34m\u001b[0m\u001b[0;34m\u001b[0m\u001b[0m\n\u001b[0m",
            "\u001b[0;32m/usr/local/lib/python3.10/dist-packages/pandas/core/frame.py\u001b[0m in \u001b[0;36mcorr\u001b[0;34m(self, method, min_periods, numeric_only)\u001b[0m\n\u001b[1;32m  11047\u001b[0m         \u001b[0mcols\u001b[0m \u001b[0;34m=\u001b[0m \u001b[0mdata\u001b[0m\u001b[0;34m.\u001b[0m\u001b[0mcolumns\u001b[0m\u001b[0;34m\u001b[0m\u001b[0;34m\u001b[0m\u001b[0m\n\u001b[1;32m  11048\u001b[0m         \u001b[0midx\u001b[0m \u001b[0;34m=\u001b[0m \u001b[0mcols\u001b[0m\u001b[0;34m.\u001b[0m\u001b[0mcopy\u001b[0m\u001b[0;34m(\u001b[0m\u001b[0;34m)\u001b[0m\u001b[0;34m\u001b[0m\u001b[0;34m\u001b[0m\u001b[0m\n\u001b[0;32m> 11049\u001b[0;31m         \u001b[0mmat\u001b[0m \u001b[0;34m=\u001b[0m \u001b[0mdata\u001b[0m\u001b[0;34m.\u001b[0m\u001b[0mto_numpy\u001b[0m\u001b[0;34m(\u001b[0m\u001b[0mdtype\u001b[0m\u001b[0;34m=\u001b[0m\u001b[0mfloat\u001b[0m\u001b[0;34m,\u001b[0m \u001b[0mna_value\u001b[0m\u001b[0;34m=\u001b[0m\u001b[0mnp\u001b[0m\u001b[0;34m.\u001b[0m\u001b[0mnan\u001b[0m\u001b[0;34m,\u001b[0m \u001b[0mcopy\u001b[0m\u001b[0;34m=\u001b[0m\u001b[0;32mFalse\u001b[0m\u001b[0;34m)\u001b[0m\u001b[0;34m\u001b[0m\u001b[0;34m\u001b[0m\u001b[0m\n\u001b[0m\u001b[1;32m  11050\u001b[0m \u001b[0;34m\u001b[0m\u001b[0m\n\u001b[1;32m  11051\u001b[0m         \u001b[0;32mif\u001b[0m \u001b[0mmethod\u001b[0m \u001b[0;34m==\u001b[0m \u001b[0;34m\"pearson\"\u001b[0m\u001b[0;34m:\u001b[0m\u001b[0;34m\u001b[0m\u001b[0;34m\u001b[0m\u001b[0m\n",
            "\u001b[0;32m/usr/local/lib/python3.10/dist-packages/pandas/core/frame.py\u001b[0m in \u001b[0;36mto_numpy\u001b[0;34m(self, dtype, copy, na_value)\u001b[0m\n\u001b[1;32m   1991\u001b[0m         \u001b[0;32mif\u001b[0m \u001b[0mdtype\u001b[0m \u001b[0;32mis\u001b[0m \u001b[0;32mnot\u001b[0m \u001b[0;32mNone\u001b[0m\u001b[0;34m:\u001b[0m\u001b[0;34m\u001b[0m\u001b[0;34m\u001b[0m\u001b[0m\n\u001b[1;32m   1992\u001b[0m             \u001b[0mdtype\u001b[0m \u001b[0;34m=\u001b[0m \u001b[0mnp\u001b[0m\u001b[0;34m.\u001b[0m\u001b[0mdtype\u001b[0m\u001b[0;34m(\u001b[0m\u001b[0mdtype\u001b[0m\u001b[0;34m)\u001b[0m\u001b[0;34m\u001b[0m\u001b[0;34m\u001b[0m\u001b[0m\n\u001b[0;32m-> 1993\u001b[0;31m         \u001b[0mresult\u001b[0m \u001b[0;34m=\u001b[0m \u001b[0mself\u001b[0m\u001b[0;34m.\u001b[0m\u001b[0m_mgr\u001b[0m\u001b[0;34m.\u001b[0m\u001b[0mas_array\u001b[0m\u001b[0;34m(\u001b[0m\u001b[0mdtype\u001b[0m\u001b[0;34m=\u001b[0m\u001b[0mdtype\u001b[0m\u001b[0;34m,\u001b[0m \u001b[0mcopy\u001b[0m\u001b[0;34m=\u001b[0m\u001b[0mcopy\u001b[0m\u001b[0;34m,\u001b[0m \u001b[0mna_value\u001b[0m\u001b[0;34m=\u001b[0m\u001b[0mna_value\u001b[0m\u001b[0;34m)\u001b[0m\u001b[0;34m\u001b[0m\u001b[0;34m\u001b[0m\u001b[0m\n\u001b[0m\u001b[1;32m   1994\u001b[0m         \u001b[0;32mif\u001b[0m \u001b[0mresult\u001b[0m\u001b[0;34m.\u001b[0m\u001b[0mdtype\u001b[0m \u001b[0;32mis\u001b[0m \u001b[0;32mnot\u001b[0m \u001b[0mdtype\u001b[0m\u001b[0;34m:\u001b[0m\u001b[0;34m\u001b[0m\u001b[0;34m\u001b[0m\u001b[0m\n\u001b[1;32m   1995\u001b[0m             \u001b[0mresult\u001b[0m \u001b[0;34m=\u001b[0m \u001b[0mnp\u001b[0m\u001b[0;34m.\u001b[0m\u001b[0masarray\u001b[0m\u001b[0;34m(\u001b[0m\u001b[0mresult\u001b[0m\u001b[0;34m,\u001b[0m \u001b[0mdtype\u001b[0m\u001b[0;34m=\u001b[0m\u001b[0mdtype\u001b[0m\u001b[0;34m)\u001b[0m\u001b[0;34m\u001b[0m\u001b[0;34m\u001b[0m\u001b[0m\n",
            "\u001b[0;32m/usr/local/lib/python3.10/dist-packages/pandas/core/internals/managers.py\u001b[0m in \u001b[0;36mas_array\u001b[0;34m(self, dtype, copy, na_value)\u001b[0m\n\u001b[1;32m   1692\u001b[0m                 \u001b[0marr\u001b[0m\u001b[0;34m.\u001b[0m\u001b[0mflags\u001b[0m\u001b[0;34m.\u001b[0m\u001b[0mwriteable\u001b[0m \u001b[0;34m=\u001b[0m \u001b[0;32mFalse\u001b[0m\u001b[0;34m\u001b[0m\u001b[0;34m\u001b[0m\u001b[0m\n\u001b[1;32m   1693\u001b[0m         \u001b[0;32melse\u001b[0m\u001b[0;34m:\u001b[0m\u001b[0;34m\u001b[0m\u001b[0;34m\u001b[0m\u001b[0m\n\u001b[0;32m-> 1694\u001b[0;31m             \u001b[0marr\u001b[0m \u001b[0;34m=\u001b[0m \u001b[0mself\u001b[0m\u001b[0;34m.\u001b[0m\u001b[0m_interleave\u001b[0m\u001b[0;34m(\u001b[0m\u001b[0mdtype\u001b[0m\u001b[0;34m=\u001b[0m\u001b[0mdtype\u001b[0m\u001b[0;34m,\u001b[0m \u001b[0mna_value\u001b[0m\u001b[0;34m=\u001b[0m\u001b[0mna_value\u001b[0m\u001b[0;34m)\u001b[0m\u001b[0;34m\u001b[0m\u001b[0;34m\u001b[0m\u001b[0m\n\u001b[0m\u001b[1;32m   1695\u001b[0m             \u001b[0;31m# The underlying data was copied within _interleave, so no need\u001b[0m\u001b[0;34m\u001b[0m\u001b[0;34m\u001b[0m\u001b[0m\n\u001b[1;32m   1696\u001b[0m             \u001b[0;31m# to further copy if copy=True or setting na_value\u001b[0m\u001b[0;34m\u001b[0m\u001b[0;34m\u001b[0m\u001b[0m\n",
            "\u001b[0;32m/usr/local/lib/python3.10/dist-packages/pandas/core/internals/managers.py\u001b[0m in \u001b[0;36m_interleave\u001b[0;34m(self, dtype, na_value)\u001b[0m\n\u001b[1;32m   1751\u001b[0m             \u001b[0;32melse\u001b[0m\u001b[0;34m:\u001b[0m\u001b[0;34m\u001b[0m\u001b[0;34m\u001b[0m\u001b[0m\n\u001b[1;32m   1752\u001b[0m                 \u001b[0marr\u001b[0m \u001b[0;34m=\u001b[0m \u001b[0mblk\u001b[0m\u001b[0;34m.\u001b[0m\u001b[0mget_values\u001b[0m\u001b[0;34m(\u001b[0m\u001b[0mdtype\u001b[0m\u001b[0;34m)\u001b[0m\u001b[0;34m\u001b[0m\u001b[0;34m\u001b[0m\u001b[0m\n\u001b[0;32m-> 1753\u001b[0;31m             \u001b[0mresult\u001b[0m\u001b[0;34m[\u001b[0m\u001b[0mrl\u001b[0m\u001b[0;34m.\u001b[0m\u001b[0mindexer\u001b[0m\u001b[0;34m]\u001b[0m \u001b[0;34m=\u001b[0m \u001b[0marr\u001b[0m\u001b[0;34m\u001b[0m\u001b[0;34m\u001b[0m\u001b[0m\n\u001b[0m\u001b[1;32m   1754\u001b[0m             \u001b[0mitemmask\u001b[0m\u001b[0;34m[\u001b[0m\u001b[0mrl\u001b[0m\u001b[0;34m.\u001b[0m\u001b[0mindexer\u001b[0m\u001b[0;34m]\u001b[0m \u001b[0;34m=\u001b[0m \u001b[0;36m1\u001b[0m\u001b[0;34m\u001b[0m\u001b[0;34m\u001b[0m\u001b[0m\n\u001b[1;32m   1755\u001b[0m \u001b[0;34m\u001b[0m\u001b[0m\n",
            "\u001b[0;31mValueError\u001b[0m: could not convert string to float: 'GP'"
          ]
        }
      ],
      "source": [
        "student_data_math.corr()"
      ]
    },
    {
      "cell_type": "markdown",
      "metadata": {
        "id": "szQSTx-rsuMz"
      },
      "source": [
        "#### Visualization of correlation matrices"
      ]
    },
    {
      "cell_type": "markdown",
      "metadata": {
        "id": "ve4C4AT1omez"
      },
      "source": [
        "Heat maps are suitable for visualizing correlation matrices. A heat map is a method to visualize the coefficient values of each feature pair using a color gradient, and is often used to visualize correlation matrices.\n",
        "\n",
        "Heat maps can be easily created using the seaborn library.\n",
        "\n",
        "Let's visualize the Pandas correlation matrix created above by specifying it as an argument."
      ]
    },
    {
      "cell_type": "code",
      "execution_count": null,
      "metadata": {
        "colab": {
          "base_uri": "https://localhost:8080/",
          "height": 751
        },
        "id": "M_gnu56GoxIf",
        "outputId": "9056f47f-d5dc-4ed8-a432-5e2f18fb9b7d"
      },
      "outputs": [
        {
          "data": {
            "image/png": "[encoded data removed]",
            "text/plain": [
              "<Figure size 1000x800 with 2 Axes>"
            ]
          },
          "metadata": {},
          "output_type": "display_data"
        }
      ],
      "source": [
        "plt.figure(figsize=(10, 8))\n",
        "sns.heatmap(data=student_data_math.corr(numeric_only=True),\n",
        "            annot=True,\n",
        "            annot_kws={\"fontsize\":8},  # Specify font size when displaying values in each box.\n",
        "            vmin=-1, vmax=1,  # Specify minimum and maximum colour bar values. Try what happens if you don't specify this.\n",
        "            cmap=\"coolwarm\")  # Learn more about cmaps.-> https://matplotlib.org/stable/tutorials/colors/colormaps.html\n",
        "plt.show()"
      ]
    },
    {
      "cell_type": "markdown",
      "metadata": {
        "id": "yG7tuRfo9uWO"
      },
      "source": [
        "### 4-2.3.8 Drawing Histograms and Scatter Plots for All Variables\n",
        "\n",
        "Finally, we will show you how to display all histograms and draw scatter plots for each variable.\n",
        "\n",
        "For this kind of process, it is convenient to use the library `seaborn`, which provides a rich set of functions related to statistical data analysis and visualization. The `seaborn` package's `pairplot` is very useful because it allows you to see the relationships between various variables at once. However, if there are many variables, the calculation will take a while and it will be somewhat difficult to see. In such cases, it is recommended to select relevant data as described in“3.4.1 Data Selection and Assignment”.\n",
        "\n",
        "Let's see if there is a relationship between alcohol intake and performance scores in the previous data.\n",
        "\n",
        "Dalc is the amount of alcohol consumed on weekdays and Walc is the amount of alcohol consumed on weekends. We are looking at the relationship between them and first period grades (G1) and final grades (G3). Can we say that drinking alcohol is the reason for poor performance? Or does it have nothing to do with it?\n"
      ]
    },
    {
      "cell_type": "code",
      "execution_count": null,
      "metadata": {
        "colab": {
          "base_uri": "https://localhost:8080/",
          "height": 1000
        },
        "id": "qKMVfUrK9uWO",
        "outputId": "95d529ae-4b8b-484d-cd90-e7cfac0a8fa2"
      },
      "outputs": [
        {
          "data": {
            "image/png": "[encoded data removed]",
            "text/plain": [
              "<Figure size 1000x1000 with 20 Axes>"
            ]
          },
          "metadata": {},
          "output_type": "display_data"
        }
      ],
      "source": [
        "sns.pairplot(student_data_math[['Dalc', 'Walc', 'G1', 'G3']])\n",
        "plt.grid(True)"
      ]
    },
    {
      "cell_type": "code",
      "execution_count": null,
      "metadata": {
        "colab": {
          "base_uri": "https://localhost:8080/",
          "height": 272
        },
        "id": "_NaniaSx9uWO",
        "outputId": "30df46ff-efd9-4cd1-e139-e144f394e125"
      },
      "outputs": [
        {
          "data": {
            "text/html": [
              "<div>\n",
              "<style scoped>\n",
              "    .dataframe tbody tr th:only-of-type {\n",
              "        vertical-align: middle;\n",
              "    }\n",
              "\n",
              "    .dataframe tbody tr th {\n",
              "        vertical-align: top;\n",
              "    }\n",
              "\n",
              "    .dataframe thead th {\n",
              "        text-align: right;\n",
              "    }\n",
              "</style>\n",
              "<table border=\"1\" class=\"dataframe\">\n",
              "  <thead>\n",
              "    <tr style=\"text-align: right;\">\n",
              "      <th></th>\n",
              "      <th>G1</th>\n",
              "    </tr>\n",
              "    <tr>\n",
              "      <th>Walc</th>\n",
              "      <th></th>\n",
              "    </tr>\n",
              "  </thead>\n",
              "  <tbody>\n",
              "    <tr>\n",
              "      <th>1</th>\n",
              "      <td>11.178808</td>\n",
              "    </tr>\n",
              "    <tr>\n",
              "      <th>2</th>\n",
              "      <td>11.270588</td>\n",
              "    </tr>\n",
              "    <tr>\n",
              "      <th>3</th>\n",
              "      <td>10.937500</td>\n",
              "    </tr>\n",
              "    <tr>\n",
              "      <th>4</th>\n",
              "      <td>9.980392</td>\n",
              "    </tr>\n",
              "    <tr>\n",
              "      <th>5</th>\n",
              "      <td>9.964286</td>\n",
              "    </tr>\n",
              "  </tbody>\n",
              "</table>\n",
              "</div><br><label><b>dtype:</b> float64</label>"
            ],
            "text/plain": [
              "Walc\n",
              "1    11.178808\n",
              "2    11.270588\n",
              "3    10.937500\n",
              "4     9.980392\n",
              "5     9.964286\n",
              "Name: G1, dtype: float64"
            ]
          },
          "execution_count": 43,
          "metadata": {},
          "output_type": "execute_result"
        }
      ],
      "source": [
        "# Example: average first period performance of weekend alcohol drinkers\n",
        "student_data_math.groupby('Walc')['G1'].mean()"
      ]
    },
    {
      "cell_type": "markdown",
      "metadata": {
        "id": "cC0XlhqO9uWO"
      },
      "source": [
        "From the graph, it appears that none of those who frequently drink alcohol on weekday (4 or 5) are doing well in G3, but none of them are doing extremely poorly either. It also appears that those who do not drink alcohol on weekends do a little better in the first term, but are these insights really accurate? It is difficult to determine from these graphs and numbers alone, but we will approach this in the following chapter on statistics and also in the following chapter on machine learning.\n"
      ]
    },
    {
      "cell_type": "markdown",
      "metadata": {
        "id": "cJJ6WA_u9uWP"
      },
      "source": [
        "This concludes the fundamentals on descriptive statistics.\n",
        "\n",
        "Although we went through the basics, what we have explained here is necessary work to get a good picture of the data for any data analysis.\n",
        "\n",
        "This course will teach you how easy it is to do machine learning calculations using machine learning libraries and other tools, but it is also important to look at the basic statistics that we had done. Sometimes a simple scatterplot can reveal important trends. Also, what we have covered so far should probably be easy to follow and to explain someone without a mathematical background.\n",
        "\n",
        "Data analysis itself doesn't require any use of machine learning. But by collaborating closely with others, exploring the data, and checking for unknowns or outliers, you'll set a stronger foundation before applying machine learning."
      ]
    },
    {
      "cell_type": "markdown",
      "metadata": {
        "id": "JuvgAoWH9uWP"
      },
      "source": [
        ">**[Tips]**\n",
        "\n",
        ">When analyzing data, look at basic statistics, histograms, scatter plots first to get an overall picture of the data."
      ]
    },
    {
      "cell_type": "markdown",
      "metadata": {
        "id": "udOh32Nb9uWP"
      },
      "source": [
        "#### <Practice Question 4-2-3>\n",
        "\n",
        "Merge \"student-math.csv\" with \"student-por.csv\" using the following variables as the key.\n",
        "\n",
        "`['school','sex','age','address','famsize','Pstatus','Medu','Fedu','Mjob','Fjob','reason','nursery','internet']`\n",
        "\n",
        "Use inner join so that the merged data does not include any missing values.\n",
        "In addition, add the parameter `suffixes=('_math', '_por')` so that we can know which data the variable names came from since they have the same names can be seen in each data.\n",
        "\n",
        "Then, calculate the summary statistics."
      ]
    },
    {
      "cell_type": "markdown",
      "metadata": {
        "id": "z90lCvP09uWP"
      },
      "source": [
        "#### <Pratice Question 4-2-4>\n",
        "\n",
        "For the data merged in <Pratice Question 4-2-3>, pick up some variables such as `Medu`, `Fedu`, `G3_math`, etc. and create a scatterplot and histogram. What trends do you see? Are there any differences from only seeing the numbers of the summary statistics?"
      ]
    },
    {
      "cell_type": "markdown",
      "metadata": {
        "id": "Y_IYE10U9uWP"
      },
      "source": [
        "***"
      ]
    },
    {
      "cell_type": "markdown",
      "metadata": {
        "id": "jOy7do-E9uWQ"
      },
      "source": [
        "## 4-2.4 Advanced: Simple Regression Analysis\n",
        "Keywords: scikit-learn, target variable, explanatory variable, single regression analysis, least squares, coefficient of determination"
      ]
    },
    {
      "cell_type": "markdown",
      "metadata": {
        "id": "uwk2pFGf9uWQ"
      },
      "source": [
        "Next to descriptive statistics, let's learn the basics of regression analysis.\n",
        "Regression analysis is an analysis that predicts numerical values. In machine learning, we make predictions about data, and the basis for this is the simple regression analysis we will discuss here.\n",
        "\n",
        "Earlier, we graphed (scatterplot) the first term math grades and the final term math grades for the student data. From this scatter plot, we can see that there seems to be a relationship between G1 and G3."
      ]
    },
    {
      "cell_type": "code",
      "execution_count": null,
      "metadata": {
        "colab": {
          "base_uri": "https://localhost:8080/",
          "height": 458
        },
        "id": "_pvrStEz9uWQ",
        "outputId": "42ea1da4-458f-449c-98aa-c19748717fb6",
        "scrolled": true
      },
      "outputs": [
        {
          "data": {
            "image/png": "[encoded data removed]",
            "text/plain": [
              "<Figure size 640x480 with 1 Axes>"
            ]
          },
          "metadata": {},
          "output_type": "display_data"
        }
      ],
      "source": [
        "# Scatter plot\n",
        "plt.plot(student_data_math['G1'], student_data_math['G3'], 'o')\n",
        "plt.xlabel('G1 grade')\n",
        "plt.ylabel('G3 grade')\n",
        "plt.grid(True)"
      ]
    },
    {
      "cell_type": "markdown",
      "metadata": {
        "id": "A5VqkLF69uWQ"
      },
      "source": [
        "In regression problems, you assume a relationship equation from the given data and determine the coefficients that best fit the data. Specifically, you predict G3’s score based on the known score of G1. In other words, there is a target variable G3 (referred to as the dependent variable) that you predict using the variable G1 (referred to as the independent variable). This is also one of the methods of 'supervised learning' where the correct answers are provided for each data point during training, forming the basis for calculating the relationships. We will cover 'supervised learning' in the machine learning chapter.\n",
        "\n",
        "Regression analysis methods are broadly divided into two categories in terms of the relationship between outputs (target variables) and inputs (explanatory variables): those with one input variable and those with two or more inputs variables. The former is called simple regression analysis and the latter is called multiple regression analysis. In this section, simple single regression analysis will be explained, and multiple regression analysis will be explained again in a later chapter on machine learning.\n",
        "\n",
        "To fully understand the contents of this section, knowledge of statistics, estimation, and hypothesis testing—topics covered in the next chapter—is required. In fact, most statistics textbooks explain regression analysis only after covering these topics.\n",
        "\n",
        "However, when using Python for regression analysis, you can perform calculations without such prior knowledge by using a high-level library called Scikit-learn. Therefore, in this section, we will first explain how to perform the actual calculations. You should be able to understand this section more deeply if you revisit it later after progressing further.\"\n",
        "\n",
        "### 4-2.4.1 Simple Linear Regression Analysis\n",
        "\n",
        "This section explains how to solve regression problems using the simple linear regression method, which assumes a linear relationship between output and **parameters** ($ y = wx + b $).\n",
        "\n",
        "Simple linear regression analysis can be easily computed using `sklearn.linear_model`, which is available in a library called Scikit-learn, a package for machine learning. This package is also used in the later chapters of machine learning for further various calculations. First, import `linear_model` as follows, then create an instance."
      ]
    },
    {
      "cell_type": "code",
      "execution_count": null,
      "metadata": {
        "id": "dtEnQBa59uWQ"
      },
      "outputs": [],
      "source": [
        "from sklearn import linear_model\n",
        "\n",
        "# Create an instance of linear regression\n",
        "reg = linear_model.LinearRegression()"
      ]
    },
    {
      "cell_type": "markdown",
      "metadata": {
        "id": "NRdZ2LhD9uWR"
      },
      "source": [
        "In the following, a predictive model is calculated using a function called `fit` that sets the explanatory variable (say $X$) and the target variable (say $Y$) data and regresses them linearly.\n",
        "\n",
        "In this case, the `fit` function calculates the regression coefficient $w$ and intercept $b$ using a method called **least squares method**. This method takes the sum of the squares of the differences between the actual and predicted data of the target variable and finds the coefficient and intercept when they are at their minimum. Expressed in equation, $y$ is the actual data and $ f(x) = wx + b $ is the predicted data, and the following equation is calculated to minimize it (the calculation involves differentiating this equation, but the fit function handles it for you, so we’ll skip the details.)."
      ]
    },
    {
      "cell_type": "markdown",
      "metadata": {
        "id": "7s9NeF-A9uWR"
      },
      "source": [
        "\\begin{eqnarray}\n",
        "\\sum^n_{i=1}(y_i-f(x_i))^2\n",
        "\\end{eqnarray}"
      ]
    },
    {
      "cell_type": "code",
      "execution_count": null,
      "metadata": {
        "id": "IYTMpN4R9uWR"
      },
      "outputs": [],
      "source": [
        "# Using \"first period math grade\" as the explanatory variable.\n",
        "# loc retrieves from the data frame, specifying rows and columns. loc[::, ['G1']] retrieves all columns in column G1\n",
        "# Note that it is rewritten to values.\n",
        "X = student_data_math.loc[:, ['G1']].values\n",
        "\n",
        "# The target variable is \"final math grade.\"\n",
        "Y = student_data_math['G3'].values"
      ]
    },
    {
      "cell_type": "code",
      "execution_count": null,
      "metadata": {
        "colab": {
          "base_uri": "https://localhost:8080/",
          "height": 80
        },
        "id": "4VsSmuvgqnMv",
        "outputId": "eb8c7f39-ea9f-4ce7-9cba-068875ac5335"
      },
      "outputs": [
        {
          "data": {
            "text/html": [
              "<style>#sk-container-id-1 {\n",
              "  /* Definition of color scheme common for light and dark mode */\n",
              "  --sklearn-color-text: black;\n",
              "  --sklearn-color-line: gray;\n",
              "  /* Definition of color scheme for unfitted estimators */\n",
              "  --sklearn-color-unfitted-level-0: #fff5e6;\n",
              "  --sklearn-color-unfitted-level-1: #f6e4d2;\n",
              "  --sklearn-color-unfitted-level-2: #ffe0b3;\n",
              "  --sklearn-color-unfitted-level-3: chocolate;\n",
              "  /* Definition of color scheme for fitted estimators */\n",
              "  --sklearn-color-fitted-level-0: #f0f8ff;\n",
              "  --sklearn-color-fitted-level-1: #d4ebff;\n",
              "  --sklearn-color-fitted-level-2: #b3dbfd;\n",
              "  --sklearn-color-fitted-level-3: cornflowerblue;\n",
              "\n",
              "  /* Specific color for light theme */\n",
              "  --sklearn-color-text-on-default-background: var(--sg-text-color, var(--theme-code-foreground, var(--jp-content-font-color1, black)));\n",
              "  --sklearn-color-background: var(--sg-background-color, var(--theme-background, var(--jp-layout-color0, white)));\n",
              "  --sklearn-color-border-box: var(--sg-text-color, var(--theme-code-foreground, var(--jp-content-font-color1, black)));\n",
              "  --sklearn-color-icon: #696969;\n",
              "\n",
              "  @media (prefers-color-scheme: dark) {\n",
              "    /* Redefinition of color scheme for dark theme */\n",
              "    --sklearn-color-text-on-default-background: var(--sg-text-color, var(--theme-code-foreground, var(--jp-content-font-color1, white)));\n",
              "    --sklearn-color-background: var(--sg-background-color, var(--theme-background, var(--jp-layout-color0, #111)));\n",
              "    --sklearn-color-border-box: var(--sg-text-color, var(--theme-code-foreground, var(--jp-content-font-color1, white)));\n",
              "    --sklearn-color-icon: #878787;\n",
              "  }\n",
              "}\n",
              "\n",
              "#sk-container-id-1 {\n",
              "  color: var(--sklearn-color-text);\n",
              "}\n",
              "\n",
              "#sk-container-id-1 pre {\n",
              "  padding: 0;\n",
              "}\n",
              "\n",
              "#sk-container-id-1 input.sk-hidden--visually {\n",
              "  border: 0;\n",
              "  clip: rect(1px 1px 1px 1px);\n",
              "  clip: rect(1px, 1px, 1px, 1px);\n",
              "  height: 1px;\n",
              "  margin: -1px;\n",
              "  overflow: hidden;\n",
              "  padding: 0;\n",
              "  position: absolute;\n",
              "  width: 1px;\n",
              "}\n",
              "\n",
              "#sk-container-id-1 div.sk-dashed-wrapped {\n",
              "  border: 1px dashed var(--sklearn-color-line);\n",
              "  margin: 0 0.4em 0.5em 0.4em;\n",
              "  box-sizing: border-box;\n",
              "  padding-bottom: 0.4em;\n",
              "  background-color: var(--sklearn-color-background);\n",
              "}\n",
              "\n",
              "#sk-container-id-1 div.sk-container {\n",
              "  /* jupyter's `normalize.less` sets `[hidden] { display: none; }`\n",
              "     but bootstrap.min.css set `[hidden] { display: none !important; }`\n",
              "     so we also need the `!important` here to be able to override the\n",
              "     default hidden behavior on the sphinx rendered scikit-learn.org.\n",
              "     See: https://github.com/scikit-learn/scikit-learn/issues/21755 */\n",
              "  display: inline-block !important;\n",
              "  position: relative;\n",
              "}\n",
              "\n",
              "#sk-container-id-1 div.sk-text-repr-fallback {\n",
              "  display: none;\n",
              "}\n",
              "\n",
              "div.sk-parallel-item,\n",
              "div.sk-serial,\n",
              "div.sk-item {\n",
              "  /* draw centered vertical line to link estimators */\n",
              "  background-image: linear-gradient(var(--sklearn-color-text-on-default-background), var(--sklearn-color-text-on-default-background));\n",
              "  background-size: 2px 100%;\n",
              "  background-repeat: no-repeat;\n",
              "  background-position: center center;\n",
              "}\n",
              "\n",
              "/* Parallel-specific style estimator block */\n",
              "\n",
              "#sk-container-id-1 div.sk-parallel-item::after {\n",
              "  content: \"\";\n",
              "  width: 100%;\n",
              "  border-bottom: 2px solid var(--sklearn-color-text-on-default-background);\n",
              "  flex-grow: 1;\n",
              "}\n",
              "\n",
              "#sk-container-id-1 div.sk-parallel {\n",
              "  display: flex;\n",
              "  align-items: stretch;\n",
              "  justify-content: center;\n",
              "  background-color: var(--sklearn-color-background);\n",
              "  position: relative;\n",
              "}\n",
              "\n",
              "#sk-container-id-1 div.sk-parallel-item {\n",
              "  display: flex;\n",
              "  flex-direction: column;\n",
              "}\n",
              "\n",
              "#sk-container-id-1 div.sk-parallel-item:first-child::after {\n",
              "  align-self: flex-end;\n",
              "  width: 50%;\n",
              "}\n",
              "\n",
              "#sk-container-id-1 div.sk-parallel-item:last-child::after {\n",
              "  align-self: flex-start;\n",
              "  width: 50%;\n",
              "}\n",
              "\n",
              "#sk-container-id-1 div.sk-parallel-item:only-child::after {\n",
              "  width: 0;\n",
              "}\n",
              "\n",
              "/* Serial-specific style estimator block */\n",
              "\n",
              "#sk-container-id-1 div.sk-serial {\n",
              "  display: flex;\n",
              "  flex-direction: column;\n",
              "  align-items: center;\n",
              "  background-color: var(--sklearn-color-background);\n",
              "  padding-right: 1em;\n",
              "  padding-left: 1em;\n",
              "}\n",
              "\n",
              "\n",
              "/* Toggleable style: style used for estimator/Pipeline/ColumnTransformer box that is\n",
              "clickable and can be expanded/collapsed.\n",
              "- Pipeline and ColumnTransformer use this feature and define the default style\n",
              "- Estimators will overwrite some part of the style using the `sk-estimator` class\n",
              "*/\n",
              "\n",
              "/* Pipeline and ColumnTransformer style (default) */\n",
              "\n",
              "#sk-container-id-1 div.sk-toggleable {\n",
              "  /* Default theme specific background. It is overwritten whether we have a\n",
              "  specific estimator or a Pipeline/ColumnTransformer */\n",
              "  background-color: var(--sklearn-color-background);\n",
              "}\n",
              "\n",
              "/* Toggleable label */\n",
              "#sk-container-id-1 label.sk-toggleable__label {\n",
              "  cursor: pointer;\n",
              "  display: block;\n",
              "  width: 100%;\n",
              "  margin-bottom: 0;\n",
              "  padding: 0.5em;\n",
              "  box-sizing: border-box;\n",
              "  text-align: center;\n",
              "}\n",
              "\n",
              "#sk-container-id-1 label.sk-toggleable__label-arrow:before {\n",
              "  /* Arrow on the left of the label */\n",
              "  content: \"▸\";\n",
              "  float: left;\n",
              "  margin-right: 0.25em;\n",
              "  color: var(--sklearn-color-icon);\n",
              "}\n",
              "\n",
              "#sk-container-id-1 label.sk-toggleable__label-arrow:hover:before {\n",
              "  color: var(--sklearn-color-text);\n",
              "}\n",
              "\n",
              "/* Toggleable content - dropdown */\n",
              "\n",
              "#sk-container-id-1 div.sk-toggleable__content {\n",
              "  max-height: 0;\n",
              "  max-width: 0;\n",
              "  overflow: hidden;\n",
              "  text-align: left;\n",
              "  /* unfitted */\n",
              "  background-color: var(--sklearn-color-unfitted-level-0);\n",
              "}\n",
              "\n",
              "#sk-container-id-1 div.sk-toggleable__content.fitted {\n",
              "  /* fitted */\n",
              "  background-color: var(--sklearn-color-fitted-level-0);\n",
              "}\n",
              "\n",
              "#sk-container-id-1 div.sk-toggleable__content pre {\n",
              "  margin: 0.2em;\n",
              "  border-radius: 0.25em;\n",
              "  color: var(--sklearn-color-text);\n",
              "  /* unfitted */\n",
              "  background-color: var(--sklearn-color-unfitted-level-0);\n",
              "}\n",
              "\n",
              "#sk-container-id-1 div.sk-toggleable__content.fitted pre {\n",
              "  /* unfitted */\n",
              "  background-color: var(--sklearn-color-fitted-level-0);\n",
              "}\n",
              "\n",
              "#sk-container-id-1 input.sk-toggleable__control:checked~div.sk-toggleable__content {\n",
              "  /* Expand drop-down */\n",
              "  max-height: 200px;\n",
              "  max-width: 100%;\n",
              "  overflow: auto;\n",
              "}\n",
              "\n",
              "#sk-container-id-1 input.sk-toggleable__control:checked~label.sk-toggleable__label-arrow:before {\n",
              "  content: \"▾\";\n",
              "}\n",
              "\n",
              "/* Pipeline/ColumnTransformer-specific style */\n",
              "\n",
              "#sk-container-id-1 div.sk-label input.sk-toggleable__control:checked~label.sk-toggleable__label {\n",
              "  color: var(--sklearn-color-text);\n",
              "  background-color: var(--sklearn-color-unfitted-level-2);\n",
              "}\n",
              "\n",
              "#sk-container-id-1 div.sk-label.fitted input.sk-toggleable__control:checked~label.sk-toggleable__label {\n",
              "  background-color: var(--sklearn-color-fitted-level-2);\n",
              "}\n",
              "\n",
              "/* Estimator-specific style */\n",
              "\n",
              "/* Colorize estimator box */\n",
              "#sk-container-id-1 div.sk-estimator input.sk-toggleable__control:checked~label.sk-toggleable__label {\n",
              "  /* unfitted */\n",
              "  background-color: var(--sklearn-color-unfitted-level-2);\n",
              "}\n",
              "\n",
              "#sk-container-id-1 div.sk-estimator.fitted input.sk-toggleable__control:checked~label.sk-toggleable__label {\n",
              "  /* fitted */\n",
              "  background-color: var(--sklearn-color-fitted-level-2);\n",
              "}\n",
              "\n",
              "#sk-container-id-1 div.sk-label label.sk-toggleable__label,\n",
              "#sk-container-id-1 div.sk-label label {\n",
              "  /* The background is the default theme color */\n",
              "  color: var(--sklearn-color-text-on-default-background);\n",
              "}\n",
              "\n",
              "/* On hover, darken the color of the background */\n",
              "#sk-container-id-1 div.sk-label:hover label.sk-toggleable__label {\n",
              "  color: var(--sklearn-color-text);\n",
              "  background-color: var(--sklearn-color-unfitted-level-2);\n",
              "}\n",
              "\n",
              "/* Label box, darken color on hover, fitted */\n",
              "#sk-container-id-1 div.sk-label.fitted:hover label.sk-toggleable__label.fitted {\n",
              "  color: var(--sklearn-color-text);\n",
              "  background-color: var(--sklearn-color-fitted-level-2);\n",
              "}\n",
              "\n",
              "/* Estimator label */\n",
              "\n",
              "#sk-container-id-1 div.sk-label label {\n",
              "  font-family: monospace;\n",
              "  font-weight: bold;\n",
              "  display: inline-block;\n",
              "  line-height: 1.2em;\n",
              "}\n",
              "\n",
              "#sk-container-id-1 div.sk-label-container {\n",
              "  text-align: center;\n",
              "}\n",
              "\n",
              "/* Estimator-specific */\n",
              "#sk-container-id-1 div.sk-estimator {\n",
              "  font-family: monospace;\n",
              "  border: 1px dotted var(--sklearn-color-border-box);\n",
              "  border-radius: 0.25em;\n",
              "  box-sizing: border-box;\n",
              "  margin-bottom: 0.5em;\n",
              "  /* unfitted */\n",
              "  background-color: var(--sklearn-color-unfitted-level-0);\n",
              "}\n",
              "\n",
              "#sk-container-id-1 div.sk-estimator.fitted {\n",
              "  /* fitted */\n",
              "  background-color: var(--sklearn-color-fitted-level-0);\n",
              "}\n",
              "\n",
              "/* on hover */\n",
              "#sk-container-id-1 div.sk-estimator:hover {\n",
              "  /* unfitted */\n",
              "  background-color: var(--sklearn-color-unfitted-level-2);\n",
              "}\n",
              "\n",
              "#sk-container-id-1 div.sk-estimator.fitted:hover {\n",
              "  /* fitted */\n",
              "  background-color: var(--sklearn-color-fitted-level-2);\n",
              "}\n",
              "\n",
              "/* Specification for estimator info (e.g. \"i\" and \"?\") */\n",
              "\n",
              "/* Common style for \"i\" and \"?\" */\n",
              "\n",
              ".sk-estimator-doc-link,\n",
              "a:link.sk-estimator-doc-link,\n",
              "a:visited.sk-estimator-doc-link {\n",
              "  float: right;\n",
              "  font-size: smaller;\n",
              "  line-height: 1em;\n",
              "  font-family: monospace;\n",
              "  background-color: var(--sklearn-color-background);\n",
              "  border-radius: 1em;\n",
              "  height: 1em;\n",
              "  width: 1em;\n",
              "  text-decoration: none !important;\n",
              "  margin-left: 1ex;\n",
              "  /* unfitted */\n",
              "  border: var(--sklearn-color-unfitted-level-1) 1pt solid;\n",
              "  color: var(--sklearn-color-unfitted-level-1);\n",
              "}\n",
              "\n",
              ".sk-estimator-doc-link.fitted,\n",
              "a:link.sk-estimator-doc-link.fitted,\n",
              "a:visited.sk-estimator-doc-link.fitted {\n",
              "  /* fitted */\n",
              "  border: var(--sklearn-color-fitted-level-1) 1pt solid;\n",
              "  color: var(--sklearn-color-fitted-level-1);\n",
              "}\n",
              "\n",
              "/* On hover */\n",
              "div.sk-estimator:hover .sk-estimator-doc-link:hover,\n",
              ".sk-estimator-doc-link:hover,\n",
              "div.sk-label-container:hover .sk-estimator-doc-link:hover,\n",
              ".sk-estimator-doc-link:hover {\n",
              "  /* unfitted */\n",
              "  background-color: var(--sklearn-color-unfitted-level-3);\n",
              "  color: var(--sklearn-color-background);\n",
              "  text-decoration: none;\n",
              "}\n",
              "\n",
              "div.sk-estimator.fitted:hover .sk-estimator-doc-link.fitted:hover,\n",
              ".sk-estimator-doc-link.fitted:hover,\n",
              "div.sk-label-container:hover .sk-estimator-doc-link.fitted:hover,\n",
              ".sk-estimator-doc-link.fitted:hover {\n",
              "  /* fitted */\n",
              "  background-color: var(--sklearn-color-fitted-level-3);\n",
              "  color: var(--sklearn-color-background);\n",
              "  text-decoration: none;\n",
              "}\n",
              "\n",
              "/* Span, style for the box shown on hovering the info icon */\n",
              ".sk-estimator-doc-link span {\n",
              "  display: none;\n",
              "  z-index: 9999;\n",
              "  position: relative;\n",
              "  font-weight: normal;\n",
              "  right: .2ex;\n",
              "  padding: .5ex;\n",
              "  margin: .5ex;\n",
              "  width: min-content;\n",
              "  min-width: 20ex;\n",
              "  max-width: 50ex;\n",
              "  color: var(--sklearn-color-text);\n",
              "  box-shadow: 2pt 2pt 4pt #999;\n",
              "  /* unfitted */\n",
              "  background: var(--sklearn-color-unfitted-level-0);\n",
              "  border: .5pt solid var(--sklearn-color-unfitted-level-3);\n",
              "}\n",
              "\n",
              ".sk-estimator-doc-link.fitted span {\n",
              "  /* fitted */\n",
              "  background: var(--sklearn-color-fitted-level-0);\n",
              "  border: var(--sklearn-color-fitted-level-3);\n",
              "}\n",
              "\n",
              ".sk-estimator-doc-link:hover span {\n",
              "  display: block;\n",
              "}\n",
              "\n",
              "/* \"?\"-specific style due to the `<a>` HTML tag */\n",
              "\n",
              "#sk-container-id-1 a.estimator_doc_link {\n",
              "  float: right;\n",
              "  font-size: 1rem;\n",
              "  line-height: 1em;\n",
              "  font-family: monospace;\n",
              "  background-color: var(--sklearn-color-background);\n",
              "  border-radius: 1rem;\n",
              "  height: 1rem;\n",
              "  width: 1rem;\n",
              "  text-decoration: none;\n",
              "  /* unfitted */\n",
              "  color: var(--sklearn-color-unfitted-level-1);\n",
              "  border: var(--sklearn-color-unfitted-level-1) 1pt solid;\n",
              "}\n",
              "\n",
              "#sk-container-id-1 a.estimator_doc_link.fitted {\n",
              "  /* fitted */\n",
              "  border: var(--sklearn-color-fitted-level-1) 1pt solid;\n",
              "  color: var(--sklearn-color-fitted-level-1);\n",
              "}\n",
              "\n",
              "/* On hover */\n",
              "#sk-container-id-1 a.estimator_doc_link:hover {\n",
              "  /* unfitted */\n",
              "  background-color: var(--sklearn-color-unfitted-level-3);\n",
              "  color: var(--sklearn-color-background);\n",
              "  text-decoration: none;\n",
              "}\n",
              "\n",
              "#sk-container-id-1 a.estimator_doc_link.fitted:hover {\n",
              "  /* fitted */\n",
              "  background-color: var(--sklearn-color-fitted-level-3);\n",
              "}\n",
              "</style><div id=\"sk-container-id-1\" class=\"sk-top-container\"><div class=\"sk-text-repr-fallback\"><pre>LinearRegression()</pre><b>In a Jupyter environment, please rerun this cell to show the HTML representation or trust the notebook. <br />On GitHub, the HTML representation is unable to render, please try loading this page with nbviewer.org.</b></div><div class=\"sk-container\" hidden><div class=\"sk-item\"><div class=\"sk-estimator fitted sk-toggleable\"><input class=\"sk-toggleable__control sk-hidden--visually\" id=\"sk-estimator-id-1\" type=\"checkbox\" checked><label for=\"sk-estimator-id-1\" class=\"sk-toggleable__label fitted sk-toggleable__label-arrow fitted\">&nbsp;&nbsp;LinearRegression<a class=\"sk-estimator-doc-link fitted\" rel=\"noreferrer\" target=\"_blank\" href=\"https://scikit-learn.org/1.5/modules/generated/sklearn.linear_model.LinearRegression.html\">?<span>Documentation for LinearRegression</span></a><span class=\"sk-estimator-doc-link fitted\">i<span>Fitted</span></span></label><div class=\"sk-toggleable__content fitted\"><pre>LinearRegression()</pre></div> </div></div></div></div>"
            ],
            "text/plain": [
              "LinearRegression()"
            ]
          },
          "execution_count": 47,
          "metadata": {},
          "output_type": "execute_result"
        }
      ],
      "source": [
        "# Compute predictive model, where a and b are calculated\n",
        "reg.fit(X, Y)"
      ]
    },
    {
      "cell_type": "code",
      "execution_count": null,
      "metadata": {
        "colab": {
          "base_uri": "https://localhost:8080/"
        },
        "id": "72BheOVzq1r5",
        "outputId": "a48ee036-fc8a-4a45-b392-7ff11bd405b9"
      },
      "outputs": [
        {
          "name": "stdout",
          "output_type": "stream",
          "text": [
            "Regression coefficient: [1.106]\n"
          ]
        }
      ],
      "source": [
        "# Regression Coefficient\n",
        "print('Regression coefficient:', reg.coef_)"
      ]
    },
    {
      "cell_type": "code",
      "execution_count": null,
      "metadata": {
        "colab": {
          "base_uri": "https://localhost:8080/"
        },
        "id": "iW2AirCTrbJV",
        "outputId": "85a60067-69cd-403a-82b9-b82edbbd7557"
      },
      "outputs": [
        {
          "name": "stdout",
          "output_type": "stream",
          "text": [
            "Intercept: -1.6528038288004634\n"
          ]
        }
      ],
      "source": [
        "# Intercept\n",
        "print('Intercept:', reg.intercept_)"
      ]
    },
    {
      "cell_type": "code",
      "execution_count": null,
      "metadata": {
        "colab": {
          "base_uri": "https://localhost:8080/"
        },
        "id": "1ZRcKsjGqtf5",
        "outputId": "c4dd5270-797a-4c2b-82fa-33f500775f91"
      },
      "outputs": [
        {
          "name": "stdout",
          "output_type": "stream",
          "text": [
            "[ 3.878  3.878  6.091 14.941  4.985 14.941 11.622  4.985 16.047 13.835\n",
            "  9.41   9.41  13.835  9.41  13.835 13.835 12.729  7.197  4.985  7.197\n",
            " 12.729 11.622 14.941 12.729  9.41   4.985 11.622 14.941 10.516  9.41\n",
            "  8.304 17.154 17.154  7.197 11.622  7.197 14.941 14.941 11.622 13.835\n",
            "  6.091 11.622 19.366  7.197  9.41   7.197 10.516 19.366 14.941  6.091\n",
            " 11.622 10.516 10.516  7.197  9.41   7.197 13.835 13.835  8.304 14.941\n",
            "  9.41   9.41   7.197  9.41   9.41  16.047 12.729  6.091  7.197 16.047\n",
            " 12.729  9.41   7.197 11.622 10.516  8.304 10.516 10.516  7.197  3.878\n",
            "  9.41  10.516  6.091 14.941  8.304  6.091  7.197 12.729 10.516  7.197\n",
            "  6.091 16.047  6.091 10.516 10.516  6.091 10.516  7.197 10.516  6.091\n",
            "  6.091 16.047  9.41   6.091 16.047  9.41   6.091 16.047  9.41  13.835\n",
            " 18.26   6.091  9.41  18.26   8.304 14.941 10.516 12.729  8.304 13.835\n",
            " 16.047 16.047 12.729 13.835  7.197 12.729  6.091  6.091  6.091 18.26\n",
            " 11.622  7.197  9.41  11.622  8.304 10.516  9.41   2.772 13.835 16.047\n",
            "  6.091  8.304  8.304 13.835  3.878  7.197  4.985  9.41   6.091  7.197\n",
            "  4.985 11.622  9.41   3.878 10.516 10.516 16.047  8.304 17.154  9.41\n",
            "  6.091  3.878  6.091  9.41   3.878 11.622  9.41  13.835  4.985 13.835\n",
            "  4.985 12.729 12.729  7.197  9.41   9.41  12.729  4.985  9.41   9.41\n",
            "  8.304 11.622 16.047  8.304 11.622 11.622 10.516 14.941  7.197  7.197\n",
            " 10.516  7.197  6.091  7.197 12.729 13.835 17.154  8.304 18.26   8.304\n",
            " 16.047  7.197  8.304  6.091  9.41   9.41   6.091 10.516  8.304  6.091\n",
            "  7.197 11.622 11.622  4.985  7.197 13.835  4.985  4.985  6.091  8.304\n",
            "  4.985  4.985 16.047 11.622 12.729  8.304 16.047 11.622  9.41  11.622\n",
            " 12.729 10.516 10.516 13.835  8.304 10.516 13.835 12.729 12.729  6.091\n",
            " 11.622  9.41   4.985 12.729  6.091 18.26  11.622  4.985  1.666 12.729\n",
            "  4.985  6.091  4.985  7.197  7.197  6.091 13.835 10.516 14.941  9.41\n",
            " 17.154  7.197 12.729  9.41   8.304 17.154  8.304 11.622  9.41   4.985\n",
            "  8.304 14.941 10.516 14.941  9.41  11.622  9.41   8.304  8.304  9.41\n",
            "  7.197 10.516 11.622  7.197  9.41  11.622 18.26  12.729 14.941 14.941\n",
            " 11.622 14.941 11.622 18.26  13.835 13.835  9.41   9.41  13.835 16.047\n",
            " 11.622 10.516 14.941 17.154 14.941 13.835 17.154  7.197 14.941 11.622\n",
            "  8.304 13.835 12.729 12.729 14.941 12.729  7.197  8.304 10.516 10.516\n",
            " 12.729 10.516 10.516 11.622 16.047  8.304 13.835 10.516  9.41  13.835\n",
            "  8.304 11.622  6.091  7.197  9.41  16.047 13.835  6.091 16.047  8.304\n",
            " 10.516  9.41  16.047  8.304 10.516 12.729 16.047  9.41  12.729 10.516\n",
            "  7.197 12.729  7.197  7.197 12.729  9.41  11.622 11.622  9.41  18.26\n",
            " 12.729 12.729 10.516 16.047 11.622  9.41  12.729  6.091 10.516 13.835\n",
            "  6.091 13.835 12.729  4.985 19.366  7.197 14.941  7.197 14.941  9.41\n",
            " 14.941  6.091 10.516  4.985  4.985  9.41   4.985  6.091  6.091  4.985\n",
            "  8.304 13.835  9.41  10.516  7.197]\n"
          ]
        }
      ],
      "source": [
        "# Predict the target variable from the explanatory variables\n",
        "y_pred = reg.predict(X)\n",
        "print(y_pred)"
      ]
    },
    {
      "cell_type": "code",
      "execution_count": null,
      "metadata": {
        "colab": {
          "base_uri": "https://localhost:8080/"
        },
        "id": "rGcHG3SxsQg-",
        "outputId": "80784495-2170-44b5-b13d-b327fe02f69f"
      },
      "outputs": [
        {
          "data": {
            "text/plain": [
              "array([[ 5],\n",
              "       [ 5],\n",
              "       [ 7],\n",
              "       [15],\n",
              "       [ 6],\n",
              "       [15],\n",
              "       [12],\n",
              "       [ 6],\n",
              "       [16],\n",
              "       [14],\n",
              "       [10],\n",
              "       [10],\n",
              "       [14],\n",
              "       [10],\n",
              "       [14],\n",
              "       [14],\n",
              "       [13],\n",
              "       [ 8],\n",
              "       [ 6],\n",
              "       [ 8],\n",
              "       [13],\n",
              "       [12],\n",
              "       [15],\n",
              "       [13],\n",
              "       [10],\n",
              "       [ 6],\n",
              "       [12],\n",
              "       [15],\n",
              "       [11],\n",
              "       [10],\n",
              "       [ 9],\n",
              "       [17],\n",
              "       [17],\n",
              "       [ 8],\n",
              "       [12],\n",
              "       [ 8],\n",
              "       [15],\n",
              "       [15],\n",
              "       [12],\n",
              "       [14],\n",
              "       [ 7],\n",
              "       [12],\n",
              "       [19],\n",
              "       [ 8],\n",
              "       [10],\n",
              "       [ 8],\n",
              "       [11],\n",
              "       [19],\n",
              "       [15],\n",
              "       [ 7],\n",
              "       [12],\n",
              "       [11],\n",
              "       [11],\n",
              "       [ 8],\n",
              "       [10],\n",
              "       [ 8],\n",
              "       [14],\n",
              "       [14],\n",
              "       [ 9],\n",
              "       [15],\n",
              "       [10],\n",
              "       [10],\n",
              "       [ 8],\n",
              "       [10],\n",
              "       [10],\n",
              "       [16],\n",
              "       [13],\n",
              "       [ 7],\n",
              "       [ 8],\n",
              "       [16],\n",
              "       [13],\n",
              "       [10],\n",
              "       [ 8],\n",
              "       [12],\n",
              "       [11],\n",
              "       [ 9],\n",
              "       [11],\n",
              "       [11],\n",
              "       [ 8],\n",
              "       [ 5],\n",
              "       [10],\n",
              "       [11],\n",
              "       [ 7],\n",
              "       [15],\n",
              "       [ 9],\n",
              "       [ 7],\n",
              "       [ 8],\n",
              "       [13],\n",
              "       [11],\n",
              "       [ 8],\n",
              "       [ 7],\n",
              "       [16],\n",
              "       [ 7],\n",
              "       [11],\n",
              "       [11],\n",
              "       [ 7],\n",
              "       [11],\n",
              "       [ 8],\n",
              "       [11],\n",
              "       [ 7],\n",
              "       [ 7],\n",
              "       [16],\n",
              "       [10],\n",
              "       [ 7],\n",
              "       [16],\n",
              "       [10],\n",
              "       [ 7],\n",
              "       [16],\n",
              "       [10],\n",
              "       [14],\n",
              "       [18],\n",
              "       [ 7],\n",
              "       [10],\n",
              "       [18],\n",
              "       [ 9],\n",
              "       [15],\n",
              "       [11],\n",
              "       [13],\n",
              "       [ 9],\n",
              "       [14],\n",
              "       [16],\n",
              "       [16],\n",
              "       [13],\n",
              "       [14],\n",
              "       [ 8],\n",
              "       [13],\n",
              "       [ 7],\n",
              "       [ 7],\n",
              "       [ 7],\n",
              "       [18],\n",
              "       [12],\n",
              "       [ 8],\n",
              "       [10],\n",
              "       [12],\n",
              "       [ 9],\n",
              "       [11],\n",
              "       [10],\n",
              "       [ 4],\n",
              "       [14],\n",
              "       [16],\n",
              "       [ 7],\n",
              "       [ 9],\n",
              "       [ 9],\n",
              "       [14],\n",
              "       [ 5],\n",
              "       [ 8],\n",
              "       [ 6],\n",
              "       [10],\n",
              "       [ 7],\n",
              "       [ 8],\n",
              "       [ 6],\n",
              "       [12],\n",
              "       [10],\n",
              "       [ 5],\n",
              "       [11],\n",
              "       [11],\n",
              "       [16],\n",
              "       [ 9],\n",
              "       [17],\n",
              "       [10],\n",
              "       [ 7],\n",
              "       [ 5],\n",
              "       [ 7],\n",
              "       [10],\n",
              "       [ 5],\n",
              "       [12],\n",
              "       [10],\n",
              "       [14],\n",
              "       [ 6],\n",
              "       [14],\n",
              "       [ 6],\n",
              "       [13],\n",
              "       [13],\n",
              "       [ 8],\n",
              "       [10],\n",
              "       [10],\n",
              "       [13],\n",
              "       [ 6],\n",
              "       [10],\n",
              "       [10],\n",
              "       [ 9],\n",
              "       [12],\n",
              "       [16],\n",
              "       [ 9],\n",
              "       [12],\n",
              "       [12],\n",
              "       [11],\n",
              "       [15],\n",
              "       [ 8],\n",
              "       [ 8],\n",
              "       [11],\n",
              "       [ 8],\n",
              "       [ 7],\n",
              "       [ 8],\n",
              "       [13],\n",
              "       [14],\n",
              "       [17],\n",
              "       [ 9],\n",
              "       [18],\n",
              "       [ 9],\n",
              "       [16],\n",
              "       [ 8],\n",
              "       [ 9],\n",
              "       [ 7],\n",
              "       [10],\n",
              "       [10],\n",
              "       [ 7],\n",
              "       [11],\n",
              "       [ 9],\n",
              "       [ 7],\n",
              "       [ 8],\n",
              "       [12],\n",
              "       [12],\n",
              "       [ 6],\n",
              "       [ 8],\n",
              "       [14],\n",
              "       [ 6],\n",
              "       [ 6],\n",
              "       [ 7],\n",
              "       [ 9],\n",
              "       [ 6],\n",
              "       [ 6],\n",
              "       [16],\n",
              "       [12],\n",
              "       [13],\n",
              "       [ 9],\n",
              "       [16],\n",
              "       [12],\n",
              "       [10],\n",
              "       [12],\n",
              "       [13],\n",
              "       [11],\n",
              "       [11],\n",
              "       [14],\n",
              "       [ 9],\n",
              "       [11],\n",
              "       [14],\n",
              "       [13],\n",
              "       [13],\n",
              "       [ 7],\n",
              "       [12],\n",
              "       [10],\n",
              "       [ 6],\n",
              "       [13],\n",
              "       [ 7],\n",
              "       [18],\n",
              "       [12],\n",
              "       [ 6],\n",
              "       [ 3],\n",
              "       [13],\n",
              "       [ 6],\n",
              "       [ 7],\n",
              "       [ 6],\n",
              "       [ 8],\n",
              "       [ 8],\n",
              "       [ 7],\n",
              "       [14],\n",
              "       [11],\n",
              "       [15],\n",
              "       [10],\n",
              "       [17],\n",
              "       [ 8],\n",
              "       [13],\n",
              "       [10],\n",
              "       [ 9],\n",
              "       [17],\n",
              "       [ 9],\n",
              "       [12],\n",
              "       [10],\n",
              "       [ 6],\n",
              "       [ 9],\n",
              "       [15],\n",
              "       [11],\n",
              "       [15],\n",
              "       [10],\n",
              "       [12],\n",
              "       [10],\n",
              "       [ 9],\n",
              "       [ 9],\n",
              "       [10],\n",
              "       [ 8],\n",
              "       [11],\n",
              "       [12],\n",
              "       [ 8],\n",
              "       [10],\n",
              "       [12],\n",
              "       [18],\n",
              "       [13],\n",
              "       [15],\n",
              "       [15],\n",
              "       [12],\n",
              "       [15],\n",
              "       [12],\n",
              "       [18],\n",
              "       [14],\n",
              "       [14],\n",
              "       [10],\n",
              "       [10],\n",
              "       [14],\n",
              "       [16],\n",
              "       [12],\n",
              "       [11],\n",
              "       [15],\n",
              "       [17],\n",
              "       [15],\n",
              "       [14],\n",
              "       [17],\n",
              "       [ 8],\n",
              "       [15],\n",
              "       [12],\n",
              "       [ 9],\n",
              "       [14],\n",
              "       [13],\n",
              "       [13],\n",
              "       [15],\n",
              "       [13],\n",
              "       [ 8],\n",
              "       [ 9],\n",
              "       [11],\n",
              "       [11],\n",
              "       [13],\n",
              "       [11],\n",
              "       [11],\n",
              "       [12],\n",
              "       [16],\n",
              "       [ 9],\n",
              "       [14],\n",
              "       [11],\n",
              "       [10],\n",
              "       [14],\n",
              "       [ 9],\n",
              "       [12],\n",
              "       [ 7],\n",
              "       [ 8],\n",
              "       [10],\n",
              "       [16],\n",
              "       [14],\n",
              "       [ 7],\n",
              "       [16],\n",
              "       [ 9],\n",
              "       [11],\n",
              "       [10],\n",
              "       [16],\n",
              "       [ 9],\n",
              "       [11],\n",
              "       [13],\n",
              "       [16],\n",
              "       [10],\n",
              "       [13],\n",
              "       [11],\n",
              "       [ 8],\n",
              "       [13],\n",
              "       [ 8],\n",
              "       [ 8],\n",
              "       [13],\n",
              "       [10],\n",
              "       [12],\n",
              "       [12],\n",
              "       [10],\n",
              "       [18],\n",
              "       [13],\n",
              "       [13],\n",
              "       [11],\n",
              "       [16],\n",
              "       [12],\n",
              "       [10],\n",
              "       [13],\n",
              "       [ 7],\n",
              "       [11],\n",
              "       [14],\n",
              "       [ 7],\n",
              "       [14],\n",
              "       [13],\n",
              "       [ 6],\n",
              "       [19],\n",
              "       [ 8],\n",
              "       [15],\n",
              "       [ 8],\n",
              "       [15],\n",
              "       [10],\n",
              "       [15],\n",
              "       [ 7],\n",
              "       [11],\n",
              "       [ 6],\n",
              "       [ 6],\n",
              "       [10],\n",
              "       [ 6],\n",
              "       [ 7],\n",
              "       [ 7],\n",
              "       [ 6],\n",
              "       [ 9],\n",
              "       [14],\n",
              "       [10],\n",
              "       [11],\n",
              "       [ 8]])"
            ]
          },
          "execution_count": 51,
          "metadata": {},
          "output_type": "execute_result"
        }
      ],
      "source": [
        "X"
      ]
    },
    {
      "cell_type": "markdown",
      "metadata": {
        "id": "bvj54DUA9uWR"
      },
      "source": [
        "The regression coefficient above corresponds to $ w $ in the linear regression equation $ y = wx + b $, and the intercept corresponds to $b$. Let's draw the predicted linear regression equation overlaid on the scatterplot from earlier. The $Y$, or the final math grade G3 that we want to predict, can be calculated by using `predict` and putting the explanatory variables in parentheses."
      ]
    },
    {
      "cell_type": "code",
      "execution_count": null,
      "metadata": {
        "colab": {
          "base_uri": "https://localhost:8080/",
          "height": 458
        },
        "id": "QN3Rb47V9uWR",
        "outputId": "16b7483a-617e-4efa-bd82-b97c3c167ad0"
      },
      "outputs": [
        {
          "data": {
            "image/png": "[encoded data removed]",
            "text/plain": [
              "<Figure size 640x480 with 1 Axes>"
            ]
          },
          "metadata": {},
          "output_type": "display_data"
        }
      ],
      "source": [
        "# Same scatter plot as before\n",
        "plt.scatter(X, Y)\n",
        "plt.xlabel('G1 grade')\n",
        "plt.ylabel('G3 grade')\n",
        "\n",
        "# Draw a linear regression line on it\n",
        "plt.plot(X, reg.predict(X))\n",
        "plt.grid(True)"
      ]
    },
    {
      "cell_type": "markdown",
      "metadata": {
        "id": "X_a-WqS69uWS"
      },
      "source": [
        "### 4-2.4.2 Coefficient of Determination\n",
        "\n",
        "Looking at the above graph, it appears that the forecasting equation predicts the actual values well, but it is not possible to determine what this means objectively. Therefore, the **coefficient of determination** is used to quantify it. The coefficient of determination is also called the contribution ratio. The definition is as follows. The coefficient of determination is commonly denoted as $R^2$."
      ]
    },
    {
      "cell_type": "markdown",
      "metadata": {
        "id": "QVelRsND9uWS"
      },
      "source": [
        "\\begin{eqnarray}\n",
        "R^2 = 1 - \\frac{\\sum_{i = 1}^n(y_i - f(x_i))^2}{\\sum_{i = 1}^{n}(y_i - \\bar{y})^2}\n",
        "\\end{eqnarray}"
      ]
    },
    {
      "cell_type": "markdown",
      "metadata": {
        "id": "9lvie5Sr9uWS"
      },
      "source": [
        "The $R^2$ takes a value of at most 1, and the closer to 1, the better the model. The $\\bar{y}$ is the mean value of the target variable. If the squared error is equal to that obtained by always predicting with $\\bar{y}$ (a constant) without an explanatory variable, then $R^2=0$. To find the coefficient of determination using Python, use `score` to do the following."
      ]
    },
    {
      "cell_type": "code",
      "execution_count": null,
      "metadata": {
        "colab": {
          "base_uri": "https://localhost:8080/"
        },
        "id": "Imz_GRRP9uWS",
        "outputId": "817ed0b7-5583-42de-dfdb-da8ab795fb7d"
      },
      "outputs": [
        {
          "name": "stdout",
          "output_type": "stream",
          "text": [
            "Coefficient : 0.6423508460522701\n"
          ]
        }
      ],
      "source": [
        "# Coefficient of Determination, also called contribution ratio\n",
        "print('Coefficient :', reg.score(X, Y))"
      ]
    },
    {
      "cell_type": "markdown",
      "metadata": {
        "id": "5VFt4ndk9uWS"
      },
      "source": [
        "In addition, there is the question of how high this coefficient of determination value should be. In textbook data and problems, it is often 0.9 or higher, but in practice, it is not always possible to get that high, and it is a case-by-case basis how to determine it. Incidentally, 0.64 above is not high, but it is also not unusable when viewed at the field level.\n",
        "\n",
        "This concludes the explanation of single regression analysis and this chapter. The rest of the chapter will be questions and comprehensive exercises. Please take on the challenge."
      ]
    },
    {
      "cell_type": "markdown",
      "metadata": {
        "id": "FVVEVJYH9uWS"
      },
      "source": [
        "#### <Practice Question 4-2-5>\n",
        "\n",
        "Using the data from student-por.csv, the Portuguese grade data, perform a single regression analysis with `G3` as the target variable and `G1` as the explanatory variable and find the regression coefficient, intercept and coefficient of determination."
      ]
    },
    {
      "cell_type": "markdown",
      "metadata": {
        "id": "U4UXJggm9uWT"
      },
      "source": [
        "#### <Pratice Question 4-2-6>\n",
        "\n",
        "Graph the actual scatterplot of the data from <Practice Question 4-2-5> together with the regression line."
      ]
    },
    {
      "cell_type": "markdown",
      "metadata": {
        "id": "-7Un4pVS9uWT"
      },
      "source": [
        "#### <Pratice Question 4-2-7>\n",
        "\n",
        "Using the data in student-por.csv, perform a single regression analysis with `G3` as the target variable and `absences` (number of absences) as the explanatory variable and find the regression coefficient, intercept and coefficient of determination. Also, graph the scatterplot and regression line and discuss these results."
      ]
    },
    {
      "cell_type": "markdown",
      "metadata": {
        "id": "VxAg8ZpL9uWT"
      },
      "source": [
        "***"
      ]
    },
    {
      "cell_type": "markdown",
      "metadata": {
        "id": "MnWl-6cV9uWX"
      },
      "source": [
        "## 4-2.5 Comprehensive Question"
      ]
    },
    {
      "cell_type": "markdown",
      "metadata": {
        "id": "8p1mk9ex9uWX"
      },
      "source": [
        "### Comprehensive Question 4-2-1 Statistical Basics and Visualization\n",
        "\n",
        "Please read the data (wine quality) on the following website and answer the following questions\n",
        "\n",
        "http://archive.ics.uci.edu/ml/machine-learning-databases/wine-quality/winequality-red.csv\n",
        "\n",
        "(1) Calculate the summary statistics (mean, maximum, minimum, standard deviation, etc.).\n",
        "\n",
        "(2) Graph the distribution of each variable and the relationship between each variable (between two variables only). Are there any trends that you can identify?"
      ]
    },
    {
      "cell_type": "markdown",
      "metadata": {
        "id": "Ul2Gl92_9uWX"
      },
      "source": [
        "### Comprehensive Question 4-2-2 Lorenz Curve and Gini Coefficient\n",
        "\n",
        "Please answer the following questions using the sample data student_data_math data used in this chapter. The Lorenz curve and Gini coefficient, which are treated here, are used as indicators to look at disparities in wealth (by region, country, etc.) (Note that this question is a bit challenging and should be viewed only as a reference. (For more details, please refer to literature such as the Introduction to Statistics previously mentioned or search the Internet).\n",
        "\n",
        "(1) For the mathematical data of the first term, sort the data by gender in ascending order. Then, take the cumulative ratio of the number of people on the horizontal axis and the cumulative ratio of the first term values on the vertical axis. This curve is called the Lorenz curve. Plot this Lorenz curve on a graph of first term math scores by gender.\n",
        "\n",
        "(2) The numerical expression of the degree of inequality is called the Gini coefficient. This value is defined as twice the area of the area bounded by the Lorenz curve and the 45 degree line, and takes a value between 0 and 1. The larger the value, the greater the degree of inequality. The Gini coefficient can be defined as follows where $\\overline{x}$ is the mean value.\n",
        "\n",
        "\\begin{eqnarray}\n",
        "GI=\\sum_{i}\\sum_{j}\\left| \\frac{x_i-x_j}{2n^2 \\overline{x}}\\right|\n",
        "\\end{eqnarray}\n",
        "\n",
        "Using this, find the Gini coefficient for each of the first term grades for men and women."
      ]
    },
    {
      "cell_type": "markdown",
      "metadata": {
        "id": "YrTvmmZF9uWY"
      },
      "source": [
        "***"
      ]
    },
    {
      "cell_type": "markdown",
      "metadata": {
        "id": "25XJK-PDAIIT"
      },
      "source": [
        "**Acknowledgements**: For use of the following two datasets\n",
        "1. https://archive.ics.uci.edu/ml/machine-learning-databases/00320/student.zip\n",
        "2. http://archive.ics.uci.edu/ml/machine-learning-databases/wine-quality/winequality-red.csv\n",
        "\n",
        "**References**: Dua, D. and Graff, C. (2019). UCI Machine Learning Repository [[http://archive.ics.uci.edu/ml](http://archive.ics.uci.edu/ml)]. Irvine, CA: University of California, School of Information and Computer Science.\n",
        "\n",
        "- Note on citation of dataset in 1:   \n",
        "P. Cortez and A. Silva. Using Data Mining to Predict Secondary School Student Performance. In A. Brito and J. Teixeira Eds., Proceedings of 5th FUture BUsiness TEChnology Conference (FUBUTEC 2008) pp.5-12, Porto, Portugal, April, 2008, EUROSIS, ISBN 978-9077381-39-7.\n",
        "[http://www3.dsi.uminho.pt/pcortez/student.pdf](http://www3.dsi.uminho.pt/pcortez/student.pdf)  \n",
        "\n",
        "- Note on citation of dataset in 2:   \n",
        "P. Cortez, A. Cerdeira, F. Almeida, T. Matos and J. Reis.\n",
        "Modeling wine preferences by data mining from physicochemical properties. In Decision Support Systems, Elsevier, 47(4):547-553, 2009."
      ]
    },
    {
      "cell_type": "markdown",
      "metadata": {
        "id": "dedOp0xB7Qxo"
      },
      "source": [
        "- A-5:  \n",
        "[Introduction to Statistics (Basic Statistics I)]Toukeigaku nyumon(Kiso Toukeigaku I)(in Japanese).(published by University of Tokyo Publishing, ISBN:978-4130420655)  \n",
        "\n",
        "  [Statistics]Toukeigaku(in Japanese).(published by University of Tokyo Publishing, ISBN:978-4130629218)  \n",
        "\n",
        "  [Statistics]Toukeigaku(in Japanese).(published by Yuhikaku)  \n",
        "\n",
        "\n",
        "- A-9:  \n",
        "[Fundamental Calculus for Engineers: Mastering the Mathematics Essential for Machine Learning\n",
        "]Gijutusya no tameno kiso kaisekigaku: Kikai gakusyu ni hitsuyou na sugaku wo honkide manabu(in Japanese).(Shoeisha, ISBN:978-4798155357)  \n",
        "\n",
        "  [Linear Algebra for Engineers: Mastering the Fundamentals of University-Level Mathematics]Gijutusya no tameno senkei daisugaku: Daigaku no kiso sugaku wo honkide manabu(in Japanese).(Shoeisha, ISBN:978-4798155364)  \n",
        "\n",
        "  [Probability and Statistics for Engineers: Mastering the Fundamentals of University-Level Mathematics]Gijutusya no tameno kakuritsu tokei: Daigaku no kiso sugaku wo honkide manabu(in Japanese).(Shoeisha, ISBN:978-4798155364)  \n",
        "\n",
        "\n",
        "- B-10:  \n",
        "[Time for Statistics]Tokeigaku no jikan(in japanese)https://bellcurve.jp/statistics/course/#step1%22  "
      ]
    }
  ],
  "metadata": {
    "anaconda-cloud": {},
    "colab": {
      "collapsed_sections": [
        "U4UXJggm9uWT",
        "8p1mk9ex9uWX"
      ],
      "provenance": [],
      "include_colab_link": true
    },
    "kernelspec": {
      "display_name": "gci2020",
      "language": "python",
      "name": "gci2020"
    },
    "language_info": {
      "codemirror_mode": {
        "name": "ipython",
        "version": 3
      },
      "file_extension": ".py",
      "mimetype": "text/x-python",
      "name": "python",
      "nbconvert_exporter": "python",
      "pygments_lexer": "ipython3",
      "version": "3.6.10-final"
    },
    "nbpresent": {
      "slides": {
        "008a788b-b456-4a0c-8288-6f60967c483e": {
          "id": "008a788b-b456-4a0c-8288-6f60967c483e",
          "prev": "17036b1e-8781-4a7e-a909-a179f499bbc9",
          "regions": {
            "072dbee3-3b47-4389-a934-e0168ebd835e": {
              "attrs": {
                "height": 0.8,
                "width": 0.8,
                "x": 0.1,
                "y": 0.1
              },
              "content": {
                "cell": "378cb846-5485-41d5-9983-fec98a22072a",
                "part": "whole"
              },
              "id": "072dbee3-3b47-4389-a934-e0168ebd835e"
            }
          }
        },
        "01ab9067-898c-46a1-91d9-18ca4fe5a937": {
          "id": "01ab9067-898c-46a1-91d9-18ca4fe5a937",
          "prev": "008a788b-b456-4a0c-8288-6f60967c483e",
          "regions": {
            "42da7aa5-8de9-4631-8abe-4ab35c510140": {
              "attrs": {
                "height": 0.8,
                "width": 0.8,
                "x": 0.1,
                "y": 0.1
              },
              "content": {
                "cell": "7f0f7ef4-e90b-41de-8f73-6165e1b3c1cb",
                "part": "whole"
              },
              "id": "42da7aa5-8de9-4631-8abe-4ab35c510140"
            }
          }
        },
        "02225e5f-f35d-40ef-8f23-5431b19121ab": {
          "id": "02225e5f-f35d-40ef-8f23-5431b19121ab",
          "prev": "430a8f03-8947-469c-a376-2f271448284d",
          "regions": {
            "5bf42e3a-831e-4238-ae19-d2212b26edc0": {
              "attrs": {
                "height": 0.8,
                "width": 0.8,
                "x": 0.1,
                "y": 0.1
              },
              "content": {
                "cell": "c68c4e4e-072e-4620-a325-3ebb19ebe1ce",
                "part": "whole"
              },
              "id": "5bf42e3a-831e-4238-ae19-d2212b26edc0"
            }
          }
        },
        "094d2d0d-c7e5-40bc-bed7-bd80198e8e18": {
          "id": "094d2d0d-c7e5-40bc-bed7-bd80198e8e18",
          "prev": "de950ae7-a7c1-424c-afe2-42f481db181e",
          "regions": {
            "95429590-c6e8-4e00-a061-62d2a454c52f": {
              "attrs": {
                "height": 0.8,
                "width": 0.8,
                "x": 0.1,
                "y": 0.1
              },
              "content": {
                "cell": "aa08360f-e7dd-4647-bbfb-cadd5f19af31",
                "part": "whole"
              },
              "id": "95429590-c6e8-4e00-a061-62d2a454c52f"
            }
          }
        },
        "0aa8229e-9b5c-4f49-bd1e-34de4cd2e82f": {
          "id": "0aa8229e-9b5c-4f49-bd1e-34de4cd2e82f",
          "prev": "11f1d1c4-4848-4b7d-a62d-5427e055bbe3",
          "regions": {
            "9504ff07-d651-4294-ba2e-a89ec52ca708": {
              "attrs": {
                "height": 0.8,
                "width": 0.8,
                "x": 0.1,
                "y": 0.1
              },
              "content": {
                "cell": "e73995f2-c960-4881-b3d3-82c24b06c64c",
                "part": "whole"
              },
              "id": "9504ff07-d651-4294-ba2e-a89ec52ca708"
            }
          }
        },
        "0c50d9ca-fef0-4e5c-8a4e-f18d1c2dbb9e": {
          "id": "0c50d9ca-fef0-4e5c-8a4e-f18d1c2dbb9e",
          "prev": "b248eaf4-2e85-4c32-8f88-7b2ef510ee7c",
          "regions": {
            "8b734704-6740-44f7-8c87-17350c882ed3": {
              "attrs": {
                "height": 0.8,
                "width": 0.8,
                "x": 0.1,
                "y": 0.1
              },
              "content": {
                "cell": "cc42c471-e943-450e-a441-3dc962f1c40d",
                "part": "whole"
              },
              "id": "8b734704-6740-44f7-8c87-17350c882ed3"
            }
          }
        },
        "107cd2c7-0a77-4fd7-922b-56df6615dcca": {
          "id": "107cd2c7-0a77-4fd7-922b-56df6615dcca",
          "prev": "2e7deda1-5486-4b26-8e0a-c91e4c88dbe8",
          "regions": {
            "2ee1a19b-7a00-46b1-b393-485ddb7c2b9b": {
              "attrs": {
                "height": 0.8,
                "width": 0.8,
                "x": 0.1,
                "y": 0.1
              },
              "content": {
                "cell": "d27b23aa-809c-4965-8399-5e67901e2ae4",
                "part": "whole"
              },
              "id": "2ee1a19b-7a00-46b1-b393-485ddb7c2b9b"
            }
          }
        },
        "11f1d1c4-4848-4b7d-a62d-5427e055bbe3": {
          "id": "11f1d1c4-4848-4b7d-a62d-5427e055bbe3",
          "prev": "9461c0f4-d87e-441d-915d-95c69b105ecb",
          "regions": {
            "185d0c6f-1e15-43e1-81f5-1234d5ac3ade": {
              "attrs": {
                "height": 0.8,
                "width": 0.8,
                "x": 0.1,
                "y": 0.1
              },
              "content": {
                "cell": "18703937-12da-40b5-960d-e7a50467e7d0",
                "part": "whole"
              },
              "id": "185d0c6f-1e15-43e1-81f5-1234d5ac3ade"
            }
          }
        },
        "17036b1e-8781-4a7e-a909-a179f499bbc9": {
          "id": "17036b1e-8781-4a7e-a909-a179f499bbc9",
          "prev": "5494c0f6-12d4-4627-9481-26c7858f8f09",
          "regions": {
            "4757fb07-c8f0-49b5-bb28-9a5bb61995ff": {
              "attrs": {
                "height": 0.8,
                "width": 0.8,
                "x": 0.1,
                "y": 0.1
              },
              "content": {
                "cell": "6452b3ab-84b7-4f3c-b74f-ae118e4ed9f2",
                "part": "whole"
              },
              "id": "4757fb07-c8f0-49b5-bb28-9a5bb61995ff"
            }
          }
        },
        "1d02d174-1ae1-4900-bb8e-92083b3f723b": {
          "id": "1d02d174-1ae1-4900-bb8e-92083b3f723b",
          "prev": "466c6928-dc5e-4aeb-abad-2dbb2c797793",
          "regions": {
            "2e5e7aee-fec1-4322-82df-30c9bda076ce": {
              "attrs": {
                "height": 0.8,
                "width": 0.8,
                "x": 0.1,
                "y": 0.1
              },
              "content": {
                "cell": "e89daf11-82d5-4ae2-905b-b73662884e4e",
                "part": "whole"
              },
              "id": "2e5e7aee-fec1-4322-82df-30c9bda076ce"
            }
          }
        },
        "26984d6c-6cdd-4fb6-a80c-b16f643b3802": {
          "id": "26984d6c-6cdd-4fb6-a80c-b16f643b3802",
          "prev": "dfaeb098-c3a9-4980-ae35-70f9b6296a7d",
          "regions": {
            "e3a7924f-b4ad-4919-b97c-a9f0da0027ec": {
              "attrs": {
                "height": 0.8,
                "width": 0.8,
                "x": 0.1,
                "y": 0.1
              },
              "content": {
                "cell": "5683d4a6-3bdb-44ea-8a8e-6203da028f73",
                "part": "whole"
              },
              "id": "e3a7924f-b4ad-4919-b97c-a9f0da0027ec"
            }
          }
        },
        "2e7deda1-5486-4b26-8e0a-c91e4c88dbe8": {
          "id": "2e7deda1-5486-4b26-8e0a-c91e4c88dbe8",
          "prev": "67a167dd-f578-4c00-9a52-77864d640afa",
          "regions": {
            "eb91815b-1df2-4bfb-b2d9-b47359f388f3": {
              "attrs": {
                "height": 0.8,
                "width": 0.8,
                "x": 0.1,
                "y": 0.1
              },
              "content": {
                "cell": "2b936ae8-a540-4353-8b1d-42f7a3bdc763",
                "part": "whole"
              },
              "id": "eb91815b-1df2-4bfb-b2d9-b47359f388f3"
            }
          }
        },
        "35c31f44-06e2-4d75-a9b7-0c168d125d04": {
          "id": "35c31f44-06e2-4d75-a9b7-0c168d125d04",
          "prev": "8b46588c-ad23-4509-b67d-62702ed7afd1",
          "regions": {
            "82c3daba-b8de-42a1-b157-7274603802ae": {
              "attrs": {
                "height": 0.8,
                "width": 0.8,
                "x": 0.1,
                "y": 0.1
              },
              "content": {
                "cell": "35e93b3d-957c-4833-a2a5-b980ecffa5b1",
                "part": "whole"
              },
              "id": "82c3daba-b8de-42a1-b157-7274603802ae"
            }
          }
        },
        "3671ddb9-95b3-4245-b062-03cc90ea386d": {
          "id": "3671ddb9-95b3-4245-b062-03cc90ea386d",
          "prev": "3c3ef584-2982-4a35-afcf-4772c65dc2ac",
          "regions": {
            "faddc9ae-ef33-4d8e-a04e-e9f73ea0310e": {
              "attrs": {
                "height": 0.8,
                "width": 0.8,
                "x": 0.1,
                "y": 0.1
              },
              "content": {
                "cell": "bea98316-c64e-4810-b176-ed4947524f8c",
                "part": "whole"
              },
              "id": "faddc9ae-ef33-4d8e-a04e-e9f73ea0310e"
            }
          }
        },
        "37edb96d-7d51-438f-bd46-fc06e161e205": {
          "id": "37edb96d-7d51-438f-bd46-fc06e161e205",
          "prev": "58980228-1ba8-4ba6-89d3-dd7694662786",
          "regions": {
            "d1ee61d0-5e72-4925-b975-1cc103761137": {
              "attrs": {
                "height": 0.8,
                "width": 0.8,
                "x": 0.1,
                "y": 0.1
              },
              "content": {
                "cell": "b0fc1861-b979-45c5-abd0-3b05200de3b6",
                "part": "whole"
              },
              "id": "d1ee61d0-5e72-4925-b975-1cc103761137"
            }
          }
        },
        "3a9ce2a4-6dd4-463e-8d2d-4aa731447f39": {
          "id": "3a9ce2a4-6dd4-463e-8d2d-4aa731447f39",
          "prev": "0aa8229e-9b5c-4f49-bd1e-34de4cd2e82f",
          "regions": {
            "80f94dd5-569c-4105-9db9-746bc3a0d979": {
              "attrs": {
                "height": 0.8,
                "width": 0.8,
                "x": 0.1,
                "y": 0.1
              },
              "content": {
                "cell": "d3d6e29a-a939-4ab4-95e0-5645d4eb97a4",
                "part": "whole"
              },
              "id": "80f94dd5-569c-4105-9db9-746bc3a0d979"
            }
          }
        },
        "3c3ef584-2982-4a35-afcf-4772c65dc2ac": {
          "id": "3c3ef584-2982-4a35-afcf-4772c65dc2ac",
          "prev": "523566b9-8158-4001-91b2-f7d1d61ec04b",
          "regions": {
            "8182730f-8099-4a3f-815d-c92171a084a7": {
              "attrs": {
                "height": 0.8,
                "width": 0.8,
                "x": 0.1,
                "y": 0.1
              },
              "content": {
                "cell": "2ff35469-eeef-46b0-8b36-f2b6d4580bd4",
                "part": "whole"
              },
              "id": "8182730f-8099-4a3f-815d-c92171a084a7"
            }
          }
        },
        "3e8e0818-4535-4e50-b8da-423cfa6bda87": {
          "id": "3e8e0818-4535-4e50-b8da-423cfa6bda87",
          "prev": "bff971e4-b2b6-497d-8f6b-6401514ee2ca",
          "regions": {
            "859f95ab-5314-4f50-9fc8-7f8a76741c82": {
              "attrs": {
                "height": 0.8,
                "width": 0.8,
                "x": 0.1,
                "y": 0.1
              },
              "content": {
                "cell": "0893c4bd-30b9-4137-bc19-c40d5def546a",
                "part": "whole"
              },
              "id": "859f95ab-5314-4f50-9fc8-7f8a76741c82"
            }
          }
        },
        "430a8f03-8947-469c-a376-2f271448284d": {
          "id": "430a8f03-8947-469c-a376-2f271448284d",
          "prev": "ae384cc7-844b-4a3a-816d-4275e60a5020",
          "regions": {
            "cc346300-13a7-4c57-9eea-13d379d8f845": {
              "attrs": {
                "height": 0.8,
                "width": 0.8,
                "x": 0.1,
                "y": 0.1
              },
              "content": {
                "cell": "3b3885c1-a497-4d41-bb48-76a6d8b43a62",
                "part": "whole"
              },
              "id": "cc346300-13a7-4c57-9eea-13d379d8f845"
            }
          }
        },
        "43517c80-f987-4261-bad2-6844f9f11a43": {
          "id": "43517c80-f987-4261-bad2-6844f9f11a43",
          "prev": "02225e5f-f35d-40ef-8f23-5431b19121ab",
          "regions": {
            "386e1c27-adc8-4888-b278-a730e1a06a1b": {
              "attrs": {
                "height": 0.8,
                "width": 0.8,
                "x": 0.1,
                "y": 0.1
              },
              "content": {
                "cell": "c34d5c93-c65c-4e47-8c92-b38faead2dc2",
                "part": "whole"
              },
              "id": "386e1c27-adc8-4888-b278-a730e1a06a1b"
            }
          }
        },
        "466c6928-dc5e-4aeb-abad-2dbb2c797793": {
          "id": "466c6928-dc5e-4aeb-abad-2dbb2c797793",
          "prev": "01ab9067-898c-46a1-91d9-18ca4fe5a937",
          "regions": {
            "dadc7530-a88a-474c-93b1-a6b13fdeb671": {
              "attrs": {
                "height": 0.8,
                "width": 0.8,
                "x": 0.1,
                "y": 0.1
              },
              "content": {
                "cell": "07dd10e2-514b-4435-afa4-cab572e54611",
                "part": "whole"
              },
              "id": "dadc7530-a88a-474c-93b1-a6b13fdeb671"
            }
          }
        },
        "523566b9-8158-4001-91b2-f7d1d61ec04b": {
          "id": "523566b9-8158-4001-91b2-f7d1d61ec04b",
          "prev": "db6c2c84-14f3-4a3f-972c-ea1e9b45b091",
          "regions": {
            "fa40db73-7f38-419f-b6d1-2d0c9854ad3d": {
              "attrs": {
                "height": 0.8,
                "width": 0.8,
                "x": 0.1,
                "y": 0.1
              },
              "content": {
                "cell": "9c7b5502-7d21-45ef-9801-c8ab89c0cb1b",
                "part": "whole"
              },
              "id": "fa40db73-7f38-419f-b6d1-2d0c9854ad3d"
            }
          }
        },
        "5342b691-167b-4e0f-a28f-aee2f74648b3": {
          "id": "5342b691-167b-4e0f-a28f-aee2f74648b3",
          "prev": "9750cf96-7612-4159-bac1-bf26fe2f60c8",
          "regions": {
            "8bf6c96e-7113-4293-9db9-3999fd5dc82b": {
              "attrs": {
                "height": 0.8,
                "width": 0.8,
                "x": 0.1,
                "y": 0.1
              },
              "content": {
                "cell": "21eb3ee8-f72c-4842-a2b2-98bc6b4b06b2",
                "part": "whole"
              },
              "id": "8bf6c96e-7113-4293-9db9-3999fd5dc82b"
            }
          }
        },
        "5494c0f6-12d4-4627-9481-26c7858f8f09": {
          "id": "5494c0f6-12d4-4627-9481-26c7858f8f09",
          "prev": "3671ddb9-95b3-4245-b062-03cc90ea386d",
          "regions": {
            "8f4923d7-89d2-4193-a542-786412d24121": {
              "attrs": {
                "height": 0.8,
                "width": 0.8,
                "x": 0.1,
                "y": 0.1
              },
              "content": {
                "cell": "47413f67-a333-4cd6-8a6e-6b268aa4f4ff",
                "part": "whole"
              },
              "id": "8f4923d7-89d2-4193-a542-786412d24121"
            }
          }
        },
        "57d8f821-fdaf-412d-bc5c-fbaf939e7850": {
          "id": "57d8f821-fdaf-412d-bc5c-fbaf939e7850",
          "prev": "5342b691-167b-4e0f-a28f-aee2f74648b3",
          "regions": {
            "595c1191-37e3-41c2-8807-172c5221490d": {
              "attrs": {
                "height": 0.8,
                "width": 0.8,
                "x": 0.1,
                "y": 0.1
              },
              "content": {
                "cell": "885a45ac-f069-4988-b245-fcd79646e17f",
                "part": "whole"
              },
              "id": "595c1191-37e3-41c2-8807-172c5221490d"
            }
          }
        },
        "58980228-1ba8-4ba6-89d3-dd7694662786": {
          "id": "58980228-1ba8-4ba6-89d3-dd7694662786",
          "prev": "ee0491f8-b146-4b0e-99d3-ceb5eb2f3a1d",
          "regions": {
            "c5224b5d-aad4-4862-a3d1-7e6996d3d33d": {
              "attrs": {
                "height": 0.8,
                "width": 0.8,
                "x": 0.1,
                "y": 0.1
              },
              "content": {
                "cell": "8972370e-3b2e-4fe5-b7d5-e6f410f4df68",
                "part": "whole"
              },
              "id": "c5224b5d-aad4-4862-a3d1-7e6996d3d33d"
            }
          }
        },
        "58fe1e15-bd81-4c14-8c10-08606b7f56ae": {
          "id": "58fe1e15-bd81-4c14-8c10-08606b7f56ae",
          "prev": "8511eb84-692c-4a63-b3c3-7e1f86c137bd",
          "regions": {
            "c29ef705-df31-4240-987b-1697100d6ae4": {
              "attrs": {
                "height": 0.8,
                "width": 0.8,
                "x": 0.1,
                "y": 0.1
              },
              "content": {
                "cell": "b5e81c61-d695-4fc4-b784-45ed41026d4a",
                "part": "whole"
              },
              "id": "c29ef705-df31-4240-987b-1697100d6ae4"
            }
          }
        },
        "6156681f-3fe2-4d80-aab1-f7c28e200404": {
          "id": "6156681f-3fe2-4d80-aab1-f7c28e200404",
          "prev": "c17f7347-3cbe-420c-a499-3131e4eaac59",
          "regions": {
            "28d9588e-1085-432e-9b58-6e28c4d7c74f": {
              "attrs": {
                "height": 0.8,
                "width": 0.8,
                "x": 0.1,
                "y": 0.1
              },
              "content": {
                "cell": "3dbf6370-0a3a-44be-ade7-2a32586e4508",
                "part": "whole"
              },
              "id": "28d9588e-1085-432e-9b58-6e28c4d7c74f"
            }
          }
        },
        "67a167dd-f578-4c00-9a52-77864d640afa": {
          "id": "67a167dd-f578-4c00-9a52-77864d640afa",
          "prev": "b7ce05ff-6ab9-49ba-9235-05d97e6d8b19",
          "regions": {
            "b3a441dc-47d2-402e-b9fe-68a0472d5670": {
              "attrs": {
                "height": 0.8,
                "width": 0.8,
                "x": 0.1,
                "y": 0.1
              },
              "content": {
                "cell": "a67a0f57-b7bb-4ad2-89a8-f53f514d52d5",
                "part": "whole"
              },
              "id": "b3a441dc-47d2-402e-b9fe-68a0472d5670"
            }
          }
        },
        "76cecc6a-4ff3-4f36-9fcd-dc72da22db7a": {
          "id": "76cecc6a-4ff3-4f36-9fcd-dc72da22db7a",
          "prev": "107cd2c7-0a77-4fd7-922b-56df6615dcca",
          "regions": {
            "3d9e9ca1-88f1-4d57-b1ce-1cd3377e1f1e": {
              "attrs": {
                "height": 0.8,
                "width": 0.8,
                "x": 0.1,
                "y": 0.1
              },
              "content": {
                "cell": "c3f25ce7-4ac2-4e7e-ae0d-0d354b7aa34a",
                "part": "whole"
              },
              "id": "3d9e9ca1-88f1-4d57-b1ce-1cd3377e1f1e"
            }
          }
        },
        "7a3d7039-5de1-4759-9129-49437077ec67": {
          "id": "7a3d7039-5de1-4759-9129-49437077ec67",
          "prev": "76cecc6a-4ff3-4f36-9fcd-dc72da22db7a",
          "regions": {
            "f8ee8b52-b882-4e27-b1e2-4db18e65b256": {
              "attrs": {
                "height": 0.8,
                "width": 0.8,
                "x": 0.1,
                "y": 0.1
              },
              "content": {
                "cell": "4a0d9ca6-f3a4-453d-b52e-ad5d17ca5883",
                "part": "whole"
              },
              "id": "f8ee8b52-b882-4e27-b1e2-4db18e65b256"
            }
          }
        },
        "7c9758fa-71de-4938-8eed-be5dabd2d61c": {
          "id": "7c9758fa-71de-4938-8eed-be5dabd2d61c",
          "prev": "3e8e0818-4535-4e50-b8da-423cfa6bda87",
          "regions": {
            "94b0287c-da12-4bf9-ab24-b6041cab0a0f": {
              "attrs": {
                "height": 0.8,
                "width": 0.8,
                "x": 0.1,
                "y": 0.1
              },
              "content": {
                "cell": "5e5e8200-af66-4ffa-85d8-0ca019d398d8",
                "part": "whole"
              },
              "id": "94b0287c-da12-4bf9-ab24-b6041cab0a0f"
            }
          }
        },
        "8511eb84-692c-4a63-b3c3-7e1f86c137bd": {
          "id": "8511eb84-692c-4a63-b3c3-7e1f86c137bd",
          "prev": "3a9ce2a4-6dd4-463e-8d2d-4aa731447f39",
          "regions": {
            "d512994f-a930-4cb5-9feb-0c9e9b3eca21": {
              "attrs": {
                "height": 0.8,
                "width": 0.8,
                "x": 0.1,
                "y": 0.1
              },
              "content": {
                "cell": "93a5d1f3-e3b5-4840-95c2-503725844dc3",
                "part": "whole"
              },
              "id": "d512994f-a930-4cb5-9feb-0c9e9b3eca21"
            }
          }
        },
        "863c2f5d-5ed6-4abd-9212-ac3aa08b7c2d": {
          "id": "863c2f5d-5ed6-4abd-9212-ac3aa08b7c2d",
          "prev": "fa1e9266-57b6-41c8-9ad2-05119a8154fa",
          "regions": {
            "2efc3ace-624d-49f2-8602-18d3ce4fd9d1": {
              "attrs": {
                "height": 0.8,
                "width": 0.8,
                "x": 0.1,
                "y": 0.1
              },
              "content": {
                "cell": "1c22acff-5c31-4b42-a557-2be121021d1e",
                "part": "whole"
              },
              "id": "2efc3ace-624d-49f2-8602-18d3ce4fd9d1"
            }
          }
        },
        "8a00b47c-c1da-479f-b5e8-16224b1bc1ad": {
          "id": "8a00b47c-c1da-479f-b5e8-16224b1bc1ad",
          "prev": "c372f9ff-ce00-4768-8a0a-cb894e0fa65d",
          "regions": {
            "88f7e3bd-c1f1-4783-aa29-4b3871ed83c9": {
              "attrs": {
                "height": 0.8,
                "width": 0.8,
                "x": 0.1,
                "y": 0.1
              },
              "content": {
                "cell": "4bcabd6c-13d5-4a8e-a4cf-46d12550458b",
                "part": "whole"
              },
              "id": "88f7e3bd-c1f1-4783-aa29-4b3871ed83c9"
            }
          }
        },
        "8b46588c-ad23-4509-b67d-62702ed7afd1": {
          "id": "8b46588c-ad23-4509-b67d-62702ed7afd1",
          "prev": "37edb96d-7d51-438f-bd46-fc06e161e205",
          "regions": {
            "6e4458c9-28eb-4025-8ac9-d7fc0ffb8fee": {
              "attrs": {
                "height": 0.8,
                "width": 0.8,
                "x": 0.1,
                "y": 0.1
              },
              "content": {
                "cell": "575abe68-ac1a-489a-8b14-aef861c188e3",
                "part": "whole"
              },
              "id": "6e4458c9-28eb-4025-8ac9-d7fc0ffb8fee"
            }
          }
        },
        "92033db1-1754-4f97-a65f-d7fcd5e5ef5f": {
          "id": "92033db1-1754-4f97-a65f-d7fcd5e5ef5f",
          "prev": "7c9758fa-71de-4938-8eed-be5dabd2d61c",
          "regions": {
            "73b1869c-52b3-4f19-8918-f9d27d1ce96a": {
              "attrs": {
                "height": 0.8,
                "width": 0.8,
                "x": 0.1,
                "y": 0.1
              },
              "content": {
                "cell": "31f1dd1c-7279-4590-a581-4789248b9d95",
                "part": "whole"
              },
              "id": "73b1869c-52b3-4f19-8918-f9d27d1ce96a"
            }
          }
        },
        "9461c0f4-d87e-441d-915d-95c69b105ecb": {
          "id": "9461c0f4-d87e-441d-915d-95c69b105ecb",
          "prev": "92033db1-1754-4f97-a65f-d7fcd5e5ef5f",
          "regions": {
            "4dd7f598-05d6-4e49-883d-978967a66cc5": {
              "attrs": {
                "height": 0.8,
                "width": 0.8,
                "x": 0.1,
                "y": 0.1
              },
              "content": {
                "cell": "674e452c-7ba7-4c07-be5e-1e73553f8849",
                "part": "whole"
              },
              "id": "4dd7f598-05d6-4e49-883d-978967a66cc5"
            }
          }
        },
        "94c7954c-21de-44d2-81f0-746748834167": {
          "id": "94c7954c-21de-44d2-81f0-746748834167",
          "prev": "d806c3fb-ea3d-4b90-be5b-e78113b3e887",
          "regions": {
            "a853df0e-2a78-45f8-8841-72a437ba5d68": {
              "attrs": {
                "height": 0.8,
                "width": 0.8,
                "x": 0.1,
                "y": 0.1
              },
              "content": {
                "cell": "f581b3c5-979f-4ad2-95b7-e89dc86afee3",
                "part": "whole"
              },
              "id": "a853df0e-2a78-45f8-8841-72a437ba5d68"
            }
          }
        },
        "94c969b1-892d-4f1a-a832-8154573c893c": {
          "id": "94c969b1-892d-4f1a-a832-8154573c893c",
          "prev": "94c7954c-21de-44d2-81f0-746748834167",
          "regions": {
            "c1ade563-9e9b-490c-970b-37faba235b7e": {
              "attrs": {
                "height": 0.8,
                "width": 0.8,
                "x": 0.1,
                "y": 0.1
              },
              "content": {
                "cell": "e965b847-7d60-48e2-b72f-972816a1e6fc",
                "part": "whole"
              },
              "id": "c1ade563-9e9b-490c-970b-37faba235b7e"
            }
          }
        },
        "9750cf96-7612-4159-bac1-bf26fe2f60c8": {
          "id": "9750cf96-7612-4159-bac1-bf26fe2f60c8",
          "prev": "94c969b1-892d-4f1a-a832-8154573c893c",
          "regions": {
            "116d14ce-3f3d-44a1-aa86-61b1ac19354f": {
              "attrs": {
                "height": 0.8,
                "width": 0.8,
                "x": 0.1,
                "y": 0.1
              },
              "content": {
                "cell": "ddd82eaf-9b54-48bf-ac57-aa797a3a970a",
                "part": "whole"
              },
              "id": "116d14ce-3f3d-44a1-aa86-61b1ac19354f"
            }
          }
        },
        "a40bc8a7-660a-4478-8071-b97c5127c4b5": {
          "id": "a40bc8a7-660a-4478-8071-b97c5127c4b5",
          "prev": "863c2f5d-5ed6-4abd-9212-ac3aa08b7c2d",
          "regions": {
            "929e10a6-a0b0-4d31-99b1-311fcfc150a1": {
              "attrs": {
                "height": 0.8,
                "width": 0.8,
                "x": 0.1,
                "y": 0.1
              },
              "content": {
                "cell": "d7d32de7-bcdd-486d-b6c9-d5caad1164e3",
                "part": "whole"
              },
              "id": "929e10a6-a0b0-4d31-99b1-311fcfc150a1"
            }
          }
        },
        "ae384cc7-844b-4a3a-816d-4275e60a5020": {
          "id": "ae384cc7-844b-4a3a-816d-4275e60a5020",
          "prev": "26984d6c-6cdd-4fb6-a80c-b16f643b3802",
          "regions": {
            "b7a26fcd-98a6-4c24-893f-14ab3d6257bb": {
              "attrs": {
                "height": 0.8,
                "width": 0.8,
                "x": 0.1,
                "y": 0.1
              },
              "content": {
                "cell": "ddc73611-ffe2-434e-b3bd-cd417ef42b68",
                "part": "whole"
              },
              "id": "b7a26fcd-98a6-4c24-893f-14ab3d6257bb"
            }
          }
        },
        "b248eaf4-2e85-4c32-8f88-7b2ef510ee7c": {
          "id": "b248eaf4-2e85-4c32-8f88-7b2ef510ee7c",
          "prev": null,
          "regions": {
            "729796eb-5023-4fc8-b32f-83045cda3258": {
              "attrs": {
                "height": 0.8,
                "width": 0.8,
                "x": 0.1,
                "y": 0.1
              },
              "content": {
                "cell": "dad3a857-8628-4c15-a8ad-312792cb88ac",
                "part": "whole"
              },
              "id": "729796eb-5023-4fc8-b32f-83045cda3258"
            }
          }
        },
        "b7ce05ff-6ab9-49ba-9235-05d97e6d8b19": {
          "id": "b7ce05ff-6ab9-49ba-9235-05d97e6d8b19",
          "prev": "fd5b9f11-7cb4-4280-8955-7da1f2a0eafd",
          "regions": {
            "44f843a2-f9a7-4c01-be36-f2b39de5a725": {
              "attrs": {
                "height": 0.8,
                "width": 0.8,
                "x": 0.1,
                "y": 0.1
              },
              "content": {
                "cell": "852d31b9-64ee-4906-8865-dc217141338a",
                "part": "whole"
              },
              "id": "44f843a2-f9a7-4c01-be36-f2b39de5a725"
            }
          }
        },
        "bff971e4-b2b6-497d-8f6b-6401514ee2ca": {
          "id": "bff971e4-b2b6-497d-8f6b-6401514ee2ca",
          "prev": "7a3d7039-5de1-4759-9129-49437077ec67",
          "regions": {
            "07dd02d3-5ac3-4d96-9291-c3870d15f11e": {
              "attrs": {
                "height": 0.8,
                "width": 0.8,
                "x": 0.1,
                "y": 0.1
              },
              "content": {
                "cell": "31a44e48-3de3-4fa2-9c03-2063209cce11",
                "part": "whole"
              },
              "id": "07dd02d3-5ac3-4d96-9291-c3870d15f11e"
            }
          }
        },
        "c17f7347-3cbe-420c-a499-3131e4eaac59": {
          "id": "c17f7347-3cbe-420c-a499-3131e4eaac59",
          "prev": "57d8f821-fdaf-412d-bc5c-fbaf939e7850",
          "regions": {
            "7d4b25fd-aa9a-4d62-8181-05324639ff0d": {
              "attrs": {
                "height": 0.8,
                "width": 0.8,
                "x": 0.1,
                "y": 0.1
              },
              "content": {
                "cell": "35043c9c-279e-47cd-b82f-9dae8c5f9fec",
                "part": "whole"
              },
              "id": "7d4b25fd-aa9a-4d62-8181-05324639ff0d"
            }
          }
        },
        "c372f9ff-ce00-4768-8a0a-cb894e0fa65d": {
          "id": "c372f9ff-ce00-4768-8a0a-cb894e0fa65d",
          "prev": "35c31f44-06e2-4d75-a9b7-0c168d125d04",
          "regions": {
            "c3931b7b-0a33-46e0-a5b6-6b33b0075fd5": {
              "attrs": {
                "height": 0.8,
                "width": 0.8,
                "x": 0.1,
                "y": 0.1
              },
              "content": {
                "cell": "6dccff7c-9bb1-447a-9692-656ca1687626",
                "part": "whole"
              },
              "id": "c3931b7b-0a33-46e0-a5b6-6b33b0075fd5"
            }
          }
        },
        "d806c3fb-ea3d-4b90-be5b-e78113b3e887": {
          "id": "d806c3fb-ea3d-4b90-be5b-e78113b3e887",
          "prev": "094d2d0d-c7e5-40bc-bed7-bd80198e8e18",
          "regions": {
            "8ec4249f-2827-4eb0-bb27-152d4dea703f": {
              "attrs": {
                "height": 0.8,
                "width": 0.8,
                "x": 0.1,
                "y": 0.1
              },
              "content": {
                "cell": "25b7da30-19eb-4326-ba15-d969f9c1ad12",
                "part": "whole"
              },
              "id": "8ec4249f-2827-4eb0-bb27-152d4dea703f"
            }
          }
        },
        "db6c2c84-14f3-4a3f-972c-ea1e9b45b091": {
          "id": "db6c2c84-14f3-4a3f-972c-ea1e9b45b091",
          "prev": "ff25a0ae-0958-4983-b72b-6d655554983e",
          "regions": {
            "33e20b90-5ef8-482a-af30-6ebe50fa5247": {
              "attrs": {
                "height": 0.8,
                "width": 0.8,
                "x": 0.1,
                "y": 0.1
              },
              "content": {
                "cell": "b2282939-76b5-4358-8caf-bda59cd4dfc8",
                "part": "whole"
              },
              "id": "33e20b90-5ef8-482a-af30-6ebe50fa5247"
            }
          }
        },
        "de950ae7-a7c1-424c-afe2-42f481db181e": {
          "id": "de950ae7-a7c1-424c-afe2-42f481db181e",
          "prev": "58fe1e15-bd81-4c14-8c10-08606b7f56ae",
          "regions": {
            "157e2366-91bc-4374-b005-296b72401f19": {
              "attrs": {
                "height": 0.8,
                "width": 0.8,
                "x": 0.1,
                "y": 0.1
              },
              "content": {
                "cell": "6eff5466-e51a-40e9-b5d6-0e511d329721",
                "part": "whole"
              },
              "id": "157e2366-91bc-4374-b005-296b72401f19"
            }
          }
        },
        "dfaeb098-c3a9-4980-ae35-70f9b6296a7d": {
          "id": "dfaeb098-c3a9-4980-ae35-70f9b6296a7d",
          "prev": "a40bc8a7-660a-4478-8071-b97c5127c4b5",
          "regions": {
            "ff8a9509-83fc-43b8-b85d-05642f796426": {
              "attrs": {
                "height": 0.8,
                "width": 0.8,
                "x": 0.1,
                "y": 0.1
              },
              "content": {
                "cell": "139cbba6-15fb-4eb9-b2d8-a25bdbf3a874",
                "part": "whole"
              },
              "id": "ff8a9509-83fc-43b8-b85d-05642f796426"
            }
          }
        },
        "ee0491f8-b146-4b0e-99d3-ceb5eb2f3a1d": {
          "id": "ee0491f8-b146-4b0e-99d3-ceb5eb2f3a1d",
          "prev": "0c50d9ca-fef0-4e5c-8a4e-f18d1c2dbb9e",
          "regions": {
            "7e1317fc-37fb-47f2-9822-1b464ab3a0f1": {
              "attrs": {
                "height": 0.8,
                "width": 0.8,
                "x": 0.1,
                "y": 0.1
              },
              "content": {
                "cell": "93b648ee-643e-46b2-a289-f6b562875bc4",
                "part": "whole"
              },
              "id": "7e1317fc-37fb-47f2-9822-1b464ab3a0f1"
            }
          }
        },
        "fa1e9266-57b6-41c8-9ad2-05119a8154fa": {
          "id": "fa1e9266-57b6-41c8-9ad2-05119a8154fa",
          "prev": "1d02d174-1ae1-4900-bb8e-92083b3f723b",
          "regions": {
            "642cb521-a4bf-4bdf-94e4-c4e1db951bed": {
              "attrs": {
                "height": 0.8,
                "width": 0.8,
                "x": 0.1,
                "y": 0.1
              },
              "content": {
                "cell": "7bcdf43b-5617-4e59-b3d7-0c3706c527f1",
                "part": "whole"
              },
              "id": "642cb521-a4bf-4bdf-94e4-c4e1db951bed"
            }
          }
        },
        "fd5b9f11-7cb4-4280-8955-7da1f2a0eafd": {
          "id": "fd5b9f11-7cb4-4280-8955-7da1f2a0eafd",
          "prev": "8a00b47c-c1da-479f-b5e8-16224b1bc1ad",
          "regions": {
            "bafa4b52-8d5e-4af8-9b56-5cfb28caec46": {
              "attrs": {
                "height": 0.8,
                "width": 0.8,
                "x": 0.1,
                "y": 0.1
              },
              "content": {
                "cell": "d110e3f4-e865-4198-8668-17bd4f1e9540",
                "part": "whole"
              },
              "id": "bafa4b52-8d5e-4af8-9b56-5cfb28caec46"
            }
          }
        },
        "ff25a0ae-0958-4983-b72b-6d655554983e": {
          "id": "ff25a0ae-0958-4983-b72b-6d655554983e",
          "prev": "6156681f-3fe2-4d80-aab1-f7c28e200404",
          "regions": {
            "4536da0e-7194-48f1-a4eb-13fb6d74ecf5": {
              "attrs": {
                "height": 0.8,
                "width": 0.8,
                "x": 0.1,
                "y": 0.1
              },
              "content": {
                "cell": "72beaf23-bcc8-4311-b327-b67a3b07436a",
                "part": "whole"
              },
              "id": "4536da0e-7194-48f1-a4eb-13fb6d74ecf5"
            }
          }
        }
      },
      "themes": {}
    }
  },
  "nbformat": 4,
  "nbformat_minor": 0
}