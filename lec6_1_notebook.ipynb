{
  "nbformat": 4,
  "nbformat_minor": 0,
  "metadata": {
    "anaconda-cloud": {},
    "kernelspec": {
      "display_name": "Python 3",
      "name": "python3"
    },
    "language_info": {
      "codemirror_mode": {
        "name": "ipython",
        "version": 3
      },
      "file_extension": ".py",
      "mimetype": "text/x-python",
      "name": "python",
      "nbconvert_exporter": "python",
      "pygments_lexer": "ipython3",
      "version": "3.7.6"
    },
    "colab": {
      "provenance": [],
      "collapsed_sections": [
        "bKpd3ShYuKXY",
        "5OeD2o21uKXZ",
        "C_NRh4jDuKXZ",
        "Ye55NI2YuKXc",
        "MlZTWUCcuKXZ",
        "DG01WhhauKXc",
        "xpogon1SuKXc",
        "Gp7GEe2puKXd",
        "RdRnmy7duKXd"
      ],
      "gpuType": "T4",
      "include_colab_link": true
    }
  },
  "cells": [
    {
      "cell_type": "markdown",
      "metadata": {
        "id": "view-in-github",
        "colab_type": "text"
      },
      "source": [
        "<a href=\"https://colab.research.google.com/github/EndangSupriyadi/GCI_GLOBAL_2025/blob/master/lec6_1_notebook.ipynb\" target=\"_parent\"><img src=\"https://colab.research.google.com/assets/colab-badge.svg\" alt=\"Open In Colab\"/></a>"
      ]
    },
    {
      "cell_type": "markdown",
      "metadata": {
        "id": "GOnDXr2DuKXU"
      },
      "source": [
        "# 5 Supervised Learning"
      ]
    },
    {
      "cell_type": "markdown",
      "metadata": {
        "id": "ddm76XUXuKXV"
      },
      "source": [
        "**Chapter Introduction**  \n",
        "Chatper 5 introduces the fundamentals of machine learning.  \n",
        "Goal: To learn the structure and overview of machine learning and to gain the ability to correctly build and evaluate models."
      ]
    },
    {
      "cell_type": "markdown",
      "metadata": {
        "id": "XxwnkLAkuKXV"
      },
      "source": [
        "- **5.1 Overview of Machine Learning**\n",
        "    - 5.1.1 What is Machine Learning?\n",
        "    - 5.1.2 Supervised Learning\n",
        "    - 5.1.3 Unsupervised Learning\n",
        "    - 5.1.4 Reinforcement Learning\n",
        "    - 5.1.5 Importing Libraries for This Chapter\n",
        "- **5.2 Multiple Regression**\n",
        "    - 5.2.1 Importing Car Price Data\n",
        "    - 5.2.2 Data Preparation\n",
        "    - 5.2.3 Model Building and Evaluation\n",
        "    - 5.2.4 Summary of Model Building and Evaluation Process\n",
        "- **5.3 Logistic Regression**\n",
        "    - 5.3.1 Example of Logistic Regression\n",
        "    - 5.3.2 Data Preparation\n",
        "    - 5.3.3 Model Building and Evaluation\n",
        "    - 5.3.4 Improving Prediction Accuracy with Scaling\n",
        "<br><br>\n",
        "- **5.4 Regularized Regression: Lasso and Ridge**\n",
        "    - 5.4.1 Features of Lasso and Ridge Regression\n",
        "    - 5.4.2 Comparison of Multiple and Ridge Regression\n",
        "<br><br>\n",
        "- **5.5 Overfitting**\n",
        "<br><br>\n",
        "- **5.6 Decision Trees**\n",
        "    - 5.6.1 Mushroom Dataset\n",
        "    - 5.6.2 Data Organization\n",
        "    - 5.6.3 Entropy: Impurity Measure\n",
        "    - 5.6.4 Information Gain: Evaluating Split Value\n",
        "    - 5.6.5 Building a Decision Tree Model\n",
        "<br><br>\n",
        "- **5.7 k-Nearest Neighbors(k-NN)**\n",
        "    - 5.7.1 Building a k-NN Model\n",
        "<br><br>\n",
        "- **5.8 Support Vector Machine**\n",
        "    - 5.8.1 Building a Support Vector Machine Model\n",
        "<br><br>\n",
        "- **5.9 Comprehensive Questions**\n",
        "    - ■ Comprehensive Question 5-1 Terms in Supervised Learning（1）\n",
        "    - ■ Comprehensive Question 5-2 Decision Trees\n",
        "    - ■ Comprehensive Question 5-3 No Free Lunch"
      ]
    },
    {
      "cell_type": "markdown",
      "metadata": {
        "id": "NlkqMla2uKXV"
      },
      "source": [
        "## 5.1 Overview of Machine Learning\n",
        "Goal: Understand the structure of machine learning and gain an overview of supervised and unsupervised learning."
      ]
    },
    {
      "cell_type": "markdown",
      "metadata": {
        "id": "ubhOnmxquKXV"
      },
      "source": [
        "In this chapter, we will learn about specific methods in supervised learning. Through this chapter, we aim to understand the principles of machine learning, along with the basics of model building, and gain the skills to implement them accurately.\n",
        "\n",
        "Before diving into supervised learning, let's first take a broad look at the entire landscape of machine learning."
      ]
    },
    {
      "cell_type": "markdown",
      "metadata": {
        "id": "ByFitDPguKXV"
      },
      "source": [
        "### 5.1.1 What is Machine Learning\n",
        "Keywords: Machine Learning, Supervised Learning, Unsupervised Learning, Reinforcement Learning"
      ]
    },
    {
      "cell_type": "markdown",
      "metadata": {
        "id": "6NibPQuSuKXV"
      },
      "source": [
        "**Machine Learning （machine learning）** is a technology that enables machines to acquire knowledge or behaviors to achieve specific objectives by processing data. Machine learning is broadly categorized into **supervised learning**, **unsupervised learning** and **reinforcement learning**. Alternatively, it can be divided into two main types--supervised and unsupervised learning--or even four types by adding semi-supervised learning to the previous three categories."
      ]
    },
    {
      "cell_type": "markdown",
      "metadata": {
        "id": "1yeVSoNHuKXV"
      },
      "source": [
        "#### Supervised and Unsupervised Learning\n",
        "\n",
        "The data used to enable machines to acquire knowledge or behavior is called training data. The difference between supervised and unsupervised learning lies in whether the training data includes target variables and explanatory variables (discussed later). In short, supervised learning involves providing labeled data with correct answers, while unsupervised learning does not."
      ]
    },
    {
      "cell_type": "markdown",
      "metadata": {
        "id": "1zpvOiequKXV"
      },
      "source": [
        "1. Supervised Learning\n",
        "\n",
        "This method seeks to build a model that predicts an output variable (target) from input variables (features). In supervised learning, the training data includes both target and explanatory variables. The model's parameters are adjusted so that it best approximates the target variables using the explanatory variables of the training data as inputs. This process will be explained in detail in this chapter.\n",
        "\n",
        "For example, supervised learning can be used to identify whether an email is spam based on its title and content (explanatory variables) or to predict stock prices based on trading activity (explanatory variables)."
      ]
    },
    {
      "cell_type": "markdown",
      "metadata": {
        "id": "I18ofZTHuKXV"
      },
      "source": [
        "2. Unsupervised Learning\n",
        "\n",
        "Unsupervised learning focuses on the input data itself, aiming to discover patterns or insights hidden within the data. In this approach, training data does not contain target or explanatory variables. Techniques include clustering, which groups a large number of data points into similar clusters, and Principal Component Analysis (PCA), which reduces the dimensionality of the data while preserving essential information. These methods are often used in exploratory data analysis to interpret data and in dimensionality reduction."
      ]
    },
    {
      "cell_type": "markdown",
      "metadata": {
        "id": "RDnLakRTuKXV"
      },
      "source": [
        "#### Reinforcement Learning\n",
        "\n",
        "Reinforcement learning is a method that enables machines to acquire knowledge or behavior rules by providing rewards based on the outcomes of a series of actions taken by the program (machine). In supervised learning, it is necessary to assign correct data to each individual action; however, in interactive environments, such as games with opponents, it is challenging to provide correct data for every possible situation.\n",
        "\n",
        "Consequently, reinforcement learning techniques, which allow machines to learn behavior rules based on rewards from the results of a series of actions, have gained attention in recent years as a learning approach that can handle cases difficult to express in supervised learning."
      ]
    },
    {
      "cell_type": "markdown",
      "metadata": {
        "id": "1x3kK6KXuKXV"
      },
      "source": [
        "#### Applying Machine Learning\n",
        "\n",
        "In this book, we will begin by applying machine learning to the provided data. However, in actual data analysis scenarios, it is essential to conduct basic observations and understand the data, such as obtaining descriptive statistics and creating histograms or scatter plots. The quality of the data significantly impacts the quality of the machine learning outputs. Moreover, these initial checks can lead to valuable insights about the data. Remember that the goal is not merely to use machine learning; it is just one tool among many in the data analysis process."
      ]
    },
    {
      "cell_type": "markdown",
      "metadata": {
        "id": "TLS9b8fsuKXV"
      },
      "source": [
        ">**[Key Points]**\n",
        ">\n",
        ">When conducting data analysis in practice, before applying machine learning, create descriptive statistics and scatter plots to grasp the trends and overall picture of the data."
      ]
    },
    {
      "cell_type": "markdown",
      "metadata": {
        "id": "pDBgCM7juKXV"
      },
      "source": [
        "For beginners in machine learning, references such as the \"Books Useful for Machine Learning with Python\" in the bibliography may be helpful."
      ]
    },
    {
      "cell_type": "markdown",
      "metadata": {
        "id": "jF_W_yUwuKXV"
      },
      "source": [
        "To learn how to leverage machine learning from a business perspective, references such as the \"Books Useful for Applying Machine Learning from a Business Perspective\" in the bibliography can be beneficial.\n",
        "\n",
        "Additionally, it is impractical for a single specialized book to cover all information regarding machine learning models and implementations. Therefore, if you encounter any uncertainties (such as parameter settings), it is essential to refer back to the official documentation. While the official documentation can be dense and challenging to read in its entirety, it provides reliable explanations for detailed parameters and other critical information."
      ]
    },
    {
      "cell_type": "markdown",
      "metadata": {
        "id": "VXbXFLO-uKXV"
      },
      "source": [
        ">**[Key Points]**\n",
        ">\n",
        ">If you have questions about parameters or the characteristics of models such as machine learning, start by consulting the official documentation."
      ]
    },
    {
      "cell_type": "markdown",
      "metadata": {
        "id": "7CkiqLyVuKXV"
      },
      "source": [
        "### 5.1.2 Supervised Learning\n",
        "Keywords: Target Variable, Explanatory Variable, Regression, Classification"
      ]
    },
    {
      "cell_type": "markdown",
      "metadata": {
        "id": "ZZr6bzXIuKXV"
      },
      "source": [
        "Supervised learning is a method for building models that predict the correct output based on given training data. As previously mentioned, the variable we want to predict within the training data is called the **target variable** (also known as the ground truth, response variable, target variable, or dependent variable), while the variables used to explain the target variable are referred to as **explanatory variables** (also known as features, predictor variables, or independent variables).\n",
        "\n",
        "If we consider a function $y=f(x)$, $x$ represents the explanatory variables, $y$ represents the target variables, and the function $f(x)$ is the model. For example, if we want to predict whether a buyer of a certain consumer brand will become a non-buyer in the future (target variable), we would use various historical data (such as customer attributes, purchase frequency, and purchases of related brands) as explanatory variables."
      ]
    },
    {
      "cell_type": "markdown",
      "metadata": {
        "id": "aMQSBZAtuKXV"
      },
      "source": [
        "#### Supervised Learning Techniques\n",
        "\n",
        "Supervised learning can be classified into several types based on the format of the target variable. When the target variable takes numerical values, such as stock prices, it is referred to as **regression**. In contrast, when the target variable is categorical, such as \"male or female\" or \"toddler, elementary school student, student, adult,\" it is called **classification**. For example, in the case of predicting whether a buyer will become a non-buyer of a brand, this is a classification task that divides the outcomes into two categories: \"will purchase\" or \"will not purchase.\""
      ]
    },
    {
      "cell_type": "markdown",
      "metadata": {
        "id": "iRxRwnRDuKXV"
      },
      "source": [
        "Supervised learning algorithms include **multiple linear regression**, **logistic regression**, **k-Nearest Neighbors (k-NN)**, **Decision Trees**, **Support Vector Machines (SVM)**, **Random Forests**, and **Gradient Boosting**, among others. It's important to note that these techniques can be used for both regression and classification tasks.\n",
        "\n",
        "For instance, although logistic regression has \"regression\" in its name, it is primarily used for classification purposes. Decision Trees are commonly used for classification tasks, referred to as classification trees, while for regression tasks, they are called regression trees. Each of these methods will be explained in detail later."
      ]
    },
    {
      "cell_type": "markdown",
      "metadata": {
        "id": "VYFooP77uKXV"
      },
      "source": [
        "The choice of which method to use is fundamentally determined by the desired performance of the model. However, if interpretability of the learning results is prioritized, simpler methods such as multiple linear regression, logistic regression, or Decision Trees may be intentionally selected. This is because techniques like Support Vector Machines can be difficult to explain and are not easily understood by non-experts after a single explanation (though Decision Trees are often considered understandable, it's important to note that they may not be intuitive for all non-experts).\n",
        "\n",
        "It is essential to assess whether the situation demands a focus on interpretability or if precision should be prioritized, and make decisions on a case-by-case basis."
      ]
    },
    {
      "cell_type": "markdown",
      "metadata": {
        "id": "DgfLavvtuKXV"
      },
      "source": [
        "### 5.1.3 Unsupervised Learning\n",
        "Keywords: Clustering, Principal Component Analysis, Market Basket Analysis"
      ]
    },
    {
      "cell_type": "markdown",
      "metadata": {
        "id": "XSTwLYrNuKXV"
      },
      "source": [
        "Unsupervised learning focuses on the input data itself, aiming to discover patterns or insights hidden within the data, without the presence of a target variable."
      ]
    },
    {
      "cell_type": "markdown",
      "metadata": {
        "id": "cpaMUhMPuKXV"
      },
      "source": [
        "#### Unsupervised Learning Techniques\n",
        "\n",
        "A representative method of unsupervised learning is **clustering**, which groups a large number of data points into similar clusters. For example, it can be used in marketing analysis to identify which preference groups consumers belong to."
      ]
    },
    {
      "cell_type": "markdown",
      "metadata": {
        "id": "3P3Gft0duKXV"
      },
      "source": [
        "Clustering is positioned as an exploratory data analysis technique, as it seeks to uncover the characteristics of the data itself. The process does not end with grouping the data based on clustering results; it is crucial to interpret these results and verify that they align with business insights or practical understanding. Complete automation in exploratory data analysis is challenging, and human judgment plays a vital role in this process."
      ]
    },
    {
      "cell_type": "markdown",
      "metadata": {
        "id": "ZTP09Au5uKXV"
      },
      "source": [
        "Other methods of unsupervised learning include Principal Component Analysis (PCA) and Market Basket Analysis.\n",
        "\n",
        "Principal Component Analysis is a technique used to reduce the number of variables by condensing multiple variables into fewer ones while preserving the information.\n",
        "\n",
        "Market Basket Analysis is applied to purchasing data, often referred to as Point of Sales (POS) data, to discover association rules, such as identifying that people who purchase product A are highly likely to also purchase product B. This method reveals combinations of events that are strongly correlated."
      ]
    },
    {
      "cell_type": "markdown",
      "metadata": {
        "id": "xZsBAaqluKXV"
      },
      "source": [
        "In the collection of references listed, books on data mining categorize supervised learning as \"goal-oriented data mining\" and unsupervised learning as \"exploratory data mining.\" These resources provide insights into how machine learning and data mining are utilized in business contexts. They are recommended for those who wish to deepen their understanding of the material from a business perspective. Additionally, it is worth noting that the top two books in the reference collection are translations that have omitted parts of the original texts, so those who can read English may prefer to refer to the original editions."
      ]
    },
    {
      "cell_type": "markdown",
      "metadata": {
        "id": "mZ2cMwI1uKXW"
      },
      "source": [
        "### 5.1.4 Reinforcement Learning\n",
        "Keywords: Dynamic Programming, Monte Carlo Methods, Temporal Difference Learning (TD Learning)"
      ]
    },
    {
      "cell_type": "markdown",
      "metadata": {
        "id": "P1axpEbvuKXW"
      },
      "source": [
        "Reinforcement learning is a technique that enables machines to learn behavior rules to maximize a reward. The rewards are designed to align with the objectives, meaning desirable outcomes receive high rewards, while undesirable outcomes receive low rewards. Unlike supervised learning, where correct data is provided for each action, reinforcement learning seeks to discover which actions will ultimately yield greater rewards. In this framework, learning occurs within an environment where the machine (agent) interacts with other agents and the surroundings."
      ]
    },
    {
      "cell_type": "markdown",
      "metadata": {
        "id": "eRSJp4MYuKXW"
      },
      "source": [
        "For example, in reinforcement learning, consider a scenario where a \"baby (agent)\" learns to walk by trial and error without being explicitly taught how to do so within its environment. Similarly, an \"automobile (agent)\" learns to navigate without colliding with other vehicles (other agents). These instances illustrate the principles of reinforcement learning."
      ]
    },
    {
      "cell_type": "markdown",
      "metadata": {
        "id": "oE7pOl6kuKXW"
      },
      "source": [
        "#### Reinforcement Learning\n",
        "\n",
        "In reinforcement learning, a key theme is how to handle the exploration-exploitation dilemma. Since the agent learns through exploratory actions and interactions with the environment, balancing these two aspects is crucial. If the agent focuses solely on taking the \"best known action\" based on past experiences, it may miss out on discovering new actions (leading to knowledge bias). Conversely, if the agent excessively seeks \"better actions\" by trying new actions constantly, it may fail to utilize valuable past experiences (leading to exploration bias). Finding the right balance between exploration and knowledge utilization is essential for effective learning."
      ]
    },
    {
      "cell_type": "markdown",
      "metadata": {
        "id": "G5WTKSXRuKXW"
      },
      "source": [
        "Reinforcement learning approaches include dynamic programming, Monte Carlo methods, and TD learning. Dynamic programming assumes that explicit knowledge is available, while Monte Carlo methods require only experience and do not necessitate complete knowledge of the environment. This book will only introduce the concepts of reinforcement learning. To learn more, see terms above, the \"Books for Learning Reinforcement Learning,\" or the [OpenAI website](https://spinningup.openai.com/en/latest/)."
      ]
    },
    {
      "cell_type": "markdown",
      "metadata": {
        "id": "1CFFg8yIuKXW"
      },
      "source": [
        "### 5.1.5 Importing Libraries Used in This Chapter\n",
        "\n",
        "In this chapter, we will use various libraries introduced in previous lectures, as well as the machine learning library Scikit-learn."
      ]
    },
    {
      "cell_type": "markdown",
      "metadata": {
        "id": "sNyP4rpruKXW"
      },
      "source": [
        "Scikit-learn was also used during simple linear regression analysis. As mentioned above, the official documentation for Scikit-learn at the reference URL \"B-27\" provides detailed specifications and usage instructions, so please refer to it. The Scikit-learn library includes not only classes for machine learning but also several sample datasets."
      ]
    },
    {
      "cell_type": "markdown",
      "metadata": {
        "id": "5gKD6ZiBuKXW"
      },
      "source": [
        "In this chapter, we will proceed with the assumption that the following libraries have been imported."
      ]
    },
    {
      "cell_type": "code",
      "metadata": {
        "id": "YYJnE3y1uKXW",
        "colab": {
          "base_uri": "https://localhost:8080/",
          "height": 35
        },
        "outputId": "af74caaa-a054-4b92-c801-390f9e6838ce"
      },
      "source": [
        "# Data manipulation, processing, and analysis libraries\n",
        "import numpy as np\n",
        "import numpy.random as random\n",
        "import scipy as sp\n",
        "from pandas import Series, DataFrame\n",
        "import pandas as pd\n",
        "\n",
        "# Visualization libraries\n",
        "import matplotlib.pyplot as plt\n",
        "import matplotlib as mpl\n",
        "import seaborn as sns\n",
        "%matplotlib inline\n",
        "\n",
        "# Machine learning library\n",
        "import sklearn\n",
        "\n",
        "# Display up to three decimal places\n",
        "%precision 3"
      ],
      "execution_count": null,
      "outputs": [
        {
          "output_type": "execute_result",
          "data": {
            "text/plain": [
              "'%.3f'"
            ],
            "application/vnd.google.colaboratory.intrinsic+json": {
              "type": "string"
            }
          },
          "metadata": {},
          "execution_count": 1
        }
      ]
    },
    {
      "cell_type": "markdown",
      "metadata": {
        "id": "WJ8WLrXEuKXW"
      },
      "source": [
        "## 5.2 Multiple Regression\n",
        "Keywords: Target Variable, Explanatory Variables, Multicollinearity, Variable Selection Methods"
      ]
    },
    {
      "cell_type": "markdown",
      "metadata": {
        "id": "C06c6-fnuKXW"
      },
      "source": [
        "As the first topic in supervised learning, we will start by learning about **multiple linear regression**. In simple linear regression, there was only one explanatory variable for the target variable. Multiple regression extends this concept to cases where there are multiple explanatory variables. Through multiple regression, the coefficients of each explanatory variable (regression coefficients) can be estimated, allowing for the calculation of predicted values. The regression coefficients are estimated in such a way that the squared error between the predicted values and the target variable is minimized. Below is a diagram illustrating multiple regression."
      ]
    },
    {
      "cell_type": "markdown",
      "source": [
        "![fig1.png](data:image/png;base64,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)"
      ],
      "metadata": {
        "id": "piYxJPz1Oonl"
      }
    },
    {
      "cell_type": "markdown",
      "metadata": {
        "id": "cXwZvF7PuKXW"
      },
      "source": [
        "Reference URL:http://diary-ba.up.n.seesaa.net/diary-ba/image/E9878DE59B9EE5B8B0E5BC8FE383A2E38387E383AB.png?d=a1 (link depreciated)"
      ]
    },
    {
      "cell_type": "markdown",
      "metadata": {
        "id": "Z56iy1WsuKXX"
      },
      "source": [
        "### 5.2.1 Importing Automobile Price Data\n",
        "\n",
        "Let's try it out in practice. Here, we will build a multiple regression model to predict automobile prices based on their attributes (such as size) using a dataset that contains the prices and attributes of automobiles. The data will be sourced from the following URL.\n",
        "\n",
        "http://archive.ics.uci.edu/ml/machine-learning-databases/autos/imports-85.data"
      ]
    },
    {
      "cell_type": "code",
      "metadata": {
        "id": "cg7FSKuquKXX"
      },
      "source": [
        "# Import\n",
        "import requests, zipfile\n",
        "import io\n",
        "\n",
        "# Fetch automobile price data\n",
        "url = 'http://archive.ics.uci.edu/ml/machine-learning-databases/autos/imports-85.data'\n",
        "res = requests.get(url).content\n",
        "\n",
        "# Load the fetched data into a DataFrame object\n",
        "auto = pd.read_csv(io.StringIO(res.decode('utf-8')), header=None)\n",
        "\n",
        "# Set labels for the data columns\n",
        "auto.columns =['symboling', 'normalized-losses', 'make', 'fuel-type', 'aspiration', 'num-of-doors',\n",
        "                            'body-style', 'drive-wheels', 'engine-location', 'wheel-base', 'length', 'width', 'height',\n",
        "                            'curb-weight', 'engine-type', 'num-of-cylinders', 'engine-size', 'fuel-system', 'bore',\n",
        "                            'stroke', 'compression-ratio', 'horsepower', 'peak-rpm', 'city-mpg', 'highway-mpg', 'price']"
      ],
      "execution_count": null,
      "outputs": []
    },
    {
      "cell_type": "markdown",
      "metadata": {
        "id": "THFb-qGhuKXX"
      },
      "source": [
        "When the above program is executed, the variable auto will contain the automobile price data as a Pandas `DataFrame` object. Let's actually check what kind of data it contains."
      ]
    },
    {
      "cell_type": "code",
      "metadata": {
        "id": "R_OgFbGPuKXX",
        "colab": {
          "base_uri": "https://localhost:8080/"
        },
        "outputId": "cc86ff44-563a-43a8-db4b-29389823f66c"
      },
      "source": [
        "print('Shape of the car data:{}'.format(auto.shape))"
      ],
      "execution_count": null,
      "outputs": [
        {
          "output_type": "stream",
          "name": "stdout",
          "text": [
            "Shape of the car data:(205, 26)\n"
          ]
        }
      ]
    },
    {
      "cell_type": "markdown",
      "metadata": {
        "id": "6TfaPA1fuKXX"
      },
      "source": [
        "It can be confirmed that the data consists of 205 rows and 26 columns."
      ]
    },
    {
      "cell_type": "markdown",
      "metadata": {
        "id": "Oy6_DMinuKXX"
      },
      "source": [
        "Next, let's display the first five rows using the `head()` method."
      ]
    },
    {
      "cell_type": "code",
      "metadata": {
        "scrolled": true,
        "id": "uD-ZGkKUuKXX",
        "colab": {
          "base_uri": "https://localhost:8080/",
          "height": 342
        },
        "outputId": "82318df9-a285-474e-d2c6-10acf5910b54"
      },
      "source": [
        "auto.head()"
      ],
      "execution_count": null,
      "outputs": [
        {
          "output_type": "execute_result",
          "data": {
            "text/plain": [
              "   symboling normalized-losses         make fuel-type aspiration num-of-doors  \\\n",
              "0          3                 ?  alfa-romero       gas        std          two   \n",
              "1          3                 ?  alfa-romero       gas        std          two   \n",
              "2          1                 ?  alfa-romero       gas        std          two   \n",
              "3          2               164         audi       gas        std         four   \n",
              "4          2               164         audi       gas        std         four   \n",
              "\n",
              "    body-style drive-wheels engine-location  wheel-base  ...  engine-size  \\\n",
              "0  convertible          rwd           front        88.6  ...          130   \n",
              "1  convertible          rwd           front        88.6  ...          130   \n",
              "2    hatchback          rwd           front        94.5  ...          152   \n",
              "3        sedan          fwd           front        99.8  ...          109   \n",
              "4        sedan          4wd           front        99.4  ...          136   \n",
              "\n",
              "   fuel-system  bore  stroke compression-ratio horsepower  peak-rpm city-mpg  \\\n",
              "0         mpfi  3.47    2.68               9.0        111      5000       21   \n",
              "1         mpfi  3.47    2.68               9.0        111      5000       21   \n",
              "2         mpfi  2.68    3.47               9.0        154      5000       19   \n",
              "3         mpfi  3.19    3.40              10.0        102      5500       24   \n",
              "4         mpfi  3.19    3.40               8.0        115      5500       18   \n",
              "\n",
              "  highway-mpg  price  \n",
              "0          27  13495  \n",
              "1          27  16500  \n",
              "2          26  16500  \n",
              "3          30  13950  \n",
              "4          22  17450  \n",
              "\n",
              "[5 rows x 26 columns]"
            ],
            "text/html": [
              "\n",
              "  <div id=\"df-fde2e22f-d015-4bf0-9c96-5f19eb235116\" class=\"colab-df-container\">\n",
              "    <div>\n",
              "<style scoped>\n",
              "    .dataframe tbody tr th:only-of-type {\n",
              "        vertical-align: middle;\n",
              "    }\n",
              "\n",
              "    .dataframe tbody tr th {\n",
              "        vertical-align: top;\n",
              "    }\n",
              "\n",
              "    .dataframe thead th {\n",
              "        text-align: right;\n",
              "    }\n",
              "</style>\n",
              "<table border=\"1\" class=\"dataframe\">\n",
              "  <thead>\n",
              "    <tr style=\"text-align: right;\">\n",
              "      <th></th>\n",
              "      <th>symboling</th>\n",
              "      <th>normalized-losses</th>\n",
              "      <th>make</th>\n",
              "      <th>fuel-type</th>\n",
              "      <th>aspiration</th>\n",
              "      <th>num-of-doors</th>\n",
              "      <th>body-style</th>\n",
              "      <th>drive-wheels</th>\n",
              "      <th>engine-location</th>\n",
              "      <th>wheel-base</th>\n",
              "      <th>...</th>\n",
              "      <th>engine-size</th>\n",
              "      <th>fuel-system</th>\n",
              "      <th>bore</th>\n",
              "      <th>stroke</th>\n",
              "      <th>compression-ratio</th>\n",
              "      <th>horsepower</th>\n",
              "      <th>peak-rpm</th>\n",
              "      <th>city-mpg</th>\n",
              "      <th>highway-mpg</th>\n",
              "      <th>price</th>\n",
              "    </tr>\n",
              "  </thead>\n",
              "  <tbody>\n",
              "    <tr>\n",
              "      <th>0</th>\n",
              "      <td>3</td>\n",
              "      <td>?</td>\n",
              "      <td>alfa-romero</td>\n",
              "      <td>gas</td>\n",
              "      <td>std</td>\n",
              "      <td>two</td>\n",
              "      <td>convertible</td>\n",
              "      <td>rwd</td>\n",
              "      <td>front</td>\n",
              "      <td>88.6</td>\n",
              "      <td>...</td>\n",
              "      <td>130</td>\n",
              "      <td>mpfi</td>\n",
              "      <td>3.47</td>\n",
              "      <td>2.68</td>\n",
              "      <td>9.0</td>\n",
              "      <td>111</td>\n",
              "      <td>5000</td>\n",
              "      <td>21</td>\n",
              "      <td>27</td>\n",
              "      <td>13495</td>\n",
              "    </tr>\n",
              "    <tr>\n",
              "      <th>1</th>\n",
              "      <td>3</td>\n",
              "      <td>?</td>\n",
              "      <td>alfa-romero</td>\n",
              "      <td>gas</td>\n",
              "      <td>std</td>\n",
              "      <td>two</td>\n",
              "      <td>convertible</td>\n",
              "      <td>rwd</td>\n",
              "      <td>front</td>\n",
              "      <td>88.6</td>\n",
              "      <td>...</td>\n",
              "      <td>130</td>\n",
              "      <td>mpfi</td>\n",
              "      <td>3.47</td>\n",
              "      <td>2.68</td>\n",
              "      <td>9.0</td>\n",
              "      <td>111</td>\n",
              "      <td>5000</td>\n",
              "      <td>21</td>\n",
              "      <td>27</td>\n",
              "      <td>16500</td>\n",
              "    </tr>\n",
              "    <tr>\n",
              "      <th>2</th>\n",
              "      <td>1</td>\n",
              "      <td>?</td>\n",
              "      <td>alfa-romero</td>\n",
              "      <td>gas</td>\n",
              "      <td>std</td>\n",
              "      <td>two</td>\n",
              "      <td>hatchback</td>\n",
              "      <td>rwd</td>\n",
              "      <td>front</td>\n",
              "      <td>94.5</td>\n",
              "      <td>...</td>\n",
              "      <td>152</td>\n",
              "      <td>mpfi</td>\n",
              "      <td>2.68</td>\n",
              "      <td>3.47</td>\n",
              "      <td>9.0</td>\n",
              "      <td>154</td>\n",
              "      <td>5000</td>\n",
              "      <td>19</td>\n",
              "      <td>26</td>\n",
              "      <td>16500</td>\n",
              "    </tr>\n",
              "    <tr>\n",
              "      <th>3</th>\n",
              "      <td>2</td>\n",
              "      <td>164</td>\n",
              "      <td>audi</td>\n",
              "      <td>gas</td>\n",
              "      <td>std</td>\n",
              "      <td>four</td>\n",
              "      <td>sedan</td>\n",
              "      <td>fwd</td>\n",
              "      <td>front</td>\n",
              "      <td>99.8</td>\n",
              "      <td>...</td>\n",
              "      <td>109</td>\n",
              "      <td>mpfi</td>\n",
              "      <td>3.19</td>\n",
              "      <td>3.40</td>\n",
              "      <td>10.0</td>\n",
              "      <td>102</td>\n",
              "      <td>5500</td>\n",
              "      <td>24</td>\n",
              "      <td>30</td>\n",
              "      <td>13950</td>\n",
              "    </tr>\n",
              "    <tr>\n",
              "      <th>4</th>\n",
              "      <td>2</td>\n",
              "      <td>164</td>\n",
              "      <td>audi</td>\n",
              "      <td>gas</td>\n",
              "      <td>std</td>\n",
              "      <td>four</td>\n",
              "      <td>sedan</td>\n",
              "      <td>4wd</td>\n",
              "      <td>front</td>\n",
              "      <td>99.4</td>\n",
              "      <td>...</td>\n",
              "      <td>136</td>\n",
              "      <td>mpfi</td>\n",
              "      <td>3.19</td>\n",
              "      <td>3.40</td>\n",
              "      <td>8.0</td>\n",
              "      <td>115</td>\n",
              "      <td>5500</td>\n",
              "      <td>18</td>\n",
              "      <td>22</td>\n",
              "      <td>17450</td>\n",
              "    </tr>\n",
              "  </tbody>\n",
              "</table>\n",
              "<p>5 rows × 26 columns</p>\n",
              "</div>\n",
              "    <div class=\"colab-df-buttons\">\n",
              "\n",
              "  <div class=\"colab-df-container\">\n",
              "    <button class=\"colab-df-convert\" onclick=\"convertToInteractive('df-fde2e22f-d015-4bf0-9c96-5f19eb235116')\"\n",
              "            title=\"Convert this dataframe to an interactive table.\"\n",
              "            style=\"display:none;\">\n",
              "\n",
              "  <svg xmlns=\"http://www.w3.org/2000/svg\" height=\"24px\" viewBox=\"0 -960 960 960\">\n",
              "    <path d=\"M120-120v-720h720v720H120Zm60-500h600v-160H180v160Zm220 220h160v-160H400v160Zm0 220h160v-160H400v160ZM180-400h160v-160H180v160Zm440 0h160v-160H620v160ZM180-180h160v-160H180v160Zm440 0h160v-160H620v160Z\"/>\n",
              "  </svg>\n",
              "    </button>\n",
              "\n",
              "  <style>\n",
              "    .colab-df-container {\n",
              "      display:flex;\n",
              "      gap: 12px;\n",
              "    }\n",
              "\n",
              "    .colab-df-convert {\n",
              "      background-color: #E8F0FE;\n",
              "      border: none;\n",
              "      border-radius: 50%;\n",
              "      cursor: pointer;\n",
              "      display: none;\n",
              "      fill: #1967D2;\n",
              "      height: 32px;\n",
              "      padding: 0 0 0 0;\n",
              "      width: 32px;\n",
              "    }\n",
              "\n",
              "    .colab-df-convert:hover {\n",
              "      background-color: #E2EBFA;\n",
              "      box-shadow: 0px 1px 2px rgba(60, 64, 67, 0.3), 0px 1px 3px 1px rgba(60, 64, 67, 0.15);\n",
              "      fill: #174EA6;\n",
              "    }\n",
              "\n",
              "    .colab-df-buttons div {\n",
              "      margin-bottom: 4px;\n",
              "    }\n",
              "\n",
              "    [theme=dark] .colab-df-convert {\n",
              "      background-color: #3B4455;\n",
              "      fill: #D2E3FC;\n",
              "    }\n",
              "\n",
              "    [theme=dark] .colab-df-convert:hover {\n",
              "      background-color: #434B5C;\n",
              "      box-shadow: 0px 1px 3px 1px rgba(0, 0, 0, 0.15);\n",
              "      filter: drop-shadow(0px 1px 2px rgba(0, 0, 0, 0.3));\n",
              "      fill: #FFFFFF;\n",
              "    }\n",
              "  </style>\n",
              "\n",
              "    <script>\n",
              "      const buttonEl =\n",
              "        document.querySelector('#df-fde2e22f-d015-4bf0-9c96-5f19eb235116 button.colab-df-convert');\n",
              "      buttonEl.style.display =\n",
              "        google.colab.kernel.accessAllowed ? 'block' : 'none';\n",
              "\n",
              "      async function convertToInteractive(key) {\n",
              "        const element = document.querySelector('#df-fde2e22f-d015-4bf0-9c96-5f19eb235116');\n",
              "        const dataTable =\n",
              "          await google.colab.kernel.invokeFunction('convertToInteractive',\n",
              "                                                    [key], {});\n",
              "        if (!dataTable) return;\n",
              "\n",
              "        const docLinkHtml = 'Like what you see? Visit the ' +\n",
              "          '<a target=\"_blank\" href=https://colab.research.google.com/notebooks/data_table.ipynb>data table notebook</a>'\n",
              "          + ' to learn more about interactive tables.';\n",
              "        element.innerHTML = '';\n",
              "        dataTable['output_type'] = 'display_data';\n",
              "        await google.colab.output.renderOutput(dataTable, element);\n",
              "        const docLink = document.createElement('div');\n",
              "        docLink.innerHTML = docLinkHtml;\n",
              "        element.appendChild(docLink);\n",
              "      }\n",
              "    </script>\n",
              "  </div>\n",
              "\n",
              "\n",
              "<div id=\"df-f1f70de7-5af2-4a1d-b71f-053320829bc3\">\n",
              "  <button class=\"colab-df-quickchart\" onclick=\"quickchart('df-f1f70de7-5af2-4a1d-b71f-053320829bc3')\"\n",
              "            title=\"Suggest charts\"\n",
              "            style=\"display:none;\">\n",
              "\n",
              "<svg xmlns=\"http://www.w3.org/2000/svg\" height=\"24px\"viewBox=\"0 0 24 24\"\n",
              "     width=\"24px\">\n",
              "    <g>\n",
              "        <path d=\"M19 3H5c-1.1 0-2 .9-2 2v14c0 1.1.9 2 2 2h14c1.1 0 2-.9 2-2V5c0-1.1-.9-2-2-2zM9 17H7v-7h2v7zm4 0h-2V7h2v10zm4 0h-2v-4h2v4z\"/>\n",
              "    </g>\n",
              "</svg>\n",
              "  </button>\n",
              "\n",
              "<style>\n",
              "  .colab-df-quickchart {\n",
              "      --bg-color: #E8F0FE;\n",
              "      --fill-color: #1967D2;\n",
              "      --hover-bg-color: #E2EBFA;\n",
              "      --hover-fill-color: #174EA6;\n",
              "      --disabled-fill-color: #AAA;\n",
              "      --disabled-bg-color: #DDD;\n",
              "  }\n",
              "\n",
              "  [theme=dark] .colab-df-quickchart {\n",
              "      --bg-color: #3B4455;\n",
              "      --fill-color: #D2E3FC;\n",
              "      --hover-bg-color: #434B5C;\n",
              "      --hover-fill-color: #FFFFFF;\n",
              "      --disabled-bg-color: #3B4455;\n",
              "      --disabled-fill-color: #666;\n",
              "  }\n",
              "\n",
              "  .colab-df-quickchart {\n",
              "    background-color: var(--bg-color);\n",
              "    border: none;\n",
              "    border-radius: 50%;\n",
              "    cursor: pointer;\n",
              "    display: none;\n",
              "    fill: var(--fill-color);\n",
              "    height: 32px;\n",
              "    padding: 0;\n",
              "    width: 32px;\n",
              "  }\n",
              "\n",
              "  .colab-df-quickchart:hover {\n",
              "    background-color: var(--hover-bg-color);\n",
              "    box-shadow: 0 1px 2px rgba(60, 64, 67, 0.3), 0 1px 3px 1px rgba(60, 64, 67, 0.15);\n",
              "    fill: var(--button-hover-fill-color);\n",
              "  }\n",
              "\n",
              "  .colab-df-quickchart-complete:disabled,\n",
              "  .colab-df-quickchart-complete:disabled:hover {\n",
              "    background-color: var(--disabled-bg-color);\n",
              "    fill: var(--disabled-fill-color);\n",
              "    box-shadow: none;\n",
              "  }\n",
              "\n",
              "  .colab-df-spinner {\n",
              "    border: 2px solid var(--fill-color);\n",
              "    border-color: transparent;\n",
              "    border-bottom-color: var(--fill-color);\n",
              "    animation:\n",
              "      spin 1s steps(1) infinite;\n",
              "  }\n",
              "\n",
              "  @keyframes spin {\n",
              "    0% {\n",
              "      border-color: transparent;\n",
              "      border-bottom-color: var(--fill-color);\n",
              "      border-left-color: var(--fill-color);\n",
              "    }\n",
              "    20% {\n",
              "      border-color: transparent;\n",
              "      border-left-color: var(--fill-color);\n",
              "      border-top-color: var(--fill-color);\n",
              "    }\n",
              "    30% {\n",
              "      border-color: transparent;\n",
              "      border-left-color: var(--fill-color);\n",
              "      border-top-color: var(--fill-color);\n",
              "      border-right-color: var(--fill-color);\n",
              "    }\n",
              "    40% {\n",
              "      border-color: transparent;\n",
              "      border-right-color: var(--fill-color);\n",
              "      border-top-color: var(--fill-color);\n",
              "    }\n",
              "    60% {\n",
              "      border-color: transparent;\n",
              "      border-right-color: var(--fill-color);\n",
              "    }\n",
              "    80% {\n",
              "      border-color: transparent;\n",
              "      border-right-color: var(--fill-color);\n",
              "      border-bottom-color: var(--fill-color);\n",
              "    }\n",
              "    90% {\n",
              "      border-color: transparent;\n",
              "      border-bottom-color: var(--fill-color);\n",
              "    }\n",
              "  }\n",
              "</style>\n",
              "\n",
              "  <script>\n",
              "    async function quickchart(key) {\n",
              "      const quickchartButtonEl =\n",
              "        document.querySelector('#' + key + ' button');\n",
              "      quickchartButtonEl.disabled = true;  // To prevent multiple clicks.\n",
              "      quickchartButtonEl.classList.add('colab-df-spinner');\n",
              "      try {\n",
              "        const charts = await google.colab.kernel.invokeFunction(\n",
              "            'suggestCharts', [key], {});\n",
              "      } catch (error) {\n",
              "        console.error('Error during call to suggestCharts:', error);\n",
              "      }\n",
              "      quickchartButtonEl.classList.remove('colab-df-spinner');\n",
              "      quickchartButtonEl.classList.add('colab-df-quickchart-complete');\n",
              "    }\n",
              "    (() => {\n",
              "      let quickchartButtonEl =\n",
              "        document.querySelector('#df-f1f70de7-5af2-4a1d-b71f-053320829bc3 button');\n",
              "      quickchartButtonEl.style.display =\n",
              "        google.colab.kernel.accessAllowed ? 'block' : 'none';\n",
              "    })();\n",
              "  </script>\n",
              "</div>\n",
              "\n",
              "    </div>\n",
              "  </div>\n"
            ],
            "application/vnd.google.colaboratory.intrinsic+json": {
              "type": "dataframe",
              "variable_name": "auto"
            }
          },
          "metadata": {},
          "execution_count": 4
        }
      ]
    },
    {
      "cell_type": "markdown",
      "metadata": {
        "id": "FXBZEYzcuKXX"
      },
      "source": [
        "In this dataset, the price of the cars is set in the `price` column. Since we are trying to create a model to predict the price based on the car's attributes, the challenge is to build a model that predicts `price` using the values from the other columns.\n",
        "\n",
        "To simplify the task, we will only use three explanatory variables: `horsepower`, `width`, and `height`. In other words, we will create a model that predicts the price variable based on the explanatory variables `horsepower`, `width`, and `height`.\n",
        "\n",
        "\n",
        "\n",
        "\n",
        "\n",
        "\n"
      ]
    },
    {
      "cell_type": "markdown",
      "metadata": {
        "id": "jDv1iUFUuKXX"
      },
      "source": [
        "### 5.2.2 Data Preparation\n",
        "\n",
        "Input data may contain inappropriate or invalid entries. Therefore, the first step is to review the data and organize it appropriately."
      ]
    },
    {
      "cell_type": "markdown",
      "metadata": {
        "id": "JJltHcgXuKXX"
      },
      "source": [
        "#### Removing Inappropriate Data\n",
        "\n",
        "When reviewing the data using the `head()` method, you may notice that there are entries with '?'. Many machine learning algorithms only handle numerical data, so preprocessing is required to remove non-numeric data, such as '?'.\n",
        "\n",
        "Since our goal is to predict `price` from `horsepower`, `width`, and `height`, we need to delete any rows containing '?' in these variables. Specifically, we will convert '?' entries to missing values and then remove the rows containing these missing values. The following code can be used to check how many '?' entries are present in the four variables we are working with: `horsepower`, `width`, `height`, and `rice`."
      ]
    },
    {
      "cell_type": "code",
      "metadata": {
        "id": "mARVqvQHuKXX",
        "colab": {
          "base_uri": "https://localhost:8080/",
          "height": 210
        },
        "outputId": "3e750130-7650-478e-f419-d8bcab9321bd"
      },
      "source": [
        "# Count the number of `?` in each column\n",
        "auto = auto[['price', 'horsepower', 'width', 'height']]\n",
        "auto.isin(['?']).sum()"
      ],
      "execution_count": null,
      "outputs": [
        {
          "output_type": "execute_result",
          "data": {
            "text/plain": [
              "price         4\n",
              "horsepower    2\n",
              "width         0\n",
              "height        0\n",
              "dtype: int64"
            ],
            "text/html": [
              "<div>\n",
              "<style scoped>\n",
              "    .dataframe tbody tr th:only-of-type {\n",
              "        vertical-align: middle;\n",
              "    }\n",
              "\n",
              "    .dataframe tbody tr th {\n",
              "        vertical-align: top;\n",
              "    }\n",
              "\n",
              "    .dataframe thead th {\n",
              "        text-align: right;\n",
              "    }\n",
              "</style>\n",
              "<table border=\"1\" class=\"dataframe\">\n",
              "  <thead>\n",
              "    <tr style=\"text-align: right;\">\n",
              "      <th></th>\n",
              "      <th>0</th>\n",
              "    </tr>\n",
              "  </thead>\n",
              "  <tbody>\n",
              "    <tr>\n",
              "      <th>price</th>\n",
              "      <td>4</td>\n",
              "    </tr>\n",
              "    <tr>\n",
              "      <th>horsepower</th>\n",
              "      <td>2</td>\n",
              "    </tr>\n",
              "    <tr>\n",
              "      <th>width</th>\n",
              "      <td>0</td>\n",
              "    </tr>\n",
              "    <tr>\n",
              "      <th>height</th>\n",
              "      <td>0</td>\n",
              "    </tr>\n",
              "  </tbody>\n",
              "</table>\n",
              "</div><br><label><b>dtype:</b> int64</label>"
            ]
          },
          "metadata": {},
          "execution_count": 5
        }
      ]
    },
    {
      "cell_type": "markdown",
      "metadata": {
        "id": "e5ahextwuKXX"
      },
      "source": [
        "You can see that there are '?' data mixed into the `price` and `horsepower` columns, so we will use a technique we learned before in Pandas to exclude them. By doing the following, the rows containing '?' will be removed. When executed, you can confirm that the number of rows has decreased."
      ]
    },
    {
      "cell_type": "code",
      "metadata": {
        "id": "fy8GBBVNuKXX",
        "colab": {
          "base_uri": "https://localhost:8080/"
        },
        "outputId": "19b7a7ed-a196-41b3-93b2-fec3a138a6c6"
      },
      "source": [
        "# Replace `?` with NaN and drop rows with NaN\n",
        "auto = auto.replace('?', np.nan).dropna()\n",
        "print('Shape of the car data:{}'.format(auto.shape))"
      ],
      "execution_count": null,
      "outputs": [
        {
          "output_type": "stream",
          "name": "stdout",
          "text": [
            "Shape of the car data:(199, 4)\n"
          ]
        }
      ]
    },
    {
      "cell_type": "markdown",
      "metadata": {
        "id": "1WGQpMJouKXX"
      },
      "source": [
        "#### Type Conversion\n",
        "\n",
        "Let's check the data types here. You can do so using the following code."
      ]
    },
    {
      "cell_type": "code",
      "metadata": {
        "id": "kO2ZMAfMuKXX",
        "colab": {
          "base_uri": "https://localhost:8080/"
        },
        "outputId": "5e697fe3-e49e-4144-a9e9-13d0b92db416"
      },
      "source": [
        "print('Check data types (before type conversion)\\n{}\\n'.format(auto.dtypes))"
      ],
      "execution_count": null,
      "outputs": [
        {
          "output_type": "stream",
          "name": "stdout",
          "text": [
            "Check data types (before type conversion)\n",
            "price          object\n",
            "horsepower     object\n",
            "width         float64\n",
            "height        float64\n",
            "dtype: object\n",
            "\n"
          ]
        }
      ]
    },
    {
      "cell_type": "markdown",
      "metadata": {
        "id": "yRXFjaLMuKXX"
      },
      "source": [
        "It can be confirmed that both price and horsepower are not numeric types. Therefore, we will use `to_numeric` to convert them to numeric types."
      ]
    },
    {
      "cell_type": "code",
      "metadata": {
        "id": "H5opVyS0uKXX",
        "colab": {
          "base_uri": "https://localhost:8080/"
        },
        "outputId": "b1b85684-d8b9-46d0-b684-dd51d09cba1f"
      },
      "source": [
        "auto = auto.assign(price=pd.to_numeric(auto.price))\n",
        "auto = auto.assign(horsepower=pd.to_numeric(auto.horsepower))\n",
        "print('Data type check (after type conversion\\n{}'.format(auto.dtypes))"
      ],
      "execution_count": null,
      "outputs": [
        {
          "output_type": "stream",
          "name": "stdout",
          "text": [
            "Data type check (after type conversion\n",
            "price           int64\n",
            "horsepower      int64\n",
            "width         float64\n",
            "height        float64\n",
            "dtype: object\n"
          ]
        }
      ]
    },
    {
      "cell_type": "markdown",
      "metadata": {
        "id": "O-q5m3GKuKXX"
      },
      "source": [
        "#### Correlation Check\n",
        "\n",
        "With the above operations, all rows of the explanatory variables and the target variable have been processed to be free of missing values and in numeric data format. Next, we will check the correlation between each variable. You can use `corr()` as follows to check the correlation."
      ]
    },
    {
      "cell_type": "code",
      "metadata": {
        "id": "ai2aQmF_uKXX",
        "colab": {
          "base_uri": "https://localhost:8080/",
          "height": 175
        },
        "outputId": "384e439a-0f42-44d8-d5ba-371cb47078cd"
      },
      "source": [
        "auto.corr()"
      ],
      "execution_count": null,
      "outputs": [
        {
          "output_type": "execute_result",
          "data": {
            "text/plain": [
              "               price  horsepower     width    height\n",
              "price       1.000000    0.810533  0.753871  0.134990\n",
              "horsepower  0.810533    1.000000  0.615315 -0.087407\n",
              "width       0.753871    0.615315  1.000000  0.309223\n",
              "height      0.134990   -0.087407  0.309223  1.000000"
            ],
            "text/html": [
              "\n",
              "  <div id=\"df-3991521e-66df-406c-918b-49df9ac4b7c8\" class=\"colab-df-container\">\n",
              "    <div>\n",
              "<style scoped>\n",
              "    .dataframe tbody tr th:only-of-type {\n",
              "        vertical-align: middle;\n",
              "    }\n",
              "\n",
              "    .dataframe tbody tr th {\n",
              "        vertical-align: top;\n",
              "    }\n",
              "\n",
              "    .dataframe thead th {\n",
              "        text-align: right;\n",
              "    }\n",
              "</style>\n",
              "<table border=\"1\" class=\"dataframe\">\n",
              "  <thead>\n",
              "    <tr style=\"text-align: right;\">\n",
              "      <th></th>\n",
              "      <th>price</th>\n",
              "      <th>horsepower</th>\n",
              "      <th>width</th>\n",
              "      <th>height</th>\n",
              "    </tr>\n",
              "  </thead>\n",
              "  <tbody>\n",
              "    <tr>\n",
              "      <th>price</th>\n",
              "      <td>1.000000</td>\n",
              "      <td>0.810533</td>\n",
              "      <td>0.753871</td>\n",
              "      <td>0.134990</td>\n",
              "    </tr>\n",
              "    <tr>\n",
              "      <th>horsepower</th>\n",
              "      <td>0.810533</td>\n",
              "      <td>1.000000</td>\n",
              "      <td>0.615315</td>\n",
              "      <td>-0.087407</td>\n",
              "    </tr>\n",
              "    <tr>\n",
              "      <th>width</th>\n",
              "      <td>0.753871</td>\n",
              "      <td>0.615315</td>\n",
              "      <td>1.000000</td>\n",
              "      <td>0.309223</td>\n",
              "    </tr>\n",
              "    <tr>\n",
              "      <th>height</th>\n",
              "      <td>0.134990</td>\n",
              "      <td>-0.087407</td>\n",
              "      <td>0.309223</td>\n",
              "      <td>1.000000</td>\n",
              "    </tr>\n",
              "  </tbody>\n",
              "</table>\n",
              "</div>\n",
              "    <div class=\"colab-df-buttons\">\n",
              "\n",
              "  <div class=\"colab-df-container\">\n",
              "    <button class=\"colab-df-convert\" onclick=\"convertToInteractive('df-3991521e-66df-406c-918b-49df9ac4b7c8')\"\n",
              "            title=\"Convert this dataframe to an interactive table.\"\n",
              "            style=\"display:none;\">\n",
              "\n",
              "  <svg xmlns=\"http://www.w3.org/2000/svg\" height=\"24px\" viewBox=\"0 -960 960 960\">\n",
              "    <path d=\"M120-120v-720h720v720H120Zm60-500h600v-160H180v160Zm220 220h160v-160H400v160Zm0 220h160v-160H400v160ZM180-400h160v-160H180v160Zm440 0h160v-160H620v160ZM180-180h160v-160H180v160Zm440 0h160v-160H620v160Z\"/>\n",
              "  </svg>\n",
              "    </button>\n",
              "\n",
              "  <style>\n",
              "    .colab-df-container {\n",
              "      display:flex;\n",
              "      gap: 12px;\n",
              "    }\n",
              "\n",
              "    .colab-df-convert {\n",
              "      background-color: #E8F0FE;\n",
              "      border: none;\n",
              "      border-radius: 50%;\n",
              "      cursor: pointer;\n",
              "      display: none;\n",
              "      fill: #1967D2;\n",
              "      height: 32px;\n",
              "      padding: 0 0 0 0;\n",
              "      width: 32px;\n",
              "    }\n",
              "\n",
              "    .colab-df-convert:hover {\n",
              "      background-color: #E2EBFA;\n",
              "      box-shadow: 0px 1px 2px rgba(60, 64, 67, 0.3), 0px 1px 3px 1px rgba(60, 64, 67, 0.15);\n",
              "      fill: #174EA6;\n",
              "    }\n",
              "\n",
              "    .colab-df-buttons div {\n",
              "      margin-bottom: 4px;\n",
              "    }\n",
              "\n",
              "    [theme=dark] .colab-df-convert {\n",
              "      background-color: #3B4455;\n",
              "      fill: #D2E3FC;\n",
              "    }\n",
              "\n",
              "    [theme=dark] .colab-df-convert:hover {\n",
              "      background-color: #434B5C;\n",
              "      box-shadow: 0px 1px 3px 1px rgba(0, 0, 0, 0.15);\n",
              "      filter: drop-shadow(0px 1px 2px rgba(0, 0, 0, 0.3));\n",
              "      fill: #FFFFFF;\n",
              "    }\n",
              "  </style>\n",
              "\n",
              "    <script>\n",
              "      const buttonEl =\n",
              "        document.querySelector('#df-3991521e-66df-406c-918b-49df9ac4b7c8 button.colab-df-convert');\n",
              "      buttonEl.style.display =\n",
              "        google.colab.kernel.accessAllowed ? 'block' : 'none';\n",
              "\n",
              "      async function convertToInteractive(key) {\n",
              "        const element = document.querySelector('#df-3991521e-66df-406c-918b-49df9ac4b7c8');\n",
              "        const dataTable =\n",
              "          await google.colab.kernel.invokeFunction('convertToInteractive',\n",
              "                                                    [key], {});\n",
              "        if (!dataTable) return;\n",
              "\n",
              "        const docLinkHtml = 'Like what you see? Visit the ' +\n",
              "          '<a target=\"_blank\" href=https://colab.research.google.com/notebooks/data_table.ipynb>data table notebook</a>'\n",
              "          + ' to learn more about interactive tables.';\n",
              "        element.innerHTML = '';\n",
              "        dataTable['output_type'] = 'display_data';\n",
              "        await google.colab.output.renderOutput(dataTable, element);\n",
              "        const docLink = document.createElement('div');\n",
              "        docLink.innerHTML = docLinkHtml;\n",
              "        element.appendChild(docLink);\n",
              "      }\n",
              "    </script>\n",
              "  </div>\n",
              "\n",
              "\n",
              "<div id=\"df-d036697a-99c1-4a77-bcb9-c304d6e03c5e\">\n",
              "  <button class=\"colab-df-quickchart\" onclick=\"quickchart('df-d036697a-99c1-4a77-bcb9-c304d6e03c5e')\"\n",
              "            title=\"Suggest charts\"\n",
              "            style=\"display:none;\">\n",
              "\n",
              "<svg xmlns=\"http://www.w3.org/2000/svg\" height=\"24px\"viewBox=\"0 0 24 24\"\n",
              "     width=\"24px\">\n",
              "    <g>\n",
              "        <path d=\"M19 3H5c-1.1 0-2 .9-2 2v14c0 1.1.9 2 2 2h14c1.1 0 2-.9 2-2V5c0-1.1-.9-2-2-2zM9 17H7v-7h2v7zm4 0h-2V7h2v10zm4 0h-2v-4h2v4z\"/>\n",
              "    </g>\n",
              "</svg>\n",
              "  </button>\n",
              "\n",
              "<style>\n",
              "  .colab-df-quickchart {\n",
              "      --bg-color: #E8F0FE;\n",
              "      --fill-color: #1967D2;\n",
              "      --hover-bg-color: #E2EBFA;\n",
              "      --hover-fill-color: #174EA6;\n",
              "      --disabled-fill-color: #AAA;\n",
              "      --disabled-bg-color: #DDD;\n",
              "  }\n",
              "\n",
              "  [theme=dark] .colab-df-quickchart {\n",
              "      --bg-color: #3B4455;\n",
              "      --fill-color: #D2E3FC;\n",
              "      --hover-bg-color: #434B5C;\n",
              "      --hover-fill-color: #FFFFFF;\n",
              "      --disabled-bg-color: #3B4455;\n",
              "      --disabled-fill-color: #666;\n",
              "  }\n",
              "\n",
              "  .colab-df-quickchart {\n",
              "    background-color: var(--bg-color);\n",
              "    border: none;\n",
              "    border-radius: 50%;\n",
              "    cursor: pointer;\n",
              "    display: none;\n",
              "    fill: var(--fill-color);\n",
              "    height: 32px;\n",
              "    padding: 0;\n",
              "    width: 32px;\n",
              "  }\n",
              "\n",
              "  .colab-df-quickchart:hover {\n",
              "    background-color: var(--hover-bg-color);\n",
              "    box-shadow: 0 1px 2px rgba(60, 64, 67, 0.3), 0 1px 3px 1px rgba(60, 64, 67, 0.15);\n",
              "    fill: var(--button-hover-fill-color);\n",
              "  }\n",
              "\n",
              "  .colab-df-quickchart-complete:disabled,\n",
              "  .colab-df-quickchart-complete:disabled:hover {\n",
              "    background-color: var(--disabled-bg-color);\n",
              "    fill: var(--disabled-fill-color);\n",
              "    box-shadow: none;\n",
              "  }\n",
              "\n",
              "  .colab-df-spinner {\n",
              "    border: 2px solid var(--fill-color);\n",
              "    border-color: transparent;\n",
              "    border-bottom-color: var(--fill-color);\n",
              "    animation:\n",
              "      spin 1s steps(1) infinite;\n",
              "  }\n",
              "\n",
              "  @keyframes spin {\n",
              "    0% {\n",
              "      border-color: transparent;\n",
              "      border-bottom-color: var(--fill-color);\n",
              "      border-left-color: var(--fill-color);\n",
              "    }\n",
              "    20% {\n",
              "      border-color: transparent;\n",
              "      border-left-color: var(--fill-color);\n",
              "      border-top-color: var(--fill-color);\n",
              "    }\n",
              "    30% {\n",
              "      border-color: transparent;\n",
              "      border-left-color: var(--fill-color);\n",
              "      border-top-color: var(--fill-color);\n",
              "      border-right-color: var(--fill-color);\n",
              "    }\n",
              "    40% {\n",
              "      border-color: transparent;\n",
              "      border-right-color: var(--fill-color);\n",
              "      border-top-color: var(--fill-color);\n",
              "    }\n",
              "    60% {\n",
              "      border-color: transparent;\n",
              "      border-right-color: var(--fill-color);\n",
              "    }\n",
              "    80% {\n",
              "      border-color: transparent;\n",
              "      border-right-color: var(--fill-color);\n",
              "      border-bottom-color: var(--fill-color);\n",
              "    }\n",
              "    90% {\n",
              "      border-color: transparent;\n",
              "      border-bottom-color: var(--fill-color);\n",
              "    }\n",
              "  }\n",
              "</style>\n",
              "\n",
              "  <script>\n",
              "    async function quickchart(key) {\n",
              "      const quickchartButtonEl =\n",
              "        document.querySelector('#' + key + ' button');\n",
              "      quickchartButtonEl.disabled = true;  // To prevent multiple clicks.\n",
              "      quickchartButtonEl.classList.add('colab-df-spinner');\n",
              "      try {\n",
              "        const charts = await google.colab.kernel.invokeFunction(\n",
              "            'suggestCharts', [key], {});\n",
              "      } catch (error) {\n",
              "        console.error('Error during call to suggestCharts:', error);\n",
              "      }\n",
              "      quickchartButtonEl.classList.remove('colab-df-spinner');\n",
              "      quickchartButtonEl.classList.add('colab-df-quickchart-complete');\n",
              "    }\n",
              "    (() => {\n",
              "      let quickchartButtonEl =\n",
              "        document.querySelector('#df-d036697a-99c1-4a77-bcb9-c304d6e03c5e button');\n",
              "      quickchartButtonEl.style.display =\n",
              "        google.colab.kernel.accessAllowed ? 'block' : 'none';\n",
              "    })();\n",
              "  </script>\n",
              "</div>\n",
              "\n",
              "    </div>\n",
              "  </div>\n"
            ],
            "application/vnd.google.colaboratory.intrinsic+json": {
              "type": "dataframe",
              "summary": "{\n  \"name\": \"auto\",\n  \"rows\": 4,\n  \"fields\": [\n    {\n      \"column\": \"price\",\n      \"properties\": {\n        \"dtype\": \"number\",\n        \"std\": 0.374977920162475,\n        \"min\": 0.1349902275446107,\n        \"max\": 1.0,\n        \"num_unique_values\": 4,\n        \"samples\": [\n          0.810533082132206,\n          0.1349902275446107,\n          1.0\n        ],\n        \"semantic_type\": \"\",\n        \"description\": \"\"\n      }\n    },\n    {\n      \"column\": \"horsepower\",\n      \"properties\": {\n        \"dtype\": \"number\",\n        \"std\": 0.47474177067256995,\n        \"min\": -0.08740662435729349,\n        \"max\": 1.0,\n        \"num_unique_values\": 4,\n        \"samples\": [\n          1.0,\n          -0.08740662435729349,\n          0.810533082132206\n        ],\n        \"semantic_type\": \"\",\n        \"description\": \"\"\n      }\n    },\n    {\n      \"column\": \"width\",\n      \"properties\": {\n        \"dtype\": \"number\",\n        \"std\": 0.2881458229090919,\n        \"min\": 0.3092231962123305,\n        \"max\": 1.0,\n        \"num_unique_values\": 4,\n        \"samples\": [\n          0.6153152424191125,\n          0.3092231962123305,\n          0.7538710519013418\n        ],\n        \"semantic_type\": \"\",\n        \"description\": \"\"\n      }\n    },\n    {\n      \"column\": \"height\",\n      \"properties\": {\n        \"dtype\": \"number\",\n        \"std\": 0.4694855666455833,\n        \"min\": -0.08740662435729349,\n        \"max\": 1.0,\n        \"num_unique_values\": 4,\n        \"samples\": [\n          -0.08740662435729349,\n          1.0,\n          0.1349902275446107\n        ],\n        \"semantic_type\": \"\",\n        \"description\": \"\"\n      }\n    }\n  ]\n}"
            }
          },
          "metadata": {},
          "execution_count": 9
        }
      ]
    },
    {
      "cell_type": "markdown",
      "metadata": {
        "id": "jRTJ-c-guKXX"
      },
      "source": [
        "Since `price` is the target variable here, focusing on the other three variables, we notice that `width` and `horsepower` have a somewhat high correlation of around 0.6. This check is necessary because using highly correlated variables as explanatory variables in multiple regression can lead to **multi-collinearity**.\n",
        "\n",
        "Multi-collinearity is a phenomenon where high correlation between variables causes an increase in the variance of regression coefficients, leading to a loss of coefficient significance. To avoid this, typically in multiple regression modeling, only a representative variable from groups of highly correlated variables is used. However, since this is an experiment, we won’t be strict about this; both `width` and `horsepower` will be included along with `height` in building the model.\n"
      ]
    },
    {
      "cell_type": "markdown",
      "metadata": {
        "id": "MlwDf1R_uKXX"
      },
      "source": [
        "### 5.2.3 Model Building and Evaluation\n",
        "\n",
        "Now that we have the data, let's build the model. The following program creates a multiple regression model and examines its performance."
      ]
    },
    {
      "cell_type": "markdown",
      "metadata": {
        "id": "XPDw6be5uKXX"
      },
      "source": [
        "In the program below, the explanatory variables are set as\n",
        "$X$ and the target variable as $y$.\n",
        "\n",
        "In machine learning model building, it's common to train the model using \"training data\" and then evaluate its performance by testing it with separate \"test data\" to see how accurately it performs on new data. Here, we use the `train_test_split` function from Scikit-learn's `model_selection` module to split the data into training and test sets.\n"
      ]
    },
    {
      "cell_type": "markdown",
      "metadata": {
        "id": "VlRC7NRZuKXX"
      },
      "source": [
        "This function randomly splits the data into two parts. The split ratio is determined by `test_size`. Here, with `test_size` set to 0.5, the data is divided equally (setting it to 0.4, for example, would split the data into a 4:6 ratio).\n",
        "\n",
        "The `random_state` parameter controls the randomness level. Setting `random_state` to 0, as we do here, ensures that the split is consistent each time the code is run, eliminating randomness.  If random_state isn’t set to a fixed number, rows may be categorized into either training or test data differently with each execution, resulting in varying outcomes. In practical applications, fixing `random_state` to ensure reproducibility is very important.\n"
      ]
    },
    {
      "cell_type": "markdown",
      "metadata": {
        "id": "LNVOS-myuKXX"
      },
      "source": [
        "\n",
        " The multiple regression model is built using the `LinearRegression`class. An instance is created with `model = LinearRegression()`, and the model is trained by loading the training data with `model.fit(X_train, y_train)`, completing the training process. Once trained, you can check the coefficient of determination, regression coefficients, and intercept. The coefficient of determination indicates how closely the predicted values of the target variable match the actual values of the target variable."
      ]
    },
    {
      "cell_type": "markdown",
      "metadata": {
        "id": "sIfWwn7vuKXX"
      },
      "source": [
        "The goal of machine learning is to achieve high generalization performance, meaning that the model can make accurate predictions even with unseen data. While it might seem ideal to focus on fitting the training data well, in reality, models often end up with high accuracy on training data but low accuracy on test data. This phenomenon is called **overfitting** or **excessive learning**, and it’s crucial to check for overfitting during model building. We’ll explore this topic in more detail in a later chapter."
      ]
    },
    {
      "cell_type": "markdown",
      "source": [
        "In the objective function of multiple regression analysis, $y$ represents the target value, and $ f(\\textbf{x}) = w_1x_1 + w_2x_2 + w_3x_3 +\\cdots + b $ represents the predicted value. The goal is to find the coefficients that minimize the following equation."
      ],
      "metadata": {
        "id": "psLDOwVWxH5f"
      }
    },
    {
      "cell_type": "markdown",
      "source": [
        "\\begin{eqnarray}\n",
        "\\sum^n_{i=1}(y_i-f(\\textbf{x}_i))^2\n",
        "\\end{eqnarray}"
      ],
      "metadata": {
        "id": "y2EFSwe-zVjr"
      }
    },
    {
      "cell_type": "code",
      "metadata": {
        "id": "AoBdTFtHuKXX",
        "colab": {
          "base_uri": "https://localhost:8080/"
        },
        "outputId": "6e43be6b-a26e-4898-e9fd-2c58a61edd97"
      },
      "source": [
        "# Import for data splitting (training data and test data)\n",
        "from sklearn.model_selection import train_test_split\n",
        "\n",
        "# Import for building the multiple regression model\n",
        "from sklearn.linear_model import LinearRegression\n",
        "\n",
        " # Set `price` as the target variable and the rest as explanatory variables\n",
        "X = auto.drop('price', axis=1)\n",
        "y = auto['price']\n",
        "\n",
        "# Split into training and test data\n",
        "X_train, X_test, y_train, y_test = train_test_split(X, y, test_size=0.5, random_state=0)\n",
        "\n",
        "# Initialize and train the regression model\n",
        "model = LinearRegression()\n",
        "model.fit(X_train, y_train)\n",
        "\n",
        "# Display the coefficient of determination\n",
        "print('Coefficient of determination (train):{:.3f}'.format(model.score(X_train, y_train)))\n",
        "print('Coefficient of determination (test):{:.3f}'.format(model.score(X_test, y_test)))\n",
        "\n",
        "# Display regression coefficients and intercept\n",
        "print('\\nRegression coefficients\\n{}'.format(pd.Series(model.coef_, index=X.columns)))\n",
        "print('Intercept: {:.3f}'.format(model.intercept_))"
      ],
      "execution_count": null,
      "outputs": [
        {
          "output_type": "stream",
          "name": "stdout",
          "text": [
            "Coefficient of determination (train):0.733\n",
            "Coefficient of determination (test):0.737\n",
            "\n",
            "Regression coefficients\n",
            "horsepower      81.651078\n",
            "width         1829.174506\n",
            "height         229.510077\n",
            "dtype: float64\n",
            "Intercept: -128409.046\n"
          ]
        }
      ]
    },
    {
      "cell_type": "markdown",
      "metadata": {
        "id": "lxJM38T6uKXY"
      },
      "source": [
        "The coefficient of determination can be obtained using the `score` method. From the results above, we can see that the score for the training data is 0.733 and for the test data is 0.737. Since the scores for both the training and test data are close, we can conclude that this model is not overfitting.\n",
        "\n",
        "### 5.2.4 Summary of Model Building and Evaluation Process\n",
        "\n",
        "This concludes the process of model building and evaluation using multiple regression. The same basic process will be followed for other models, such as decision trees and SVMs, which will be learned in the following sections. In other words, this flow is fundamental to model building and evaluation."
      ]
    },
    {
      "cell_type": "markdown",
      "metadata": {
        "id": "eSklMkXBuKXY"
      },
      "source": [
        "- Initialization of the class for various model constructions：`model = LinearRegression()`\n",
        "- Splitting the data into explanatory variables and target variables：$X$ and $y$\n",
        "- Splitting into training and test data：`train_test_split(X, y, test_size=0.5, random_state=0)`\n",
        "- Fitting the model using the training data (training)：`model.fit(X_train, y_train)`\n",
        "- Testing the model's generalization performance using the test data：`model.score(X_test, y_test)`"
      ]
    },
    {
      "cell_type": "markdown",
      "metadata": {
        "id": "VdEXPAiZuKXY"
      },
      "source": [
        "In this case, we arbitrarily selected three explanatory variables—`horsepower`, `width`, and `height`—for the model building, but there are several statistical methods for selecting variables. Specifically, methods such as **forward selection**, **backward elimination**, and **stepwise selection** are used. The criteria for selection include RMSE (Root Mean Squared Error), AIC (Akaike Information Criterion), and BIC (Bayesian Information Criterion). These methods are not universally effective, and factors such as the model's generalization performance and business domain knowledge are also considered in the selection process. The details of these methods are omitted in this book, so those who wish to deepen their learning should look into them further."
      ]
    },
    {
      "cell_type": "markdown",
      "metadata": {
        "id": "4YBUDWTSuKXY"
      },
      "source": [
        ">**[Try It Out]**\n",
        ">\n",
        ">Let's explore forward selection, backward elimination, and stepwise selection methods."
      ]
    },
    {
      "cell_type": "markdown",
      "metadata": {
        "id": "vYP8RTTRuKXY"
      },
      "source": [
        "####  <Practice Question 5-1>\n",
        "We will use the car price data utilized in the main text. For this data, set the target variable as `price` and use `length` and `engine-size` as the explanatory variables to build a multiple regression model. When doing this, use `train_test_split` to split the data into training and test sets so that each set is half of the total data. Then, construct the model and calculate the model's score using the test data. When executing `train_test_split`, set the `random_state` option to 0."
      ]
    },
    {
      "cell_type": "code",
      "source": [
        "# @title\n",
        "# Set \"price\" as the target variable, and the others as explanatory variables\n",
        "url = 'http://archive.ics.uci.edu/ml/machine-learning-databases/autos/imports-85.data'\n",
        "res = requests.get(url).content\n",
        "\n",
        "auto = pd.read_csv(io.StringIO(res.decode('utf-8')), header=None)\n",
        "\n",
        "auto.columns = [\n",
        "    'symboling','normalized-losses','make','fuel-type' ,'aspiration','num-of-doors',\n",
        "    'body-style','drive-wheels','engine-location','wheel-base','length','width','height',\n",
        "    'curb-weight','engine-type','num-of-cylinders','engine-size','fuel-system','bore',\n",
        "    'stroke','compression-ratio','horsepower','peak-rpm','city-mpg','highway-mpg','price'\n",
        "]\n",
        "\n",
        "# Data preprocessing\n",
        "auto = auto[['price','length','engine-size']]\n",
        "auto = auto.replace('?', np.nan).dropna()\n",
        "\n",
        "# Specify \"price\" as the target variable and the others as explanatory variable\n",
        "## WRITE ME\n",
        "\n",
        "# Split data into training and test sets\n",
        "## WRITE ME\n",
        "\n",
        "# Initialize and train the multiple regression class\n",
        "## WRITE ME\n",
        "\n",
        "# Display R^2 score\n",
        "## WRITE ME"
      ],
      "metadata": {
        "id": "rDBA2PmYaaPB"
      },
      "execution_count": null,
      "outputs": []
    },
    {
      "cell_type": "markdown",
      "metadata": {
        "id": "bKpd3ShYuKXY"
      },
      "source": [
        "####  <Practice Question 5-2>\n",
        "\n",
        "For the data from <Practice Question 5-1>, use the same target variable, `price`, but construct a multiple regression model using a different set of explanatory variables. Split the data so that half is used for training and half for testing, then calculate the model's score using the test data. When splitting the data into training and test sets, set the `random_state` function to 0. How has the model's result changed? Analyze and discuss the reasons for the change."
      ]
    },
    {
      "cell_type": "code",
      "source": [
        "# @title\n",
        "# Retrieve car price data\n",
        "url = 'http://archive.ics.uci.edu/ml/machine-learning-databases/autos/imports-85.data'\n",
        "res = requests.get(url).content\n",
        "\n",
        "auto = pd.read_csv(io.StringIO(res.decode('utf-8')), header=None)\n",
        "\n",
        "auto.columns = [\n",
        "    'symboling','normalized-losses','make','fuel-type' ,'aspiration','num-of-doors',\n",
        "    'body-style','drive-wheels','engine-location','wheel-base','length','width','height',\n",
        "    'curb-weight','engine-type','num-of-cylinders','engine-size','fuel-system','bore',\n",
        "    'stroke','compression-ratio','horsepower','peak-rpm','city-mpg','highway-mpg','price'\n",
        "]\n",
        "# Data preprocessing\n",
        "## WRITE ME"
      ],
      "metadata": {
        "id": "mV6qfY2XadjJ"
      },
      "execution_count": null,
      "outputs": []
    },
    {
      "cell_type": "markdown",
      "metadata": {
        "id": "w2wdEg_ZuKXY"
      },
      "source": [
        "## 5.3 Logistic Regression\n",
        "\n",
        "Keyword: Logistic regression, Cross-entropy loss function, Odds ratio"
      ]
    },
    {
      "cell_type": "markdown",
      "metadata": {
        "id": "rIr6r9S9uKXY"
      },
      "source": [
        "As mentioned earlier, a multiple regression model is a regression model with multiple explanatory variables, where the target variable is numeric. Such variables are called continuous variables.\n",
        "\n",
        "The **logistic regression** learned in this section, on the other hand, deals with target variables that are not numeric. For example, it is used in scenarios such as predicting whether a product will be purchased or not, or whether a company will go bankrupt or not—these are categorical data. Variables in categorical form are called categorical variables."
      ]
    },
    {
      "cell_type": "markdown",
      "metadata": {
        "id": "G2tfOpcTuKXY"
      },
      "source": [
        "\n",
        "The task of calculating the probability that a data sample belongs to a particular category is called classification, and one of the algorithms used for this task is logistic regression.\n",
        "\n",
        "Although it has the name \"regression,\" it is a classification algorithm, so be careful (also, it can be used not only for binary classification but also for multi-class problems with three or more categories). Unlike when the target variable is numeric, in classification tasks, the learning process minimizes the following objective function. This objective function is called the **cross-entropy error function**, and its value becomes smaller as the probability of predicting the correct category increases.\n"
      ]
    },
    {
      "cell_type": "markdown",
      "metadata": {
        "id": "Q3f8VYJ9uKXY"
      },
      "source": [
        "\\begin{eqnarray}\n",
        "-\\sum^n_{i=1}[y_ilog(f(x_i))+(1-y_i)log(1-f(x_i))]\n",
        "\\end{eqnarray}"
      ]
    },
    {
      "cell_type": "markdown",
      "metadata": {
        "id": "Pmh0NkA2uKXY"
      },
      "source": [
        "### 5.3.1 Example of Logistic Regression\n",
        "\n",
        "Now let's look at a specific example of logistic regression. In this example, we will construct a model to predict whether an individual's income exceeds $50K (50,000 USD) based on personal data such as age, gender, and occupation. The source data can be obtained from the following URL:\n",
        "\n",
        "http://archive.ics.uci.edu/ml/machine-learning-databases/adult/adult.data\n",
        "\n",
        "First, we will retrieve the data and set the column names as shown below. The data consists of 32,561 rows and 15 attributes, with no missing values. By using `head()`, you will see that the dataset contains a mix of categorical variables like `workclass` and `education`, along with numerical variables like age and `education_num`.\n"
      ]
    },
    {
      "cell_type": "code",
      "metadata": {
        "id": "yiOS9dBuuKXY",
        "colab": {
          "base_uri": "https://localhost:8080/",
          "height": 345
        },
        "outputId": "bd72d626-e733-4ea5-8cb7-fb4c42c965e2"
      },
      "source": [
        "# Retrieve the data\n",
        "url = 'http://archive.ics.uci.edu/ml/machine-learning-databases/adult/adult.data'\n",
        "res = requests.get(url).content\n",
        "\n",
        "# Load the retrieved data as a DataFrame object\n",
        "adult = pd.read_csv(io.StringIO(res.decode('utf-8')), header=None)\n",
        "\n",
        "# Set column labels for the data\n",
        "adult.columns =['age', 'workclass', 'fnlwgt', 'education', 'education-num', 'marital-status',\n",
        "                             'occupation', 'relationship', 'race', 'sex', 'capital-gain', 'capital-loss', 'hours-per-week',\n",
        "                             'native-country', 'flg-50K']\n",
        "\n",
        "\n",
        "# Output the data's shape and missing values\n",
        "print('Data Format:{}'.format(adult.shape))\n",
        "print('Number of defects:{}'.format(adult.isnull().sum().sum()))\n",
        "\n",
        "# Output the first 5 rows of the data\n",
        "adult.head()"
      ],
      "execution_count": null,
      "outputs": [
        {
          "output_type": "stream",
          "name": "stdout",
          "text": [
            "Data Format:(32561, 15)\n",
            "Number of defects:0\n"
          ]
        },
        {
          "output_type": "execute_result",
          "data": {
            "text/plain": [
              "   age          workclass  fnlwgt   education  education-num  \\\n",
              "0   39          State-gov   77516   Bachelors             13   \n",
              "1   50   Self-emp-not-inc   83311   Bachelors             13   \n",
              "2   38            Private  215646     HS-grad              9   \n",
              "3   53            Private  234721        11th              7   \n",
              "4   28            Private  338409   Bachelors             13   \n",
              "\n",
              "        marital-status          occupation    relationship    race      sex  \\\n",
              "0        Never-married        Adm-clerical   Not-in-family   White     Male   \n",
              "1   Married-civ-spouse     Exec-managerial         Husband   White     Male   \n",
              "2             Divorced   Handlers-cleaners   Not-in-family   White     Male   \n",
              "3   Married-civ-spouse   Handlers-cleaners         Husband   Black     Male   \n",
              "4   Married-civ-spouse      Prof-specialty            Wife   Black   Female   \n",
              "\n",
              "   capital-gain  capital-loss  hours-per-week  native-country flg-50K  \n",
              "0          2174             0              40   United-States   <=50K  \n",
              "1             0             0              13   United-States   <=50K  \n",
              "2             0             0              40   United-States   <=50K  \n",
              "3             0             0              40   United-States   <=50K  \n",
              "4             0             0              40            Cuba   <=50K  "
            ],
            "text/html": [
              "\n",
              "  <div id=\"df-122ea008-2ca0-48ed-a56b-ae71cedbc3ed\" class=\"colab-df-container\">\n",
              "    <div>\n",
              "<style scoped>\n",
              "    .dataframe tbody tr th:only-of-type {\n",
              "        vertical-align: middle;\n",
              "    }\n",
              "\n",
              "    .dataframe tbody tr th {\n",
              "        vertical-align: top;\n",
              "    }\n",
              "\n",
              "    .dataframe thead th {\n",
              "        text-align: right;\n",
              "    }\n",
              "</style>\n",
              "<table border=\"1\" class=\"dataframe\">\n",
              "  <thead>\n",
              "    <tr style=\"text-align: right;\">\n",
              "      <th></th>\n",
              "      <th>age</th>\n",
              "      <th>workclass</th>\n",
              "      <th>fnlwgt</th>\n",
              "      <th>education</th>\n",
              "      <th>education-num</th>\n",
              "      <th>marital-status</th>\n",
              "      <th>occupation</th>\n",
              "      <th>relationship</th>\n",
              "      <th>race</th>\n",
              "      <th>sex</th>\n",
              "      <th>capital-gain</th>\n",
              "      <th>capital-loss</th>\n",
              "      <th>hours-per-week</th>\n",
              "      <th>native-country</th>\n",
              "      <th>flg-50K</th>\n",
              "    </tr>\n",
              "  </thead>\n",
              "  <tbody>\n",
              "    <tr>\n",
              "      <th>0</th>\n",
              "      <td>39</td>\n",
              "      <td>State-gov</td>\n",
              "      <td>77516</td>\n",
              "      <td>Bachelors</td>\n",
              "      <td>13</td>\n",
              "      <td>Never-married</td>\n",
              "      <td>Adm-clerical</td>\n",
              "      <td>Not-in-family</td>\n",
              "      <td>White</td>\n",
              "      <td>Male</td>\n",
              "      <td>2174</td>\n",
              "      <td>0</td>\n",
              "      <td>40</td>\n",
              "      <td>United-States</td>\n",
              "      <td>&lt;=50K</td>\n",
              "    </tr>\n",
              "    <tr>\n",
              "      <th>1</th>\n",
              "      <td>50</td>\n",
              "      <td>Self-emp-not-inc</td>\n",
              "      <td>83311</td>\n",
              "      <td>Bachelors</td>\n",
              "      <td>13</td>\n",
              "      <td>Married-civ-spouse</td>\n",
              "      <td>Exec-managerial</td>\n",
              "      <td>Husband</td>\n",
              "      <td>White</td>\n",
              "      <td>Male</td>\n",
              "      <td>0</td>\n",
              "      <td>0</td>\n",
              "      <td>13</td>\n",
              "      <td>United-States</td>\n",
              "      <td>&lt;=50K</td>\n",
              "    </tr>\n",
              "    <tr>\n",
              "      <th>2</th>\n",
              "      <td>38</td>\n",
              "      <td>Private</td>\n",
              "      <td>215646</td>\n",
              "      <td>HS-grad</td>\n",
              "      <td>9</td>\n",
              "      <td>Divorced</td>\n",
              "      <td>Handlers-cleaners</td>\n",
              "      <td>Not-in-family</td>\n",
              "      <td>White</td>\n",
              "      <td>Male</td>\n",
              "      <td>0</td>\n",
              "      <td>0</td>\n",
              "      <td>40</td>\n",
              "      <td>United-States</td>\n",
              "      <td>&lt;=50K</td>\n",
              "    </tr>\n",
              "    <tr>\n",
              "      <th>3</th>\n",
              "      <td>53</td>\n",
              "      <td>Private</td>\n",
              "      <td>234721</td>\n",
              "      <td>11th</td>\n",
              "      <td>7</td>\n",
              "      <td>Married-civ-spouse</td>\n",
              "      <td>Handlers-cleaners</td>\n",
              "      <td>Husband</td>\n",
              "      <td>Black</td>\n",
              "      <td>Male</td>\n",
              "      <td>0</td>\n",
              "      <td>0</td>\n",
              "      <td>40</td>\n",
              "      <td>United-States</td>\n",
              "      <td>&lt;=50K</td>\n",
              "    </tr>\n",
              "    <tr>\n",
              "      <th>4</th>\n",
              "      <td>28</td>\n",
              "      <td>Private</td>\n",
              "      <td>338409</td>\n",
              "      <td>Bachelors</td>\n",
              "      <td>13</td>\n",
              "      <td>Married-civ-spouse</td>\n",
              "      <td>Prof-specialty</td>\n",
              "      <td>Wife</td>\n",
              "      <td>Black</td>\n",
              "      <td>Female</td>\n",
              "      <td>0</td>\n",
              "      <td>0</td>\n",
              "      <td>40</td>\n",
              "      <td>Cuba</td>\n",
              "      <td>&lt;=50K</td>\n",
              "    </tr>\n",
              "  </tbody>\n",
              "</table>\n",
              "</div>\n",
              "    <div class=\"colab-df-buttons\">\n",
              "\n",
              "  <div class=\"colab-df-container\">\n",
              "    <button class=\"colab-df-convert\" onclick=\"convertToInteractive('df-122ea008-2ca0-48ed-a56b-ae71cedbc3ed')\"\n",
              "            title=\"Convert this dataframe to an interactive table.\"\n",
              "            style=\"display:none;\">\n",
              "\n",
              "  <svg xmlns=\"http://www.w3.org/2000/svg\" height=\"24px\" viewBox=\"0 -960 960 960\">\n",
              "    <path d=\"M120-120v-720h720v720H120Zm60-500h600v-160H180v160Zm220 220h160v-160H400v160Zm0 220h160v-160H400v160ZM180-400h160v-160H180v160Zm440 0h160v-160H620v160ZM180-180h160v-160H180v160Zm440 0h160v-160H620v160Z\"/>\n",
              "  </svg>\n",
              "    </button>\n",
              "\n",
              "  <style>\n",
              "    .colab-df-container {\n",
              "      display:flex;\n",
              "      gap: 12px;\n",
              "    }\n",
              "\n",
              "    .colab-df-convert {\n",
              "      background-color: #E8F0FE;\n",
              "      border: none;\n",
              "      border-radius: 50%;\n",
              "      cursor: pointer;\n",
              "      display: none;\n",
              "      fill: #1967D2;\n",
              "      height: 32px;\n",
              "      padding: 0 0 0 0;\n",
              "      width: 32px;\n",
              "    }\n",
              "\n",
              "    .colab-df-convert:hover {\n",
              "      background-color: #E2EBFA;\n",
              "      box-shadow: 0px 1px 2px rgba(60, 64, 67, 0.3), 0px 1px 3px 1px rgba(60, 64, 67, 0.15);\n",
              "      fill: #174EA6;\n",
              "    }\n",
              "\n",
              "    .colab-df-buttons div {\n",
              "      margin-bottom: 4px;\n",
              "    }\n",
              "\n",
              "    [theme=dark] .colab-df-convert {\n",
              "      background-color: #3B4455;\n",
              "      fill: #D2E3FC;\n",
              "    }\n",
              "\n",
              "    [theme=dark] .colab-df-convert:hover {\n",
              "      background-color: #434B5C;\n",
              "      box-shadow: 0px 1px 3px 1px rgba(0, 0, 0, 0.15);\n",
              "      filter: drop-shadow(0px 1px 2px rgba(0, 0, 0, 0.3));\n",
              "      fill: #FFFFFF;\n",
              "    }\n",
              "  </style>\n",
              "\n",
              "    <script>\n",
              "      const buttonEl =\n",
              "        document.querySelector('#df-122ea008-2ca0-48ed-a56b-ae71cedbc3ed button.colab-df-convert');\n",
              "      buttonEl.style.display =\n",
              "        google.colab.kernel.accessAllowed ? 'block' : 'none';\n",
              "\n",
              "      async function convertToInteractive(key) {\n",
              "        const element = document.querySelector('#df-122ea008-2ca0-48ed-a56b-ae71cedbc3ed');\n",
              "        const dataTable =\n",
              "          await google.colab.kernel.invokeFunction('convertToInteractive',\n",
              "                                                    [key], {});\n",
              "        if (!dataTable) return;\n",
              "\n",
              "        const docLinkHtml = 'Like what you see? Visit the ' +\n",
              "          '<a target=\"_blank\" href=https://colab.research.google.com/notebooks/data_table.ipynb>data table notebook</a>'\n",
              "          + ' to learn more about interactive tables.';\n",
              "        element.innerHTML = '';\n",
              "        dataTable['output_type'] = 'display_data';\n",
              "        await google.colab.output.renderOutput(dataTable, element);\n",
              "        const docLink = document.createElement('div');\n",
              "        docLink.innerHTML = docLinkHtml;\n",
              "        element.appendChild(docLink);\n",
              "      }\n",
              "    </script>\n",
              "  </div>\n",
              "\n",
              "\n",
              "<div id=\"df-b32273e5-b054-43ef-a9f0-8e42978b6e14\">\n",
              "  <button class=\"colab-df-quickchart\" onclick=\"quickchart('df-b32273e5-b054-43ef-a9f0-8e42978b6e14')\"\n",
              "            title=\"Suggest charts\"\n",
              "            style=\"display:none;\">\n",
              "\n",
              "<svg xmlns=\"http://www.w3.org/2000/svg\" height=\"24px\"viewBox=\"0 0 24 24\"\n",
              "     width=\"24px\">\n",
              "    <g>\n",
              "        <path d=\"M19 3H5c-1.1 0-2 .9-2 2v14c0 1.1.9 2 2 2h14c1.1 0 2-.9 2-2V5c0-1.1-.9-2-2-2zM9 17H7v-7h2v7zm4 0h-2V7h2v10zm4 0h-2v-4h2v4z\"/>\n",
              "    </g>\n",
              "</svg>\n",
              "  </button>\n",
              "\n",
              "<style>\n",
              "  .colab-df-quickchart {\n",
              "      --bg-color: #E8F0FE;\n",
              "      --fill-color: #1967D2;\n",
              "      --hover-bg-color: #E2EBFA;\n",
              "      --hover-fill-color: #174EA6;\n",
              "      --disabled-fill-color: #AAA;\n",
              "      --disabled-bg-color: #DDD;\n",
              "  }\n",
              "\n",
              "  [theme=dark] .colab-df-quickchart {\n",
              "      --bg-color: #3B4455;\n",
              "      --fill-color: #D2E3FC;\n",
              "      --hover-bg-color: #434B5C;\n",
              "      --hover-fill-color: #FFFFFF;\n",
              "      --disabled-bg-color: #3B4455;\n",
              "      --disabled-fill-color: #666;\n",
              "  }\n",
              "\n",
              "  .colab-df-quickchart {\n",
              "    background-color: var(--bg-color);\n",
              "    border: none;\n",
              "    border-radius: 50%;\n",
              "    cursor: pointer;\n",
              "    display: none;\n",
              "    fill: var(--fill-color);\n",
              "    height: 32px;\n",
              "    padding: 0;\n",
              "    width: 32px;\n",
              "  }\n",
              "\n",
              "  .colab-df-quickchart:hover {\n",
              "    background-color: var(--hover-bg-color);\n",
              "    box-shadow: 0 1px 2px rgba(60, 64, 67, 0.3), 0 1px 3px 1px rgba(60, 64, 67, 0.15);\n",
              "    fill: var(--button-hover-fill-color);\n",
              "  }\n",
              "\n",
              "  .colab-df-quickchart-complete:disabled,\n",
              "  .colab-df-quickchart-complete:disabled:hover {\n",
              "    background-color: var(--disabled-bg-color);\n",
              "    fill: var(--disabled-fill-color);\n",
              "    box-shadow: none;\n",
              "  }\n",
              "\n",
              "  .colab-df-spinner {\n",
              "    border: 2px solid var(--fill-color);\n",
              "    border-color: transparent;\n",
              "    border-bottom-color: var(--fill-color);\n",
              "    animation:\n",
              "      spin 1s steps(1) infinite;\n",
              "  }\n",
              "\n",
              "  @keyframes spin {\n",
              "    0% {\n",
              "      border-color: transparent;\n",
              "      border-bottom-color: var(--fill-color);\n",
              "      border-left-color: var(--fill-color);\n",
              "    }\n",
              "    20% {\n",
              "      border-color: transparent;\n",
              "      border-left-color: var(--fill-color);\n",
              "      border-top-color: var(--fill-color);\n",
              "    }\n",
              "    30% {\n",
              "      border-color: transparent;\n",
              "      border-left-color: var(--fill-color);\n",
              "      border-top-color: var(--fill-color);\n",
              "      border-right-color: var(--fill-color);\n",
              "    }\n",
              "    40% {\n",
              "      border-color: transparent;\n",
              "      border-right-color: var(--fill-color);\n",
              "      border-top-color: var(--fill-color);\n",
              "    }\n",
              "    60% {\n",
              "      border-color: transparent;\n",
              "      border-right-color: var(--fill-color);\n",
              "    }\n",
              "    80% {\n",
              "      border-color: transparent;\n",
              "      border-right-color: var(--fill-color);\n",
              "      border-bottom-color: var(--fill-color);\n",
              "    }\n",
              "    90% {\n",
              "      border-color: transparent;\n",
              "      border-bottom-color: var(--fill-color);\n",
              "    }\n",
              "  }\n",
              "</style>\n",
              "\n",
              "  <script>\n",
              "    async function quickchart(key) {\n",
              "      const quickchartButtonEl =\n",
              "        document.querySelector('#' + key + ' button');\n",
              "      quickchartButtonEl.disabled = true;  // To prevent multiple clicks.\n",
              "      quickchartButtonEl.classList.add('colab-df-spinner');\n",
              "      try {\n",
              "        const charts = await google.colab.kernel.invokeFunction(\n",
              "            'suggestCharts', [key], {});\n",
              "      } catch (error) {\n",
              "        console.error('Error during call to suggestCharts:', error);\n",
              "      }\n",
              "      quickchartButtonEl.classList.remove('colab-df-spinner');\n",
              "      quickchartButtonEl.classList.add('colab-df-quickchart-complete');\n",
              "    }\n",
              "    (() => {\n",
              "      let quickchartButtonEl =\n",
              "        document.querySelector('#df-b32273e5-b054-43ef-a9f0-8e42978b6e14 button');\n",
              "      quickchartButtonEl.style.display =\n",
              "        google.colab.kernel.accessAllowed ? 'block' : 'none';\n",
              "    })();\n",
              "  </script>\n",
              "</div>\n",
              "\n",
              "    </div>\n",
              "  </div>\n"
            ],
            "application/vnd.google.colaboratory.intrinsic+json": {
              "type": "dataframe",
              "variable_name": "adult",
              "summary": "{\n  \"name\": \"adult\",\n  \"rows\": 32561,\n  \"fields\": [\n    {\n      \"column\": \"age\",\n      \"properties\": {\n        \"dtype\": \"number\",\n        \"std\": 13,\n        \"min\": 17,\n        \"max\": 90,\n        \"num_unique_values\": 73,\n        \"samples\": [\n          28,\n          73,\n          35\n        ],\n        \"semantic_type\": \"\",\n        \"description\": \"\"\n      }\n    },\n    {\n      \"column\": \"workclass\",\n      \"properties\": {\n        \"dtype\": \"category\",\n        \"num_unique_values\": 9,\n        \"samples\": [\n          \" Without-pay\",\n          \" Self-emp-not-inc\",\n          \" ?\"\n        ],\n        \"semantic_type\": \"\",\n        \"description\": \"\"\n      }\n    },\n    {\n      \"column\": \"fnlwgt\",\n      \"properties\": {\n        \"dtype\": \"number\",\n        \"std\": 105549,\n        \"min\": 12285,\n        \"max\": 1484705,\n        \"num_unique_values\": 21648,\n        \"samples\": [\n          128485,\n          469907,\n          235951\n        ],\n        \"semantic_type\": \"\",\n        \"description\": \"\"\n      }\n    },\n    {\n      \"column\": \"education\",\n      \"properties\": {\n        \"dtype\": \"category\",\n        \"num_unique_values\": 16,\n        \"samples\": [\n          \" Bachelors\",\n          \" HS-grad\",\n          \" Some-college\"\n        ],\n        \"semantic_type\": \"\",\n        \"description\": \"\"\n      }\n    },\n    {\n      \"column\": \"education-num\",\n      \"properties\": {\n        \"dtype\": \"number\",\n        \"std\": 2,\n        \"min\": 1,\n        \"max\": 16,\n        \"num_unique_values\": 16,\n        \"samples\": [\n          13,\n          9,\n          10\n        ],\n        \"semantic_type\": \"\",\n        \"description\": \"\"\n      }\n    },\n    {\n      \"column\": \"marital-status\",\n      \"properties\": {\n        \"dtype\": \"category\",\n        \"num_unique_values\": 7,\n        \"samples\": [\n          \" Never-married\",\n          \" Married-civ-spouse\",\n          \" Married-AF-spouse\"\n        ],\n        \"semantic_type\": \"\",\n        \"description\": \"\"\n      }\n    },\n    {\n      \"column\": \"occupation\",\n      \"properties\": {\n        \"dtype\": \"category\",\n        \"num_unique_values\": 15,\n        \"samples\": [\n          \" Machine-op-inspct\",\n          \" ?\",\n          \" Adm-clerical\"\n        ],\n        \"semantic_type\": \"\",\n        \"description\": \"\"\n      }\n    },\n    {\n      \"column\": \"relationship\",\n      \"properties\": {\n        \"dtype\": \"category\",\n        \"num_unique_values\": 6,\n        \"samples\": [\n          \" Not-in-family\",\n          \" Husband\",\n          \" Other-relative\"\n        ],\n        \"semantic_type\": \"\",\n        \"description\": \"\"\n      }\n    },\n    {\n      \"column\": \"race\",\n      \"properties\": {\n        \"dtype\": \"category\",\n        \"num_unique_values\": 5,\n        \"samples\": [\n          \" Black\",\n          \" Other\",\n          \" Asian-Pac-Islander\"\n        ],\n        \"semantic_type\": \"\",\n        \"description\": \"\"\n      }\n    },\n    {\n      \"column\": \"sex\",\n      \"properties\": {\n        \"dtype\": \"category\",\n        \"num_unique_values\": 2,\n        \"samples\": [\n          \" Female\",\n          \" Male\"\n        ],\n        \"semantic_type\": \"\",\n        \"description\": \"\"\n      }\n    },\n    {\n      \"column\": \"capital-gain\",\n      \"properties\": {\n        \"dtype\": \"number\",\n        \"std\": 7385,\n        \"min\": 0,\n        \"max\": 99999,\n        \"num_unique_values\": 119,\n        \"samples\": [\n          3781,\n          15831\n        ],\n        \"semantic_type\": \"\",\n        \"description\": \"\"\n      }\n    },\n    {\n      \"column\": \"capital-loss\",\n      \"properties\": {\n        \"dtype\": \"number\",\n        \"std\": 402,\n        \"min\": 0,\n        \"max\": 4356,\n        \"num_unique_values\": 92,\n        \"samples\": [\n          419,\n          2051\n        ],\n        \"semantic_type\": \"\",\n        \"description\": \"\"\n      }\n    },\n    {\n      \"column\": \"hours-per-week\",\n      \"properties\": {\n        \"dtype\": \"number\",\n        \"std\": 12,\n        \"min\": 1,\n        \"max\": 99,\n        \"num_unique_values\": 94,\n        \"samples\": [\n          6,\n          22\n        ],\n        \"semantic_type\": \"\",\n        \"description\": \"\"\n      }\n    },\n    {\n      \"column\": \"native-country\",\n      \"properties\": {\n        \"dtype\": \"category\",\n        \"num_unique_values\": 42,\n        \"samples\": [\n          \" El-Salvador\",\n          \" Philippines\"\n        ],\n        \"semantic_type\": \"\",\n        \"description\": \"\"\n      }\n    },\n    {\n      \"column\": \"flg-50K\",\n      \"properties\": {\n        \"dtype\": \"category\",\n        \"num_unique_values\": 2,\n        \"samples\": [\n          \" >50K\",\n          \" <=50K\"\n        ],\n        \"semantic_type\": \"\",\n        \"description\": \"\"\n      }\n    }\n  ]\n}"
            }
          },
          "metadata": {},
          "execution_count": 13
        }
      ]
    },
    {
      "cell_type": "markdown",
      "metadata": {
        "id": "YGtfLrE1uKXY"
      },
      "source": [
        "### 5.3.2 Data Preparation\n",
        "\n",
        "In this dataset, the target variable indicating whether income exceeds `flg-50K`. The values in the data are `<=50K` and `>50K`, and since they are difficult to handle in this form, we will convert them into a variable with flags of 0 or 1. First, let's check how many rows contain `<=50K` and `>50K`."
      ]
    },
    {
      "cell_type": "code",
      "metadata": {
        "id": "yQsg_sPMuKXY",
        "colab": {
          "base_uri": "https://localhost:8080/",
          "height": 178
        },
        "outputId": "a0ca16cb-3348-4688-cdb9-e7a085e1e8d9"
      },
      "source": [
        "adult.groupby('flg-50K').size()"
      ],
      "execution_count": null,
      "outputs": [
        {
          "output_type": "execute_result",
          "data": {
            "text/plain": [
              "flg-50K\n",
              "<=50K    24720\n",
              ">50K      7841\n",
              "dtype: int64"
            ],
            "text/html": [
              "<div>\n",
              "<style scoped>\n",
              "    .dataframe tbody tr th:only-of-type {\n",
              "        vertical-align: middle;\n",
              "    }\n",
              "\n",
              "    .dataframe tbody tr th {\n",
              "        vertical-align: top;\n",
              "    }\n",
              "\n",
              "    .dataframe thead th {\n",
              "        text-align: right;\n",
              "    }\n",
              "</style>\n",
              "<table border=\"1\" class=\"dataframe\">\n",
              "  <thead>\n",
              "    <tr style=\"text-align: right;\">\n",
              "      <th></th>\n",
              "      <th>0</th>\n",
              "    </tr>\n",
              "    <tr>\n",
              "      <th>flg-50K</th>\n",
              "      <th></th>\n",
              "    </tr>\n",
              "  </thead>\n",
              "  <tbody>\n",
              "    <tr>\n",
              "      <th>&lt;=50K</th>\n",
              "      <td>24720</td>\n",
              "    </tr>\n",
              "    <tr>\n",
              "      <th>&gt;50K</th>\n",
              "      <td>7841</td>\n",
              "    </tr>\n",
              "  </tbody>\n",
              "</table>\n",
              "</div><br><label><b>dtype:</b> int64</label>"
            ]
          },
          "metadata": {},
          "execution_count": 14
        }
      ]
    },
    {
      "cell_type": "markdown",
      "metadata": {
        "id": "qVCgqH_uuKXY"
      },
      "source": [
        "It can be seen that there are 24,720 rows with `<=50K` and 7,841 rows with `>50K`."
      ]
    },
    {
      "cell_type": "markdown",
      "metadata": {
        "id": "L6jJqwjnuKXY"
      },
      "source": [
        "Next, add a column named 'fin_flg' and set a flag of 1 for rows with `>50K` and 0 for others. Use `lambda` or `map` to set the flags. After the conversion, check that the results match the previous aggregation."
      ]
    },
    {
      "cell_type": "code",
      "metadata": {
        "id": "eNR9aFeHuKXY",
        "colab": {
          "base_uri": "https://localhost:8080/",
          "height": 178
        },
        "outputId": "34968503-145b-4313-ea26-e7792d167a81"
      },
      "source": [
        "# Add the 'fin_flg' column, and set it to 1 if the value of the 'flg-50K', otherwise set it to 0. Then, group by 'fin_flg' and check the size of each group.\n",
        "adult['fin_flg'] = adult['flg-50K'].map(lambda x: 1 if x == ' >50K' else 0)\n",
        "adult.groupby('fin_flg').size()"
      ],
      "execution_count": null,
      "outputs": [
        {
          "output_type": "execute_result",
          "data": {
            "text/plain": [
              "fin_flg\n",
              "0    24720\n",
              "1     7841\n",
              "dtype: int64"
            ],
            "text/html": [
              "<div>\n",
              "<style scoped>\n",
              "    .dataframe tbody tr th:only-of-type {\n",
              "        vertical-align: middle;\n",
              "    }\n",
              "\n",
              "    .dataframe tbody tr th {\n",
              "        vertical-align: top;\n",
              "    }\n",
              "\n",
              "    .dataframe thead th {\n",
              "        text-align: right;\n",
              "    }\n",
              "</style>\n",
              "<table border=\"1\" class=\"dataframe\">\n",
              "  <thead>\n",
              "    <tr style=\"text-align: right;\">\n",
              "      <th></th>\n",
              "      <th>0</th>\n",
              "    </tr>\n",
              "    <tr>\n",
              "      <th>fin_flg</th>\n",
              "      <th></th>\n",
              "    </tr>\n",
              "  </thead>\n",
              "  <tbody>\n",
              "    <tr>\n",
              "      <th>0</th>\n",
              "      <td>24720</td>\n",
              "    </tr>\n",
              "    <tr>\n",
              "      <th>1</th>\n",
              "      <td>7841</td>\n",
              "    </tr>\n",
              "  </tbody>\n",
              "</table>\n",
              "</div><br><label><b>dtype:</b> int64</label>"
            ]
          },
          "metadata": {},
          "execution_count": 15
        }
      ]
    },
    {
      "cell_type": "markdown",
      "metadata": {
        "id": "sJ8Zq777uKXY"
      },
      "source": [
        "We can see that the number of rows for `<=50K` and `>50K`matches the number of rows for '0' and '1', indicating that the operation was successful."
      ]
    },
    {
      "cell_type": "markdown",
      "metadata": {
        "id": "wU_McStOuKXY"
      },
      "source": [
        "### 5.3.3 Model Construction and Evaluation\n",
        "\n",
        "Now, let's construct the logistic regression model. We will use the numerical variables `age`, `fnlwgt`, `education-num`, `capital-gain`, and `capital-loss` as explanatory variables. The target variable is the `fin_flg`, for which we previously set flags to \"1\" and \"0.\"\n",
        "\n",
        "For constructing the logistic regression model, we will use the `LogisticRegression` class. The methods for splitting the data into training and test sets and for evaluation with the `score` method are the same as those used in multiple regression."
      ]
    },
    {
      "cell_type": "code",
      "metadata": {
        "id": "1P6kZpEGuKXY",
        "colab": {
          "base_uri": "https://localhost:8080/"
        },
        "outputId": "af0c8d8b-525e-4368-dd68-a594cfbd92ca"
      },
      "source": [
        "from sklearn.linear_model import LogisticRegression\n",
        "from sklearn.model_selection import train_test_split\n",
        "\n",
        "# Setting explanatory variables and target variable\n",
        "X = adult[['age', 'fnlwgt', 'education-num', 'capital-gain', 'capital-loss']]\n",
        "y = adult['fin_flg']\n",
        "\n",
        "# Splitting into training and test data\n",
        "X_train, X_test, y_train, y_test = train_test_split(X, y, test_size=0.5, random_state=0)\n",
        "\n",
        "# Initializing and training the logistic regression model\n",
        "model = LogisticRegression()\n",
        "model.fit(X_train, y_train)\n",
        "\n",
        "print('Accuracy (train):{:.3f}'.format(model.score(X_train, y_train)))\n",
        "print('Accuracy (test):{:.3f}'.format(model.score(X_test, y_test)))"
      ],
      "execution_count": null,
      "outputs": [
        {
          "output_type": "stream",
          "name": "stdout",
          "text": [
            "Accuracy (train):0.796\n",
            "Accuracy (test):0.799\n"
          ]
        },
        {
          "output_type": "stream",
          "name": "stderr",
          "text": [
            "/usr/local/lib/python3.10/dist-packages/sklearn/linear_model/_logistic.py:469: ConvergenceWarning: lbfgs failed to converge (status=1):\n",
            "STOP: TOTAL NO. of ITERATIONS REACHED LIMIT.\n",
            "\n",
            "Increase the number of iterations (max_iter) or scale the data as shown in:\n",
            "    https://scikit-learn.org/stable/modules/preprocessing.html\n",
            "Please also refer to the documentation for alternative solver options:\n",
            "    https://scikit-learn.org/stable/modules/linear_model.html#logistic-regression\n",
            "  n_iter_i = _check_optimize_result(\n"
          ]
        }
      ]
    },
    {
      "cell_type": "markdown",
      "metadata": {
        "id": "575MBO0uuKXY"
      },
      "source": [
        "From the above results, we can see that the accuracy is approximately 80% for both the training and test data, indicating that overfitting has not occurred."
      ]
    },
    {
      "cell_type": "markdown",
      "metadata": {
        "id": "CQIJ6EzAuKXY"
      },
      "source": [
        "Let's check the coefficients for each variable (age, fnlwgt, education-num, capital-gain, capital-loss) in the trained model by retrieving the `coef_` attribute."
      ]
    },
    {
      "cell_type": "code",
      "metadata": {
        "id": "5vUuHCjAuKXY",
        "colab": {
          "base_uri": "https://localhost:8080/"
        },
        "outputId": "71e57054-1d23-495a-b01c-d9f3d9936f94"
      },
      "source": [
        "model.coef_"
      ],
      "execution_count": null,
      "outputs": [
        {
          "output_type": "execute_result",
          "data": {
            "text/plain": [
              "array([[-5.624e-03, -3.846e-06, -3.642e-02,  3.286e-04,  7.666e-04]])"
            ]
          },
          "metadata": {},
          "execution_count": 17
        }
      ]
    },
    {
      "cell_type": "markdown",
      "metadata": {
        "id": "nKiVYw75uKXY"
      },
      "source": [
        "Additionally, the odds ratios for each can be calculated as follows. The odds ratio indicates how much each coefficient affects the accuracy when it increases by 1."
      ]
    },
    {
      "cell_type": "code",
      "metadata": {
        "id": "36mUceT4uKXY",
        "colab": {
          "base_uri": "https://localhost:8080/"
        },
        "outputId": "4a6972cc-783b-4d95-babb-81977e9288f2"
      },
      "source": [
        "np.exp(model.coef_)"
      ],
      "execution_count": null,
      "outputs": [
        {
          "output_type": "execute_result",
          "data": {
            "text/plain": [
              "array([[0.994, 1.   , 0.964, 1.   , 1.001]])"
            ]
          },
          "metadata": {},
          "execution_count": 18
        }
      ]
    },
    {
      "cell_type": "markdown",
      "metadata": {
        "id": "b_9qvG9_uKXY"
      },
      "source": [
        "### 5.3.4 Improving Prediction Accuracy with Scaling\n",
        "\n",
        "Here, we introduce one approach to improve prediction accuracy, which is scaling. In this model, five explanatory variables are used: `age`, `fnlwgt`, `education-num`, `capital-gain`, and `capital-loss`. However, each of these variables has different units and magnitudes. If left as is, the model's learning may be biased by variables with larger values, diminishing the influence of those with smaller values.\n",
        "\n",
        "To prevent this, we perform standardization of the explanatory variables. Standardization is a type of scaling in which the mean of each variable is subtracted from the data values, and the result is divided by the standard deviation. This removes the units between variables, and the magnitudes of the values align in meaning (a value of 0 means it is the mean, and a value of 1 means it is one standard deviation greater than the mean). To standardize the data, we use the `StandardScaler` class."
      ]
    },
    {
      "cell_type": "code",
      "metadata": {
        "id": "ejpBBf-3uKXY",
        "colab": {
          "base_uri": "https://localhost:8080/"
        },
        "outputId": "5783cbcf-a5f5-4e2e-8474-b43004e1a8be"
      },
      "source": [
        "# Importing the class for standardization\n",
        "from sklearn.preprocessing import StandardScaler\n",
        "from sklearn.model_selection import train_test_split\n",
        "\n",
        "# Setting X and y\n",
        "X = adult[['age', 'fnlwgt', 'education-num', 'capital-gain', 'capital-loss']]\n",
        "y = adult['fin_flg']\n",
        "\n",
        "# Splitting into training and test data\n",
        "X_train, X_test, y_train, y_test = train_test_split(X, y, test_size=0.5, random_state=0)\n",
        "\n",
        "# Standardization process\n",
        "sc = StandardScaler()\n",
        "sc.fit(X_train)\n",
        "X_train_std = sc.transform(X_train)\n",
        "X_test_std = sc.transform(X_test)\n",
        "\n",
        "# Initializing and training the logistic regression class\n",
        "model = LogisticRegression()\n",
        "model.fit(X_train_std, y_train)\n",
        "\n",
        "# Displaying the accuracy\n",
        "print('Accuracy (train):{:.3f}'.format(model.score(X_train_std, y_train)))\n",
        "print('Accuracy (test):{:.3f}'.format(model.score(X_test_std, y_test)))"
      ],
      "execution_count": null,
      "outputs": [
        {
          "output_type": "stream",
          "name": "stdout",
          "text": [
            "Accuracy (train):0.811\n",
            "Accuracy (test):0.810\n"
          ]
        }
      ]
    },
    {
      "cell_type": "markdown",
      "metadata": {
        "id": "kDg7X_lvuKXZ"
      },
      "source": [
        "As can be seen from the above results, the accuracy has improved compared to when no standardization was applied. By aligning the scales of the explanatory variables, machine learning algorithms can perform better. One point to keep in mind during standardization is that only the training data is used to calculate the mean and standard deviation. Test data is considered as unknown data that will be obtained in the future, so it cannot be used to evaluate the model.\n",
        "\n"
      ]
    },
    {
      "cell_type": "markdown",
      "metadata": {
        "id": "5OeD2o21uKXZ"
      },
      "source": [
        "####  <Practice Question 5-3>\n",
        "Use the `load_breast_cancer` function from the `sklearn.datasets` module to load the breast cancer dataset. Use `cancer.target` as the target variable and `cancer.data` as the explanatory variables to build a logistic regression prediction model. Use `train_test_split(random_state=0)` to split the data into training and test sets, and then calculate the score on the test data."
      ]
    },
    {
      "cell_type": "code",
      "source": [
        "from sklearn.datasets import load_breast_cancer\n",
        "from sklearn.preprocessing import StandardScaler\n",
        "from sklearn.linear_model import LogisticRegression\n",
        "\n",
        "# Load data\n",
        "cancer = load_breast_cancer()\n",
        "\n",
        "# Set X and y\n",
        "X, y = cancer.data, cancer.target\n",
        "\n",
        "# Split into training and test data\n",
        "## WRITE ME\n",
        "\n",
        "# Initialize and train logistic regression class\n",
        "## WRITE ME\n",
        "\n",
        "# Display accuracy\n",
        "## WRITE ME"
      ],
      "metadata": {
        "id": "0Mbyun_BbS2i"
      },
      "execution_count": null,
      "outputs": []
    },
    {
      "cell_type": "markdown",
      "metadata": {
        "id": "C_NRh4jDuKXZ"
      },
      "source": [
        "####  <Practice Question 5-4>\n",
        "Using the same settings as in <Practice Question 5-3>, stanardize the features of the same dataset and build the model. Then, compare the results with those from the previous question."
      ]
    },
    {
      "cell_type": "code",
      "source": [
        "# Load data\n",
        "cancer = load_breast_cancer()\n",
        "\n",
        "# Set X and y\n",
        "X, y = cancer.data, cancer.target\n",
        "\n",
        "# Split into training and test data\n",
        "## WRITE ME\n",
        "\n",
        "# Standardization\n",
        "## WRITE ME\n",
        "\n",
        "# Initialize and train logistic regression class\n",
        "## WRITE ME\n",
        "\n",
        "# Display accuracy\n",
        "## WRITE ME"
      ],
      "metadata": {
        "id": "QclOsF6mbdq5"
      },
      "execution_count": null,
      "outputs": []
    },
    {
      "cell_type": "markdown",
      "source": [
        "Reference: https://www.freecodecamp.org/news/what-is-overfitting-machine-learning/"
      ],
      "metadata": {
        "id": "OX8MTqexJzEc"
      }
    },
    {
      "cell_type": "markdown",
      "metadata": {
        "id": "rpwf-xQyuKXZ"
      },
      "source": [
        "## 5.4 Decision Trees\n",
        "\n",
        "Keywords: Decision Tree, Impurity, Entropy, Information Gain\n",
        "\n",
        "In this section, we will learn how to build models using **decision trees**. A decision tree is a method of classifying data by repeatedly branching based on conditions of each attribute to reach a certain goal. When the target variable is categorical, it is called a **classification tree**; when the target is numerical, it is called a **regression tree**."
      ]
    },
    {
      "cell_type": "markdown",
      "metadata": {
        "id": "heWqz5EUuKXZ"
      },
      "source": [
        "### 5.4.1 Mushroom Dataset"
      ]
    },
    {
      "cell_type": "markdown",
      "metadata": {
        "id": "IEDfRWYNuKXZ"
      },
      "source": [
        "As an example for decision trees, we will use the mushroom dataset, which can be obtained from the following URL. The dataset contains information about mushrooms, with two categories: poisonous mushrooms and edible mushrooms.\n",
        "\n",
        "http://archive.ics.uci.edu/ml/machine-learning-databases/mushroom/agaricus-lepiota.data\n",
        "\n",
        "The goal is to determine whether a given mushroom is poisonous or not. The features of the mushrooms include shape, smell, gill size and color, among more than 20 different attributes. Using these features, conditions such as whether the cap is conical or not, whether the gill color is black or red, and whether its size is large or small can be used to classify the mushroom as poisonous or edible. Since the target variable in this case is categorical, it is an example of a classification tree."
      ]
    },
    {
      "cell_type": "markdown",
      "metadata": {
        "id": "FjnROW7iuKXZ"
      },
      "source": [
        "This is how decision trees work: by repeatedly making decisions based on different attributes of the data, the tree divides the data into categories (e.g., poisonous or edible mushrooms). Various routes can lead to the target (such as identifying poisonous mushrooms), and these routes are represented in a tree structure, which is why it's called a decision tree.\n",
        "\n",
        "First, let's load the mushroom dataset and display the first few rows to examine the data."
      ]
    },
    {
      "cell_type": "code",
      "metadata": {
        "id": "Egw4AWUguKXZ",
        "colab": {
          "base_uri": "https://localhost:8080/",
          "height": 255
        },
        "outputId": "6698ef0f-6a0c-44c4-e2fd-ffd23820191d"
      },
      "source": [
        "# Retrieve data\n",
        "url = 'http://archive.ics.uci.edu/ml/machine-learning-databases/mushroom/agaricus-lepiota.data'\n",
        "res = requests.get(url).content\n",
        "\n",
        "# Read the retrieved data into a DataFrame object\n",
        "mushroom = pd.read_csv(io.StringIO(res.decode('utf-8')), header=None)\n",
        "\n",
        "# Set column labels\n",
        "mushroom.columns = ['classes', 'cap_shape', 'cap_surface', 'cap_color', 'bruises', 'odor',\n",
        "                             'gill_attachment','gill_spacing','gill_size','gill_color','stalk_shape',\n",
        "                             'stalk_root','stalk_surface_above_ring','stalk_surface_below_ring',\n",
        "                             'stalk_color_above_ring','stalk_color_below_ring','veil_type','veil_color',\n",
        "                             'ring_number','ring_type','spore_print_color','population', 'habitat']\n",
        "\n",
        "# Display the first 5 rows\n",
        "mushroom.head()"
      ],
      "execution_count": null,
      "outputs": [
        {
          "output_type": "execute_result",
          "data": {
            "text/plain": [
              "  classes cap_shape cap_surface cap_color bruises odor gill_attachment  \\\n",
              "0       p         x           s         n       t    p               f   \n",
              "1       e         x           s         y       t    a               f   \n",
              "2       e         b           s         w       t    l               f   \n",
              "3       p         x           y         w       t    p               f   \n",
              "4       e         x           s         g       f    n               f   \n",
              "\n",
              "  gill_spacing gill_size gill_color  ... stalk_surface_below_ring  \\\n",
              "0            c         n          k  ...                        s   \n",
              "1            c         b          k  ...                        s   \n",
              "2            c         b          n  ...                        s   \n",
              "3            c         n          n  ...                        s   \n",
              "4            w         b          k  ...                        s   \n",
              "\n",
              "  stalk_color_above_ring stalk_color_below_ring veil_type veil_color  \\\n",
              "0                      w                      w         p          w   \n",
              "1                      w                      w         p          w   \n",
              "2                      w                      w         p          w   \n",
              "3                      w                      w         p          w   \n",
              "4                      w                      w         p          w   \n",
              "\n",
              "  ring_number ring_type spore_print_color population habitat  \n",
              "0           o         p                 k          s       u  \n",
              "1           o         p                 n          n       g  \n",
              "2           o         p                 n          n       m  \n",
              "3           o         p                 k          s       u  \n",
              "4           o         e                 n          a       g  \n",
              "\n",
              "[5 rows x 23 columns]"
            ],
            "text/html": [
              "\n",
              "  <div id=\"df-cd9c526f-c5cb-4067-9440-361def578e7b\" class=\"colab-df-container\">\n",
              "    <div>\n",
              "<style scoped>\n",
              "    .dataframe tbody tr th:only-of-type {\n",
              "        vertical-align: middle;\n",
              "    }\n",
              "\n",
              "    .dataframe tbody tr th {\n",
              "        vertical-align: top;\n",
              "    }\n",
              "\n",
              "    .dataframe thead th {\n",
              "        text-align: right;\n",
              "    }\n",
              "</style>\n",
              "<table border=\"1\" class=\"dataframe\">\n",
              "  <thead>\n",
              "    <tr style=\"text-align: right;\">\n",
              "      <th></th>\n",
              "      <th>classes</th>\n",
              "      <th>cap_shape</th>\n",
              "      <th>cap_surface</th>\n",
              "      <th>cap_color</th>\n",
              "      <th>bruises</th>\n",
              "      <th>odor</th>\n",
              "      <th>gill_attachment</th>\n",
              "      <th>gill_spacing</th>\n",
              "      <th>gill_size</th>\n",
              "      <th>gill_color</th>\n",
              "      <th>...</th>\n",
              "      <th>stalk_surface_below_ring</th>\n",
              "      <th>stalk_color_above_ring</th>\n",
              "      <th>stalk_color_below_ring</th>\n",
              "      <th>veil_type</th>\n",
              "      <th>veil_color</th>\n",
              "      <th>ring_number</th>\n",
              "      <th>ring_type</th>\n",
              "      <th>spore_print_color</th>\n",
              "      <th>population</th>\n",
              "      <th>habitat</th>\n",
              "    </tr>\n",
              "  </thead>\n",
              "  <tbody>\n",
              "    <tr>\n",
              "      <th>0</th>\n",
              "      <td>p</td>\n",
              "      <td>x</td>\n",
              "      <td>s</td>\n",
              "      <td>n</td>\n",
              "      <td>t</td>\n",
              "      <td>p</td>\n",
              "      <td>f</td>\n",
              "      <td>c</td>\n",
              "      <td>n</td>\n",
              "      <td>k</td>\n",
              "      <td>...</td>\n",
              "      <td>s</td>\n",
              "      <td>w</td>\n",
              "      <td>w</td>\n",
              "      <td>p</td>\n",
              "      <td>w</td>\n",
              "      <td>o</td>\n",
              "      <td>p</td>\n",
              "      <td>k</td>\n",
              "      <td>s</td>\n",
              "      <td>u</td>\n",
              "    </tr>\n",
              "    <tr>\n",
              "      <th>1</th>\n",
              "      <td>e</td>\n",
              "      <td>x</td>\n",
              "      <td>s</td>\n",
              "      <td>y</td>\n",
              "      <td>t</td>\n",
              "      <td>a</td>\n",
              "      <td>f</td>\n",
              "      <td>c</td>\n",
              "      <td>b</td>\n",
              "      <td>k</td>\n",
              "      <td>...</td>\n",
              "      <td>s</td>\n",
              "      <td>w</td>\n",
              "      <td>w</td>\n",
              "      <td>p</td>\n",
              "      <td>w</td>\n",
              "      <td>o</td>\n",
              "      <td>p</td>\n",
              "      <td>n</td>\n",
              "      <td>n</td>\n",
              "      <td>g</td>\n",
              "    </tr>\n",
              "    <tr>\n",
              "      <th>2</th>\n",
              "      <td>e</td>\n",
              "      <td>b</td>\n",
              "      <td>s</td>\n",
              "      <td>w</td>\n",
              "      <td>t</td>\n",
              "      <td>l</td>\n",
              "      <td>f</td>\n",
              "      <td>c</td>\n",
              "      <td>b</td>\n",
              "      <td>n</td>\n",
              "      <td>...</td>\n",
              "      <td>s</td>\n",
              "      <td>w</td>\n",
              "      <td>w</td>\n",
              "      <td>p</td>\n",
              "      <td>w</td>\n",
              "      <td>o</td>\n",
              "      <td>p</td>\n",
              "      <td>n</td>\n",
              "      <td>n</td>\n",
              "      <td>m</td>\n",
              "    </tr>\n",
              "    <tr>\n",
              "      <th>3</th>\n",
              "      <td>p</td>\n",
              "      <td>x</td>\n",
              "      <td>y</td>\n",
              "      <td>w</td>\n",
              "      <td>t</td>\n",
              "      <td>p</td>\n",
              "      <td>f</td>\n",
              "      <td>c</td>\n",
              "      <td>n</td>\n",
              "      <td>n</td>\n",
              "      <td>...</td>\n",
              "      <td>s</td>\n",
              "      <td>w</td>\n",
              "      <td>w</td>\n",
              "      <td>p</td>\n",
              "      <td>w</td>\n",
              "      <td>o</td>\n",
              "      <td>p</td>\n",
              "      <td>k</td>\n",
              "      <td>s</td>\n",
              "      <td>u</td>\n",
              "    </tr>\n",
              "    <tr>\n",
              "      <th>4</th>\n",
              "      <td>e</td>\n",
              "      <td>x</td>\n",
              "      <td>s</td>\n",
              "      <td>g</td>\n",
              "      <td>f</td>\n",
              "      <td>n</td>\n",
              "      <td>f</td>\n",
              "      <td>w</td>\n",
              "      <td>b</td>\n",
              "      <td>k</td>\n",
              "      <td>...</td>\n",
              "      <td>s</td>\n",
              "      <td>w</td>\n",
              "      <td>w</td>\n",
              "      <td>p</td>\n",
              "      <td>w</td>\n",
              "      <td>o</td>\n",
              "      <td>e</td>\n",
              "      <td>n</td>\n",
              "      <td>a</td>\n",
              "      <td>g</td>\n",
              "    </tr>\n",
              "  </tbody>\n",
              "</table>\n",
              "<p>5 rows × 23 columns</p>\n",
              "</div>\n",
              "    <div class=\"colab-df-buttons\">\n",
              "\n",
              "  <div class=\"colab-df-container\">\n",
              "    <button class=\"colab-df-convert\" onclick=\"convertToInteractive('df-cd9c526f-c5cb-4067-9440-361def578e7b')\"\n",
              "            title=\"Convert this dataframe to an interactive table.\"\n",
              "            style=\"display:none;\">\n",
              "\n",
              "  <svg xmlns=\"http://www.w3.org/2000/svg\" height=\"24px\" viewBox=\"0 -960 960 960\">\n",
              "    <path d=\"M120-120v-720h720v720H120Zm60-500h600v-160H180v160Zm220 220h160v-160H400v160Zm0 220h160v-160H400v160ZM180-400h160v-160H180v160Zm440 0h160v-160H620v160ZM180-180h160v-160H180v160Zm440 0h160v-160H620v160Z\"/>\n",
              "  </svg>\n",
              "    </button>\n",
              "\n",
              "  <style>\n",
              "    .colab-df-container {\n",
              "      display:flex;\n",
              "      gap: 12px;\n",
              "    }\n",
              "\n",
              "    .colab-df-convert {\n",
              "      background-color: #E8F0FE;\n",
              "      border: none;\n",
              "      border-radius: 50%;\n",
              "      cursor: pointer;\n",
              "      display: none;\n",
              "      fill: #1967D2;\n",
              "      height: 32px;\n",
              "      padding: 0 0 0 0;\n",
              "      width: 32px;\n",
              "    }\n",
              "\n",
              "    .colab-df-convert:hover {\n",
              "      background-color: #E2EBFA;\n",
              "      box-shadow: 0px 1px 2px rgba(60, 64, 67, 0.3), 0px 1px 3px 1px rgba(60, 64, 67, 0.15);\n",
              "      fill: #174EA6;\n",
              "    }\n",
              "\n",
              "    .colab-df-buttons div {\n",
              "      margin-bottom: 4px;\n",
              "    }\n",
              "\n",
              "    [theme=dark] .colab-df-convert {\n",
              "      background-color: #3B4455;\n",
              "      fill: #D2E3FC;\n",
              "    }\n",
              "\n",
              "    [theme=dark] .colab-df-convert:hover {\n",
              "      background-color: #434B5C;\n",
              "      box-shadow: 0px 1px 3px 1px rgba(0, 0, 0, 0.15);\n",
              "      filter: drop-shadow(0px 1px 2px rgba(0, 0, 0, 0.3));\n",
              "      fill: #FFFFFF;\n",
              "    }\n",
              "  </style>\n",
              "\n",
              "    <script>\n",
              "      const buttonEl =\n",
              "        document.querySelector('#df-cd9c526f-c5cb-4067-9440-361def578e7b button.colab-df-convert');\n",
              "      buttonEl.style.display =\n",
              "        google.colab.kernel.accessAllowed ? 'block' : 'none';\n",
              "\n",
              "      async function convertToInteractive(key) {\n",
              "        const element = document.querySelector('#df-cd9c526f-c5cb-4067-9440-361def578e7b');\n",
              "        const dataTable =\n",
              "          await google.colab.kernel.invokeFunction('convertToInteractive',\n",
              "                                                    [key], {});\n",
              "        if (!dataTable) return;\n",
              "\n",
              "        const docLinkHtml = 'Like what you see? Visit the ' +\n",
              "          '<a target=\"_blank\" href=https://colab.research.google.com/notebooks/data_table.ipynb>data table notebook</a>'\n",
              "          + ' to learn more about interactive tables.';\n",
              "        element.innerHTML = '';\n",
              "        dataTable['output_type'] = 'display_data';\n",
              "        await google.colab.output.renderOutput(dataTable, element);\n",
              "        const docLink = document.createElement('div');\n",
              "        docLink.innerHTML = docLinkHtml;\n",
              "        element.appendChild(docLink);\n",
              "      }\n",
              "    </script>\n",
              "  </div>\n",
              "\n",
              "\n",
              "<div id=\"df-0c78f3a8-0cd6-4889-9a02-3c34a9b9f1a5\">\n",
              "  <button class=\"colab-df-quickchart\" onclick=\"quickchart('df-0c78f3a8-0cd6-4889-9a02-3c34a9b9f1a5')\"\n",
              "            title=\"Suggest charts\"\n",
              "            style=\"display:none;\">\n",
              "\n",
              "<svg xmlns=\"http://www.w3.org/2000/svg\" height=\"24px\"viewBox=\"0 0 24 24\"\n",
              "     width=\"24px\">\n",
              "    <g>\n",
              "        <path d=\"M19 3H5c-1.1 0-2 .9-2 2v14c0 1.1.9 2 2 2h14c1.1 0 2-.9 2-2V5c0-1.1-.9-2-2-2zM9 17H7v-7h2v7zm4 0h-2V7h2v10zm4 0h-2v-4h2v4z\"/>\n",
              "    </g>\n",
              "</svg>\n",
              "  </button>\n",
              "\n",
              "<style>\n",
              "  .colab-df-quickchart {\n",
              "      --bg-color: #E8F0FE;\n",
              "      --fill-color: #1967D2;\n",
              "      --hover-bg-color: #E2EBFA;\n",
              "      --hover-fill-color: #174EA6;\n",
              "      --disabled-fill-color: #AAA;\n",
              "      --disabled-bg-color: #DDD;\n",
              "  }\n",
              "\n",
              "  [theme=dark] .colab-df-quickchart {\n",
              "      --bg-color: #3B4455;\n",
              "      --fill-color: #D2E3FC;\n",
              "      --hover-bg-color: #434B5C;\n",
              "      --hover-fill-color: #FFFFFF;\n",
              "      --disabled-bg-color: #3B4455;\n",
              "      --disabled-fill-color: #666;\n",
              "  }\n",
              "\n",
              "  .colab-df-quickchart {\n",
              "    background-color: var(--bg-color);\n",
              "    border: none;\n",
              "    border-radius: 50%;\n",
              "    cursor: pointer;\n",
              "    display: none;\n",
              "    fill: var(--fill-color);\n",
              "    height: 32px;\n",
              "    padding: 0;\n",
              "    width: 32px;\n",
              "  }\n",
              "\n",
              "  .colab-df-quickchart:hover {\n",
              "    background-color: var(--hover-bg-color);\n",
              "    box-shadow: 0 1px 2px rgba(60, 64, 67, 0.3), 0 1px 3px 1px rgba(60, 64, 67, 0.15);\n",
              "    fill: var(--button-hover-fill-color);\n",
              "  }\n",
              "\n",
              "  .colab-df-quickchart-complete:disabled,\n",
              "  .colab-df-quickchart-complete:disabled:hover {\n",
              "    background-color: var(--disabled-bg-color);\n",
              "    fill: var(--disabled-fill-color);\n",
              "    box-shadow: none;\n",
              "  }\n",
              "\n",
              "  .colab-df-spinner {\n",
              "    border: 2px solid var(--fill-color);\n",
              "    border-color: transparent;\n",
              "    border-bottom-color: var(--fill-color);\n",
              "    animation:\n",
              "      spin 1s steps(1) infinite;\n",
              "  }\n",
              "\n",
              "  @keyframes spin {\n",
              "    0% {\n",
              "      border-color: transparent;\n",
              "      border-bottom-color: var(--fill-color);\n",
              "      border-left-color: var(--fill-color);\n",
              "    }\n",
              "    20% {\n",
              "      border-color: transparent;\n",
              "      border-left-color: var(--fill-color);\n",
              "      border-top-color: var(--fill-color);\n",
              "    }\n",
              "    30% {\n",
              "      border-color: transparent;\n",
              "      border-left-color: var(--fill-color);\n",
              "      border-top-color: var(--fill-color);\n",
              "      border-right-color: var(--fill-color);\n",
              "    }\n",
              "    40% {\n",
              "      border-color: transparent;\n",
              "      border-right-color: var(--fill-color);\n",
              "      border-top-color: var(--fill-color);\n",
              "    }\n",
              "    60% {\n",
              "      border-color: transparent;\n",
              "      border-right-color: var(--fill-color);\n",
              "    }\n",
              "    80% {\n",
              "      border-color: transparent;\n",
              "      border-right-color: var(--fill-color);\n",
              "      border-bottom-color: var(--fill-color);\n",
              "    }\n",
              "    90% {\n",
              "      border-color: transparent;\n",
              "      border-bottom-color: var(--fill-color);\n",
              "    }\n",
              "  }\n",
              "</style>\n",
              "\n",
              "  <script>\n",
              "    async function quickchart(key) {\n",
              "      const quickchartButtonEl =\n",
              "        document.querySelector('#' + key + ' button');\n",
              "      quickchartButtonEl.disabled = true;  // To prevent multiple clicks.\n",
              "      quickchartButtonEl.classList.add('colab-df-spinner');\n",
              "      try {\n",
              "        const charts = await google.colab.kernel.invokeFunction(\n",
              "            'suggestCharts', [key], {});\n",
              "      } catch (error) {\n",
              "        console.error('Error during call to suggestCharts:', error);\n",
              "      }\n",
              "      quickchartButtonEl.classList.remove('colab-df-spinner');\n",
              "      quickchartButtonEl.classList.add('colab-df-quickchart-complete');\n",
              "    }\n",
              "    (() => {\n",
              "      let quickchartButtonEl =\n",
              "        document.querySelector('#df-0c78f3a8-0cd6-4889-9a02-3c34a9b9f1a5 button');\n",
              "      quickchartButtonEl.style.display =\n",
              "        google.colab.kernel.accessAllowed ? 'block' : 'none';\n",
              "    })();\n",
              "  </script>\n",
              "</div>\n",
              "\n",
              "    </div>\n",
              "  </div>\n"
            ],
            "application/vnd.google.colaboratory.intrinsic+json": {
              "type": "dataframe",
              "variable_name": "mushroom"
            }
          },
          "metadata": {},
          "execution_count": 47
        }
      ]
    },
    {
      "cell_type": "markdown",
      "metadata": {
        "id": "E6lTETuhuKXZ"
      },
      "source": [
        "The contents of each variable are as follows."
      ]
    },
    {
      "cell_type": "markdown",
      "metadata": {
        "id": "nQMVWrDKuKXZ"
      },
      "source": [
        "     1. cap-shape:                bell=b,conical=c,convex=x,flat=f,\n",
        "                                  knobbed=k,sunken=s\n",
        "     2. cap-surface:              fibrous=f,grooves=g,scaly=y,smooth=s\n",
        "     3. cap-color:                brown=n,buff=b,cinnamon=c,gray=g,green=r,\n",
        "                                  pink=p,purple=u,red=e,white=w,yellow=y\n",
        "     4. bruises?:                 bruises=t,no=f\n",
        "     5. odor:                     almond=a,anise=l,creosote=c,fishy=y,foul=f,\n",
        "                                  musty=m,none=n,pungent=p,spicy=s\n",
        "     6. gill-attachment:          attached=a,descending=d,free=f,notched=n\n",
        "     7. gill-spacing:             close=c,crowded=w,distant=d\n",
        "     8. gill-size:                broad=b,narrow=n\n",
        "     9. gill-color:               black=k,brown=n,buff=b,chocolate=h,gray=g,\n",
        "                                  green=r,orange=o,pink=p,purple=u,red=e,\n",
        "                                  white=w,yellow=y\n",
        "    10. stalk-shape:              enlarging=e,tapering=t\n",
        "    11. stalk-root:               bulbous=b,club=c,cup=u,equal=e,\n",
        "                                  rhizomorphs=z,rooted=r,missing=?\n",
        "    12. stalk-surface-above-ring: fibrous=f,scaly=y,silky=k,smooth=s\n",
        "    13. stalk-surface-below-ring: fibrous=f,scaly=y,silky=k,smooth=s\n",
        "    14. stalk-color-above-ring:   brown=n,buff=b,cinnamon=c,gray=g,orange=o,\n",
        "                                  pink=p,red=e,white=w,yellow=y\n",
        "    15. stalk-color-below-ring:   brown=n,buff=b,cinnamon=c,gray=g,orange=o,\n",
        "                                  pink=p,red=e,white=w,yellow=y\n",
        "    16. veil-type:                partial=p,universal=u\n",
        "    17. veil-color:               brown=n,orange=o,white=w,yellow=y\n",
        "    18. ring-number:              none=n,one=o,two=t\n",
        "    19. ring-type:                cobwebby=c,evanescent=e,flaring=f,large=l,\n",
        "                                  none=n,pendant=p,sheathing=s,zone=z\n",
        "    20. spore-print-color:        black=k,brown=n,buff=b,chocolate=h,green=r,\n",
        "                                  orange=o,purple=u,white=w,yellow=y\n",
        "    21. population:               abundant=a,clustered=c,numerous=n,\n",
        "                                  scattered=s,several=v,solitary=y\n",
        "    22. habitat:                  grasses=g,leaves=l,meadows=m,paths=p,\n",
        "                                  urban=u,waste=w,woods=d"
      ]
    },
    {
      "cell_type": "markdown",
      "metadata": {
        "id": "br4RPkaduKXZ"
      },
      "source": [
        "The target variable is `classes`. When it is `p`, it indicates a poisonous mushroom, and when it is `e`, it indicates an edible mushroom. Each row represents the information of one mushroom, with attributes like `cap_shape` and `cap_surface` attached to it. For example, the first row represents a mushroom with classes as `p`, meaning it's poisonous, and `cap_shape` as x (`convex` or mound-shaped)."
      ]
    },
    {
      "cell_type": "markdown",
      "metadata": {
        "id": "dqC3GWFEuKXZ"
      },
      "source": [
        "By running the following program, it can be confirmed that the dataset consists of 8124 rows and 23 columns, and there are no missing values."
      ]
    },
    {
      "cell_type": "code",
      "metadata": {
        "id": "LkGHLwS1uKXZ",
        "colab": {
          "base_uri": "https://localhost:8080/"
        },
        "outputId": "c581980f-724d-484b-de4a-290e27336792"
      },
      "source": [
        "print('Data shape: {}'.format(mushroom.shape))\n",
        "print('Number of missing values: {}'.format(mushroom.isnull().sum().sum()))"
      ],
      "execution_count": null,
      "outputs": [
        {
          "output_type": "stream",
          "name": "stdout",
          "text": [
            "Data shape: (8124, 23)\n",
            "Number of missing values: 0\n"
          ]
        }
      ]
    },
    {
      "cell_type": "markdown",
      "metadata": {
        "id": "UBIH_VQquKXa"
      },
      "source": [
        "### 5.4.2 Data Organization\n",
        "\n",
        "There are many explanatory variables, but to simplify the discussion, we will limit the explanatory variables to four: `gill_color`, `gill_attachment`, `odor`, and `cap_color`. As shown above, these variables are categorical, for example, `gill_color` is represented as 'k' for `black` and 'n' for `brown`. Decision trees require both explanatory and target variables to be numerical. Therefore, categorical variables must be converted into numerical variables.\n",
        "\n",
        "To achieve this, we will use dummy encoding. Dummy encoding means converting categorical variables, such as a gender variable with values `male` or `female`, into two separate columns: a 'male' column and a 'female' column. Specifically, if the gender is `male`, the 'male' column will be 1, and the `female` column will be 0 (this is also known as `one-hot` encoding). You can use the `get_dummies` function from pandas to create dummy variables."
      ]
    },
    {
      "cell_type": "code",
      "metadata": {
        "id": "5iwxLXjEuKXa",
        "colab": {
          "base_uri": "https://localhost:8080/",
          "height": 255
        },
        "outputId": "6150af86-d831-432b-8984-44c0ee156de9"
      },
      "source": [
        "mushroom_dummy = pd.get_dummies(mushroom[['gill_color', 'gill_attachment', 'odor', 'cap_color']], dtype='int')\n",
        "mushroom_dummy.head()"
      ],
      "execution_count": null,
      "outputs": [
        {
          "output_type": "execute_result",
          "data": {
            "text/plain": [
              "   gill_color_b  gill_color_e  gill_color_g  gill_color_h  gill_color_k  \\\n",
              "0             0             0             0             0             1   \n",
              "1             0             0             0             0             1   \n",
              "2             0             0             0             0             0   \n",
              "3             0             0             0             0             0   \n",
              "4             0             0             0             0             1   \n",
              "\n",
              "   gill_color_n  gill_color_o  gill_color_p  gill_color_r  gill_color_u  ...  \\\n",
              "0             0             0             0             0             0  ...   \n",
              "1             0             0             0             0             0  ...   \n",
              "2             1             0             0             0             0  ...   \n",
              "3             1             0             0             0             0  ...   \n",
              "4             0             0             0             0             0  ...   \n",
              "\n",
              "   cap_color_b  cap_color_c  cap_color_e  cap_color_g  cap_color_n  \\\n",
              "0            0            0            0            0            1   \n",
              "1            0            0            0            0            0   \n",
              "2            0            0            0            0            0   \n",
              "3            0            0            0            0            0   \n",
              "4            0            0            0            1            0   \n",
              "\n",
              "   cap_color_p  cap_color_r  cap_color_u  cap_color_w  cap_color_y  \n",
              "0            0            0            0            0            0  \n",
              "1            0            0            0            0            1  \n",
              "2            0            0            0            1            0  \n",
              "3            0            0            0            1            0  \n",
              "4            0            0            0            0            0  \n",
              "\n",
              "[5 rows x 33 columns]"
            ],
            "text/html": [
              "\n",
              "  <div id=\"df-907ddbf2-3ddc-4259-bbcb-5d775b22513a\" class=\"colab-df-container\">\n",
              "    <div>\n",
              "<style scoped>\n",
              "    .dataframe tbody tr th:only-of-type {\n",
              "        vertical-align: middle;\n",
              "    }\n",
              "\n",
              "    .dataframe tbody tr th {\n",
              "        vertical-align: top;\n",
              "    }\n",
              "\n",
              "    .dataframe thead th {\n",
              "        text-align: right;\n",
              "    }\n",
              "</style>\n",
              "<table border=\"1\" class=\"dataframe\">\n",
              "  <thead>\n",
              "    <tr style=\"text-align: right;\">\n",
              "      <th></th>\n",
              "      <th>gill_color_b</th>\n",
              "      <th>gill_color_e</th>\n",
              "      <th>gill_color_g</th>\n",
              "      <th>gill_color_h</th>\n",
              "      <th>gill_color_k</th>\n",
              "      <th>gill_color_n</th>\n",
              "      <th>gill_color_o</th>\n",
              "      <th>gill_color_p</th>\n",
              "      <th>gill_color_r</th>\n",
              "      <th>gill_color_u</th>\n",
              "      <th>...</th>\n",
              "      <th>cap_color_b</th>\n",
              "      <th>cap_color_c</th>\n",
              "      <th>cap_color_e</th>\n",
              "      <th>cap_color_g</th>\n",
              "      <th>cap_color_n</th>\n",
              "      <th>cap_color_p</th>\n",
              "      <th>cap_color_r</th>\n",
              "      <th>cap_color_u</th>\n",
              "      <th>cap_color_w</th>\n",
              "      <th>cap_color_y</th>\n",
              "    </tr>\n",
              "  </thead>\n",
              "  <tbody>\n",
              "    <tr>\n",
              "      <th>0</th>\n",
              "      <td>0</td>\n",
              "      <td>0</td>\n",
              "      <td>0</td>\n",
              "      <td>0</td>\n",
              "      <td>1</td>\n",
              "      <td>0</td>\n",
              "      <td>0</td>\n",
              "      <td>0</td>\n",
              "      <td>0</td>\n",
              "      <td>0</td>\n",
              "      <td>...</td>\n",
              "      <td>0</td>\n",
              "      <td>0</td>\n",
              "      <td>0</td>\n",
              "      <td>0</td>\n",
              "      <td>1</td>\n",
              "      <td>0</td>\n",
              "      <td>0</td>\n",
              "      <td>0</td>\n",
              "      <td>0</td>\n",
              "      <td>0</td>\n",
              "    </tr>\n",
              "    <tr>\n",
              "      <th>1</th>\n",
              "      <td>0</td>\n",
              "      <td>0</td>\n",
              "      <td>0</td>\n",
              "      <td>0</td>\n",
              "      <td>1</td>\n",
              "      <td>0</td>\n",
              "      <td>0</td>\n",
              "      <td>0</td>\n",
              "      <td>0</td>\n",
              "      <td>0</td>\n",
              "      <td>...</td>\n",
              "      <td>0</td>\n",
              "      <td>0</td>\n",
              "      <td>0</td>\n",
              "      <td>0</td>\n",
              "      <td>0</td>\n",
              "      <td>0</td>\n",
              "      <td>0</td>\n",
              "      <td>0</td>\n",
              "      <td>0</td>\n",
              "      <td>1</td>\n",
              "    </tr>\n",
              "    <tr>\n",
              "      <th>2</th>\n",
              "      <td>0</td>\n",
              "      <td>0</td>\n",
              "      <td>0</td>\n",
              "      <td>0</td>\n",
              "      <td>0</td>\n",
              "      <td>1</td>\n",
              "      <td>0</td>\n",
              "      <td>0</td>\n",
              "      <td>0</td>\n",
              "      <td>0</td>\n",
              "      <td>...</td>\n",
              "      <td>0</td>\n",
              "      <td>0</td>\n",
              "      <td>0</td>\n",
              "      <td>0</td>\n",
              "      <td>0</td>\n",
              "      <td>0</td>\n",
              "      <td>0</td>\n",
              "      <td>0</td>\n",
              "      <td>1</td>\n",
              "      <td>0</td>\n",
              "    </tr>\n",
              "    <tr>\n",
              "      <th>3</th>\n",
              "      <td>0</td>\n",
              "      <td>0</td>\n",
              "      <td>0</td>\n",
              "      <td>0</td>\n",
              "      <td>0</td>\n",
              "      <td>1</td>\n",
              "      <td>0</td>\n",
              "      <td>0</td>\n",
              "      <td>0</td>\n",
              "      <td>0</td>\n",
              "      <td>...</td>\n",
              "      <td>0</td>\n",
              "      <td>0</td>\n",
              "      <td>0</td>\n",
              "      <td>0</td>\n",
              "      <td>0</td>\n",
              "      <td>0</td>\n",
              "      <td>0</td>\n",
              "      <td>0</td>\n",
              "      <td>1</td>\n",
              "      <td>0</td>\n",
              "    </tr>\n",
              "    <tr>\n",
              "      <th>4</th>\n",
              "      <td>0</td>\n",
              "      <td>0</td>\n",
              "      <td>0</td>\n",
              "      <td>0</td>\n",
              "      <td>1</td>\n",
              "      <td>0</td>\n",
              "      <td>0</td>\n",
              "      <td>0</td>\n",
              "      <td>0</td>\n",
              "      <td>0</td>\n",
              "      <td>...</td>\n",
              "      <td>0</td>\n",
              "      <td>0</td>\n",
              "      <td>0</td>\n",
              "      <td>1</td>\n",
              "      <td>0</td>\n",
              "      <td>0</td>\n",
              "      <td>0</td>\n",
              "      <td>0</td>\n",
              "      <td>0</td>\n",
              "      <td>0</td>\n",
              "    </tr>\n",
              "  </tbody>\n",
              "</table>\n",
              "<p>5 rows × 33 columns</p>\n",
              "</div>\n",
              "    <div class=\"colab-df-buttons\">\n",
              "\n",
              "  <div class=\"colab-df-container\">\n",
              "    <button class=\"colab-df-convert\" onclick=\"convertToInteractive('df-907ddbf2-3ddc-4259-bbcb-5d775b22513a')\"\n",
              "            title=\"Convert this dataframe to an interactive table.\"\n",
              "            style=\"display:none;\">\n",
              "\n",
              "  <svg xmlns=\"http://www.w3.org/2000/svg\" height=\"24px\" viewBox=\"0 -960 960 960\">\n",
              "    <path d=\"M120-120v-720h720v720H120Zm60-500h600v-160H180v160Zm220 220h160v-160H400v160Zm0 220h160v-160H400v160ZM180-400h160v-160H180v160Zm440 0h160v-160H620v160ZM180-180h160v-160H180v160Zm440 0h160v-160H620v160Z\"/>\n",
              "  </svg>\n",
              "    </button>\n",
              "\n",
              "  <style>\n",
              "    .colab-df-container {\n",
              "      display:flex;\n",
              "      gap: 12px;\n",
              "    }\n",
              "\n",
              "    .colab-df-convert {\n",
              "      background-color: #E8F0FE;\n",
              "      border: none;\n",
              "      border-radius: 50%;\n",
              "      cursor: pointer;\n",
              "      display: none;\n",
              "      fill: #1967D2;\n",
              "      height: 32px;\n",
              "      padding: 0 0 0 0;\n",
              "      width: 32px;\n",
              "    }\n",
              "\n",
              "    .colab-df-convert:hover {\n",
              "      background-color: #E2EBFA;\n",
              "      box-shadow: 0px 1px 2px rgba(60, 64, 67, 0.3), 0px 1px 3px 1px rgba(60, 64, 67, 0.15);\n",
              "      fill: #174EA6;\n",
              "    }\n",
              "\n",
              "    .colab-df-buttons div {\n",
              "      margin-bottom: 4px;\n",
              "    }\n",
              "\n",
              "    [theme=dark] .colab-df-convert {\n",
              "      background-color: #3B4455;\n",
              "      fill: #D2E3FC;\n",
              "    }\n",
              "\n",
              "    [theme=dark] .colab-df-convert:hover {\n",
              "      background-color: #434B5C;\n",
              "      box-shadow: 0px 1px 3px 1px rgba(0, 0, 0, 0.15);\n",
              "      filter: drop-shadow(0px 1px 2px rgba(0, 0, 0, 0.3));\n",
              "      fill: #FFFFFF;\n",
              "    }\n",
              "  </style>\n",
              "\n",
              "    <script>\n",
              "      const buttonEl =\n",
              "        document.querySelector('#df-907ddbf2-3ddc-4259-bbcb-5d775b22513a button.colab-df-convert');\n",
              "      buttonEl.style.display =\n",
              "        google.colab.kernel.accessAllowed ? 'block' : 'none';\n",
              "\n",
              "      async function convertToInteractive(key) {\n",
              "        const element = document.querySelector('#df-907ddbf2-3ddc-4259-bbcb-5d775b22513a');\n",
              "        const dataTable =\n",
              "          await google.colab.kernel.invokeFunction('convertToInteractive',\n",
              "                                                    [key], {});\n",
              "        if (!dataTable) return;\n",
              "\n",
              "        const docLinkHtml = 'Like what you see? Visit the ' +\n",
              "          '<a target=\"_blank\" href=https://colab.research.google.com/notebooks/data_table.ipynb>data table notebook</a>'\n",
              "          + ' to learn more about interactive tables.';\n",
              "        element.innerHTML = '';\n",
              "        dataTable['output_type'] = 'display_data';\n",
              "        await google.colab.output.renderOutput(dataTable, element);\n",
              "        const docLink = document.createElement('div');\n",
              "        docLink.innerHTML = docLinkHtml;\n",
              "        element.appendChild(docLink);\n",
              "      }\n",
              "    </script>\n",
              "  </div>\n",
              "\n",
              "\n",
              "<div id=\"df-1d40118b-282d-49e6-92be-4bd35035bee5\">\n",
              "  <button class=\"colab-df-quickchart\" onclick=\"quickchart('df-1d40118b-282d-49e6-92be-4bd35035bee5')\"\n",
              "            title=\"Suggest charts\"\n",
              "            style=\"display:none;\">\n",
              "\n",
              "<svg xmlns=\"http://www.w3.org/2000/svg\" height=\"24px\"viewBox=\"0 0 24 24\"\n",
              "     width=\"24px\">\n",
              "    <g>\n",
              "        <path d=\"M19 3H5c-1.1 0-2 .9-2 2v14c0 1.1.9 2 2 2h14c1.1 0 2-.9 2-2V5c0-1.1-.9-2-2-2zM9 17H7v-7h2v7zm4 0h-2V7h2v10zm4 0h-2v-4h2v4z\"/>\n",
              "    </g>\n",
              "</svg>\n",
              "  </button>\n",
              "\n",
              "<style>\n",
              "  .colab-df-quickchart {\n",
              "      --bg-color: #E8F0FE;\n",
              "      --fill-color: #1967D2;\n",
              "      --hover-bg-color: #E2EBFA;\n",
              "      --hover-fill-color: #174EA6;\n",
              "      --disabled-fill-color: #AAA;\n",
              "      --disabled-bg-color: #DDD;\n",
              "  }\n",
              "\n",
              "  [theme=dark] .colab-df-quickchart {\n",
              "      --bg-color: #3B4455;\n",
              "      --fill-color: #D2E3FC;\n",
              "      --hover-bg-color: #434B5C;\n",
              "      --hover-fill-color: #FFFFFF;\n",
              "      --disabled-bg-color: #3B4455;\n",
              "      --disabled-fill-color: #666;\n",
              "  }\n",
              "\n",
              "  .colab-df-quickchart {\n",
              "    background-color: var(--bg-color);\n",
              "    border: none;\n",
              "    border-radius: 50%;\n",
              "    cursor: pointer;\n",
              "    display: none;\n",
              "    fill: var(--fill-color);\n",
              "    height: 32px;\n",
              "    padding: 0;\n",
              "    width: 32px;\n",
              "  }\n",
              "\n",
              "  .colab-df-quickchart:hover {\n",
              "    background-color: var(--hover-bg-color);\n",
              "    box-shadow: 0 1px 2px rgba(60, 64, 67, 0.3), 0 1px 3px 1px rgba(60, 64, 67, 0.15);\n",
              "    fill: var(--button-hover-fill-color);\n",
              "  }\n",
              "\n",
              "  .colab-df-quickchart-complete:disabled,\n",
              "  .colab-df-quickchart-complete:disabled:hover {\n",
              "    background-color: var(--disabled-bg-color);\n",
              "    fill: var(--disabled-fill-color);\n",
              "    box-shadow: none;\n",
              "  }\n",
              "\n",
              "  .colab-df-spinner {\n",
              "    border: 2px solid var(--fill-color);\n",
              "    border-color: transparent;\n",
              "    border-bottom-color: var(--fill-color);\n",
              "    animation:\n",
              "      spin 1s steps(1) infinite;\n",
              "  }\n",
              "\n",
              "  @keyframes spin {\n",
              "    0% {\n",
              "      border-color: transparent;\n",
              "      border-bottom-color: var(--fill-color);\n",
              "      border-left-color: var(--fill-color);\n",
              "    }\n",
              "    20% {\n",
              "      border-color: transparent;\n",
              "      border-left-color: var(--fill-color);\n",
              "      border-top-color: var(--fill-color);\n",
              "    }\n",
              "    30% {\n",
              "      border-color: transparent;\n",
              "      border-left-color: var(--fill-color);\n",
              "      border-top-color: var(--fill-color);\n",
              "      border-right-color: var(--fill-color);\n",
              "    }\n",
              "    40% {\n",
              "      border-color: transparent;\n",
              "      border-right-color: var(--fill-color);\n",
              "      border-top-color: var(--fill-color);\n",
              "    }\n",
              "    60% {\n",
              "      border-color: transparent;\n",
              "      border-right-color: var(--fill-color);\n",
              "    }\n",
              "    80% {\n",
              "      border-color: transparent;\n",
              "      border-right-color: var(--fill-color);\n",
              "      border-bottom-color: var(--fill-color);\n",
              "    }\n",
              "    90% {\n",
              "      border-color: transparent;\n",
              "      border-bottom-color: var(--fill-color);\n",
              "    }\n",
              "  }\n",
              "</style>\n",
              "\n",
              "  <script>\n",
              "    async function quickchart(key) {\n",
              "      const quickchartButtonEl =\n",
              "        document.querySelector('#' + key + ' button');\n",
              "      quickchartButtonEl.disabled = true;  // To prevent multiple clicks.\n",
              "      quickchartButtonEl.classList.add('colab-df-spinner');\n",
              "      try {\n",
              "        const charts = await google.colab.kernel.invokeFunction(\n",
              "            'suggestCharts', [key], {});\n",
              "      } catch (error) {\n",
              "        console.error('Error during call to suggestCharts:', error);\n",
              "      }\n",
              "      quickchartButtonEl.classList.remove('colab-df-spinner');\n",
              "      quickchartButtonEl.classList.add('colab-df-quickchart-complete');\n",
              "    }\n",
              "    (() => {\n",
              "      let quickchartButtonEl =\n",
              "        document.querySelector('#df-1d40118b-282d-49e6-92be-4bd35035bee5 button');\n",
              "      quickchartButtonEl.style.display =\n",
              "        google.colab.kernel.accessAllowed ? 'block' : 'none';\n",
              "    })();\n",
              "  </script>\n",
              "</div>\n",
              "\n",
              "    </div>\n",
              "  </div>\n"
            ],
            "application/vnd.google.colaboratory.intrinsic+json": {
              "type": "dataframe",
              "variable_name": "mushroom_dummy"
            }
          },
          "metadata": {},
          "execution_count": 50
        }
      ]
    },
    {
      "cell_type": "markdown",
      "metadata": {
        "id": "iORkyO8nuKXa"
      },
      "source": [
        "As described above, in the transformed data, each new variable represents a combination of the original variable name and its value. For example, if `gill_color_k` is set to 1, it indicates that `gill_color` was `k`. Dummy  encoding is the simplest way to flag (or quantify) categorical variables in this manner."
      ]
    },
    {
      "cell_type": "markdown",
      "metadata": {
        "id": "4Ga4G-XuuKXa"
      },
      "source": [
        "Next, we’ll also convert the target variable `classes` into a new variable `flg`. This step is necessary because even target variables representing categories must be in numerical form for the input data. The process converts values in the `classes` variable to 1 if they are p and 0 otherwise (using the `lambda` function), adding this new variable as `flg`. By using the `map` function, this transformation is applied to all elements (cells). With the target variable now expressed as 0/1 numerical values and the categorical feature variables dummy-encoded, the data is ready for input into the decision tree algorithm.\n"
      ]
    },
    {
      "cell_type": "code",
      "metadata": {
        "id": "Lyaw6rhRuKXa"
      },
      "source": [
        "# Convert target variable to flag (0/1)\n",
        "mushroom_dummy['flg'] = mushroom['classes'].map(lambda x: 1 if x =='p' else 0)"
      ],
      "execution_count": null,
      "outputs": []
    },
    {
      "cell_type": "markdown",
      "metadata": {
        "id": "BPXz0OZiuKXa"
      },
      "source": [
        "### 5.4.3 Entropy：A Measure of Impurity"
      ]
    },
    {
      "cell_type": "markdown",
      "metadata": {
        "id": "AxAPZewruKXa"
      },
      "source": [
        "Before constructing a decision tree model, let’s examine how decision trees are formed from the perspective of `impurity` in category classification. Impurity represents the state of differentiation (e.g., distinguishing between poisonous and edible mushrooms). High impurity means the categories are not well separated. For example, if we divide the data based on whether `cap_color` is \"c\" (using TRUE (1) or `FALSE` (0)), we can cross-tabulate to see how many poisonous mushrooms fall into each group.\n",
        "\n",
        "The table below shows a cross-tabulation with rows representing whether `cap_color` is \"c\" (1 for true, 0 for false), and columns representing the poison flag flg (1 for poisonous, 0 for non-poisonous).\n"
      ]
    },
    {
      "cell_type": "code",
      "metadata": {
        "id": "Gx42uyh-uKXa",
        "colab": {
          "base_uri": "https://localhost:8080/",
          "height": 143
        },
        "outputId": "5dc0856b-9c2e-4fd5-d050-e4fd66a39479"
      },
      "source": [
        "mushroom_dummy.groupby(['cap_color_c', 'flg'])['flg'].count().unstack()"
      ],
      "execution_count": null,
      "outputs": [
        {
          "output_type": "execute_result",
          "data": {
            "text/plain": [
              "flg             0     1\n",
              "cap_color_c            \n",
              "False        4176  3904\n",
              "True           32    12"
            ],
            "text/html": [
              "\n",
              "  <div id=\"df-49040ee0-b5b8-4ebd-a99a-5954015ace69\" class=\"colab-df-container\">\n",
              "    <div>\n",
              "<style scoped>\n",
              "    .dataframe tbody tr th:only-of-type {\n",
              "        vertical-align: middle;\n",
              "    }\n",
              "\n",
              "    .dataframe tbody tr th {\n",
              "        vertical-align: top;\n",
              "    }\n",
              "\n",
              "    .dataframe thead th {\n",
              "        text-align: right;\n",
              "    }\n",
              "</style>\n",
              "<table border=\"1\" class=\"dataframe\">\n",
              "  <thead>\n",
              "    <tr style=\"text-align: right;\">\n",
              "      <th>flg</th>\n",
              "      <th>0</th>\n",
              "      <th>1</th>\n",
              "    </tr>\n",
              "    <tr>\n",
              "      <th>cap_color_c</th>\n",
              "      <th></th>\n",
              "      <th></th>\n",
              "    </tr>\n",
              "  </thead>\n",
              "  <tbody>\n",
              "    <tr>\n",
              "      <th>False</th>\n",
              "      <td>4176</td>\n",
              "      <td>3904</td>\n",
              "    </tr>\n",
              "    <tr>\n",
              "      <th>True</th>\n",
              "      <td>32</td>\n",
              "      <td>12</td>\n",
              "    </tr>\n",
              "  </tbody>\n",
              "</table>\n",
              "</div>\n",
              "    <div class=\"colab-df-buttons\">\n",
              "\n",
              "  <div class=\"colab-df-container\">\n",
              "    <button class=\"colab-df-convert\" onclick=\"convertToInteractive('df-49040ee0-b5b8-4ebd-a99a-5954015ace69')\"\n",
              "            title=\"Convert this dataframe to an interactive table.\"\n",
              "            style=\"display:none;\">\n",
              "\n",
              "  <svg xmlns=\"http://www.w3.org/2000/svg\" height=\"24px\" viewBox=\"0 -960 960 960\">\n",
              "    <path d=\"M120-120v-720h720v720H120Zm60-500h600v-160H180v160Zm220 220h160v-160H400v160Zm0 220h160v-160H400v160ZM180-400h160v-160H180v160Zm440 0h160v-160H620v160ZM180-180h160v-160H180v160Zm440 0h160v-160H620v160Z\"/>\n",
              "  </svg>\n",
              "    </button>\n",
              "\n",
              "  <style>\n",
              "    .colab-df-container {\n",
              "      display:flex;\n",
              "      gap: 12px;\n",
              "    }\n",
              "\n",
              "    .colab-df-convert {\n",
              "      background-color: #E8F0FE;\n",
              "      border: none;\n",
              "      border-radius: 50%;\n",
              "      cursor: pointer;\n",
              "      display: none;\n",
              "      fill: #1967D2;\n",
              "      height: 32px;\n",
              "      padding: 0 0 0 0;\n",
              "      width: 32px;\n",
              "    }\n",
              "\n",
              "    .colab-df-convert:hover {\n",
              "      background-color: #E2EBFA;\n",
              "      box-shadow: 0px 1px 2px rgba(60, 64, 67, 0.3), 0px 1px 3px 1px rgba(60, 64, 67, 0.15);\n",
              "      fill: #174EA6;\n",
              "    }\n",
              "\n",
              "    .colab-df-buttons div {\n",
              "      margin-bottom: 4px;\n",
              "    }\n",
              "\n",
              "    [theme=dark] .colab-df-convert {\n",
              "      background-color: #3B4455;\n",
              "      fill: #D2E3FC;\n",
              "    }\n",
              "\n",
              "    [theme=dark] .colab-df-convert:hover {\n",
              "      background-color: #434B5C;\n",
              "      box-shadow: 0px 1px 3px 1px rgba(0, 0, 0, 0.15);\n",
              "      filter: drop-shadow(0px 1px 2px rgba(0, 0, 0, 0.3));\n",
              "      fill: #FFFFFF;\n",
              "    }\n",
              "  </style>\n",
              "\n",
              "    <script>\n",
              "      const buttonEl =\n",
              "        document.querySelector('#df-49040ee0-b5b8-4ebd-a99a-5954015ace69 button.colab-df-convert');\n",
              "      buttonEl.style.display =\n",
              "        google.colab.kernel.accessAllowed ? 'block' : 'none';\n",
              "\n",
              "      async function convertToInteractive(key) {\n",
              "        const element = document.querySelector('#df-49040ee0-b5b8-4ebd-a99a-5954015ace69');\n",
              "        const dataTable =\n",
              "          await google.colab.kernel.invokeFunction('convertToInteractive',\n",
              "                                                    [key], {});\n",
              "        if (!dataTable) return;\n",
              "\n",
              "        const docLinkHtml = 'Like what you see? Visit the ' +\n",
              "          '<a target=\"_blank\" href=https://colab.research.google.com/notebooks/data_table.ipynb>data table notebook</a>'\n",
              "          + ' to learn more about interactive tables.';\n",
              "        element.innerHTML = '';\n",
              "        dataTable['output_type'] = 'display_data';\n",
              "        await google.colab.output.renderOutput(dataTable, element);\n",
              "        const docLink = document.createElement('div');\n",
              "        docLink.innerHTML = docLinkHtml;\n",
              "        element.appendChild(docLink);\n",
              "      }\n",
              "    </script>\n",
              "  </div>\n",
              "\n",
              "\n",
              "<div id=\"df-0058e32d-1e20-4285-a7eb-67a6a570da5e\">\n",
              "  <button class=\"colab-df-quickchart\" onclick=\"quickchart('df-0058e32d-1e20-4285-a7eb-67a6a570da5e')\"\n",
              "            title=\"Suggest charts\"\n",
              "            style=\"display:none;\">\n",
              "\n",
              "<svg xmlns=\"http://www.w3.org/2000/svg\" height=\"24px\"viewBox=\"0 0 24 24\"\n",
              "     width=\"24px\">\n",
              "    <g>\n",
              "        <path d=\"M19 3H5c-1.1 0-2 .9-2 2v14c0 1.1.9 2 2 2h14c1.1 0 2-.9 2-2V5c0-1.1-.9-2-2-2zM9 17H7v-7h2v7zm4 0h-2V7h2v10zm4 0h-2v-4h2v4z\"/>\n",
              "    </g>\n",
              "</svg>\n",
              "  </button>\n",
              "\n",
              "<style>\n",
              "  .colab-df-quickchart {\n",
              "      --bg-color: #E8F0FE;\n",
              "      --fill-color: #1967D2;\n",
              "      --hover-bg-color: #E2EBFA;\n",
              "      --hover-fill-color: #174EA6;\n",
              "      --disabled-fill-color: #AAA;\n",
              "      --disabled-bg-color: #DDD;\n",
              "  }\n",
              "\n",
              "  [theme=dark] .colab-df-quickchart {\n",
              "      --bg-color: #3B4455;\n",
              "      --fill-color: #D2E3FC;\n",
              "      --hover-bg-color: #434B5C;\n",
              "      --hover-fill-color: #FFFFFF;\n",
              "      --disabled-bg-color: #3B4455;\n",
              "      --disabled-fill-color: #666;\n",
              "  }\n",
              "\n",
              "  .colab-df-quickchart {\n",
              "    background-color: var(--bg-color);\n",
              "    border: none;\n",
              "    border-radius: 50%;\n",
              "    cursor: pointer;\n",
              "    display: none;\n",
              "    fill: var(--fill-color);\n",
              "    height: 32px;\n",
              "    padding: 0;\n",
              "    width: 32px;\n",
              "  }\n",
              "\n",
              "  .colab-df-quickchart:hover {\n",
              "    background-color: var(--hover-bg-color);\n",
              "    box-shadow: 0 1px 2px rgba(60, 64, 67, 0.3), 0 1px 3px 1px rgba(60, 64, 67, 0.15);\n",
              "    fill: var(--button-hover-fill-color);\n",
              "  }\n",
              "\n",
              "  .colab-df-quickchart-complete:disabled,\n",
              "  .colab-df-quickchart-complete:disabled:hover {\n",
              "    background-color: var(--disabled-bg-color);\n",
              "    fill: var(--disabled-fill-color);\n",
              "    box-shadow: none;\n",
              "  }\n",
              "\n",
              "  .colab-df-spinner {\n",
              "    border: 2px solid var(--fill-color);\n",
              "    border-color: transparent;\n",
              "    border-bottom-color: var(--fill-color);\n",
              "    animation:\n",
              "      spin 1s steps(1) infinite;\n",
              "  }\n",
              "\n",
              "  @keyframes spin {\n",
              "    0% {\n",
              "      border-color: transparent;\n",
              "      border-bottom-color: var(--fill-color);\n",
              "      border-left-color: var(--fill-color);\n",
              "    }\n",
              "    20% {\n",
              "      border-color: transparent;\n",
              "      border-left-color: var(--fill-color);\n",
              "      border-top-color: var(--fill-color);\n",
              "    }\n",
              "    30% {\n",
              "      border-color: transparent;\n",
              "      border-left-color: var(--fill-color);\n",
              "      border-top-color: var(--fill-color);\n",
              "      border-right-color: var(--fill-color);\n",
              "    }\n",
              "    40% {\n",
              "      border-color: transparent;\n",
              "      border-right-color: var(--fill-color);\n",
              "      border-top-color: var(--fill-color);\n",
              "    }\n",
              "    60% {\n",
              "      border-color: transparent;\n",
              "      border-right-color: var(--fill-color);\n",
              "    }\n",
              "    80% {\n",
              "      border-color: transparent;\n",
              "      border-right-color: var(--fill-color);\n",
              "      border-bottom-color: var(--fill-color);\n",
              "    }\n",
              "    90% {\n",
              "      border-color: transparent;\n",
              "      border-bottom-color: var(--fill-color);\n",
              "    }\n",
              "  }\n",
              "</style>\n",
              "\n",
              "  <script>\n",
              "    async function quickchart(key) {\n",
              "      const quickchartButtonEl =\n",
              "        document.querySelector('#' + key + ' button');\n",
              "      quickchartButtonEl.disabled = true;  // To prevent multiple clicks.\n",
              "      quickchartButtonEl.classList.add('colab-df-spinner');\n",
              "      try {\n",
              "        const charts = await google.colab.kernel.invokeFunction(\n",
              "            'suggestCharts', [key], {});\n",
              "      } catch (error) {\n",
              "        console.error('Error during call to suggestCharts:', error);\n",
              "      }\n",
              "      quickchartButtonEl.classList.remove('colab-df-spinner');\n",
              "      quickchartButtonEl.classList.add('colab-df-quickchart-complete');\n",
              "    }\n",
              "    (() => {\n",
              "      let quickchartButtonEl =\n",
              "        document.querySelector('#df-0058e32d-1e20-4285-a7eb-67a6a570da5e button');\n",
              "      quickchartButtonEl.style.display =\n",
              "        google.colab.kernel.accessAllowed ? 'block' : 'none';\n",
              "    })();\n",
              "  </script>\n",
              "</div>\n",
              "\n",
              "    </div>\n",
              "  </div>\n"
            ],
            "application/vnd.google.colaboratory.intrinsic+json": {
              "type": "dataframe",
              "summary": "{\n  \"name\": \"mushroom_dummy\",\n  \"rows\": 2,\n  \"fields\": [\n    {\n      \"column\": \"cap_color_c\",\n      \"properties\": {\n        \"dtype\": \"boolean\",\n        \"num_unique_values\": 2,\n        \"samples\": [\n          true,\n          false\n        ],\n        \"semantic_type\": \"\",\n        \"description\": \"\"\n      }\n    },\n    {\n      \"column\": 0,\n      \"properties\": {\n        \"dtype\": \"number\",\n        \"std\": 2930,\n        \"min\": 32,\n        \"max\": 4176,\n        \"num_unique_values\": 2,\n        \"samples\": [\n          32,\n          4176\n        ],\n        \"semantic_type\": \"\",\n        \"description\": \"\"\n      }\n    },\n    {\n      \"column\": 1,\n      \"properties\": {\n        \"dtype\": \"number\",\n        \"std\": 2752,\n        \"min\": 12,\n        \"max\": 3904,\n        \"num_unique_values\": 2,\n        \"samples\": [\n          12,\n          3904\n        ],\n        \"semantic_type\": \"\",\n        \"description\": \"\"\n      }\n    }\n  ]\n}"
            }
          },
          "metadata": {},
          "execution_count": 26
        }
      ]
    },
    {
      "cell_type": "markdown",
      "metadata": {
        "id": "suC1UfBVuKXa"
      },
      "source": [
        "From the table above, we see that when `cap_color` is \"c\" (`cap_color_c` is 1), there are 12 poisonous mushrooms (`flg` is 1) and 32 non-poisonous mushrooms (`flg` is 0). Conversely, when `cap_color` is not \"c\" (`cap_color_c` is 0), there are 3,904 poisonous mushrooms and 4,176 non-poisonous mushrooms.\n",
        "\n",
        "This result suggests that the information about whether `cap_color` is \"c\" or not isn’t very useful for distinguishing poisonous mushrooms, as both categories contain a relatively consistent proportion of poisonous mushrooms.\n",
        "\n",
        "On the other hand, if we split the data based on whether another variable, `gill_color`, is \"b\" (`TRUE` (1) or `FALSE` (0)), the cross-tabulation result is as follows\n"
      ]
    },
    {
      "cell_type": "code",
      "metadata": {
        "id": "Qwj2ofHBuKXa",
        "colab": {
          "base_uri": "https://localhost:8080/",
          "height": 143
        },
        "outputId": "8cb96d6c-5bd6-43e8-c858-50a710bd83e2"
      },
      "source": [
        "mushroom_dummy.groupby(['gill_color_b', 'flg'])['flg'].count().unstack()"
      ],
      "execution_count": null,
      "outputs": [
        {
          "output_type": "execute_result",
          "data": {
            "text/plain": [
              "flg                0       1\n",
              "gill_color_b                \n",
              "False         4208.0  2188.0\n",
              "True             NaN  1728.0"
            ],
            "text/html": [
              "\n",
              "  <div id=\"df-a0b9c618-f03c-4c02-bdd9-ade2fe4b933d\" class=\"colab-df-container\">\n",
              "    <div>\n",
              "<style scoped>\n",
              "    .dataframe tbody tr th:only-of-type {\n",
              "        vertical-align: middle;\n",
              "    }\n",
              "\n",
              "    .dataframe tbody tr th {\n",
              "        vertical-align: top;\n",
              "    }\n",
              "\n",
              "    .dataframe thead th {\n",
              "        text-align: right;\n",
              "    }\n",
              "</style>\n",
              "<table border=\"1\" class=\"dataframe\">\n",
              "  <thead>\n",
              "    <tr style=\"text-align: right;\">\n",
              "      <th>flg</th>\n",
              "      <th>0</th>\n",
              "      <th>1</th>\n",
              "    </tr>\n",
              "    <tr>\n",
              "      <th>gill_color_b</th>\n",
              "      <th></th>\n",
              "      <th></th>\n",
              "    </tr>\n",
              "  </thead>\n",
              "  <tbody>\n",
              "    <tr>\n",
              "      <th>False</th>\n",
              "      <td>4208.0</td>\n",
              "      <td>2188.0</td>\n",
              "    </tr>\n",
              "    <tr>\n",
              "      <th>True</th>\n",
              "      <td>NaN</td>\n",
              "      <td>1728.0</td>\n",
              "    </tr>\n",
              "  </tbody>\n",
              "</table>\n",
              "</div>\n",
              "    <div class=\"colab-df-buttons\">\n",
              "\n",
              "  <div class=\"colab-df-container\">\n",
              "    <button class=\"colab-df-convert\" onclick=\"convertToInteractive('df-a0b9c618-f03c-4c02-bdd9-ade2fe4b933d')\"\n",
              "            title=\"Convert this dataframe to an interactive table.\"\n",
              "            style=\"display:none;\">\n",
              "\n",
              "  <svg xmlns=\"http://www.w3.org/2000/svg\" height=\"24px\" viewBox=\"0 -960 960 960\">\n",
              "    <path d=\"M120-120v-720h720v720H120Zm60-500h600v-160H180v160Zm220 220h160v-160H400v160Zm0 220h160v-160H400v160ZM180-400h160v-160H180v160Zm440 0h160v-160H620v160ZM180-180h160v-160H180v160Zm440 0h160v-160H620v160Z\"/>\n",
              "  </svg>\n",
              "    </button>\n",
              "\n",
              "  <style>\n",
              "    .colab-df-container {\n",
              "      display:flex;\n",
              "      gap: 12px;\n",
              "    }\n",
              "\n",
              "    .colab-df-convert {\n",
              "      background-color: #E8F0FE;\n",
              "      border: none;\n",
              "      border-radius: 50%;\n",
              "      cursor: pointer;\n",
              "      display: none;\n",
              "      fill: #1967D2;\n",
              "      height: 32px;\n",
              "      padding: 0 0 0 0;\n",
              "      width: 32px;\n",
              "    }\n",
              "\n",
              "    .colab-df-convert:hover {\n",
              "      background-color: #E2EBFA;\n",
              "      box-shadow: 0px 1px 2px rgba(60, 64, 67, 0.3), 0px 1px 3px 1px rgba(60, 64, 67, 0.15);\n",
              "      fill: #174EA6;\n",
              "    }\n",
              "\n",
              "    .colab-df-buttons div {\n",
              "      margin-bottom: 4px;\n",
              "    }\n",
              "\n",
              "    [theme=dark] .colab-df-convert {\n",
              "      background-color: #3B4455;\n",
              "      fill: #D2E3FC;\n",
              "    }\n",
              "\n",
              "    [theme=dark] .colab-df-convert:hover {\n",
              "      background-color: #434B5C;\n",
              "      box-shadow: 0px 1px 3px 1px rgba(0, 0, 0, 0.15);\n",
              "      filter: drop-shadow(0px 1px 2px rgba(0, 0, 0, 0.3));\n",
              "      fill: #FFFFFF;\n",
              "    }\n",
              "  </style>\n",
              "\n",
              "    <script>\n",
              "      const buttonEl =\n",
              "        document.querySelector('#df-a0b9c618-f03c-4c02-bdd9-ade2fe4b933d button.colab-df-convert');\n",
              "      buttonEl.style.display =\n",
              "        google.colab.kernel.accessAllowed ? 'block' : 'none';\n",
              "\n",
              "      async function convertToInteractive(key) {\n",
              "        const element = document.querySelector('#df-a0b9c618-f03c-4c02-bdd9-ade2fe4b933d');\n",
              "        const dataTable =\n",
              "          await google.colab.kernel.invokeFunction('convertToInteractive',\n",
              "                                                    [key], {});\n",
              "        if (!dataTable) return;\n",
              "\n",
              "        const docLinkHtml = 'Like what you see? Visit the ' +\n",
              "          '<a target=\"_blank\" href=https://colab.research.google.com/notebooks/data_table.ipynb>data table notebook</a>'\n",
              "          + ' to learn more about interactive tables.';\n",
              "        element.innerHTML = '';\n",
              "        dataTable['output_type'] = 'display_data';\n",
              "        await google.colab.output.renderOutput(dataTable, element);\n",
              "        const docLink = document.createElement('div');\n",
              "        docLink.innerHTML = docLinkHtml;\n",
              "        element.appendChild(docLink);\n",
              "      }\n",
              "    </script>\n",
              "  </div>\n",
              "\n",
              "\n",
              "<div id=\"df-787d87eb-f0db-48bb-a12c-55c8ea2c1821\">\n",
              "  <button class=\"colab-df-quickchart\" onclick=\"quickchart('df-787d87eb-f0db-48bb-a12c-55c8ea2c1821')\"\n",
              "            title=\"Suggest charts\"\n",
              "            style=\"display:none;\">\n",
              "\n",
              "<svg xmlns=\"http://www.w3.org/2000/svg\" height=\"24px\"viewBox=\"0 0 24 24\"\n",
              "     width=\"24px\">\n",
              "    <g>\n",
              "        <path d=\"M19 3H5c-1.1 0-2 .9-2 2v14c0 1.1.9 2 2 2h14c1.1 0 2-.9 2-2V5c0-1.1-.9-2-2-2zM9 17H7v-7h2v7zm4 0h-2V7h2v10zm4 0h-2v-4h2v4z\"/>\n",
              "    </g>\n",
              "</svg>\n",
              "  </button>\n",
              "\n",
              "<style>\n",
              "  .colab-df-quickchart {\n",
              "      --bg-color: #E8F0FE;\n",
              "      --fill-color: #1967D2;\n",
              "      --hover-bg-color: #E2EBFA;\n",
              "      --hover-fill-color: #174EA6;\n",
              "      --disabled-fill-color: #AAA;\n",
              "      --disabled-bg-color: #DDD;\n",
              "  }\n",
              "\n",
              "  [theme=dark] .colab-df-quickchart {\n",
              "      --bg-color: #3B4455;\n",
              "      --fill-color: #D2E3FC;\n",
              "      --hover-bg-color: #434B5C;\n",
              "      --hover-fill-color: #FFFFFF;\n",
              "      --disabled-bg-color: #3B4455;\n",
              "      --disabled-fill-color: #666;\n",
              "  }\n",
              "\n",
              "  .colab-df-quickchart {\n",
              "    background-color: var(--bg-color);\n",
              "    border: none;\n",
              "    border-radius: 50%;\n",
              "    cursor: pointer;\n",
              "    display: none;\n",
              "    fill: var(--fill-color);\n",
              "    height: 32px;\n",
              "    padding: 0;\n",
              "    width: 32px;\n",
              "  }\n",
              "\n",
              "  .colab-df-quickchart:hover {\n",
              "    background-color: var(--hover-bg-color);\n",
              "    box-shadow: 0 1px 2px rgba(60, 64, 67, 0.3), 0 1px 3px 1px rgba(60, 64, 67, 0.15);\n",
              "    fill: var(--button-hover-fill-color);\n",
              "  }\n",
              "\n",
              "  .colab-df-quickchart-complete:disabled,\n",
              "  .colab-df-quickchart-complete:disabled:hover {\n",
              "    background-color: var(--disabled-bg-color);\n",
              "    fill: var(--disabled-fill-color);\n",
              "    box-shadow: none;\n",
              "  }\n",
              "\n",
              "  .colab-df-spinner {\n",
              "    border: 2px solid var(--fill-color);\n",
              "    border-color: transparent;\n",
              "    border-bottom-color: var(--fill-color);\n",
              "    animation:\n",
              "      spin 1s steps(1) infinite;\n",
              "  }\n",
              "\n",
              "  @keyframes spin {\n",
              "    0% {\n",
              "      border-color: transparent;\n",
              "      border-bottom-color: var(--fill-color);\n",
              "      border-left-color: var(--fill-color);\n",
              "    }\n",
              "    20% {\n",
              "      border-color: transparent;\n",
              "      border-left-color: var(--fill-color);\n",
              "      border-top-color: var(--fill-color);\n",
              "    }\n",
              "    30% {\n",
              "      border-color: transparent;\n",
              "      border-left-color: var(--fill-color);\n",
              "      border-top-color: var(--fill-color);\n",
              "      border-right-color: var(--fill-color);\n",
              "    }\n",
              "    40% {\n",
              "      border-color: transparent;\n",
              "      border-right-color: var(--fill-color);\n",
              "      border-top-color: var(--fill-color);\n",
              "    }\n",
              "    60% {\n",
              "      border-color: transparent;\n",
              "      border-right-color: var(--fill-color);\n",
              "    }\n",
              "    80% {\n",
              "      border-color: transparent;\n",
              "      border-right-color: var(--fill-color);\n",
              "      border-bottom-color: var(--fill-color);\n",
              "    }\n",
              "    90% {\n",
              "      border-color: transparent;\n",
              "      border-bottom-color: var(--fill-color);\n",
              "    }\n",
              "  }\n",
              "</style>\n",
              "\n",
              "  <script>\n",
              "    async function quickchart(key) {\n",
              "      const quickchartButtonEl =\n",
              "        document.querySelector('#' + key + ' button');\n",
              "      quickchartButtonEl.disabled = true;  // To prevent multiple clicks.\n",
              "      quickchartButtonEl.classList.add('colab-df-spinner');\n",
              "      try {\n",
              "        const charts = await google.colab.kernel.invokeFunction(\n",
              "            'suggestCharts', [key], {});\n",
              "      } catch (error) {\n",
              "        console.error('Error during call to suggestCharts:', error);\n",
              "      }\n",
              "      quickchartButtonEl.classList.remove('colab-df-spinner');\n",
              "      quickchartButtonEl.classList.add('colab-df-quickchart-complete');\n",
              "    }\n",
              "    (() => {\n",
              "      let quickchartButtonEl =\n",
              "        document.querySelector('#df-787d87eb-f0db-48bb-a12c-55c8ea2c1821 button');\n",
              "      quickchartButtonEl.style.display =\n",
              "        google.colab.kernel.accessAllowed ? 'block' : 'none';\n",
              "    })();\n",
              "  </script>\n",
              "</div>\n",
              "\n",
              "    </div>\n",
              "  </div>\n"
            ],
            "application/vnd.google.colaboratory.intrinsic+json": {
              "type": "dataframe",
              "summary": "{\n  \"name\": \"mushroom_dummy\",\n  \"rows\": 2,\n  \"fields\": [\n    {\n      \"column\": \"gill_color_b\",\n      \"properties\": {\n        \"dtype\": \"boolean\",\n        \"num_unique_values\": 2,\n        \"samples\": [\n          true,\n          false\n        ],\n        \"semantic_type\": \"\",\n        \"description\": \"\"\n      }\n    },\n    {\n      \"column\": 0,\n      \"properties\": {\n        \"dtype\": \"number\",\n        \"std\": null,\n        \"min\": 4208.0,\n        \"max\": 4208.0,\n        \"num_unique_values\": 1,\n        \"samples\": [\n          4208.0\n        ],\n        \"semantic_type\": \"\",\n        \"description\": \"\"\n      }\n    },\n    {\n      \"column\": 1,\n      \"properties\": {\n        \"dtype\": \"number\",\n        \"std\": 325.2691193458119,\n        \"min\": 1728.0,\n        \"max\": 2188.0,\n        \"num_unique_values\": 2,\n        \"samples\": [\n          1728.0\n        ],\n        \"semantic_type\": \"\",\n        \"description\": \"\"\n      }\n    }\n  ]\n}"
            }
          },
          "metadata": {},
          "execution_count": 27
        }
      ]
    },
    {
      "cell_type": "markdown",
      "metadata": {
        "id": "NeJMsaJAuKXa"
      },
      "source": [
        "Here, we examined two variables (`cap_color_c` and `gill_color_b`) as examples, but there are many other variables, each of which could be split in a similar way. Decision trees are algorithms that assess which of these variables provides the most useful split for classification, using impurity as a criterion for determining the quality of each split. One of the most commonly used measures of impurity is **entropy**. The entropy for a dataset $S$ is defined by the following formula $H(S)$, where $S$ is the data set, $n$ is the number of categories, and $p_i$ represents the proportion of data samples in each category."
      ]
    },
    {
      "cell_type": "markdown",
      "metadata": {
        "id": "bkIMhwdyuKXa"
      },
      "source": [
        "\\begin{eqnarray}\n",
        "\\ H(S)= -\\sum^n_{i=1}(p_i\\log_{2}p_i)\n",
        "\\end{eqnarray}"
      ]
    },
    {
      "cell_type": "markdown",
      "metadata": {
        "id": "Tbz28bwiuKXa"
      },
      "source": [
        "In this example, there are two categories (poisonous or edible), with the proportion of edible mushrooms represented by $p_1$ and the proportion of poisonous mushrooms by $p_2$. Let’s consider a branching condition in which both poisonous and edible mushrooms are equally represented. In this case, $p_1=p_2=0.5$, and entropy can be calculated using the formula above. We will use a base-2 logarithm function (`np.log2`)."
      ]
    },
    {
      "cell_type": "code",
      "metadata": {
        "id": "cWnhC6zvuKXa",
        "colab": {
          "base_uri": "https://localhost:8080/"
        },
        "outputId": "15e9d3c3-9f58-4c4a-dab9-b39881241415"
      },
      "source": [
        "- (0.5 * np.log2(0.5) + 0.5 * np.log2(0.5))"
      ],
      "execution_count": null,
      "outputs": [
        {
          "output_type": "execute_result",
          "data": {
            "text/plain": [
              "1.0"
            ]
          },
          "metadata": {},
          "execution_count": 28
        }
      ]
    },
    {
      "cell_type": "markdown",
      "metadata": {
        "id": "g2xp7dMluKXa"
      },
      "source": [
        "\n",
        "As shown above, we can confirm that entropy reaches 1.0. This actually represents the maximum level of randomness in the data. Since the dataset contains an equal proportion (0.5) of both poisonous and non-poisonous mushrooms, it indicates a completely unidentifiable state. Now, let’s consider the case where the proportion of non-poisonous mushrooms $p_1$ is 0.001, and the proportion of poisonous mushrooms $p_2$ is 0.999."
      ]
    },
    {
      "cell_type": "code",
      "metadata": {
        "id": "Y0FbS-BOuKXa",
        "colab": {
          "base_uri": "https://localhost:8080/"
        },
        "outputId": "bf2a66c2-782b-4274-c592-bfd33c6d79f5"
      },
      "source": [
        "- (0.001 * np.log2(0.001) + 0.999 * np.log2(0.999))"
      ],
      "execution_count": null,
      "outputs": [
        {
          "output_type": "execute_result",
          "data": {
            "text/plain": [
              "0.011407757737461138"
            ]
          },
          "metadata": {},
          "execution_count": 29
        }
      ]
    },
    {
      "cell_type": "markdown",
      "metadata": {
        "id": "xKK_Q2rguKXa"
      },
      "source": [
        "As shown above, the entropy is close to 0. This reflects a state where the data is almost completely identified as poisonous mushrooms, thus resulting in low entropy. In summary, entropy values near 1.0 indicate an unidentifiable state, whereas values close to 0.0 suggest a well-identifiable state. In this example, since we are dealing with a binary classification, the categories follow the relationship $p_1 = 1 - p_2$, allowing us to express the entropy formula as follows."
      ]
    },
    {
      "cell_type": "code",
      "metadata": {
        "id": "A_Xr_WCPuKXa"
      },
      "source": [
        "def calc_entropy(p):\n",
        "    return - (p * np.log2(p) + (1 - p) *  np.log2(1 - p) )"
      ],
      "execution_count": null,
      "outputs": []
    },
    {
      "cell_type": "markdown",
      "metadata": {
        "id": "3_wpQtFquKXa"
      },
      "source": [
        "Since $p$ is a probability, it ranges between 0 and 1. When we plot entropy as a function of $p$ using the entropy formula, we get a graph like the one below. This confirms that entropy reaches a maximum value of 1 and a minimum of 0."
      ]
    },
    {
      "cell_type": "code",
      "metadata": {
        "scrolled": true,
        "id": "YkMrv2_uuKXa",
        "colab": {
          "base_uri": "https://localhost:8080/",
          "height": 449
        },
        "outputId": "bb4e9b17-4051-4ece-d2cf-710754cc3c74"
      },
      "source": [
        "# Vary p values from 0.001 to 0.999 in 0.01 increments\n",
        "p = np.arange(0.001, 0.999, 0.01)\n",
        "\n",
        "# Plot the graph\n",
        "plt.plot(p, calc_entropy(p))\n",
        "plt.xlabel('prob')\n",
        "plt.ylabel('entropy')\n",
        "plt.grid(True)"
      ],
      "execution_count": null,
      "outputs": [
        {
          "output_type": "display_data",
          "data": {
            "text/plain": [
              "<Figure size 640x480 with 1 Axes>"
            ],
            "image/png": "[encoded data removed]"
          },
          "metadata": {}
        }
      ]
    },
    {
      "cell_type": "markdown",
      "metadata": {
        "id": "XIGe-j6nuKXa"
      },
      "source": [
        "In the explanation so far, we described how entropy represents classification impurity. Now, let’s calculate the entropy for the mushroom dataset. The dataset we’re using contains a total of 8,124 rows. Since the target variable `flg`represents categories, we will count the values in this data.\n"
      ]
    },
    {
      "cell_type": "code",
      "metadata": {
        "id": "yqgPafheuKXb",
        "colab": {
          "base_uri": "https://localhost:8080/",
          "height": 178
        },
        "outputId": "5d50e00e-61f6-48fb-e653-38f4b5355509"
      },
      "source": [
        "mushroom_dummy.groupby('flg')['flg'].count()"
      ],
      "execution_count": null,
      "outputs": [
        {
          "output_type": "execute_result",
          "data": {
            "text/plain": [
              "flg\n",
              "0    4208\n",
              "1    3916\n",
              "Name: flg, dtype: int64"
            ],
            "text/html": [
              "<div>\n",
              "<style scoped>\n",
              "    .dataframe tbody tr th:only-of-type {\n",
              "        vertical-align: middle;\n",
              "    }\n",
              "\n",
              "    .dataframe tbody tr th {\n",
              "        vertical-align: top;\n",
              "    }\n",
              "\n",
              "    .dataframe thead th {\n",
              "        text-align: right;\n",
              "    }\n",
              "</style>\n",
              "<table border=\"1\" class=\"dataframe\">\n",
              "  <thead>\n",
              "    <tr style=\"text-align: right;\">\n",
              "      <th></th>\n",
              "      <th>flg</th>\n",
              "    </tr>\n",
              "    <tr>\n",
              "      <th>flg</th>\n",
              "      <th></th>\n",
              "    </tr>\n",
              "  </thead>\n",
              "  <tbody>\n",
              "    <tr>\n",
              "      <th>0</th>\n",
              "      <td>4208</td>\n",
              "    </tr>\n",
              "    <tr>\n",
              "      <th>1</th>\n",
              "      <td>3916</td>\n",
              "    </tr>\n",
              "  </tbody>\n",
              "</table>\n",
              "</div><br><label><b>dtype:</b> int64</label>"
            ]
          },
          "metadata": {},
          "execution_count": 32
        }
      ]
    },
    {
      "cell_type": "markdown",
      "metadata": {
        "id": "Fca1NcPMuKXb"
      },
      "source": [
        "From the above, we can see that there are 4,208 non-poisonous mushrooms (0) and 3,916 poisonous mushrooms (1). Therefore, the proportion of non-poisonous mushrooms is 0.518 (= 4208/8124), and the proportion of poisonous mushrooms is 0.482 (= 3916/8124). Thus, the initial entropy value is 0.999, as shown below.\n"
      ]
    },
    {
      "cell_type": "code",
      "metadata": {
        "scrolled": true,
        "id": "Mv-HAGWTuKXb",
        "colab": {
          "base_uri": "https://localhost:8080/"
        },
        "outputId": "025640c8-8c3b-4b2d-8f9d-93af27e9958c"
      },
      "source": [
        "entropy_init = - (0.518 * np.log2(0.518) + 0.482 * np.log2(0.482))\n",
        "print('Initial entropy of hte poisonous mushroom data: {:.3f}'.format(entropy_init))"
      ],
      "execution_count": null,
      "outputs": [
        {
          "output_type": "stream",
          "name": "stdout",
          "text": [
            "Initial entropy of hte poisonous mushroom data: 0.999\n"
          ]
        }
      ]
    },
    {
      "cell_type": "markdown",
      "metadata": {
        "id": "4EtVg6UTuKXb"
      },
      "source": [
        "### 5.4.4 Information Gain: Evaluating Split Value"
      ]
    },
    {
      "cell_type": "markdown",
      "metadata": {
        "id": "D6ldblgvuKXb"
      },
      "source": [
        "Entropy is closer to 1 when identification is poor and closer to 0 when identification is accurate. The next concept to consider is which explanatory variable should be used for branching to reduce impurity (which, in the mushroom data, starts at 0.999). The concept to grasp here is **information gain**. Information gain is an indicator that shows how much entropy has decreased before and after a data split using a particular variable. As before, we will use the two variables, `cap_color_c` and `gill_color_b`, to show which of them is more useful as a split condition using information gain. First, we will split the data into two groups based on whether `cap_color` is `c` or not and calculate the entropy for each group based on the proportion of poisonous mushrooms."
      ]
    },
    {
      "cell_type": "code",
      "metadata": {
        "scrolled": true,
        "id": "Oql-YaMDuKXb",
        "colab": {
          "base_uri": "https://localhost:8080/",
          "height": 143
        },
        "outputId": "8bb4d7ea-b3ae-45d3-84aa-ba526c6706a7"
      },
      "source": [
        "mushroom_dummy.groupby(['cap_color_c', 'flg'])['flg'].count().unstack()"
      ],
      "execution_count": null,
      "outputs": [
        {
          "output_type": "execute_result",
          "data": {
            "text/plain": [
              "flg             0     1\n",
              "cap_color_c            \n",
              "False        4176  3904\n",
              "True           32    12"
            ],
            "text/html": [
              "\n",
              "  <div id=\"df-0417d09f-b6fe-4c67-a632-184da391a5f1\" class=\"colab-df-container\">\n",
              "    <div>\n",
              "<style scoped>\n",
              "    .dataframe tbody tr th:only-of-type {\n",
              "        vertical-align: middle;\n",
              "    }\n",
              "\n",
              "    .dataframe tbody tr th {\n",
              "        vertical-align: top;\n",
              "    }\n",
              "\n",
              "    .dataframe thead th {\n",
              "        text-align: right;\n",
              "    }\n",
              "</style>\n",
              "<table border=\"1\" class=\"dataframe\">\n",
              "  <thead>\n",
              "    <tr style=\"text-align: right;\">\n",
              "      <th>flg</th>\n",
              "      <th>0</th>\n",
              "      <th>1</th>\n",
              "    </tr>\n",
              "    <tr>\n",
              "      <th>cap_color_c</th>\n",
              "      <th></th>\n",
              "      <th></th>\n",
              "    </tr>\n",
              "  </thead>\n",
              "  <tbody>\n",
              "    <tr>\n",
              "      <th>False</th>\n",
              "      <td>4176</td>\n",
              "      <td>3904</td>\n",
              "    </tr>\n",
              "    <tr>\n",
              "      <th>True</th>\n",
              "      <td>32</td>\n",
              "      <td>12</td>\n",
              "    </tr>\n",
              "  </tbody>\n",
              "</table>\n",
              "</div>\n",
              "    <div class=\"colab-df-buttons\">\n",
              "\n",
              "  <div class=\"colab-df-container\">\n",
              "    <button class=\"colab-df-convert\" onclick=\"convertToInteractive('df-0417d09f-b6fe-4c67-a632-184da391a5f1')\"\n",
              "            title=\"Convert this dataframe to an interactive table.\"\n",
              "            style=\"display:none;\">\n",
              "\n",
              "  <svg xmlns=\"http://www.w3.org/2000/svg\" height=\"24px\" viewBox=\"0 -960 960 960\">\n",
              "    <path d=\"M120-120v-720h720v720H120Zm60-500h600v-160H180v160Zm220 220h160v-160H400v160Zm0 220h160v-160H400v160ZM180-400h160v-160H180v160Zm440 0h160v-160H620v160ZM180-180h160v-160H180v160Zm440 0h160v-160H620v160Z\"/>\n",
              "  </svg>\n",
              "    </button>\n",
              "\n",
              "  <style>\n",
              "    .colab-df-container {\n",
              "      display:flex;\n",
              "      gap: 12px;\n",
              "    }\n",
              "\n",
              "    .colab-df-convert {\n",
              "      background-color: #E8F0FE;\n",
              "      border: none;\n",
              "      border-radius: 50%;\n",
              "      cursor: pointer;\n",
              "      display: none;\n",
              "      fill: #1967D2;\n",
              "      height: 32px;\n",
              "      padding: 0 0 0 0;\n",
              "      width: 32px;\n",
              "    }\n",
              "\n",
              "    .colab-df-convert:hover {\n",
              "      background-color: #E2EBFA;\n",
              "      box-shadow: 0px 1px 2px rgba(60, 64, 67, 0.3), 0px 1px 3px 1px rgba(60, 64, 67, 0.15);\n",
              "      fill: #174EA6;\n",
              "    }\n",
              "\n",
              "    .colab-df-buttons div {\n",
              "      margin-bottom: 4px;\n",
              "    }\n",
              "\n",
              "    [theme=dark] .colab-df-convert {\n",
              "      background-color: #3B4455;\n",
              "      fill: #D2E3FC;\n",
              "    }\n",
              "\n",
              "    [theme=dark] .colab-df-convert:hover {\n",
              "      background-color: #434B5C;\n",
              "      box-shadow: 0px 1px 3px 1px rgba(0, 0, 0, 0.15);\n",
              "      filter: drop-shadow(0px 1px 2px rgba(0, 0, 0, 0.3));\n",
              "      fill: #FFFFFF;\n",
              "    }\n",
              "  </style>\n",
              "\n",
              "    <script>\n",
              "      const buttonEl =\n",
              "        document.querySelector('#df-0417d09f-b6fe-4c67-a632-184da391a5f1 button.colab-df-convert');\n",
              "      buttonEl.style.display =\n",
              "        google.colab.kernel.accessAllowed ? 'block' : 'none';\n",
              "\n",
              "      async function convertToInteractive(key) {\n",
              "        const element = document.querySelector('#df-0417d09f-b6fe-4c67-a632-184da391a5f1');\n",
              "        const dataTable =\n",
              "          await google.colab.kernel.invokeFunction('convertToInteractive',\n",
              "                                                    [key], {});\n",
              "        if (!dataTable) return;\n",
              "\n",
              "        const docLinkHtml = 'Like what you see? Visit the ' +\n",
              "          '<a target=\"_blank\" href=https://colab.research.google.com/notebooks/data_table.ipynb>data table notebook</a>'\n",
              "          + ' to learn more about interactive tables.';\n",
              "        element.innerHTML = '';\n",
              "        dataTable['output_type'] = 'display_data';\n",
              "        await google.colab.output.renderOutput(dataTable, element);\n",
              "        const docLink = document.createElement('div');\n",
              "        docLink.innerHTML = docLinkHtml;\n",
              "        element.appendChild(docLink);\n",
              "      }\n",
              "    </script>\n",
              "  </div>\n",
              "\n",
              "\n",
              "<div id=\"df-69b23c1c-0038-4b8a-b141-251558dd009d\">\n",
              "  <button class=\"colab-df-quickchart\" onclick=\"quickchart('df-69b23c1c-0038-4b8a-b141-251558dd009d')\"\n",
              "            title=\"Suggest charts\"\n",
              "            style=\"display:none;\">\n",
              "\n",
              "<svg xmlns=\"http://www.w3.org/2000/svg\" height=\"24px\"viewBox=\"0 0 24 24\"\n",
              "     width=\"24px\">\n",
              "    <g>\n",
              "        <path d=\"M19 3H5c-1.1 0-2 .9-2 2v14c0 1.1.9 2 2 2h14c1.1 0 2-.9 2-2V5c0-1.1-.9-2-2-2zM9 17H7v-7h2v7zm4 0h-2V7h2v10zm4 0h-2v-4h2v4z\"/>\n",
              "    </g>\n",
              "</svg>\n",
              "  </button>\n",
              "\n",
              "<style>\n",
              "  .colab-df-quickchart {\n",
              "      --bg-color: #E8F0FE;\n",
              "      --fill-color: #1967D2;\n",
              "      --hover-bg-color: #E2EBFA;\n",
              "      --hover-fill-color: #174EA6;\n",
              "      --disabled-fill-color: #AAA;\n",
              "      --disabled-bg-color: #DDD;\n",
              "  }\n",
              "\n",
              "  [theme=dark] .colab-df-quickchart {\n",
              "      --bg-color: #3B4455;\n",
              "      --fill-color: #D2E3FC;\n",
              "      --hover-bg-color: #434B5C;\n",
              "      --hover-fill-color: #FFFFFF;\n",
              "      --disabled-bg-color: #3B4455;\n",
              "      --disabled-fill-color: #666;\n",
              "  }\n",
              "\n",
              "  .colab-df-quickchart {\n",
              "    background-color: var(--bg-color);\n",
              "    border: none;\n",
              "    border-radius: 50%;\n",
              "    cursor: pointer;\n",
              "    display: none;\n",
              "    fill: var(--fill-color);\n",
              "    height: 32px;\n",
              "    padding: 0;\n",
              "    width: 32px;\n",
              "  }\n",
              "\n",
              "  .colab-df-quickchart:hover {\n",
              "    background-color: var(--hover-bg-color);\n",
              "    box-shadow: 0 1px 2px rgba(60, 64, 67, 0.3), 0 1px 3px 1px rgba(60, 64, 67, 0.15);\n",
              "    fill: var(--button-hover-fill-color);\n",
              "  }\n",
              "\n",
              "  .colab-df-quickchart-complete:disabled,\n",
              "  .colab-df-quickchart-complete:disabled:hover {\n",
              "    background-color: var(--disabled-bg-color);\n",
              "    fill: var(--disabled-fill-color);\n",
              "    box-shadow: none;\n",
              "  }\n",
              "\n",
              "  .colab-df-spinner {\n",
              "    border: 2px solid var(--fill-color);\n",
              "    border-color: transparent;\n",
              "    border-bottom-color: var(--fill-color);\n",
              "    animation:\n",
              "      spin 1s steps(1) infinite;\n",
              "  }\n",
              "\n",
              "  @keyframes spin {\n",
              "    0% {\n",
              "      border-color: transparent;\n",
              "      border-bottom-color: var(--fill-color);\n",
              "      border-left-color: var(--fill-color);\n",
              "    }\n",
              "    20% {\n",
              "      border-color: transparent;\n",
              "      border-left-color: var(--fill-color);\n",
              "      border-top-color: var(--fill-color);\n",
              "    }\n",
              "    30% {\n",
              "      border-color: transparent;\n",
              "      border-left-color: var(--fill-color);\n",
              "      border-top-color: var(--fill-color);\n",
              "      border-right-color: var(--fill-color);\n",
              "    }\n",
              "    40% {\n",
              "      border-color: transparent;\n",
              "      border-right-color: var(--fill-color);\n",
              "      border-top-color: var(--fill-color);\n",
              "    }\n",
              "    60% {\n",
              "      border-color: transparent;\n",
              "      border-right-color: var(--fill-color);\n",
              "    }\n",
              "    80% {\n",
              "      border-color: transparent;\n",
              "      border-right-color: var(--fill-color);\n",
              "      border-bottom-color: var(--fill-color);\n",
              "    }\n",
              "    90% {\n",
              "      border-color: transparent;\n",
              "      border-bottom-color: var(--fill-color);\n",
              "    }\n",
              "  }\n",
              "</style>\n",
              "\n",
              "  <script>\n",
              "    async function quickchart(key) {\n",
              "      const quickchartButtonEl =\n",
              "        document.querySelector('#' + key + ' button');\n",
              "      quickchartButtonEl.disabled = true;  // To prevent multiple clicks.\n",
              "      quickchartButtonEl.classList.add('colab-df-spinner');\n",
              "      try {\n",
              "        const charts = await google.colab.kernel.invokeFunction(\n",
              "            'suggestCharts', [key], {});\n",
              "      } catch (error) {\n",
              "        console.error('Error during call to suggestCharts:', error);\n",
              "      }\n",
              "      quickchartButtonEl.classList.remove('colab-df-spinner');\n",
              "      quickchartButtonEl.classList.add('colab-df-quickchart-complete');\n",
              "    }\n",
              "    (() => {\n",
              "      let quickchartButtonEl =\n",
              "        document.querySelector('#df-69b23c1c-0038-4b8a-b141-251558dd009d button');\n",
              "      quickchartButtonEl.style.display =\n",
              "        google.colab.kernel.accessAllowed ? 'block' : 'none';\n",
              "    })();\n",
              "  </script>\n",
              "</div>\n",
              "\n",
              "    </div>\n",
              "  </div>\n"
            ],
            "application/vnd.google.colaboratory.intrinsic+json": {
              "type": "dataframe",
              "summary": "{\n  \"name\": \"mushroom_dummy\",\n  \"rows\": 2,\n  \"fields\": [\n    {\n      \"column\": \"cap_color_c\",\n      \"properties\": {\n        \"dtype\": \"boolean\",\n        \"num_unique_values\": 2,\n        \"samples\": [\n          true,\n          false\n        ],\n        \"semantic_type\": \"\",\n        \"description\": \"\"\n      }\n    },\n    {\n      \"column\": 0,\n      \"properties\": {\n        \"dtype\": \"number\",\n        \"std\": 2930,\n        \"min\": 32,\n        \"max\": 4176,\n        \"num_unique_values\": 2,\n        \"samples\": [\n          32,\n          4176\n        ],\n        \"semantic_type\": \"\",\n        \"description\": \"\"\n      }\n    },\n    {\n      \"column\": 1,\n      \"properties\": {\n        \"dtype\": \"number\",\n        \"std\": 2752,\n        \"min\": 12,\n        \"max\": 3904,\n        \"num_unique_values\": 2,\n        \"samples\": [\n          12,\n          3904\n        ],\n        \"semantic_type\": \"\",\n        \"description\": \"\"\n      }\n    }\n  ]\n}"
            }
          },
          "metadata": {},
          "execution_count": 34
        }
      ]
    },
    {
      "cell_type": "code",
      "metadata": {
        "id": "YN5LBdlnuKXb",
        "colab": {
          "base_uri": "https://localhost:8080/"
        },
        "outputId": "c135a83d-c029-45cf-b34f-85d74007b00c"
      },
      "source": [
        "# Entropy when cap_color is not `c`\n",
        "p1 = 4176 / (4176 + 3904)\n",
        "p2 = 1 - p1\n",
        "entropy_c0 = - (p1 * np.log2(p1) + p2 * np.log2(p2))\n",
        "print('entropy_c0: {:.3f}'.format(entropy_c0))"
      ],
      "execution_count": null,
      "outputs": [
        {
          "output_type": "stream",
          "name": "stdout",
          "text": [
            "entropy_c0: 0.999\n"
          ]
        }
      ]
    },
    {
      "cell_type": "code",
      "metadata": {
        "id": "V_qr06OjuKXb",
        "colab": {
          "base_uri": "https://localhost:8080/"
        },
        "outputId": "85c80494-adef-4194-826c-43785d881639"
      },
      "source": [
        "# Entropy when cap_color is 'c'\n",
        "p1 = 32 / (32 + 12)\n",
        "p2 = 1 - p1\n",
        "entropy_c1 = - (p1 * np.log2(p1) + p2 * np.log2(p2))\n",
        "print('entropy_c1: {:.3f}'.format(entropy_c1))"
      ],
      "execution_count": null,
      "outputs": [
        {
          "output_type": "stream",
          "name": "stdout",
          "text": [
            "entropy_c1: 0.845\n"
          ]
        }
      ]
    },
    {
      "cell_type": "markdown",
      "metadata": {
        "id": "B7_ztIDzuKXb"
      },
      "source": [
        "The overall entropy before the split was 0.999. In this context, if we refer to the data before the split as the parent dataset and the data after the split as the child datasets, information gain is defined as:\n",
        "\"**Parent dataset entropy - Σ{(child dataset size / parent dataset size) × child dataset entropy}**\".\n",
        "The larger this value, the greater the reduction in entropy between the parent and child datasets, indicating a more useful splitting condition. Now, let's calculate the part of Σ{(child dataset size / parent dataset size) × child dataset entropy} as follows."
      ]
    },
    {
      "cell_type": "code",
      "metadata": {
        "id": "pS5Bs_EtuKXb",
        "colab": {
          "base_uri": "https://localhost:8080/"
        },
        "outputId": "8af8e579-08e4-41c7-9fe4-f077ef27d6bf"
      },
      "source": [
        "entropy_after = (4176 + 3904) / 8124 * entropy_c0 + (32 + 12) / 8124 * entropy_c1\n",
        "print('Average entropy after data split: {:.3f}'.format(entropy_after))"
      ],
      "execution_count": null,
      "outputs": [
        {
          "output_type": "stream",
          "name": "stdout",
          "text": [
            "Average entropy after data split: 0.998\n"
          ]
        }
      ]
    },
    {
      "cell_type": "markdown",
      "metadata": {
        "id": "HE8DtGdxuKXb"
      },
      "source": [
        "This result shows that the information gain, calculated as the difference in entropy before and after the data split, is 0.001. This indicates that the entropy has not decreased significantly, and we can quantitatively conclude that whether cap_color is c or not is not a very useful splitting condition."
      ]
    },
    {
      "cell_type": "code",
      "metadata": {
        "id": "gfV7_0p_uKXb",
        "colab": {
          "base_uri": "https://localhost:8080/"
        },
        "outputId": "721985da-7305-4fb6-bbca-b8892f90e66c"
      },
      "source": [
        "print('Information gain from splitting the variable cap_color: {:.3f}'.format(entropy_init - entropy_after))"
      ],
      "execution_count": null,
      "outputs": [
        {
          "output_type": "stream",
          "name": "stdout",
          "text": [
            "Information gain from splitting the variable cap_color: 0.001\n"
          ]
        }
      ]
    },
    {
      "cell_type": "markdown",
      "metadata": {
        "id": "vFCba3aVuKXb"
      },
      "source": [
        "On the other hand, when calculating the information gain from whether `gill_color` is `b`, it is 0.269, as shown below. This shows that it is a more beneficial branching condition, as it reduces entropy more significantly than the previous condition. One thing to note here is the calculation of entropy when `gill_color` is `b`. The definition of entropy strictly requires the calculation to be done for non-empty categories. Since there are no samples where the `flg` variable is 0 when `gill_color` is `b`, we do not include the term $p1×np.log2(p1)$ in the sum for the entropy calculation.\n"
      ]
    },
    {
      "cell_type": "code",
      "metadata": {
        "id": "2Qlyw0O1uKXb",
        "colab": {
          "base_uri": "https://localhost:8080/",
          "height": 143
        },
        "outputId": "115b03e3-9365-47b0-be05-16fac25ed610"
      },
      "source": [
        "mushroom_dummy.groupby(['gill_color_b', 'flg'])['flg'].count().unstack()"
      ],
      "execution_count": null,
      "outputs": [
        {
          "output_type": "execute_result",
          "data": {
            "text/plain": [
              "flg                0       1\n",
              "gill_color_b                \n",
              "False         4208.0  2188.0\n",
              "True             NaN  1728.0"
            ],
            "text/html": [
              "\n",
              "  <div id=\"df-51c7476e-8165-46bd-b276-e9db883d9031\" class=\"colab-df-container\">\n",
              "    <div>\n",
              "<style scoped>\n",
              "    .dataframe tbody tr th:only-of-type {\n",
              "        vertical-align: middle;\n",
              "    }\n",
              "\n",
              "    .dataframe tbody tr th {\n",
              "        vertical-align: top;\n",
              "    }\n",
              "\n",
              "    .dataframe thead th {\n",
              "        text-align: right;\n",
              "    }\n",
              "</style>\n",
              "<table border=\"1\" class=\"dataframe\">\n",
              "  <thead>\n",
              "    <tr style=\"text-align: right;\">\n",
              "      <th>flg</th>\n",
              "      <th>0</th>\n",
              "      <th>1</th>\n",
              "    </tr>\n",
              "    <tr>\n",
              "      <th>gill_color_b</th>\n",
              "      <th></th>\n",
              "      <th></th>\n",
              "    </tr>\n",
              "  </thead>\n",
              "  <tbody>\n",
              "    <tr>\n",
              "      <th>False</th>\n",
              "      <td>4208.0</td>\n",
              "      <td>2188.0</td>\n",
              "    </tr>\n",
              "    <tr>\n",
              "      <th>True</th>\n",
              "      <td>NaN</td>\n",
              "      <td>1728.0</td>\n",
              "    </tr>\n",
              "  </tbody>\n",
              "</table>\n",
              "</div>\n",
              "    <div class=\"colab-df-buttons\">\n",
              "\n",
              "  <div class=\"colab-df-container\">\n",
              "    <button class=\"colab-df-convert\" onclick=\"convertToInteractive('df-51c7476e-8165-46bd-b276-e9db883d9031')\"\n",
              "            title=\"Convert this dataframe to an interactive table.\"\n",
              "            style=\"display:none;\">\n",
              "\n",
              "  <svg xmlns=\"http://www.w3.org/2000/svg\" height=\"24px\" viewBox=\"0 -960 960 960\">\n",
              "    <path d=\"M120-120v-720h720v720H120Zm60-500h600v-160H180v160Zm220 220h160v-160H400v160Zm0 220h160v-160H400v160ZM180-400h160v-160H180v160Zm440 0h160v-160H620v160ZM180-180h160v-160H180v160Zm440 0h160v-160H620v160Z\"/>\n",
              "  </svg>\n",
              "    </button>\n",
              "\n",
              "  <style>\n",
              "    .colab-df-container {\n",
              "      display:flex;\n",
              "      gap: 12px;\n",
              "    }\n",
              "\n",
              "    .colab-df-convert {\n",
              "      background-color: #E8F0FE;\n",
              "      border: none;\n",
              "      border-radius: 50%;\n",
              "      cursor: pointer;\n",
              "      display: none;\n",
              "      fill: #1967D2;\n",
              "      height: 32px;\n",
              "      padding: 0 0 0 0;\n",
              "      width: 32px;\n",
              "    }\n",
              "\n",
              "    .colab-df-convert:hover {\n",
              "      background-color: #E2EBFA;\n",
              "      box-shadow: 0px 1px 2px rgba(60, 64, 67, 0.3), 0px 1px 3px 1px rgba(60, 64, 67, 0.15);\n",
              "      fill: #174EA6;\n",
              "    }\n",
              "\n",
              "    .colab-df-buttons div {\n",
              "      margin-bottom: 4px;\n",
              "    }\n",
              "\n",
              "    [theme=dark] .colab-df-convert {\n",
              "      background-color: #3B4455;\n",
              "      fill: #D2E3FC;\n",
              "    }\n",
              "\n",
              "    [theme=dark] .colab-df-convert:hover {\n",
              "      background-color: #434B5C;\n",
              "      box-shadow: 0px 1px 3px 1px rgba(0, 0, 0, 0.15);\n",
              "      filter: drop-shadow(0px 1px 2px rgba(0, 0, 0, 0.3));\n",
              "      fill: #FFFFFF;\n",
              "    }\n",
              "  </style>\n",
              "\n",
              "    <script>\n",
              "      const buttonEl =\n",
              "        document.querySelector('#df-51c7476e-8165-46bd-b276-e9db883d9031 button.colab-df-convert');\n",
              "      buttonEl.style.display =\n",
              "        google.colab.kernel.accessAllowed ? 'block' : 'none';\n",
              "\n",
              "      async function convertToInteractive(key) {\n",
              "        const element = document.querySelector('#df-51c7476e-8165-46bd-b276-e9db883d9031');\n",
              "        const dataTable =\n",
              "          await google.colab.kernel.invokeFunction('convertToInteractive',\n",
              "                                                    [key], {});\n",
              "        if (!dataTable) return;\n",
              "\n",
              "        const docLinkHtml = 'Like what you see? Visit the ' +\n",
              "          '<a target=\"_blank\" href=https://colab.research.google.com/notebooks/data_table.ipynb>data table notebook</a>'\n",
              "          + ' to learn more about interactive tables.';\n",
              "        element.innerHTML = '';\n",
              "        dataTable['output_type'] = 'display_data';\n",
              "        await google.colab.output.renderOutput(dataTable, element);\n",
              "        const docLink = document.createElement('div');\n",
              "        docLink.innerHTML = docLinkHtml;\n",
              "        element.appendChild(docLink);\n",
              "      }\n",
              "    </script>\n",
              "  </div>\n",
              "\n",
              "\n",
              "<div id=\"df-69348c1c-6d1f-457a-bd80-4f201e78f3ad\">\n",
              "  <button class=\"colab-df-quickchart\" onclick=\"quickchart('df-69348c1c-6d1f-457a-bd80-4f201e78f3ad')\"\n",
              "            title=\"Suggest charts\"\n",
              "            style=\"display:none;\">\n",
              "\n",
              "<svg xmlns=\"http://www.w3.org/2000/svg\" height=\"24px\"viewBox=\"0 0 24 24\"\n",
              "     width=\"24px\">\n",
              "    <g>\n",
              "        <path d=\"M19 3H5c-1.1 0-2 .9-2 2v14c0 1.1.9 2 2 2h14c1.1 0 2-.9 2-2V5c0-1.1-.9-2-2-2zM9 17H7v-7h2v7zm4 0h-2V7h2v10zm4 0h-2v-4h2v4z\"/>\n",
              "    </g>\n",
              "</svg>\n",
              "  </button>\n",
              "\n",
              "<style>\n",
              "  .colab-df-quickchart {\n",
              "      --bg-color: #E8F0FE;\n",
              "      --fill-color: #1967D2;\n",
              "      --hover-bg-color: #E2EBFA;\n",
              "      --hover-fill-color: #174EA6;\n",
              "      --disabled-fill-color: #AAA;\n",
              "      --disabled-bg-color: #DDD;\n",
              "  }\n",
              "\n",
              "  [theme=dark] .colab-df-quickchart {\n",
              "      --bg-color: #3B4455;\n",
              "      --fill-color: #D2E3FC;\n",
              "      --hover-bg-color: #434B5C;\n",
              "      --hover-fill-color: #FFFFFF;\n",
              "      --disabled-bg-color: #3B4455;\n",
              "      --disabled-fill-color: #666;\n",
              "  }\n",
              "\n",
              "  .colab-df-quickchart {\n",
              "    background-color: var(--bg-color);\n",
              "    border: none;\n",
              "    border-radius: 50%;\n",
              "    cursor: pointer;\n",
              "    display: none;\n",
              "    fill: var(--fill-color);\n",
              "    height: 32px;\n",
              "    padding: 0;\n",
              "    width: 32px;\n",
              "  }\n",
              "\n",
              "  .colab-df-quickchart:hover {\n",
              "    background-color: var(--hover-bg-color);\n",
              "    box-shadow: 0 1px 2px rgba(60, 64, 67, 0.3), 0 1px 3px 1px rgba(60, 64, 67, 0.15);\n",
              "    fill: var(--button-hover-fill-color);\n",
              "  }\n",
              "\n",
              "  .colab-df-quickchart-complete:disabled,\n",
              "  .colab-df-quickchart-complete:disabled:hover {\n",
              "    background-color: var(--disabled-bg-color);\n",
              "    fill: var(--disabled-fill-color);\n",
              "    box-shadow: none;\n",
              "  }\n",
              "\n",
              "  .colab-df-spinner {\n",
              "    border: 2px solid var(--fill-color);\n",
              "    border-color: transparent;\n",
              "    border-bottom-color: var(--fill-color);\n",
              "    animation:\n",
              "      spin 1s steps(1) infinite;\n",
              "  }\n",
              "\n",
              "  @keyframes spin {\n",
              "    0% {\n",
              "      border-color: transparent;\n",
              "      border-bottom-color: var(--fill-color);\n",
              "      border-left-color: var(--fill-color);\n",
              "    }\n",
              "    20% {\n",
              "      border-color: transparent;\n",
              "      border-left-color: var(--fill-color);\n",
              "      border-top-color: var(--fill-color);\n",
              "    }\n",
              "    30% {\n",
              "      border-color: transparent;\n",
              "      border-left-color: var(--fill-color);\n",
              "      border-top-color: var(--fill-color);\n",
              "      border-right-color: var(--fill-color);\n",
              "    }\n",
              "    40% {\n",
              "      border-color: transparent;\n",
              "      border-right-color: var(--fill-color);\n",
              "      border-top-color: var(--fill-color);\n",
              "    }\n",
              "    60% {\n",
              "      border-color: transparent;\n",
              "      border-right-color: var(--fill-color);\n",
              "    }\n",
              "    80% {\n",
              "      border-color: transparent;\n",
              "      border-right-color: var(--fill-color);\n",
              "      border-bottom-color: var(--fill-color);\n",
              "    }\n",
              "    90% {\n",
              "      border-color: transparent;\n",
              "      border-bottom-color: var(--fill-color);\n",
              "    }\n",
              "  }\n",
              "</style>\n",
              "\n",
              "  <script>\n",
              "    async function quickchart(key) {\n",
              "      const quickchartButtonEl =\n",
              "        document.querySelector('#' + key + ' button');\n",
              "      quickchartButtonEl.disabled = true;  // To prevent multiple clicks.\n",
              "      quickchartButtonEl.classList.add('colab-df-spinner');\n",
              "      try {\n",
              "        const charts = await google.colab.kernel.invokeFunction(\n",
              "            'suggestCharts', [key], {});\n",
              "      } catch (error) {\n",
              "        console.error('Error during call to suggestCharts:', error);\n",
              "      }\n",
              "      quickchartButtonEl.classList.remove('colab-df-spinner');\n",
              "      quickchartButtonEl.classList.add('colab-df-quickchart-complete');\n",
              "    }\n",
              "    (() => {\n",
              "      let quickchartButtonEl =\n",
              "        document.querySelector('#df-69348c1c-6d1f-457a-bd80-4f201e78f3ad button');\n",
              "      quickchartButtonEl.style.display =\n",
              "        google.colab.kernel.accessAllowed ? 'block' : 'none';\n",
              "    })();\n",
              "  </script>\n",
              "</div>\n",
              "\n",
              "    </div>\n",
              "  </div>\n"
            ],
            "application/vnd.google.colaboratory.intrinsic+json": {
              "type": "dataframe",
              "summary": "{\n  \"name\": \"mushroom_dummy\",\n  \"rows\": 2,\n  \"fields\": [\n    {\n      \"column\": \"gill_color_b\",\n      \"properties\": {\n        \"dtype\": \"boolean\",\n        \"num_unique_values\": 2,\n        \"samples\": [\n          true,\n          false\n        ],\n        \"semantic_type\": \"\",\n        \"description\": \"\"\n      }\n    },\n    {\n      \"column\": 0,\n      \"properties\": {\n        \"dtype\": \"number\",\n        \"std\": null,\n        \"min\": 4208.0,\n        \"max\": 4208.0,\n        \"num_unique_values\": 1,\n        \"samples\": [\n          4208.0\n        ],\n        \"semantic_type\": \"\",\n        \"description\": \"\"\n      }\n    },\n    {\n      \"column\": 1,\n      \"properties\": {\n        \"dtype\": \"number\",\n        \"std\": 325.2691193458119,\n        \"min\": 1728.0,\n        \"max\": 2188.0,\n        \"num_unique_values\": 2,\n        \"samples\": [\n          1728.0\n        ],\n        \"semantic_type\": \"\",\n        \"description\": \"\"\n      }\n    }\n  ]\n}"
            }
          },
          "metadata": {},
          "execution_count": 38
        }
      ]
    },
    {
      "cell_type": "code",
      "metadata": {
        "id": "qTrqBU7suKXb",
        "colab": {
          "base_uri": "https://localhost:8080/"
        },
        "outputId": "f679ca24-a610-4feb-8cd0-933f91a9c5b4"
      },
      "source": [
        "# Entropy when gill_color is not b\n",
        "p1 = 4208 / (4208 + 2188)\n",
        "p2 = 1 - p1\n",
        "entropy_b0 = - (p1 * np.log2(p1) + p2 * np.log2(p2))\n",
        "\n",
        "# Entropy when gill_color is b\n",
        "p1 = 0 / (0 + 1728)\n",
        "p2 = 1 - p1\n",
        "entropy_b1 = - (p2 * np.log2(p2))\n",
        "\n",
        "entropy_after = (4208 + 2188) / 8124 * entropy_b0 + (0 + 1728) / 8124 * entropy_b1\n",
        "print('Information gain from splitting by gill_color: {:.3f}'.format(entropy_init - entropy_after))"
      ],
      "execution_count": null,
      "outputs": [
        {
          "output_type": "stream",
          "name": "stdout",
          "text": [
            "Information gain from splitting by gill_color: 0.269\n"
          ]
        }
      ]
    },
    {
      "cell_type": "markdown",
      "metadata": {
        "id": "55PG0mX_uKXb"
      },
      "source": [
        "With the above, we have reviewed the decision tree generation process (how to determine the effectiveness of condition splits). A decision tree splits the data based on the splitting condition with the highest information gain and continues to explore splitting conditions that maximize information gain at each subsequent level. We have introduced entropy as a measure of impurity, but other measures, such as **Gini impurity** and classification error, also exist. Gini impurity is related to the Gini coefficient, which was discussed in a comprehensive problem related to probability and statistics. This lecture will omit further details, but if you are interested, please feel free to look it up.\n"
      ]
    },
    {
      "cell_type": "markdown",
      "metadata": {
        "id": "GaTGbEQiuKXb"
      },
      "source": [
        ">**[Let's Try]**\n",
        ">\n",
        "> Let's look into Gini impurity and classification error (misclassification rate). What kind of indicators are they? Also, how can they be incorporated when constructing a decision tree model?"
      ]
    },
    {
      "cell_type": "markdown",
      "metadata": {
        "id": "bCsVOjPMuKXc"
      },
      "source": [
        "As mentioned in the previous section (5.4 Regularized Regression: Lasso and Ridge Regression), model complexity was discussed, but in the case of decision trees, model complexity is determined by the number of splits. Remember that allowing more splits results in a more complex model."
      ]
    },
    {
      "cell_type": "markdown",
      "metadata": {
        "id": "_CJhR6QkuKXc"
      },
      "source": [
        "### 5.4.5 Building a Decision Tree Model"
      ]
    },
    {
      "cell_type": "markdown",
      "metadata": {
        "id": "4lFgLR0cuKXc"
      },
      "source": [
        "Now that we understand how decision trees work, let’s proceed with building a decision tree model. By using the `DecisionTreeClassifier` class from the `sklearn.tree` module, we can construct a decision tree model. In the program below, when using the `DecisionTreeClassifier` class, the parameter `criterion` is set to `entropy`, which specifies entropy as the criterion for the splitting condition.\n"
      ]
    },
    {
      "cell_type": "code",
      "metadata": {
        "scrolled": true,
        "id": "Z9GJl9wduKXc",
        "colab": {
          "base_uri": "https://localhost:8080/"
        },
        "outputId": "77f95289-822b-4789-f6f8-3db7e0766d27"
      },
      "source": [
        "from sklearn.tree import  DecisionTreeClassifier\n",
        "from sklearn.model_selection import train_test_split\n",
        "\n",
        "# Data split\n",
        "X = mushroom_dummy.drop('flg', axis=1)\n",
        "y = mushroom_dummy['flg']\n",
        "X_train, X_test, y_train, y_test = train_test_split(X, y, random_state=0)\n",
        "\n",
        "# Initialize and train the decision tree classifier\n",
        "model = DecisionTreeClassifier(criterion='entropy', max_depth=5, random_state=0)\n",
        "model.fit(X_train, y_train)\n",
        "\n",
        "print('Accuracy(train):{:.3f}'.format(model.score(X_train, y_train)))\n",
        "print('Accuracy(test):{:.3f}'.format(model.score(X_test, y_test)))"
      ],
      "execution_count": null,
      "outputs": [
        {
          "output_type": "stream",
          "name": "stdout",
          "text": [
            "Accuracy(train):0.991\n",
            "Accuracy(test):0.992\n"
          ]
        }
      ]
    },
    {
      "cell_type": "markdown",
      "metadata": {
        "id": "6fQye2SPuKXc"
      },
      "source": [
        "The result shows an accuracy of about 89% on the test data. The `max_depth` parameter controls the depth of the decision tree, set to 5 in the above example. Increasing the depth allows for more branching conditions. If you want a more complex model to improve accuracy, you can create a deeper tree. (However, be cautious, as making the tree too deep can increase the risk of overfitting.) Additionally, with decision trees, there’s no need to perform standardization—a step essential for many other models—when building the model, as it doesn’t affect the results.\n"
      ]
    },
    {
      "cell_type": "markdown",
      "metadata": {
        "id": "BkRPZRz9uKXc"
      },
      "source": [
        "As a reference, you can visualize the results of a decision tree as shown below. (To run this program, you’ll need to install the `pydotplus` and `graphviz` packages, but due to the complexity of environment setup, these steps are omitted in this lecture.)\n",
        "\n",
        "Looking at the visualization results below, you can see that repeated branching forms a binary tree structure. The rectangular nodes in the tree are read from the top down. The top variable ($X[0]$, which is the first column of explanatory variables, `gill_color_b`) moves to the right (`False`) when greater than 0.5. The sample count for this subset is 1,302, and the entropy is zero. This means that when the `gill_color_b` flag is 1 ($X[0] <= 0.5$ is `False`), the mushroom is identified as poisonous based on this branch."
      ]
    },
    {
      "cell_type": "code",
      "metadata": {
        "id": "EvCxfDtnuKXc",
        "colab": {
          "base_uri": "https://localhost:8080/",
          "height": 792
        },
        "outputId": "9693de53-3db5-4599-9ef5-1a8adb09e2f0"
      },
      "source": [
        "# Reference program\n",
        "# You need to install pydotplus and graphviz\n",
        "from sklearn import tree\n",
        "import pydotplus\n",
        "from six import StringIO\n",
        "from IPython.display import Image\n",
        "\n",
        "dot_data = StringIO()\n",
        "tree.export_graphviz(model, out_file=dot_data)\n",
        "graph = pydotplus.graph_from_dot_data(dot_data.getvalue())\n",
        "Image(graph.create_png())"
      ],
      "execution_count": null,
      "outputs": [
        {
          "output_type": "execute_result",
          "data": {
            "image/png": "[encoded data removed]",
            "text/plain": [
              "<IPython.core.display.Image object>"
            ]
          },
          "metadata": {},
          "execution_count": 42
        }
      ]
    },
    {
      "cell_type": "markdown",
      "metadata": {
        "id": "gcTp7ktFuKXc"
      },
      "source": [
        "The reference book \"Strategic Data Science Introduction: Concepts and Techniques for Business\" is a recommended resource used to explain decision trees in this section. This book was mentioned in other topics as well, and it is recommended for its clear explanations."
      ]
    },
    {
      "cell_type": "markdown",
      "metadata": {
        "id": "Ye55NI2YuKXc"
      },
      "source": [
        "####  <Practice Question 5-5>\n",
        "Using the `load_breast_cancer` function from the `sklearn.datasets` module, load the breast cancer data. Set `cancer.target` as the target variable and `cancer.data` as the explanatory variable, then build a decision tree model and check the training and test scores. Try adjusting parameters, such as the depth of the tree, and compare the results.\n"
      ]
    },
    {
      "cell_type": "code",
      "source": [
        "from sklearn.tree import  DecisionTreeClassifier\n",
        "\n",
        "# Retrieve data\n",
        "cancer = load_breast_cancer()\n",
        "\n",
        "# Set X and y\n",
        "## WRITE ME\n",
        "\n",
        "# Split into training and test data\n",
        "## WRITE ME\n",
        "\n",
        "# Model construction and evaluation\n",
        "## WRITE ME"
      ],
      "metadata": {
        "id": "gHkx2u6-bkf0"
      },
      "execution_count": null,
      "outputs": []
    },
    {
      "cell_type": "markdown",
      "source": [
        "## 5.5 Overfitting\n",
        "\n",
        "Overfitting happens when a model clings too tightly to training data, fitting noise rather than true patterns. This leads to high accuracy on training data but poor performance on unseen data.\n"
      ],
      "metadata": {
        "id": "JOdT4Mq0ZsTm"
      }
    },
    {
      "cell_type": "markdown",
      "source": [
        "![image.png](data:image/png;base64,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)"
      ],
      "metadata": {
        "id": "09tXGPsNaB8w"
      }
    },
    {
      "cell_type": "markdown",
      "source": [
        "Reference: https://www.freecodecamp.org/news/what-is-overfitting-machine-learning/\n",
        "\n",
        "\n",
        "Overfitting can be mitigated through various techniques. Below are some key considerations:\n",
        "1. Increasing training data\n",
        "2. Cross-validation\n",
        "3. Early stopping\n",
        "4. Regularization (we will discuss this further in the section 5.5)\n"
      ],
      "metadata": {
        "id": "HId0QjXoZ2HK"
      }
    },
    {
      "cell_type": "markdown",
      "metadata": {
        "id": "6lE9kOC5uKXZ"
      },
      "source": [
        "## 5.6 Regularized Regression: Lasso and Ridge Regression\n",
        "Keywords: Regularization, Lasso Regression, Ridge Regression"
      ]
    },
    {
      "cell_type": "markdown",
      "metadata": {
        "id": "JNU0rbpXuKXZ"
      },
      "source": [
        "\n",
        "Next, I will explain Lasso regression and Ridge regression. These techniques have the characteristic of preventing overfitting in multiple regression models, especially in situations where small changes in the input lead to large changes in the output."
      ]
    },
    {
      "cell_type": "markdown",
      "metadata": {
        "id": "NxUO7PA4uKXZ"
      },
      "source": [
        "\n",
        "### 5.6.1 Features of Lasso Regression and Ridge Regression\n",
        "\n",
        "In multiple regression, the regression coefficients are estimated to minimize the squared error between the predicted values and the target variable. In contrast, Lasso regression and Ridge regression add mechanisms that avoid making the regression coefficients too large, in addition to minimizing the squared error. Generally, models with large regression coefficients tend to produce large changes in the output with small changes in the input. This leads to a complex input-output relationship. Such complex models may fit the training data well but are at a higher risk of overfitting and not generalizing well to new, unseen data. To address this, Lasso and Ridge regression add a term that represents the complexity of the model to the loss function, and they estimate the regression coefficients by minimizing both the error and the complexity term."
      ]
    },
    {
      "cell_type": "markdown",
      "metadata": {
        "id": "lOmx72pZuKXZ"
      },
      "source": [
        "Specifically, in Lasso and Ridge regression, the loss function for estimating the regression coefficients is defined as follows. The second term in this equation is called the regularization term. When\n",
        "$q=1$, it is called **Lasso regression**, and when $q=2$, it is called **Ridge regression** ($M$：the number of variables, $w$：weights or coefficients, $λ$：regularization parameter）.The regularization term serves the purpose of reducing the model's complexity. **Regularization** refers to techniques that generally aim to reduce the complexity of a model."
      ]
    },
    {
      "cell_type": "markdown",
      "metadata": {
        "id": "eItSmLomuKXZ"
      },
      "source": [
        "\\begin{eqnarray}\n",
        "\\sum^n_{i=1}(y_i-f(x_i))^2+\\lambda\\sum^M_{j=1} |w_{j}|^q\n",
        "\\end{eqnarray}"
      ]
    },
    {
      "cell_type": "markdown",
      "metadata": {
        "id": "3eRdWPs0uKXZ"
      },
      "source": [
        "From the definition of this equation, it can be understood that as the number of variables\n",
        "$M$ increases or the weights increase, the value of the second term in the loss function becomes larger, which serves as a penalty. In contrast to multiple regression or logistic regression, where the analyst adjusts the number of explanatory variables to control the model's complexity, Lasso and Ridge regression adjust the complexity of the model by keeping the size of the parameters themselves small. If there is a discrepancy between the training score and test score, using an algorithm with a regularization term may improve the model's generalization performance.\n",
        "\n",
        "Note that Scikit-learn’s logistic regression includes a regularization term with q=2 in the loss function by default.\n",
        "\n",
        "\n",
        "\n",
        "\n",
        "\n",
        "\n"
      ]
    },
    {
      "cell_type": "markdown",
      "metadata": {
        "id": "om2NWMOtuKXZ"
      },
      "source": [
        "### 5.6.2 Comparison of Multiple Regression and Ridge Regression\n",
        "\n",
        "Let’s use the automobile price data (`auto`) from the previous multiple regression example to create a Ridge regression model and check the difference between the results of multiple regression and Ridge regression. Here, we will display the first 5 rows of the data used."
      ]
    },
    {
      "cell_type": "code",
      "metadata": {
        "id": "F8CaQWGZuKXZ",
        "colab": {
          "base_uri": "https://localhost:8080/",
          "height": 206
        },
        "outputId": "061d13a9-7998-466f-812c-bf4c9a03cf56"
      },
      "source": [
        "auto.head()"
      ],
      "execution_count": null,
      "outputs": [
        {
          "output_type": "execute_result",
          "data": {
            "text/plain": [
              "   price  horsepower  width  height\n",
              "0  13495         111   64.1    48.8\n",
              "1  16500         111   64.1    48.8\n",
              "2  16500         154   65.5    52.4\n",
              "3  13950         102   66.2    54.3\n",
              "4  17450         115   66.4    54.3"
            ],
            "text/html": [
              "\n",
              "  <div id=\"df-6ceef26c-a49c-4a25-9746-3500145b5089\" class=\"colab-df-container\">\n",
              "    <div>\n",
              "<style scoped>\n",
              "    .dataframe tbody tr th:only-of-type {\n",
              "        vertical-align: middle;\n",
              "    }\n",
              "\n",
              "    .dataframe tbody tr th {\n",
              "        vertical-align: top;\n",
              "    }\n",
              "\n",
              "    .dataframe thead th {\n",
              "        text-align: right;\n",
              "    }\n",
              "</style>\n",
              "<table border=\"1\" class=\"dataframe\">\n",
              "  <thead>\n",
              "    <tr style=\"text-align: right;\">\n",
              "      <th></th>\n",
              "      <th>price</th>\n",
              "      <th>horsepower</th>\n",
              "      <th>width</th>\n",
              "      <th>height</th>\n",
              "    </tr>\n",
              "  </thead>\n",
              "  <tbody>\n",
              "    <tr>\n",
              "      <th>0</th>\n",
              "      <td>13495</td>\n",
              "      <td>111</td>\n",
              "      <td>64.1</td>\n",
              "      <td>48.8</td>\n",
              "    </tr>\n",
              "    <tr>\n",
              "      <th>1</th>\n",
              "      <td>16500</td>\n",
              "      <td>111</td>\n",
              "      <td>64.1</td>\n",
              "      <td>48.8</td>\n",
              "    </tr>\n",
              "    <tr>\n",
              "      <th>2</th>\n",
              "      <td>16500</td>\n",
              "      <td>154</td>\n",
              "      <td>65.5</td>\n",
              "      <td>52.4</td>\n",
              "    </tr>\n",
              "    <tr>\n",
              "      <th>3</th>\n",
              "      <td>13950</td>\n",
              "      <td>102</td>\n",
              "      <td>66.2</td>\n",
              "      <td>54.3</td>\n",
              "    </tr>\n",
              "    <tr>\n",
              "      <th>4</th>\n",
              "      <td>17450</td>\n",
              "      <td>115</td>\n",
              "      <td>66.4</td>\n",
              "      <td>54.3</td>\n",
              "    </tr>\n",
              "  </tbody>\n",
              "</table>\n",
              "</div>\n",
              "    <div class=\"colab-df-buttons\">\n",
              "\n",
              "  <div class=\"colab-df-container\">\n",
              "    <button class=\"colab-df-convert\" onclick=\"convertToInteractive('df-6ceef26c-a49c-4a25-9746-3500145b5089')\"\n",
              "            title=\"Convert this dataframe to an interactive table.\"\n",
              "            style=\"display:none;\">\n",
              "\n",
              "  <svg xmlns=\"http://www.w3.org/2000/svg\" height=\"24px\" viewBox=\"0 -960 960 960\">\n",
              "    <path d=\"M120-120v-720h720v720H120Zm60-500h600v-160H180v160Zm220 220h160v-160H400v160Zm0 220h160v-160H400v160ZM180-400h160v-160H180v160Zm440 0h160v-160H620v160ZM180-180h160v-160H180v160Zm440 0h160v-160H620v160Z\"/>\n",
              "  </svg>\n",
              "    </button>\n",
              "\n",
              "  <style>\n",
              "    .colab-df-container {\n",
              "      display:flex;\n",
              "      gap: 12px;\n",
              "    }\n",
              "\n",
              "    .colab-df-convert {\n",
              "      background-color: #E8F0FE;\n",
              "      border: none;\n",
              "      border-radius: 50%;\n",
              "      cursor: pointer;\n",
              "      display: none;\n",
              "      fill: #1967D2;\n",
              "      height: 32px;\n",
              "      padding: 0 0 0 0;\n",
              "      width: 32px;\n",
              "    }\n",
              "\n",
              "    .colab-df-convert:hover {\n",
              "      background-color: #E2EBFA;\n",
              "      box-shadow: 0px 1px 2px rgba(60, 64, 67, 0.3), 0px 1px 3px 1px rgba(60, 64, 67, 0.15);\n",
              "      fill: #174EA6;\n",
              "    }\n",
              "\n",
              "    .colab-df-buttons div {\n",
              "      margin-bottom: 4px;\n",
              "    }\n",
              "\n",
              "    [theme=dark] .colab-df-convert {\n",
              "      background-color: #3B4455;\n",
              "      fill: #D2E3FC;\n",
              "    }\n",
              "\n",
              "    [theme=dark] .colab-df-convert:hover {\n",
              "      background-color: #434B5C;\n",
              "      box-shadow: 0px 1px 3px 1px rgba(0, 0, 0, 0.15);\n",
              "      filter: drop-shadow(0px 1px 2px rgba(0, 0, 0, 0.3));\n",
              "      fill: #FFFFFF;\n",
              "    }\n",
              "  </style>\n",
              "\n",
              "    <script>\n",
              "      const buttonEl =\n",
              "        document.querySelector('#df-6ceef26c-a49c-4a25-9746-3500145b5089 button.colab-df-convert');\n",
              "      buttonEl.style.display =\n",
              "        google.colab.kernel.accessAllowed ? 'block' : 'none';\n",
              "\n",
              "      async function convertToInteractive(key) {\n",
              "        const element = document.querySelector('#df-6ceef26c-a49c-4a25-9746-3500145b5089');\n",
              "        const dataTable =\n",
              "          await google.colab.kernel.invokeFunction('convertToInteractive',\n",
              "                                                    [key], {});\n",
              "        if (!dataTable) return;\n",
              "\n",
              "        const docLinkHtml = 'Like what you see? Visit the ' +\n",
              "          '<a target=\"_blank\" href=https://colab.research.google.com/notebooks/data_table.ipynb>data table notebook</a>'\n",
              "          + ' to learn more about interactive tables.';\n",
              "        element.innerHTML = '';\n",
              "        dataTable['output_type'] = 'display_data';\n",
              "        await google.colab.output.renderOutput(dataTable, element);\n",
              "        const docLink = document.createElement('div');\n",
              "        docLink.innerHTML = docLinkHtml;\n",
              "        element.appendChild(docLink);\n",
              "      }\n",
              "    </script>\n",
              "  </div>\n",
              "\n",
              "\n",
              "<div id=\"df-8277f208-f2b8-4fc2-99bc-4fa35438ba5d\">\n",
              "  <button class=\"colab-df-quickchart\" onclick=\"quickchart('df-8277f208-f2b8-4fc2-99bc-4fa35438ba5d')\"\n",
              "            title=\"Suggest charts\"\n",
              "            style=\"display:none;\">\n",
              "\n",
              "<svg xmlns=\"http://www.w3.org/2000/svg\" height=\"24px\"viewBox=\"0 0 24 24\"\n",
              "     width=\"24px\">\n",
              "    <g>\n",
              "        <path d=\"M19 3H5c-1.1 0-2 .9-2 2v14c0 1.1.9 2 2 2h14c1.1 0 2-.9 2-2V5c0-1.1-.9-2-2-2zM9 17H7v-7h2v7zm4 0h-2V7h2v10zm4 0h-2v-4h2v4z\"/>\n",
              "    </g>\n",
              "</svg>\n",
              "  </button>\n",
              "\n",
              "<style>\n",
              "  .colab-df-quickchart {\n",
              "      --bg-color: #E8F0FE;\n",
              "      --fill-color: #1967D2;\n",
              "      --hover-bg-color: #E2EBFA;\n",
              "      --hover-fill-color: #174EA6;\n",
              "      --disabled-fill-color: #AAA;\n",
              "      --disabled-bg-color: #DDD;\n",
              "  }\n",
              "\n",
              "  [theme=dark] .colab-df-quickchart {\n",
              "      --bg-color: #3B4455;\n",
              "      --fill-color: #D2E3FC;\n",
              "      --hover-bg-color: #434B5C;\n",
              "      --hover-fill-color: #FFFFFF;\n",
              "      --disabled-bg-color: #3B4455;\n",
              "      --disabled-fill-color: #666;\n",
              "  }\n",
              "\n",
              "  .colab-df-quickchart {\n",
              "    background-color: var(--bg-color);\n",
              "    border: none;\n",
              "    border-radius: 50%;\n",
              "    cursor: pointer;\n",
              "    display: none;\n",
              "    fill: var(--fill-color);\n",
              "    height: 32px;\n",
              "    padding: 0;\n",
              "    width: 32px;\n",
              "  }\n",
              "\n",
              "  .colab-df-quickchart:hover {\n",
              "    background-color: var(--hover-bg-color);\n",
              "    box-shadow: 0 1px 2px rgba(60, 64, 67, 0.3), 0 1px 3px 1px rgba(60, 64, 67, 0.15);\n",
              "    fill: var(--button-hover-fill-color);\n",
              "  }\n",
              "\n",
              "  .colab-df-quickchart-complete:disabled,\n",
              "  .colab-df-quickchart-complete:disabled:hover {\n",
              "    background-color: var(--disabled-bg-color);\n",
              "    fill: var(--disabled-fill-color);\n",
              "    box-shadow: none;\n",
              "  }\n",
              "\n",
              "  .colab-df-spinner {\n",
              "    border: 2px solid var(--fill-color);\n",
              "    border-color: transparent;\n",
              "    border-bottom-color: var(--fill-color);\n",
              "    animation:\n",
              "      spin 1s steps(1) infinite;\n",
              "  }\n",
              "\n",
              "  @keyframes spin {\n",
              "    0% {\n",
              "      border-color: transparent;\n",
              "      border-bottom-color: var(--fill-color);\n",
              "      border-left-color: var(--fill-color);\n",
              "    }\n",
              "    20% {\n",
              "      border-color: transparent;\n",
              "      border-left-color: var(--fill-color);\n",
              "      border-top-color: var(--fill-color);\n",
              "    }\n",
              "    30% {\n",
              "      border-color: transparent;\n",
              "      border-left-color: var(--fill-color);\n",
              "      border-top-color: var(--fill-color);\n",
              "      border-right-color: var(--fill-color);\n",
              "    }\n",
              "    40% {\n",
              "      border-color: transparent;\n",
              "      border-right-color: var(--fill-color);\n",
              "      border-top-color: var(--fill-color);\n",
              "    }\n",
              "    60% {\n",
              "      border-color: transparent;\n",
              "      border-right-color: var(--fill-color);\n",
              "    }\n",
              "    80% {\n",
              "      border-color: transparent;\n",
              "      border-right-color: var(--fill-color);\n",
              "      border-bottom-color: var(--fill-color);\n",
              "    }\n",
              "    90% {\n",
              "      border-color: transparent;\n",
              "      border-bottom-color: var(--fill-color);\n",
              "    }\n",
              "  }\n",
              "</style>\n",
              "\n",
              "  <script>\n",
              "    async function quickchart(key) {\n",
              "      const quickchartButtonEl =\n",
              "        document.querySelector('#' + key + ' button');\n",
              "      quickchartButtonEl.disabled = true;  // To prevent multiple clicks.\n",
              "      quickchartButtonEl.classList.add('colab-df-spinner');\n",
              "      try {\n",
              "        const charts = await google.colab.kernel.invokeFunction(\n",
              "            'suggestCharts', [key], {});\n",
              "      } catch (error) {\n",
              "        console.error('Error during call to suggestCharts:', error);\n",
              "      }\n",
              "      quickchartButtonEl.classList.remove('colab-df-spinner');\n",
              "      quickchartButtonEl.classList.add('colab-df-quickchart-complete');\n",
              "    }\n",
              "    (() => {\n",
              "      let quickchartButtonEl =\n",
              "        document.querySelector('#df-8277f208-f2b8-4fc2-99bc-4fa35438ba5d button');\n",
              "      quickchartButtonEl.style.display =\n",
              "        google.colab.kernel.accessAllowed ? 'block' : 'none';\n",
              "    })();\n",
              "  </script>\n",
              "</div>\n",
              "\n",
              "    </div>\n",
              "  </div>\n"
            ],
            "application/vnd.google.colaboratory.intrinsic+json": {
              "type": "dataframe",
              "variable_name": "auto",
              "summary": "{\n  \"name\": \"auto\",\n  \"rows\": 199,\n  \"fields\": [\n    {\n      \"column\": \"price\",\n      \"properties\": {\n        \"dtype\": \"number\",\n        \"std\": 7978,\n        \"min\": 5118,\n        \"max\": 45400,\n        \"num_unique_values\": 184,\n        \"samples\": [\n          5572,\n          32250,\n          9988\n        ],\n        \"semantic_type\": \"\",\n        \"description\": \"\"\n      }\n    },\n    {\n      \"column\": \"horsepower\",\n      \"properties\": {\n        \"dtype\": \"number\",\n        \"std\": 37,\n        \"min\": 48,\n        \"max\": 262,\n        \"num_unique_values\": 58,\n        \"samples\": [\n          111,\n          140,\n          55\n        ],\n        \"semantic_type\": \"\",\n        \"description\": \"\"\n      }\n    },\n    {\n      \"column\": \"width\",\n      \"properties\": {\n        \"dtype\": \"number\",\n        \"std\": 2.110996272780273,\n        \"min\": 60.3,\n        \"max\": 72.0,\n        \"num_unique_values\": 42,\n        \"samples\": [\n          66.1,\n          64.6,\n          67.9\n        ],\n        \"semantic_type\": \"\",\n        \"description\": \"\"\n      }\n    },\n    {\n      \"column\": \"height\",\n      \"properties\": {\n        \"dtype\": \"number\",\n        \"std\": 2.4470392552418496,\n        \"min\": 47.8,\n        \"max\": 59.8,\n        \"num_unique_values\": 47,\n        \"samples\": [\n          56.5,\n          56.0,\n          54.4\n        ],\n        \"semantic_type\": \"\",\n        \"description\": \"\"\n      }\n    }\n  ]\n}"
            }
          },
          "metadata": {},
          "execution_count": 20
        }
      ]
    },
    {
      "cell_type": "markdown",
      "metadata": {
        "id": "QWUjvk5duKXZ"
      },
      "source": [
        "Using the `Ridge` class from the `sklearn.linear_model` module, you can construct a Ridge regression model. The following program creates both a multiple regression model (`linear`) using the `LinearRegression` class and a Ridge regression model (`ridge`) using the `Ridge` class, then compares their results."
      ]
    },
    {
      "cell_type": "code",
      "metadata": {
        "id": "gQlP9cFVuKXZ",
        "colab": {
          "base_uri": "https://localhost:8080/"
        },
        "outputId": "471ac8c4-35ff-45c6-9768-34ae23aed23b"
      },
      "source": [
        "# Ridge Regression Class\n",
        "from sklearn.linear_model import Ridge\n",
        "from sklearn.model_selection import train_test_split\n",
        "\n",
        "# Split into training and testing data\n",
        "X = auto.drop('price', axis=1)\n",
        "y = auto['price']\n",
        "X_train, X_test, y_train, y_test = train_test_split(X, y, test_size=0.5, random_state=0)\n",
        "\n",
        "# Model construction and evaluation\n",
        "linear = LinearRegression()\n",
        "ridge = Ridge(random_state=0)\n",
        "\n",
        "for model in [linear, ridge]:\n",
        "    model.fit(X_train, y_train)\n",
        "    print('{} (train):{:.6f}'.format(model.__class__.__name__ , model.score(X_train, y_train)))\n",
        "    print('{} (test):{:.6f}'.format(model.__class__.__name__ , model.score(X_test, y_test)))"
      ],
      "execution_count": null,
      "outputs": [
        {
          "output_type": "stream",
          "name": "stdout",
          "text": [
            "LinearRegression (train):0.733358\n",
            "LinearRegression (test):0.737069\n",
            "Ridge (train):0.733355\n",
            "Ridge (test):0.737768\n"
          ]
        }
      ]
    },
    {
      "cell_type": "markdown",
      "metadata": {
        "id": "ZQaENA2VuKXZ"
      },
      "source": [
        "Both have very similar performance, but as a trend, the linear regression model has a higher accuracy on the training data, while the Ridge regression model outperforms on the test data. This reversal is likely due to the effect of the regularization term."
      ]
    },
    {
      "cell_type": "markdown",
      "metadata": {
        "id": "MlZTWUCcuKXZ"
      },
      "source": [
        "####  <Practice Question 5-6>\n",
        "\n",
        "Evaluate the Lasso regression on the data used in Practice Question 5-1. Use the `Lasso` class from the `sklearn_linear` model module. The Lasso class has parameters that can be configured, so please look into it. Specifically, refer to the official documentation below:\n",
        "\n",
        "https://scikit-learn.org/stable/modules/generated/sklearn.linear_model.Lasso.html#sklearn.linear_model.Lasso"
      ]
    },
    {
      "cell_type": "code",
      "source": [
        "from sklearn.linear_model import Lasso\n",
        "\n",
        "# Get the car price data\n",
        "url = 'http://archive.ics.uci.edu/ml/machine-learning-databases/autos/imports-85.data'\n",
        "res = requests.get(url).content\n",
        "\n",
        "auto = pd.read_csv(io.StringIO(res.decode('utf-8')), header=None)\n",
        "\n",
        "auto.columns =['symboling','normalized-losses','make','fuel-type' ,'aspiration','num-of-doors',\n",
        "                            'body-style','drive-wheels','engine-location','wheel-base','length','width','height',\n",
        "                            'curb-weight','engine-type','num-of-cylinders','engine-size','fuel-system','bore',\n",
        "                            'stroke','compression-ratio','horsepower','peak-rpm','city-mpg','highway-mpg','price']\n",
        "\n",
        "# Data preprocessing\n",
        "auto = auto[['price','length','engine-size']]\n",
        "auto = auto.replace('?', np.nan).dropna()\n",
        "\n",
        "# Set X and y\n",
        "X = auto.drop('price', axis=1)\n",
        "y = auto['price']\n",
        "\n",
        "# Split into training and test data\n",
        "## WRITE ME\n",
        "\n",
        "# Model construction and evaluation\n",
        "## WRITE ME"
      ],
      "metadata": {
        "id": "GJg7g9oUbhZS"
      },
      "execution_count": null,
      "outputs": []
    },
    {
      "cell_type": "markdown",
      "metadata": {
        "id": "NxBIT9iVuKXc"
      },
      "source": [
        "## 5.7 k-Nearest Neighbors (k-NN)\n",
        "Keywords：k-NN, lazy learning, memory-based learning"
      ]
    },
    {
      "cell_type": "markdown",
      "metadata": {
        "id": "-Ey_q6lCuKXc"
      },
      "source": [
        "In this section, we’ll learn about **k-NN (k-Nearest Neighbor)**. For example, consider groups A and B with known attributes for each member. Now, imagine a new person arrives, and we don’t know which group they belong to.\n",
        "\n",
        "To determine this, we use k-NN by selecting k individuals with the most similar attributes to this new person. We check whether more of these k individuals belong to group A or group B, and assign the new person to the group with the majority. Here, k represents the number of people used in the decision. k-NN is also called lazy learning or memory-based learning, as it memorizes the training data directly without explicit training.\n"
      ]
    },
    {
      "cell_type": "markdown",
      "metadata": {
        "id": "tjgsYtzxuKXc"
      },
      "source": [
        "### 5.7.1 Building a k-NN Model\n",
        "\n",
        "Here’s how you can build a k-NN model using the `KNeighborsClassifier` from the `sklearn.neighbors` module, with the breast cancer dataset as an example. The dataset can be loaded using the `load_breast_cancer` function.\n",
        "\n",
        "In this example, we will vary the value of k from 1 to 20 and observe how the accuracy of the training and testing data changes. When k is small, the training and testing accuracy will differ significantly. However, around k = 6 to 8, the training and testing accuracy will become more aligned. Further increasing k does not result in substantial improvements in model accuracy. Therefore, there is no need to use a very large k if accuracy doesn’t improve much. In this case, setting k between 6 and 8 seems optimal.\n",
        "\n",
        "Note that this is an example for classification tasks. For regression tasks, you would use the `KNeighborsRegressor` class.\n"
      ]
    },
    {
      "cell_type": "code",
      "metadata": {
        "id": "RnR6mUEbuKXc",
        "colab": {
          "base_uri": "https://localhost:8080/",
          "height": 467
        },
        "outputId": "67737311-a41c-4c81-d1d2-0adffba2d275"
      },
      "source": [
        "# Importing the libraries for data and model construction\n",
        "from sklearn.datasets import load_breast_cancer\n",
        "from sklearn.neighbors import  KNeighborsClassifier\n",
        "from sklearn.model_selection import train_test_split\n",
        "\n",
        "# Loading the dataset\n",
        "cancer = load_breast_cancer()\n",
        "\n",
        "# Splitting the dataset into training and test data\n",
        "# Stratify for stratified sampling\n",
        "X_train, X_test, y_train, y_test = train_test_split(\n",
        "    cancer.data, cancer.target, stratify = cancer.target, random_state=0)\n",
        "\n",
        "# Preparing lists to store accuracy for training and testing\n",
        "training_accuracy = []\n",
        "test_accuracy = []\n",
        "\n",
        "# Training the model\n",
        "for n_neighbors in range(1, 21):\n",
        "    model = KNeighborsClassifier(n_neighbors=n_neighbors)\n",
        "    model.fit(X_train, y_train)\n",
        "    training_accuracy.append(model.score(X_train, y_train))\n",
        "    test_accuracy.append(model.score(X_test, y_test))\n",
        "\n",
        "# Plotting the accuracy graph\n",
        "plt.plot(range(1, 21), training_accuracy, label='Training')\n",
        "plt.plot(range(1, 21), test_accuracy, label='Test')\n",
        "plt.ylabel('Accuracy')\n",
        "plt.xlabel('n_neighbors')\n",
        "plt.legend()"
      ],
      "execution_count": null,
      "outputs": [
        {
          "output_type": "execute_result",
          "data": {
            "text/plain": [
              "<matplotlib.legend.Legend at 0x7cedd939d600>"
            ]
          },
          "metadata": {},
          "execution_count": 44
        },
        {
          "output_type": "display_data",
          "data": {
            "text/plain": [
              "<Figure size 640x480 with 1 Axes>"
            ],
            "image/png": "[encoded data removed]"
          },
          "metadata": {}
        }
      ]
    },
    {
      "cell_type": "markdown",
      "metadata": {
        "id": "2Nbp1DEruKXc"
      },
      "source": [
        ">**[Let's Try]**\n",
        ">\n",
        ">Investigate how k-NN regression is calculated."
      ]
    },
    {
      "cell_type": "markdown",
      "metadata": {
        "id": "DG01WhhauKXc"
      },
      "source": [
        "####  <Practice Question 5-7>\n",
        "\n",
        "Construct and validate a k-NN model using the mushroom data we used in section 5.5 'Decision Trees.' Please execute it while changing the k parameter."
      ]
    },
    {
      "cell_type": "code",
      "source": [
        "# Set X and y\n",
        "X = mushroom_dummy.drop('flg', axis=1)\n",
        "y = mushroom_dummy['flg']\n",
        "\n",
        "# Split into training and test data\n",
        "## WRITE ME\n",
        "\n",
        "# Prepare lists for graph plotting\n",
        "training_accuracy = []\n",
        "test_accuracy =[]\n",
        "\n",
        "# Training\n",
        "## WRITE ME\n",
        "\n",
        "# Plot the graph\n",
        "## WRITE ME"
      ],
      "metadata": {
        "id": "wZ9wa2afbmi0"
      },
      "execution_count": null,
      "outputs": []
    },
    {
      "cell_type": "markdown",
      "metadata": {
        "id": "xpogon1SuKXc"
      },
      "source": [
        "####  <Practice Question 5-8>\n",
        "\n",
        "Using the student test result data (student-mat.csv) we used earlier, define the target variable as `G3` and the explanatory variables as X (using the students' attribute data). Change the k parameter of k-NN and consider which k is optimal.\n",
        "\n",
        "Since the target variable is numeric and this is a regression task, please use `KNeighborsRegressor`. In regression, the output will be the average of the k nearest neighbors' values.\n"
      ]
    },
    {
      "cell_type": "code",
      "metadata": {
        "id": "pshc1JFQuKXc"
      },
      "source": [
        "# Libraries for retrieving data from the web and handling zip files\n",
        "import requests, zipfile\n",
        "from io import StringIO\n",
        "import io\n",
        "\n",
        "# Specify the URL where the data is located\n",
        "url = 'http://archive.ics.uci.edu/ml/machine-learning-databases/00356/student.zip'\n",
        "\n",
        "# Retrieve data from the URL\n",
        "r = requests.get(url, stream=True)\n",
        "\n",
        "# Read and extract the zipfile\n",
        "z = zipfile.ZipFile(io.BytesIO(r.content))\n",
        "z.extractall()\n",
        "\n",
        "# Set X and y\n",
        "student = pd.read_csv('student-mat.csv', sep=';')\n",
        "X = student.loc[:, ['age', 'Medu', 'Fedu', 'traveltime', 'studytime',\n",
        "                    'failures', 'famrel', 'freetime', 'goout', 'Dalc', 'Walc',\n",
        "                    'absences', 'G1', 'G2']].values\n",
        "y = student.loc[:, ['G3']].values"
      ],
      "execution_count": null,
      "outputs": []
    },
    {
      "cell_type": "code",
      "source": [
        "## WRITE ME"
      ],
      "metadata": {
        "id": "FJBXYhQGbzfI"
      },
      "execution_count": null,
      "outputs": []
    },
    {
      "cell_type": "markdown",
      "metadata": {
        "id": "c9npo5khuKXc"
      },
      "source": [
        "## 5.8 Support Vector Machines\n",
        "Keywords: Support Vectors, Margin"
      ]
    },
    {
      "cell_type": "markdown",
      "metadata": {
        "id": "JEupgihauKXc"
      },
      "source": [
        "**Support Vector Machine (SVM)** is a method that draws a boundary between categories with a line that has a margin, rather than just a single line. For example, when drawing a boundary line to separate two groups, there are various ways to draw the line. However, SVM draws the line in such a way that the distance (margin) between the closest points of each group (the support vectors) and the boundary line is maximized.\n"
      ]
    },
    {
      "cell_type": "markdown",
      "metadata": {
        "id": "jgAgki3uuKXd"
      },
      "source": [
        "### 5.8.1 Building a Support Vector Machine Model\n",
        "\n",
        "Let's build a model using Support Vector Machine. To do this, we'll use the `LinearSVC` class from the `sklearn.svm` module. For this example, we will use the same breast cancer dataset that was used in the k-NN model construction.\n"
      ]
    },
    {
      "cell_type": "code",
      "metadata": {
        "id": "kuba8zxXuKXd",
        "colab": {
          "base_uri": "https://localhost:8080/"
        },
        "outputId": "8d3382bd-0afb-441b-80cb-01c7255a9730"
      },
      "source": [
        "# Import the SVM library\n",
        "from sklearn.svm import LinearSVC\n",
        "\n",
        "# Library for splitting training and test data\n",
        "from sklearn.model_selection import train_test_split\n",
        "\n",
        "# Load the data\n",
        "cancer = load_breast_cancer()\n",
        "\n",
        "# Split into training and test data\n",
        "X_train, X_test, y_train, y_test = train_test_split(\n",
        "    cancer.data, cancer.target, stratify = cancer.target, random_state=0)\n",
        "\n",
        "# Initialize and train the model\n",
        "model = LinearSVC()\n",
        "model.fit(X_train, y_train)\n",
        "\n",
        "# Pring scores for training and test data\n",
        "print('Accuracy (train):{:.3f}'.format(model.score(X_train, y_train)))\n",
        "print('Accuracy (test):{:.3f}'.format(model.score(X_test, y_test)))"
      ],
      "execution_count": null,
      "outputs": [
        {
          "output_type": "stream",
          "name": "stdout",
          "text": [
            "Accuracy (train):0.972\n",
            "Accuracy (test):0.937\n"
          ]
        }
      ]
    },
    {
      "cell_type": "markdown",
      "metadata": {
        "id": "Poah6BicuKXd"
      },
      "source": [
        "With Support Vector Machines (SVMs), standardizing data can often improve the model's score. Trying this out shows noticeable improvement in performance."
      ]
    },
    {
      "cell_type": "code",
      "metadata": {
        "id": "8MxzvptLuKXd",
        "colab": {
          "base_uri": "https://localhost:8080/"
        },
        "outputId": "fb7cbd26-f805-4827-ddad-98ad1efa68cb"
      },
      "source": [
        "# Load data\n",
        "cancer = load_breast_cancer()\n",
        "\n",
        "# Split data into training and test sets\n",
        "X_train, X_test, y_train, y_test = train_test_split(\n",
        "    cancer.data, cancer.target, stratify = cancer.target, random_state=0)\n",
        "\n",
        "# Standardize data\n",
        "sc = StandardScaler()\n",
        "sc.fit(X_train)\n",
        "X_train_std = sc.transform(X_train)\n",
        "X_test_std = sc.transform(X_test)\n",
        "\n",
        "# Initialize and train the model\n",
        "model = LinearSVC()\n",
        "model.fit(X_train_std, y_train)\n",
        "\n",
        "# Traning and test scores\n",
        "print('Accuracy (train):{:.3f}'.format(model.score(X_train_std, y_train)))\n",
        "print('Accuracy (test):{:.3f}'.format(model.score(X_test_std, y_test)))"
      ],
      "execution_count": null,
      "outputs": [
        {
          "output_type": "stream",
          "name": "stdout",
          "text": [
            "Accuracy (train):0.993\n",
            "Accuracy (test):0.951\n"
          ]
        }
      ]
    },
    {
      "cell_type": "markdown",
      "metadata": {
        "id": "Sr0_EKgnuKXd"
      },
      "source": [
        ">**[Let's Try]**\n",
        ">\n",
        "> Investigate which class can be used to build a model for regression (predicting continuous variables) with Support Vector Machines."
      ]
    },
    {
      "cell_type": "markdown",
      "metadata": {
        "id": "TdStvJbIuKXd"
      },
      "source": [
        "This concludes the explanation of various model-building methods for supervised learning. Let's review the flow of model-building for each method and the concept of evaluating machine learning models (evaluating with data not used for training)."
      ]
    },
    {
      "cell_type": "markdown",
      "metadata": {
        "id": "7iPZRcs_uKXd"
      },
      "source": [
        "####  <Practice Question 5-9>\n",
        "Using the breast ccancer dataset, build a model to predict `cancer.target` with teh `SVC` class from the `sklearn.svm` module. Set the model as `model = SVC(kernel='rbf', random_state=0, C=2)`. After building the model, split the data into training and test sets, standardize them, and check the scores."
      ]
    },
    {
      "cell_type": "markdown",
      "source": [
        "\n",
        "\n",
        "---\n",
        "\n"
      ],
      "metadata": {
        "id": "EHaJJCd7P4ju"
      }
    },
    {
      "cell_type": "markdown",
      "metadata": {
        "id": "vRdkctB9uKXd"
      },
      "source": [
        "## 5.9 Comprehensive Questions"
      ]
    },
    {
      "cell_type": "markdown",
      "metadata": {
        "id": "Gp7GEe2puKXd"
      },
      "source": [
        "###  Comprehensive Question 5- 1 Terms in Supervised Learning (1)\n",
        "\n",
        "Explain the roles and meanings of each term related to supervised learning. In what situations are they used? Use resources like the internet or reference materials to investigate the following terms:\n",
        "\n",
        "- Regression\n",
        "- Classification\n",
        "- Supervised Learning\n",
        "- Multiple Regression Analysis\n",
        "- Logistic Regression Analysis\n",
        "- Regularization\n",
        "- Ridge Regression\n",
        "- Lasso Regression\n",
        "- Decision Tree\n",
        "- Entropy\n",
        "- Information Gain\n",
        "- k-NN (k-Nearest Neighbors) Method\n",
        "- SVM (Support Vector Machine)\n",
        "No Free Lunch"
      ]
    },
    {
      "cell_type": "markdown",
      "metadata": {
        "id": "RdRnmy7duKXd"
      },
      "source": [
        "###  Comprehensive Question 5-2 Decision Tree\n",
        "\n",
        "Using the `load_iris` function from the `sklearn.datasets` module, load the Iris flower dataset. Set the target variable as `iris.target` and the feature variables as `iris.data`. Use a decision tree model to perform predictions and validation.\n"
      ]
    },
    {
      "cell_type": "markdown",
      "metadata": {
        "id": "FtcKxhx5uKXd"
      },
      "source": [
        "###  Comprehensive Question 5-3 No Free Lunch\n",
        "\n",
        "So far, we've worked with various datasets, such as math test scores and breast cancer data. Using these datasets, try applying the models we've covered—such as logistic regression and SVM—and check which model achieves the highest score. You'll find that the model with the best score varies depending on the data. Consider the characteristics of the models that perform best for each dataset. This concept is known as the \"No Free Lunch\" theorem, meaning that no single model is universally the best for all types of data."
      ]
    },
    {
      "cell_type": "markdown",
      "source": [
        "\n",
        "\n",
        "---\n",
        "\n"
      ],
      "metadata": {
        "id": "Yu_4iRCGP6nB"
      }
    },
    {
      "cell_type": "markdown",
      "metadata": {
        "id": "xlkBsp1zau1S"
      },
      "source": [
        "**Acknowledgements**: Regarding the use of the following four datasets\n",
        "1. http://archive.ics.uci.edu/ml/machine-learning-databases/autos/imports-85.data\n",
        "2. http://archive.ics.uci.edu/ml/machine-learning-databases/adult/adult.data\n",
        "3. http://archive.ics.uci.edu/ml/machine-learning-databases/mushroom/agaricus-lepiota.data\n",
        "4. https://archive.ics.uci.edu/ml/machine-learning-databases/00320/student.zip\n",
        "\n",
        "**References**: Dua, D. and Graff, C. (2019). UCI Machine Learning Repository [[http://archive.ics.uci.edu/ml](http://archive.ics.uci.edu/ml)]. Irvine, CA: University of California, School of Information and Computer Science.\n",
        "\n",
        "- Note on citation of dataset in 4:   \n",
        "P. Cortez and A. Silva. Using Data Mining to Predict Secondary School Student Performance. In A. Brito and J. Teixeira Eds., Proceedings of 5th FUture BUsiness TEChnology Conference (FUBUTEC 2008) pp.5-12, Porto, Portugal, April, 2008, EUROSIS, ISBN 978-9077381-39-7.\n",
        "[https://repositorium.uminho.pt/server/api/core/bitstreams/991a0e2b-249d-466d-afef-937d975ff7fc/content](https://repositorium.uminho.pt/server/api/core/bitstreams/991a0e2b-249d-466d-afef-937d975ff7fc/content)"
      ]
    }
  ]
}