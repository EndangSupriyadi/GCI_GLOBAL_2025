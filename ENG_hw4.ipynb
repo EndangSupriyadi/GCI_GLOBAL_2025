{
  "nbformat": 4,
  "nbformat_minor": 0,
  "metadata": {
    "colab": {
      "provenance": [],
      "include_colab_link": true
    },
    "kernelspec": {
      "name": "python3",
      "display_name": "Python 3"
    },
    "language_info": {
      "name": "python"
    }
  },
  "cells": [
    {
      "cell_type": "markdown",
      "metadata": {
        "id": "view-in-github",
        "colab_type": "text"
      },
      "source": [
        "<a href=\"https://colab.research.google.com/github/EndangSupriyadi/GCI_GLOBAL_2025/blob/master/ENG_hw4.ipynb\" target=\"_parent\"><img src=\"https://colab.research.google.com/assets/colab-badge.svg\" alt=\"Open In Colab\"/></a>"
      ]
    },
    {
      "cell_type": "markdown",
      "source": [
        "# Homework 4: Visualizing Data Using Matplotlib"
      ],
      "metadata": {
        "id": "_wO8ZV4_UYHV"
      }
    },
    {
      "cell_type": "markdown",
      "source": [
        "## Question\n",
        "\n",
        "Your task is to analyze a dataset containing transaction history of UK-based and registered non-store online retail store [1].\n",
        "Please execute the following tasks based on the purchase data. Follow the preprocessing steps as described below. When submitting, your code should include only the sections from steps 2 to 6.\n",
        "\n",
        "Both the [dataset itself](https://archive.ics.uci.edu/static/public/352/online+retail.zip) and its [description](https://archive.ics.uci.edu/dataset/352/online+retail) are available online.\n",
        "\n",
        "Using the downloaded and preprocessed (see section 2) data, `target_online_retail_data_tb`, write a function that processes and returns the following:\n",
        "\n",
        "1. **Calculate Total Purchase Amount per Customer:**\n",
        "    - Compute the total purchase amount for each customer (`CustomerID`) by summing the `TotalPrice` values.\n",
        "\n",
        "2. **Sort Customers in Descending Order:**\n",
        "    - Sort the customers based on their total purchase amounts in descending order.\n",
        "\n",
        "3. **Group Customers into $n$ Equal Parts:**\n",
        "    - Without changing the sorted order, divide the customers into $n$ groups of equal size.\n",
        "        - $n$ is a natural number (i.e., a positive integer) that does not exceed the number of data points that does not cause any splitting point to fall exactly on duplicate values.\n",
        "        - If the number of data points is not perfectly divisible by $n$, use the behavior of `pd.qcut()` to handle the grouping.\n",
        "\n",
        "4. **Calculate Revenue Proportion for Each Group:**\n",
        "    - For each group, calculate the percentage of the overall revenue (total purchase amount) that the group represents.\n",
        "        - This approach is known as decile analysis when $n$ equals 10, but the method applies generally for any valid $n$.\n",
        "\n",
        "5. **Sort Groups by Sales Proportion in Descending Order:**\n",
        "    - Sort the groups in descending order based on their sales proportions and label them as \"Group 1\", \"Group 2\", ..., \"Group n\". Return the result as a `pandas.Series`.\n",
        "\n",
        "<br>\n",
        "\n",
        "**Additional Background:**<br>\n",
        "In marketing strategy, dividing customers into segments is called segmentation, and focusing on the top 20% of customers is known as **targeting**. Often, targeting premium customers leads to a higher return on investment. This concept is related to the **Pareto Principle**, which states that roughly 80% of the sales come from the top 20% of customers.\n",
        "\n",
        "**Submission Guidelines:**<br>\n",
        "When submitting your solution, only submit the entire `homework()` function. Submit by selecting this week's assignment in the Omnicampus homework section, pasting the function into the submission area, and then clicking [Submit Python Code].\n",
        "\n",
        "Please pay attention to the following points when submitting.\n",
        "- Erase the `!!WRITE ME!!` when submitting\n",
        "- Do **NOT** change the preprocessing cell (see section 2)\n",
        "- The return value of the function should be type `pandas.Series`\n",
        "    - e.g. `my_result = pd.Series([0.6, 0.2, 0.1, 0.025, 0.025, 0.022, 0.021, 0.02, 0.01, 0])`\n",
        "    - The sales proportions should be ordered by group, and the total should sum to 1."
      ],
      "metadata": {
        "id": "99505oAgU3Lv"
      }
    },
    {
      "cell_type": "markdown",
      "source": [
        "## Deadline\n",
        "**10/22**/2025 (Wed) 11:00 GMT, 20:00 JST"
      ],
      "metadata": {
        "id": "iWJPUo3rnsc1"
      }
    },
    {
      "cell_type": "markdown",
      "source": [
        "## 1. Importing Libraries"
      ],
      "metadata": {
        "id": "btukTPoqaJmq"
      }
    },
    {
      "cell_type": "code",
      "source": [
        "import numpy as np\n",
        "import pandas as pd\n",
        "import matplotlib.pyplot as plt"
      ],
      "metadata": {
        "id": "HCdxJ2YfazF3"
      },
      "execution_count": null,
      "outputs": []
    },
    {
      "cell_type": "markdown",
      "source": [
        "## 2. Downloading the Dataset"
      ],
      "metadata": {
        "id": "6kX7-X6YaLoV"
      }
    },
    {
      "cell_type": "code",
      "source": [
        "# Download the data from the UCI website\n",
        "!wget \"http://archive.ics.uci.edu/static/public/352/online+retail.zip\"\n",
        "# Extract the downloaded data.\n",
        "!unzip \"./online+retail.zip\"\n",
        "# Load the extracted Excel data.\n",
        "file_url = './Online Retail.xlsx'\n",
        "online_retail_data = pd.ExcelFile(file_url)"
      ],
      "metadata": {
        "id": "veN287AfaN7h"
      },
      "execution_count": null,
      "outputs": []
    },
    {
      "cell_type": "markdown",
      "source": [
        "We will also conduct several preprocessing in advance.\n",
        "\n",
        "**Note: Do not modify the following cell!!!**"
      ],
      "metadata": {
        "id": "r1Ic10DpaTL9"
      }
    },
    {
      "cell_type": "code",
      "source": [
        "# Specify a sheet in an Excel file\n",
        "online_retail_data_table = online_retail_data.parse('Online Retail')\n",
        "\n",
        "# Convert to string type for grading purposes\n",
        "online_retail_data_table['cancel_flg'] = online_retail_data_table.InvoiceNo.map(lambda x: str(x)[0])\n",
        "\n",
        "# Select rows where the first character of InvoiceNo is '5' and CustomerID is not null\n",
        "target_online_retail_data_tb = online_retail_data_table[(online_retail_data_table.cancel_flg == '5')\n",
        "                                                        & (online_retail_data_table.CustomerID.notnull())]\n",
        "\n",
        "target_online_retail_data_tb = target_online_retail_data_tb.assign(TotalPrice=target_online_retail_data_tb.Quantity * target_online_retail_data_tb.UnitPrice)"
      ],
      "metadata": {
        "id": "SnV-p8m0akAh"
      },
      "execution_count": null,
      "outputs": []
    },
    {
      "cell_type": "markdown",
      "source": [
        "## 3. Solution"
      ],
      "metadata": {
        "id": "bAysOC2Oa2Y2"
      }
    },
    {
      "cell_type": "code",
      "source": [
        "# Fill in the WRITE ME\n",
        "# Don't forget to erase the \"!!WRITE ME!!\" before submitting!\n",
        "def homework(target_online_retail_data_tb, n):\n",
        "    !!WRITE ME!!\n",
        "    return my_result"
      ],
      "metadata": {
        "id": "iw7TZjS8h_BN"
      },
      "execution_count": null,
      "outputs": []
    },
    {
      "cell_type": "markdown",
      "source": [
        "Once you've finished checking, copy and paste your `homework()` function to Omnicampus and submit your solution. If you see a `1.0`, it means that the your answer was correct."
      ],
      "metadata": {
        "id": "EAZdjwMllRpZ"
      }
    },
    {
      "cell_type": "markdown",
      "source": [
        "## 4. Visualizing the Result\n",
        "\n",
        "Let's create a Pareto chart using the function we have created."
      ],
      "metadata": {
        "id": "z6t47OH_ioxs"
      }
    },
    {
      "cell_type": "code",
      "source": [
        "N = 10\n",
        "data = homework(target_online_retail_data_tb, N)\n",
        "\n",
        "fig, ax1 = plt.subplots(figsize=(6, 4))\n",
        "\n",
        "# Determine the x-axis based on the number of segments\n",
        "data_num = len(data)\n",
        "\n",
        "# Cumulative sum\n",
        "cum_per = np.cumsum(data)\n",
        "\n",
        "# Bar chart\n",
        "ax1.bar(range(data_num), data)\n",
        "ax1.set_xticks(range(data_num))\n",
        "\n",
        "# Line chart\n",
        "ax2 = ax1.twinx()\n",
        "ax2.plot(range(data_num), cum_per, color=\"k\", marker=\"o\")\n",
        "ax2.set_ylim([0, 1])\n",
        "ax2.grid(True, which='both', axis='y')\n",
        "\n",
        "# Add labels and title for clarity\n",
        "ax1.set_xlabel('Segments')\n",
        "ax1.set_ylabel('Sales Proportion', color='b')\n",
        "ax2.set_ylabel('Cumulative Proportion', color='k')\n",
        "plt.title('Pareto Chart of Sales by Customer Segments')\n",
        "\n",
        "# Show the plot\n",
        "plt.show()"
      ],
      "metadata": {
        "id": "6MDslvvpipR7"
      },
      "execution_count": null,
      "outputs": []
    },
    {
      "cell_type": "markdown",
      "source": [
        "### References\n",
        "\n",
        "[1] Chen D. Online Retail [dataset]. 2015. UCI Machine Learning Repository. Available from: https://doi.org/10.24432/C5BW33."
      ],
      "metadata": {
        "id": "O7ucO5mubGaG"
      }
    }
  ]
}