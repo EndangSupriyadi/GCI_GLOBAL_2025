{
  "nbformat": 4,
  "nbformat_minor": 0,
  "metadata": {
    "colab": {
      "provenance": [],
      "include_colab_link": true
    },
    "kernelspec": {
      "name": "python3",
      "display_name": "Python 3"
    },
    "language_info": {
      "name": "python"
    }
  },
  "cells": [
    {
      "cell_type": "markdown",
      "metadata": {
        "id": "view-in-github",
        "colab_type": "text"
      },
      "source": [
        "<a href=\"https://colab.research.google.com/github/EndangSupriyadi/GCI_GLOBAL_2025/blob/master/ENG_hw5.ipynb\" target=\"_parent\"><img src=\"https://colab.research.google.com/assets/colab-badge.svg\" alt=\"Open In Colab\"/></a>"
      ]
    },
    {
      "cell_type": "markdown",
      "source": [
        "# Homework 5: Supervised Learning"
      ],
      "metadata": {
        "id": "GGj9NBEAkUuh"
      }
    },
    {
      "cell_type": "markdown",
      "source": [
        "## Question\n",
        "\n",
        "The task will use a dataset [1] on quality of Portuguese \"Vinho Verde\" red wine. The dataset consists of 12 columns describing each wine sample's features (pH, acidity, etc.) and 1 column rating the wine quality ranging from 1 to 10.\n",
        "\n",
        "Both the [dataset itself](http://archive.ics.uci.edu/ml/machine-learning-databases/wine-quality/winequality-red.csv) and its [description](https://archive.ics.uci.edu/dataset/186/wine+quality) are available online.\n",
        "\n",
        "Implement a function called `homework()` that performs the following steps:\n",
        "1. Load the dataset.\n",
        "2. Use the column `X_column` as the explanatory variables and the column `Y_column` as the target variable.\n",
        "3. Split the dataset into training and test sets using `train_test_split` with a test size of 0.2 and a random state of 0.\n",
        "4. Fit a simple linear regression model on the training data.\n",
        "5. Return the **coefficient of determination (R²)** for the test data.\n",
        "\n",
        "Note: Do **NOT** perform any feature engineering or data preprocessing; use the data as is.\n",
        "\n",
        "**Expected Output:**\n",
        "```python\n",
        "print(homework(path_to_dataset, \"volatiile acidity\", \"quality\"))\n",
        "> 0.1265...\n",
        "```\n",
        "\n",
        "\n",
        "**Submission Guidelines:**<br>\n",
        "When submitting your solution, only submit the entire `homework()` function. Submit by selecting this week's assignment in the Omnicampus homework section, pasting the function into the submission area, and then clicking [Submit Python Code].\n",
        "\n",
        "Please pay attention to the following points when submitting.\n",
        "- Erase the `!!WRITE ME!!` when submitting\n",
        "- The return value of the function should be type numeric\n",
        "- Write your answer as one function\n"
      ],
      "metadata": {
        "id": "17ubcr4kktd0"
      }
    },
    {
      "cell_type": "markdown",
      "source": [
        "## Deadline\n",
        "**10/29**/2025 (Wed) 11:00 GMT, 20:00 JST"
      ],
      "metadata": {
        "id": "qoEUd9ocnuKF"
      }
    },
    {
      "cell_type": "markdown",
      "source": [
        "## 1. Importing Libraries"
      ],
      "metadata": {
        "id": "e41MYBIaIaLo"
      }
    },
    {
      "cell_type": "code",
      "source": [
        "import pandas as pd\n",
        "import numpy as np\n",
        "from sklearn import linear_model\n",
        "from sklearn.model_selection import train_test_split"
      ],
      "metadata": {
        "id": "jaTZ1XVVIeh5"
      },
      "execution_count": null,
      "outputs": []
    },
    {
      "cell_type": "markdown",
      "source": [
        "## 2. Downloading the Dataset\n",
        "We will download the dataset using `wget` command."
      ],
      "metadata": {
        "id": "L5T6lL-cIght"
      }
    },
    {
      "cell_type": "code",
      "source": [
        "!wget http://archive.ics.uci.edu/ml/machine-learning-databases/wine-quality/winequality-red.csv"
      ],
      "metadata": {
        "id": "BifdLGSVIh8b",
        "colab": {
          "base_uri": "https://localhost:8080/"
        },
        "outputId": "0e841115-62dc-4d4c-b02f-764456252f66"
      },
      "execution_count": null,
      "outputs": [
        {
          "output_type": "stream",
          "name": "stdout",
          "text": [
            "--2025-03-09 07:12:48--  http://archive.ics.uci.edu/ml/machine-learning-databases/wine-quality/winequality-red.csv\n",
            "Resolving archive.ics.uci.edu (archive.ics.uci.edu)... 128.195.10.252\n",
            "Connecting to archive.ics.uci.edu (archive.ics.uci.edu)|128.195.10.252|:80... connected.\n",
            "HTTP request sent, awaiting response... 200 OK\n",
            "Length: unspecified\n",
            "Saving to: ‘winequality-red.csv’\n",
            "\n",
            "winequality-red.csv     [ <=>                ]  82.23K  --.-KB/s    in 0.1s    \n",
            "\n",
            "2025-03-09 07:12:48 (808 KB/s) - ‘winequality-red.csv’ saved [84199]\n",
            "\n"
          ]
        }
      ]
    },
    {
      "cell_type": "code",
      "source": [
        "path_winequality_data = './winequality-red.csv'"
      ],
      "metadata": {
        "id": "sQowMjl2IkzI"
      },
      "execution_count": null,
      "outputs": []
    },
    {
      "cell_type": "markdown",
      "source": [
        "You can now load the dataset using\n",
        "\n",
        "```python\n",
        "pd.read_csv('./winequality-red.csv', sep=';')\n",
        "```"
      ],
      "metadata": {
        "id": "keDuCi0xIkTE"
      }
    },
    {
      "cell_type": "markdown",
      "source": [
        "## 3. Solution"
      ],
      "metadata": {
        "id": "qQkyDo-GIn2y"
      }
    },
    {
      "cell_type": "markdown",
      "source": [
        "Please complete the following function and submit it to Omnicampus."
      ],
      "metadata": {
        "id": "t4U0P_o4l24h"
      }
    },
    {
      "cell_type": "code",
      "source": [
        "# Only the homework function within this cell should be submitted to Omnicampus\n",
        "def homework(path_winequality_data, X_column, Y_column):\n",
        "    !!WRITE ME!!\n",
        "    return my_result"
      ],
      "metadata": {
        "id": "3KGaMGopl0YJ"
      },
      "execution_count": null,
      "outputs": []
    },
    {
      "cell_type": "code",
      "source": [
        "# Feel free to use this code block for testing\n",
        "print(homework(path_winequality_data, X_column='volatile acidity', Y_column='quality'))"
      ],
      "metadata": {
        "id": "QsZXpnfQl9u8"
      },
      "execution_count": null,
      "outputs": []
    },
    {
      "cell_type": "markdown",
      "source": [
        "Once you've finished checking, copy and paste your `homework()` function to Omnicampus and submit your solution. If you see a `1.0`, it means that the your answer was correct."
      ],
      "metadata": {
        "id": "73utJbiwmBMK"
      }
    },
    {
      "cell_type": "markdown",
      "source": [
        "### References\n",
        "\n",
        "[1] Cortez P, Cerdeira A, Almeida F, Matos T, Reis J. Wine Quality [dataset]. 2009. UCI Machine Learning Repository. Available from: https://doi.org/10.24432/C56S3T."
      ],
      "metadata": {
        "id": "d_kl9F5mmIx4"
      }
    }
  ]
}